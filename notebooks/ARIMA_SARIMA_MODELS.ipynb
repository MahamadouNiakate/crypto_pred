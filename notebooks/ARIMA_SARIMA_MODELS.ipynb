{
 "cells": [
  {
   "cell_type": "code",
   "execution_count": null,
   "id": "b27a4a93",
   "metadata": {},
   "outputs": [],
   "source": [
    "#!pip install yfinance\n",
    "#https://pypi.org/project/yfinance/"
   ]
  },
  {
   "cell_type": "code",
   "execution_count": 1,
   "id": "41817c18",
   "metadata": {},
   "outputs": [],
   "source": [
    "import pandas as pd"
   ]
  },
  {
   "cell_type": "code",
   "execution_count": 2,
   "id": "b4621e47",
   "metadata": {},
   "outputs": [],
   "source": [
    "import yfinance as yf\n",
    "import datetime as dt\n",
    "\n",
    "start = dt.datetime(2020,1,1)\n",
    "end = dt.datetime.now()\n",
    "btc = yf.Ticker('BTC-USD')\n",
    "eth = yf.Ticker('ETH-USD')\n",
    "gold = yf.Ticker('GC=F')"
   ]
  },
  {
   "cell_type": "code",
   "execution_count": 3,
   "id": "caf082d6",
   "metadata": {},
   "outputs": [],
   "source": [
    "btc_history = btc.history(period=\"max\")\n",
    "eth_history = eth.history(period=\"max\")\n",
    "gold_history = gold.history(period='max')"
   ]
  },
  {
   "cell_type": "code",
   "execution_count": 4,
   "id": "17de9665",
   "metadata": {},
   "outputs": [
    {
     "name": "stdout",
     "output_type": "stream",
     "text": [
      "[*********************100%***********************]  3 of 3 completed\n"
     ]
    },
    {
     "data": {
      "text/plain": [
       "([Timestamp('2014-09-17 00:00:00'),\n",
       "  Timestamp('2017-11-09 00:00:00'),\n",
       "  Timestamp('2000-08-30 00:00:00')],\n",
       " Timestamp('2017-11-09 00:00:00'))"
      ]
     },
     "execution_count": 4,
     "metadata": {},
     "output_type": "execute_result"
    }
   ],
   "source": [
    "#find the latest start date from the 3 data sets so we can merge into a single complete dataframe\n",
    "start_dates = [btc_history.index[0], eth_history.index[0], gold_history.index[0]]\n",
    "max_date = max(start_dates)\n",
    "\n",
    "data = yf.download(\"BTC-USD ETH-USD GC=F\", start=max_date)\n",
    "\n",
    "start_dates, max_date"
   ]
  },
  {
   "cell_type": "code",
   "execution_count": 5,
   "id": "d31d9421",
   "metadata": {},
   "outputs": [
    {
     "data": {
      "text/html": [
       "<div>\n",
       "<style scoped>\n",
       "    .dataframe tbody tr th:only-of-type {\n",
       "        vertical-align: middle;\n",
       "    }\n",
       "\n",
       "    .dataframe tbody tr th {\n",
       "        vertical-align: top;\n",
       "    }\n",
       "\n",
       "    .dataframe thead tr th {\n",
       "        text-align: left;\n",
       "    }\n",
       "\n",
       "    .dataframe thead tr:last-of-type th {\n",
       "        text-align: right;\n",
       "    }\n",
       "</style>\n",
       "<table border=\"1\" class=\"dataframe\">\n",
       "  <thead>\n",
       "    <tr>\n",
       "      <th></th>\n",
       "      <th colspan=\"3\" halign=\"left\">Adj Close</th>\n",
       "      <th colspan=\"3\" halign=\"left\">Close</th>\n",
       "      <th colspan=\"3\" halign=\"left\">High</th>\n",
       "      <th colspan=\"3\" halign=\"left\">Low</th>\n",
       "      <th colspan=\"3\" halign=\"left\">Open</th>\n",
       "      <th colspan=\"3\" halign=\"left\">Volume</th>\n",
       "    </tr>\n",
       "    <tr>\n",
       "      <th></th>\n",
       "      <th>BTC-USD</th>\n",
       "      <th>ETH-USD</th>\n",
       "      <th>GC=F</th>\n",
       "      <th>BTC-USD</th>\n",
       "      <th>ETH-USD</th>\n",
       "      <th>GC=F</th>\n",
       "      <th>BTC-USD</th>\n",
       "      <th>ETH-USD</th>\n",
       "      <th>GC=F</th>\n",
       "      <th>BTC-USD</th>\n",
       "      <th>ETH-USD</th>\n",
       "      <th>GC=F</th>\n",
       "      <th>BTC-USD</th>\n",
       "      <th>ETH-USD</th>\n",
       "      <th>GC=F</th>\n",
       "      <th>BTC-USD</th>\n",
       "      <th>ETH-USD</th>\n",
       "      <th>GC=F</th>\n",
       "    </tr>\n",
       "    <tr>\n",
       "      <th>Date</th>\n",
       "      <th></th>\n",
       "      <th></th>\n",
       "      <th></th>\n",
       "      <th></th>\n",
       "      <th></th>\n",
       "      <th></th>\n",
       "      <th></th>\n",
       "      <th></th>\n",
       "      <th></th>\n",
       "      <th></th>\n",
       "      <th></th>\n",
       "      <th></th>\n",
       "      <th></th>\n",
       "      <th></th>\n",
       "      <th></th>\n",
       "      <th></th>\n",
       "      <th></th>\n",
       "      <th></th>\n",
       "    </tr>\n",
       "  </thead>\n",
       "  <tbody>\n",
       "    <tr>\n",
       "      <th>2017-11-08</th>\n",
       "      <td>7459.689941</td>\n",
       "      <td>NaN</td>\n",
       "      <td>1281.599976</td>\n",
       "      <td>7459.689941</td>\n",
       "      <td>NaN</td>\n",
       "      <td>1281.599976</td>\n",
       "      <td>7776.419922</td>\n",
       "      <td>NaN</td>\n",
       "      <td>1284.900024</td>\n",
       "      <td>7114.020020</td>\n",
       "      <td>NaN</td>\n",
       "      <td>1274.699951</td>\n",
       "      <td>7141.379883</td>\n",
       "      <td>NaN</td>\n",
       "      <td>1275.900024</td>\n",
       "      <td>4602200064</td>\n",
       "      <td>NaN</td>\n",
       "      <td>15.0</td>\n",
       "    </tr>\n",
       "    <tr>\n",
       "      <th>2017-11-09</th>\n",
       "      <td>7143.580078</td>\n",
       "      <td>320.884003</td>\n",
       "      <td>1285.599976</td>\n",
       "      <td>7143.580078</td>\n",
       "      <td>320.884003</td>\n",
       "      <td>1285.599976</td>\n",
       "      <td>7446.830078</td>\n",
       "      <td>329.451996</td>\n",
       "      <td>1286.900024</td>\n",
       "      <td>7101.520020</td>\n",
       "      <td>307.056000</td>\n",
       "      <td>1279.699951</td>\n",
       "      <td>7446.830078</td>\n",
       "      <td>308.644989</td>\n",
       "      <td>1279.699951</td>\n",
       "      <td>3226249984</td>\n",
       "      <td>8.932500e+08</td>\n",
       "      <td>18.0</td>\n",
       "    </tr>\n",
       "    <tr>\n",
       "      <th>2017-11-10</th>\n",
       "      <td>6618.140137</td>\n",
       "      <td>299.252991</td>\n",
       "      <td>1272.400024</td>\n",
       "      <td>6618.140137</td>\n",
       "      <td>299.252991</td>\n",
       "      <td>1272.400024</td>\n",
       "      <td>7312.000000</td>\n",
       "      <td>324.717987</td>\n",
       "      <td>1283.500000</td>\n",
       "      <td>6436.870117</td>\n",
       "      <td>294.541992</td>\n",
       "      <td>1272.400024</td>\n",
       "      <td>7173.729980</td>\n",
       "      <td>320.670990</td>\n",
       "      <td>1283.500000</td>\n",
       "      <td>5208249856</td>\n",
       "      <td>8.859860e+08</td>\n",
       "      <td>10.0</td>\n",
       "    </tr>\n",
       "    <tr>\n",
       "      <th>2017-11-11</th>\n",
       "      <td>6357.600098</td>\n",
       "      <td>314.681000</td>\n",
       "      <td>NaN</td>\n",
       "      <td>6357.600098</td>\n",
       "      <td>314.681000</td>\n",
       "      <td>NaN</td>\n",
       "      <td>6873.149902</td>\n",
       "      <td>319.453003</td>\n",
       "      <td>NaN</td>\n",
       "      <td>6204.220215</td>\n",
       "      <td>298.191986</td>\n",
       "      <td>NaN</td>\n",
       "      <td>6618.609863</td>\n",
       "      <td>298.585999</td>\n",
       "      <td>NaN</td>\n",
       "      <td>4908680192</td>\n",
       "      <td>8.423010e+08</td>\n",
       "      <td>NaN</td>\n",
       "    </tr>\n",
       "    <tr>\n",
       "      <th>2017-11-12</th>\n",
       "      <td>5950.069824</td>\n",
       "      <td>307.907990</td>\n",
       "      <td>NaN</td>\n",
       "      <td>5950.069824</td>\n",
       "      <td>307.907990</td>\n",
       "      <td>NaN</td>\n",
       "      <td>6625.049805</td>\n",
       "      <td>319.153015</td>\n",
       "      <td>NaN</td>\n",
       "      <td>5519.009766</td>\n",
       "      <td>298.513000</td>\n",
       "      <td>NaN</td>\n",
       "      <td>6295.450195</td>\n",
       "      <td>314.690002</td>\n",
       "      <td>NaN</td>\n",
       "      <td>8957349888</td>\n",
       "      <td>1.613480e+09</td>\n",
       "      <td>NaN</td>\n",
       "    </tr>\n",
       "  </tbody>\n",
       "</table>\n",
       "</div>"
      ],
      "text/plain": [
       "              Adj Close                                 Close              \\\n",
       "                BTC-USD     ETH-USD         GC=F      BTC-USD     ETH-USD   \n",
       "Date                                                                        \n",
       "2017-11-08  7459.689941         NaN  1281.599976  7459.689941         NaN   \n",
       "2017-11-09  7143.580078  320.884003  1285.599976  7143.580078  320.884003   \n",
       "2017-11-10  6618.140137  299.252991  1272.400024  6618.140137  299.252991   \n",
       "2017-11-11  6357.600098  314.681000          NaN  6357.600098  314.681000   \n",
       "2017-11-12  5950.069824  307.907990          NaN  5950.069824  307.907990   \n",
       "\n",
       "                                High                                   Low  \\\n",
       "                   GC=F      BTC-USD     ETH-USD         GC=F      BTC-USD   \n",
       "Date                                                                         \n",
       "2017-11-08  1281.599976  7776.419922         NaN  1284.900024  7114.020020   \n",
       "2017-11-09  1285.599976  7446.830078  329.451996  1286.900024  7101.520020   \n",
       "2017-11-10  1272.400024  7312.000000  324.717987  1283.500000  6436.870117   \n",
       "2017-11-11          NaN  6873.149902  319.453003          NaN  6204.220215   \n",
       "2017-11-12          NaN  6625.049805  319.153015          NaN  5519.009766   \n",
       "\n",
       "                                            Open                           \\\n",
       "               ETH-USD         GC=F      BTC-USD     ETH-USD         GC=F   \n",
       "Date                                                                        \n",
       "2017-11-08         NaN  1274.699951  7141.379883         NaN  1275.900024   \n",
       "2017-11-09  307.056000  1279.699951  7446.830078  308.644989  1279.699951   \n",
       "2017-11-10  294.541992  1272.400024  7173.729980  320.670990  1283.500000   \n",
       "2017-11-11  298.191986          NaN  6618.609863  298.585999          NaN   \n",
       "2017-11-12  298.513000          NaN  6295.450195  314.690002          NaN   \n",
       "\n",
       "                Volume                      \n",
       "               BTC-USD       ETH-USD  GC=F  \n",
       "Date                                        \n",
       "2017-11-08  4602200064           NaN  15.0  \n",
       "2017-11-09  3226249984  8.932500e+08  18.0  \n",
       "2017-11-10  5208249856  8.859860e+08  10.0  \n",
       "2017-11-11  4908680192  8.423010e+08   NaN  \n",
       "2017-11-12  8957349888  1.613480e+09   NaN  "
      ]
     },
     "execution_count": 5,
     "metadata": {},
     "output_type": "execute_result"
    }
   ],
   "source": [
    "data.head()"
   ]
  },
  {
   "cell_type": "code",
   "execution_count": 6,
   "id": "2b8553ba",
   "metadata": {},
   "outputs": [
    {
     "data": {
      "text/html": [
       "<div>\n",
       "<style scoped>\n",
       "    .dataframe tbody tr th:only-of-type {\n",
       "        vertical-align: middle;\n",
       "    }\n",
       "\n",
       "    .dataframe tbody tr th {\n",
       "        vertical-align: top;\n",
       "    }\n",
       "\n",
       "    .dataframe thead th {\n",
       "        text-align: right;\n",
       "    }\n",
       "</style>\n",
       "<table border=\"1\" class=\"dataframe\">\n",
       "  <thead>\n",
       "    <tr style=\"text-align: right;\">\n",
       "      <th></th>\n",
       "      <th>BTC-open</th>\n",
       "      <th>BTC-low</th>\n",
       "      <th>BTC-high</th>\n",
       "      <th>BTC-close</th>\n",
       "      <th>BTC-adj_close</th>\n",
       "      <th>BTC-volume</th>\n",
       "      <th>ETH-open</th>\n",
       "      <th>ETH-low</th>\n",
       "      <th>ETH-high</th>\n",
       "      <th>ETH-close</th>\n",
       "      <th>ETH-adj_close</th>\n",
       "      <th>ETH-volume</th>\n",
       "      <th>AU-open</th>\n",
       "      <th>AU-low</th>\n",
       "      <th>AU-high</th>\n",
       "      <th>AU-close</th>\n",
       "      <th>AU-adj_close</th>\n",
       "      <th>AU-volume</th>\n",
       "    </tr>\n",
       "    <tr>\n",
       "      <th>Date</th>\n",
       "      <th></th>\n",
       "      <th></th>\n",
       "      <th></th>\n",
       "      <th></th>\n",
       "      <th></th>\n",
       "      <th></th>\n",
       "      <th></th>\n",
       "      <th></th>\n",
       "      <th></th>\n",
       "      <th></th>\n",
       "      <th></th>\n",
       "      <th></th>\n",
       "      <th></th>\n",
       "      <th></th>\n",
       "      <th></th>\n",
       "      <th></th>\n",
       "      <th></th>\n",
       "      <th></th>\n",
       "    </tr>\n",
       "  </thead>\n",
       "  <tbody>\n",
       "    <tr>\n",
       "      <th>2017-11-08</th>\n",
       "      <td>7141.379883</td>\n",
       "      <td>7114.020020</td>\n",
       "      <td>7776.419922</td>\n",
       "      <td>7459.689941</td>\n",
       "      <td>7459.689941</td>\n",
       "      <td>4602200064</td>\n",
       "      <td>NaN</td>\n",
       "      <td>NaN</td>\n",
       "      <td>NaN</td>\n",
       "      <td>NaN</td>\n",
       "      <td>NaN</td>\n",
       "      <td>NaN</td>\n",
       "      <td>1275.900024</td>\n",
       "      <td>1274.699951</td>\n",
       "      <td>1284.900024</td>\n",
       "      <td>1281.599976</td>\n",
       "      <td>1281.599976</td>\n",
       "      <td>15.0</td>\n",
       "    </tr>\n",
       "    <tr>\n",
       "      <th>2017-11-09</th>\n",
       "      <td>7446.830078</td>\n",
       "      <td>7101.520020</td>\n",
       "      <td>7446.830078</td>\n",
       "      <td>7143.580078</td>\n",
       "      <td>7143.580078</td>\n",
       "      <td>3226249984</td>\n",
       "      <td>308.644989</td>\n",
       "      <td>307.056000</td>\n",
       "      <td>329.451996</td>\n",
       "      <td>320.884003</td>\n",
       "      <td>320.884003</td>\n",
       "      <td>8.932500e+08</td>\n",
       "      <td>1279.699951</td>\n",
       "      <td>1279.699951</td>\n",
       "      <td>1286.900024</td>\n",
       "      <td>1285.599976</td>\n",
       "      <td>1285.599976</td>\n",
       "      <td>18.0</td>\n",
       "    </tr>\n",
       "    <tr>\n",
       "      <th>2017-11-10</th>\n",
       "      <td>7173.729980</td>\n",
       "      <td>6436.870117</td>\n",
       "      <td>7312.000000</td>\n",
       "      <td>6618.140137</td>\n",
       "      <td>6618.140137</td>\n",
       "      <td>5208249856</td>\n",
       "      <td>320.670990</td>\n",
       "      <td>294.541992</td>\n",
       "      <td>324.717987</td>\n",
       "      <td>299.252991</td>\n",
       "      <td>299.252991</td>\n",
       "      <td>8.859860e+08</td>\n",
       "      <td>1283.500000</td>\n",
       "      <td>1272.400024</td>\n",
       "      <td>1283.500000</td>\n",
       "      <td>1272.400024</td>\n",
       "      <td>1272.400024</td>\n",
       "      <td>10.0</td>\n",
       "    </tr>\n",
       "    <tr>\n",
       "      <th>2017-11-11</th>\n",
       "      <td>6618.609863</td>\n",
       "      <td>6204.220215</td>\n",
       "      <td>6873.149902</td>\n",
       "      <td>6357.600098</td>\n",
       "      <td>6357.600098</td>\n",
       "      <td>4908680192</td>\n",
       "      <td>298.585999</td>\n",
       "      <td>298.191986</td>\n",
       "      <td>319.453003</td>\n",
       "      <td>314.681000</td>\n",
       "      <td>314.681000</td>\n",
       "      <td>8.423010e+08</td>\n",
       "      <td>1283.500000</td>\n",
       "      <td>1272.400024</td>\n",
       "      <td>1283.500000</td>\n",
       "      <td>1272.400024</td>\n",
       "      <td>1272.400024</td>\n",
       "      <td>10.0</td>\n",
       "    </tr>\n",
       "    <tr>\n",
       "      <th>2017-11-12</th>\n",
       "      <td>6295.450195</td>\n",
       "      <td>5519.009766</td>\n",
       "      <td>6625.049805</td>\n",
       "      <td>5950.069824</td>\n",
       "      <td>5950.069824</td>\n",
       "      <td>8957349888</td>\n",
       "      <td>314.690002</td>\n",
       "      <td>298.513000</td>\n",
       "      <td>319.153015</td>\n",
       "      <td>307.907990</td>\n",
       "      <td>307.907990</td>\n",
       "      <td>1.613480e+09</td>\n",
       "      <td>1283.500000</td>\n",
       "      <td>1272.400024</td>\n",
       "      <td>1283.500000</td>\n",
       "      <td>1272.400024</td>\n",
       "      <td>1272.400024</td>\n",
       "      <td>10.0</td>\n",
       "    </tr>\n",
       "  </tbody>\n",
       "</table>\n",
       "</div>"
      ],
      "text/plain": [
       "               BTC-open      BTC-low     BTC-high    BTC-close  BTC-adj_close  \\\n",
       "Date                                                                            \n",
       "2017-11-08  7141.379883  7114.020020  7776.419922  7459.689941    7459.689941   \n",
       "2017-11-09  7446.830078  7101.520020  7446.830078  7143.580078    7143.580078   \n",
       "2017-11-10  7173.729980  6436.870117  7312.000000  6618.140137    6618.140137   \n",
       "2017-11-11  6618.609863  6204.220215  6873.149902  6357.600098    6357.600098   \n",
       "2017-11-12  6295.450195  5519.009766  6625.049805  5950.069824    5950.069824   \n",
       "\n",
       "            BTC-volume    ETH-open     ETH-low    ETH-high   ETH-close  \\\n",
       "Date                                                                     \n",
       "2017-11-08  4602200064         NaN         NaN         NaN         NaN   \n",
       "2017-11-09  3226249984  308.644989  307.056000  329.451996  320.884003   \n",
       "2017-11-10  5208249856  320.670990  294.541992  324.717987  299.252991   \n",
       "2017-11-11  4908680192  298.585999  298.191986  319.453003  314.681000   \n",
       "2017-11-12  8957349888  314.690002  298.513000  319.153015  307.907990   \n",
       "\n",
       "            ETH-adj_close    ETH-volume      AU-open       AU-low  \\\n",
       "Date                                                                \n",
       "2017-11-08            NaN           NaN  1275.900024  1274.699951   \n",
       "2017-11-09     320.884003  8.932500e+08  1279.699951  1279.699951   \n",
       "2017-11-10     299.252991  8.859860e+08  1283.500000  1272.400024   \n",
       "2017-11-11     314.681000  8.423010e+08  1283.500000  1272.400024   \n",
       "2017-11-12     307.907990  1.613480e+09  1283.500000  1272.400024   \n",
       "\n",
       "                AU-high     AU-close  AU-adj_close  AU-volume  \n",
       "Date                                                           \n",
       "2017-11-08  1284.900024  1281.599976   1281.599976       15.0  \n",
       "2017-11-09  1286.900024  1285.599976   1285.599976       18.0  \n",
       "2017-11-10  1283.500000  1272.400024   1272.400024       10.0  \n",
       "2017-11-11  1283.500000  1272.400024   1272.400024       10.0  \n",
       "2017-11-12  1283.500000  1272.400024   1272.400024       10.0  "
      ]
     },
     "execution_count": 6,
     "metadata": {},
     "output_type": "execute_result"
    }
   ],
   "source": [
    "raw_data = data.copy()\n",
    "\n",
    "#Gold trading is closed on weekends (Crypto is 24/7), so we need to impute some missing values\n",
    "#use 'ffill', meaing Friday's close will forward fill Saturday & Sunday\n",
    "raw_data.fillna(method='ffill', inplace=True)\n",
    "\n",
    "#collapse the 2 row header into a single row\n",
    "raw_data.columns = raw_data.columns.map('-'.join)\n",
    "\n",
    "#rename the columns for easy of access\n",
    "raw_data.columns = ['BTC-adj_close', 'ETH-adj_close', 'AU-adj_close', \n",
    "                'BTC-close', 'ETH-close', 'AU-close', \n",
    "                'BTC-high', 'ETH-high', 'AU-high',\n",
    "                'BTC-low', 'ETH-low', 'AU-low',\n",
    "                'BTC-open', 'ETH-open', 'AU-open',\n",
    "                'BTC-volume', 'ETH-volume', 'AU-volume',\n",
    "                ]\n",
    "\n",
    "#reorder for readability\n",
    "raw_data = raw_data[['BTC-open','BTC-low','BTC-high','BTC-close','BTC-adj_close','BTC-volume',\n",
    "                     'ETH-open','ETH-low','ETH-high','ETH-close','ETH-adj_close','ETH-volume',\n",
    "                     'AU-open','AU-low','AU-high','AU-close','AU-adj_close','AU-volume']]\n",
    "\n",
    "raw_data.head()"
   ]
  },
  {
   "cell_type": "code",
   "execution_count": null,
   "id": "8a4b7a73",
   "metadata": {},
   "outputs": [],
   "source": [
    "#save the raw data file to CSV\n",
    "#raw_data.to_csv('raw_data.csv')"
   ]
  },
  {
   "cell_type": "code",
   "execution_count": 7,
   "id": "40d1e920",
   "metadata": {},
   "outputs": [
    {
     "data": {
      "text/html": [
       "<div>\n",
       "<style scoped>\n",
       "    .dataframe tbody tr th:only-of-type {\n",
       "        vertical-align: middle;\n",
       "    }\n",
       "\n",
       "    .dataframe tbody tr th {\n",
       "        vertical-align: top;\n",
       "    }\n",
       "\n",
       "    .dataframe thead th {\n",
       "        text-align: right;\n",
       "    }\n",
       "</style>\n",
       "<table border=\"1\" class=\"dataframe\">\n",
       "  <thead>\n",
       "    <tr style=\"text-align: right;\">\n",
       "      <th></th>\n",
       "      <th>BTC-open</th>\n",
       "      <th>BTC-low</th>\n",
       "      <th>BTC-high</th>\n",
       "      <th>BTC-close</th>\n",
       "      <th>BTC-adj_close</th>\n",
       "      <th>BTC-volume</th>\n",
       "      <th>ETH-open</th>\n",
       "      <th>ETH-low</th>\n",
       "      <th>ETH-high</th>\n",
       "      <th>ETH-close</th>\n",
       "      <th>ETH-adj_close</th>\n",
       "      <th>ETH-volume</th>\n",
       "      <th>AU-open</th>\n",
       "      <th>AU-low</th>\n",
       "      <th>AU-high</th>\n",
       "      <th>AU-close</th>\n",
       "      <th>AU-adj_close</th>\n",
       "      <th>AU-volume</th>\n",
       "    </tr>\n",
       "    <tr>\n",
       "      <th>Date</th>\n",
       "      <th></th>\n",
       "      <th></th>\n",
       "      <th></th>\n",
       "      <th></th>\n",
       "      <th></th>\n",
       "      <th></th>\n",
       "      <th></th>\n",
       "      <th></th>\n",
       "      <th></th>\n",
       "      <th></th>\n",
       "      <th></th>\n",
       "      <th></th>\n",
       "      <th></th>\n",
       "      <th></th>\n",
       "      <th></th>\n",
       "      <th></th>\n",
       "      <th></th>\n",
       "      <th></th>\n",
       "    </tr>\n",
       "  </thead>\n",
       "  <tbody>\n",
       "    <tr>\n",
       "      <th>2017-11-08</th>\n",
       "      <td>7141.379883</td>\n",
       "      <td>7114.020020</td>\n",
       "      <td>7776.419922</td>\n",
       "      <td>7459.689941</td>\n",
       "      <td>7459.689941</td>\n",
       "      <td>4602200064</td>\n",
       "      <td>NaN</td>\n",
       "      <td>NaN</td>\n",
       "      <td>NaN</td>\n",
       "      <td>NaN</td>\n",
       "      <td>NaN</td>\n",
       "      <td>NaN</td>\n",
       "      <td>1275.900024</td>\n",
       "      <td>1274.699951</td>\n",
       "      <td>1284.900024</td>\n",
       "      <td>1281.599976</td>\n",
       "      <td>1281.599976</td>\n",
       "      <td>15.0</td>\n",
       "    </tr>\n",
       "    <tr>\n",
       "      <th>2017-11-09</th>\n",
       "      <td>7446.830078</td>\n",
       "      <td>7101.520020</td>\n",
       "      <td>7446.830078</td>\n",
       "      <td>7143.580078</td>\n",
       "      <td>7143.580078</td>\n",
       "      <td>3226249984</td>\n",
       "      <td>308.644989</td>\n",
       "      <td>307.056000</td>\n",
       "      <td>329.451996</td>\n",
       "      <td>320.884003</td>\n",
       "      <td>320.884003</td>\n",
       "      <td>8.932500e+08</td>\n",
       "      <td>1279.699951</td>\n",
       "      <td>1279.699951</td>\n",
       "      <td>1286.900024</td>\n",
       "      <td>1285.599976</td>\n",
       "      <td>1285.599976</td>\n",
       "      <td>18.0</td>\n",
       "    </tr>\n",
       "    <tr>\n",
       "      <th>2017-11-10</th>\n",
       "      <td>7173.729980</td>\n",
       "      <td>6436.870117</td>\n",
       "      <td>7312.000000</td>\n",
       "      <td>6618.140137</td>\n",
       "      <td>6618.140137</td>\n",
       "      <td>5208249856</td>\n",
       "      <td>320.670990</td>\n",
       "      <td>294.541992</td>\n",
       "      <td>324.717987</td>\n",
       "      <td>299.252991</td>\n",
       "      <td>299.252991</td>\n",
       "      <td>8.859860e+08</td>\n",
       "      <td>1283.500000</td>\n",
       "      <td>1272.400024</td>\n",
       "      <td>1283.500000</td>\n",
       "      <td>1272.400024</td>\n",
       "      <td>1272.400024</td>\n",
       "      <td>10.0</td>\n",
       "    </tr>\n",
       "    <tr>\n",
       "      <th>2017-11-11</th>\n",
       "      <td>6618.609863</td>\n",
       "      <td>6204.220215</td>\n",
       "      <td>6873.149902</td>\n",
       "      <td>6357.600098</td>\n",
       "      <td>6357.600098</td>\n",
       "      <td>4908680192</td>\n",
       "      <td>298.585999</td>\n",
       "      <td>298.191986</td>\n",
       "      <td>319.453003</td>\n",
       "      <td>314.681000</td>\n",
       "      <td>314.681000</td>\n",
       "      <td>8.423010e+08</td>\n",
       "      <td>1283.500000</td>\n",
       "      <td>1272.400024</td>\n",
       "      <td>1283.500000</td>\n",
       "      <td>1272.400024</td>\n",
       "      <td>1272.400024</td>\n",
       "      <td>10.0</td>\n",
       "    </tr>\n",
       "    <tr>\n",
       "      <th>2017-11-12</th>\n",
       "      <td>6295.450195</td>\n",
       "      <td>5519.009766</td>\n",
       "      <td>6625.049805</td>\n",
       "      <td>5950.069824</td>\n",
       "      <td>5950.069824</td>\n",
       "      <td>8957349888</td>\n",
       "      <td>314.690002</td>\n",
       "      <td>298.513000</td>\n",
       "      <td>319.153015</td>\n",
       "      <td>307.907990</td>\n",
       "      <td>307.907990</td>\n",
       "      <td>1.613480e+09</td>\n",
       "      <td>1283.500000</td>\n",
       "      <td>1272.400024</td>\n",
       "      <td>1283.500000</td>\n",
       "      <td>1272.400024</td>\n",
       "      <td>1272.400024</td>\n",
       "      <td>10.0</td>\n",
       "    </tr>\n",
       "    <tr>\n",
       "      <th>...</th>\n",
       "      <td>...</td>\n",
       "      <td>...</td>\n",
       "      <td>...</td>\n",
       "      <td>...</td>\n",
       "      <td>...</td>\n",
       "      <td>...</td>\n",
       "      <td>...</td>\n",
       "      <td>...</td>\n",
       "      <td>...</td>\n",
       "      <td>...</td>\n",
       "      <td>...</td>\n",
       "      <td>...</td>\n",
       "      <td>...</td>\n",
       "      <td>...</td>\n",
       "      <td>...</td>\n",
       "      <td>...</td>\n",
       "      <td>...</td>\n",
       "      <td>...</td>\n",
       "    </tr>\n",
       "    <tr>\n",
       "      <th>2022-09-09</th>\n",
       "      <td>19328.140625</td>\n",
       "      <td>19310.962891</td>\n",
       "      <td>21439.410156</td>\n",
       "      <td>21381.152344</td>\n",
       "      <td>21381.152344</td>\n",
       "      <td>48469528171</td>\n",
       "      <td>1635.187744</td>\n",
       "      <td>1632.836548</td>\n",
       "      <td>1735.809814</td>\n",
       "      <td>1719.085449</td>\n",
       "      <td>1719.085449</td>\n",
       "      <td>2.024232e+10</td>\n",
       "      <td>1719.199951</td>\n",
       "      <td>1712.800049</td>\n",
       "      <td>1720.000000</td>\n",
       "      <td>1716.199951</td>\n",
       "      <td>1716.199951</td>\n",
       "      <td>635.0</td>\n",
       "    </tr>\n",
       "    <tr>\n",
       "      <th>2022-09-10</th>\n",
       "      <td>21376.912109</td>\n",
       "      <td>21168.722656</td>\n",
       "      <td>21760.275391</td>\n",
       "      <td>21680.539062</td>\n",
       "      <td>21680.539062</td>\n",
       "      <td>36913738894</td>\n",
       "      <td>1718.961304</td>\n",
       "      <td>1710.296997</td>\n",
       "      <td>1784.497803</td>\n",
       "      <td>1776.203735</td>\n",
       "      <td>1776.203735</td>\n",
       "      <td>1.313093e+10</td>\n",
       "      <td>1719.199951</td>\n",
       "      <td>1712.800049</td>\n",
       "      <td>1720.000000</td>\n",
       "      <td>1716.199951</td>\n",
       "      <td>1716.199951</td>\n",
       "      <td>635.0</td>\n",
       "    </tr>\n",
       "    <tr>\n",
       "      <th>2022-09-11</th>\n",
       "      <td>21678.542969</td>\n",
       "      <td>21406.945312</td>\n",
       "      <td>21770.552734</td>\n",
       "      <td>21769.255859</td>\n",
       "      <td>21769.255859</td>\n",
       "      <td>34493951963</td>\n",
       "      <td>1775.976074</td>\n",
       "      <td>1730.164795</td>\n",
       "      <td>1782.729858</td>\n",
       "      <td>1761.800049</td>\n",
       "      <td>1761.800049</td>\n",
       "      <td>1.246430e+10</td>\n",
       "      <td>1719.199951</td>\n",
       "      <td>1712.800049</td>\n",
       "      <td>1720.000000</td>\n",
       "      <td>1716.199951</td>\n",
       "      <td>1716.199951</td>\n",
       "      <td>635.0</td>\n",
       "    </tr>\n",
       "    <tr>\n",
       "      <th>2022-09-12</th>\n",
       "      <td>21770.148438</td>\n",
       "      <td>21603.896484</td>\n",
       "      <td>22439.181641</td>\n",
       "      <td>22370.449219</td>\n",
       "      <td>22370.449219</td>\n",
       "      <td>50212088965</td>\n",
       "      <td>1762.084839</td>\n",
       "      <td>1698.293457</td>\n",
       "      <td>1778.163452</td>\n",
       "      <td>1713.765259</td>\n",
       "      <td>1713.765259</td>\n",
       "      <td>1.768839e+10</td>\n",
       "      <td>1727.400024</td>\n",
       "      <td>1727.400024</td>\n",
       "      <td>1728.099976</td>\n",
       "      <td>1728.099976</td>\n",
       "      <td>1728.099976</td>\n",
       "      <td>635.0</td>\n",
       "    </tr>\n",
       "    <tr>\n",
       "      <th>2022-09-13</th>\n",
       "      <td>22358.732422</td>\n",
       "      <td>20563.470703</td>\n",
       "      <td>22645.195312</td>\n",
       "      <td>20563.470703</td>\n",
       "      <td>20563.470703</td>\n",
       "      <td>50547585024</td>\n",
       "      <td>1712.593384</td>\n",
       "      <td>1584.246582</td>\n",
       "      <td>1743.564575</td>\n",
       "      <td>1603.823608</td>\n",
       "      <td>1603.823608</td>\n",
       "      <td>2.188409e+10</td>\n",
       "      <td>1736.000000</td>\n",
       "      <td>1706.699951</td>\n",
       "      <td>1742.900024</td>\n",
       "      <td>1715.099976</td>\n",
       "      <td>1715.099976</td>\n",
       "      <td>221642.0</td>\n",
       "    </tr>\n",
       "  </tbody>\n",
       "</table>\n",
       "<p>1771 rows × 18 columns</p>\n",
       "</div>"
      ],
      "text/plain": [
       "                BTC-open       BTC-low      BTC-high     BTC-close  \\\n",
       "Date                                                                 \n",
       "2017-11-08   7141.379883   7114.020020   7776.419922   7459.689941   \n",
       "2017-11-09   7446.830078   7101.520020   7446.830078   7143.580078   \n",
       "2017-11-10   7173.729980   6436.870117   7312.000000   6618.140137   \n",
       "2017-11-11   6618.609863   6204.220215   6873.149902   6357.600098   \n",
       "2017-11-12   6295.450195   5519.009766   6625.049805   5950.069824   \n",
       "...                  ...           ...           ...           ...   \n",
       "2022-09-09  19328.140625  19310.962891  21439.410156  21381.152344   \n",
       "2022-09-10  21376.912109  21168.722656  21760.275391  21680.539062   \n",
       "2022-09-11  21678.542969  21406.945312  21770.552734  21769.255859   \n",
       "2022-09-12  21770.148438  21603.896484  22439.181641  22370.449219   \n",
       "2022-09-13  22358.732422  20563.470703  22645.195312  20563.470703   \n",
       "\n",
       "            BTC-adj_close   BTC-volume     ETH-open      ETH-low     ETH-high  \\\n",
       "Date                                                                            \n",
       "2017-11-08    7459.689941   4602200064          NaN          NaN          NaN   \n",
       "2017-11-09    7143.580078   3226249984   308.644989   307.056000   329.451996   \n",
       "2017-11-10    6618.140137   5208249856   320.670990   294.541992   324.717987   \n",
       "2017-11-11    6357.600098   4908680192   298.585999   298.191986   319.453003   \n",
       "2017-11-12    5950.069824   8957349888   314.690002   298.513000   319.153015   \n",
       "...                   ...          ...          ...          ...          ...   \n",
       "2022-09-09   21381.152344  48469528171  1635.187744  1632.836548  1735.809814   \n",
       "2022-09-10   21680.539062  36913738894  1718.961304  1710.296997  1784.497803   \n",
       "2022-09-11   21769.255859  34493951963  1775.976074  1730.164795  1782.729858   \n",
       "2022-09-12   22370.449219  50212088965  1762.084839  1698.293457  1778.163452   \n",
       "2022-09-13   20563.470703  50547585024  1712.593384  1584.246582  1743.564575   \n",
       "\n",
       "              ETH-close  ETH-adj_close    ETH-volume      AU-open  \\\n",
       "Date                                                                \n",
       "2017-11-08          NaN            NaN           NaN  1275.900024   \n",
       "2017-11-09   320.884003     320.884003  8.932500e+08  1279.699951   \n",
       "2017-11-10   299.252991     299.252991  8.859860e+08  1283.500000   \n",
       "2017-11-11   314.681000     314.681000  8.423010e+08  1283.500000   \n",
       "2017-11-12   307.907990     307.907990  1.613480e+09  1283.500000   \n",
       "...                 ...            ...           ...          ...   \n",
       "2022-09-09  1719.085449    1719.085449  2.024232e+10  1719.199951   \n",
       "2022-09-10  1776.203735    1776.203735  1.313093e+10  1719.199951   \n",
       "2022-09-11  1761.800049    1761.800049  1.246430e+10  1719.199951   \n",
       "2022-09-12  1713.765259    1713.765259  1.768839e+10  1727.400024   \n",
       "2022-09-13  1603.823608    1603.823608  2.188409e+10  1736.000000   \n",
       "\n",
       "                 AU-low      AU-high     AU-close  AU-adj_close  AU-volume  \n",
       "Date                                                                        \n",
       "2017-11-08  1274.699951  1284.900024  1281.599976   1281.599976       15.0  \n",
       "2017-11-09  1279.699951  1286.900024  1285.599976   1285.599976       18.0  \n",
       "2017-11-10  1272.400024  1283.500000  1272.400024   1272.400024       10.0  \n",
       "2017-11-11  1272.400024  1283.500000  1272.400024   1272.400024       10.0  \n",
       "2017-11-12  1272.400024  1283.500000  1272.400024   1272.400024       10.0  \n",
       "...                 ...          ...          ...           ...        ...  \n",
       "2022-09-09  1712.800049  1720.000000  1716.199951   1716.199951      635.0  \n",
       "2022-09-10  1712.800049  1720.000000  1716.199951   1716.199951      635.0  \n",
       "2022-09-11  1712.800049  1720.000000  1716.199951   1716.199951      635.0  \n",
       "2022-09-12  1727.400024  1728.099976  1728.099976   1728.099976      635.0  \n",
       "2022-09-13  1706.699951  1742.900024  1715.099976   1715.099976   221642.0  \n",
       "\n",
       "[1771 rows x 18 columns]"
      ]
     },
     "execution_count": 7,
     "metadata": {},
     "output_type": "execute_result"
    }
   ],
   "source": [
    "raw_data.sort_index()"
   ]
  },
  {
   "cell_type": "code",
   "execution_count": 8,
   "id": "8381437a",
   "metadata": {},
   "outputs": [
    {
     "data": {
      "text/html": [
       "<div>\n",
       "<style scoped>\n",
       "    .dataframe tbody tr th:only-of-type {\n",
       "        vertical-align: middle;\n",
       "    }\n",
       "\n",
       "    .dataframe tbody tr th {\n",
       "        vertical-align: top;\n",
       "    }\n",
       "\n",
       "    .dataframe thead th {\n",
       "        text-align: right;\n",
       "    }\n",
       "</style>\n",
       "<table border=\"1\" class=\"dataframe\">\n",
       "  <thead>\n",
       "    <tr style=\"text-align: right;\">\n",
       "      <th></th>\n",
       "      <th>BTC-open</th>\n",
       "      <th>BTC-low</th>\n",
       "      <th>BTC-high</th>\n",
       "      <th>BTC-close</th>\n",
       "      <th>BTC-adj_close</th>\n",
       "      <th>BTC-volume</th>\n",
       "      <th>ETH-open</th>\n",
       "      <th>ETH-low</th>\n",
       "      <th>ETH-high</th>\n",
       "      <th>ETH-close</th>\n",
       "      <th>ETH-adj_close</th>\n",
       "      <th>ETH-volume</th>\n",
       "      <th>AU-open</th>\n",
       "      <th>AU-low</th>\n",
       "      <th>AU-high</th>\n",
       "      <th>AU-close</th>\n",
       "      <th>AU-adj_close</th>\n",
       "      <th>AU-volume</th>\n",
       "    </tr>\n",
       "    <tr>\n",
       "      <th>Date</th>\n",
       "      <th></th>\n",
       "      <th></th>\n",
       "      <th></th>\n",
       "      <th></th>\n",
       "      <th></th>\n",
       "      <th></th>\n",
       "      <th></th>\n",
       "      <th></th>\n",
       "      <th></th>\n",
       "      <th></th>\n",
       "      <th></th>\n",
       "      <th></th>\n",
       "      <th></th>\n",
       "      <th></th>\n",
       "      <th></th>\n",
       "      <th></th>\n",
       "      <th></th>\n",
       "      <th></th>\n",
       "    </tr>\n",
       "  </thead>\n",
       "  <tbody>\n",
       "    <tr>\n",
       "      <th>2017-11-08</th>\n",
       "      <td>7141.379883</td>\n",
       "      <td>7114.020020</td>\n",
       "      <td>7776.419922</td>\n",
       "      <td>7459.689941</td>\n",
       "      <td>7459.689941</td>\n",
       "      <td>4602200064</td>\n",
       "      <td>0.000000</td>\n",
       "      <td>0.000000</td>\n",
       "      <td>0.000000</td>\n",
       "      <td>0.000000</td>\n",
       "      <td>0.000000</td>\n",
       "      <td>0.000000e+00</td>\n",
       "      <td>1275.900024</td>\n",
       "      <td>1274.699951</td>\n",
       "      <td>1284.900024</td>\n",
       "      <td>1281.599976</td>\n",
       "      <td>1281.599976</td>\n",
       "      <td>15.0</td>\n",
       "    </tr>\n",
       "    <tr>\n",
       "      <th>2017-11-09</th>\n",
       "      <td>7446.830078</td>\n",
       "      <td>7101.520020</td>\n",
       "      <td>7446.830078</td>\n",
       "      <td>7143.580078</td>\n",
       "      <td>7143.580078</td>\n",
       "      <td>3226249984</td>\n",
       "      <td>308.644989</td>\n",
       "      <td>307.056000</td>\n",
       "      <td>329.451996</td>\n",
       "      <td>320.884003</td>\n",
       "      <td>320.884003</td>\n",
       "      <td>8.932500e+08</td>\n",
       "      <td>1279.699951</td>\n",
       "      <td>1279.699951</td>\n",
       "      <td>1286.900024</td>\n",
       "      <td>1285.599976</td>\n",
       "      <td>1285.599976</td>\n",
       "      <td>18.0</td>\n",
       "    </tr>\n",
       "    <tr>\n",
       "      <th>2017-11-10</th>\n",
       "      <td>7173.729980</td>\n",
       "      <td>6436.870117</td>\n",
       "      <td>7312.000000</td>\n",
       "      <td>6618.140137</td>\n",
       "      <td>6618.140137</td>\n",
       "      <td>5208249856</td>\n",
       "      <td>320.670990</td>\n",
       "      <td>294.541992</td>\n",
       "      <td>324.717987</td>\n",
       "      <td>299.252991</td>\n",
       "      <td>299.252991</td>\n",
       "      <td>8.859860e+08</td>\n",
       "      <td>1283.500000</td>\n",
       "      <td>1272.400024</td>\n",
       "      <td>1283.500000</td>\n",
       "      <td>1272.400024</td>\n",
       "      <td>1272.400024</td>\n",
       "      <td>10.0</td>\n",
       "    </tr>\n",
       "    <tr>\n",
       "      <th>2017-11-11</th>\n",
       "      <td>6618.609863</td>\n",
       "      <td>6204.220215</td>\n",
       "      <td>6873.149902</td>\n",
       "      <td>6357.600098</td>\n",
       "      <td>6357.600098</td>\n",
       "      <td>4908680192</td>\n",
       "      <td>298.585999</td>\n",
       "      <td>298.191986</td>\n",
       "      <td>319.453003</td>\n",
       "      <td>314.681000</td>\n",
       "      <td>314.681000</td>\n",
       "      <td>8.423010e+08</td>\n",
       "      <td>1283.500000</td>\n",
       "      <td>1272.400024</td>\n",
       "      <td>1283.500000</td>\n",
       "      <td>1272.400024</td>\n",
       "      <td>1272.400024</td>\n",
       "      <td>10.0</td>\n",
       "    </tr>\n",
       "    <tr>\n",
       "      <th>2017-11-12</th>\n",
       "      <td>6295.450195</td>\n",
       "      <td>5519.009766</td>\n",
       "      <td>6625.049805</td>\n",
       "      <td>5950.069824</td>\n",
       "      <td>5950.069824</td>\n",
       "      <td>8957349888</td>\n",
       "      <td>314.690002</td>\n",
       "      <td>298.513000</td>\n",
       "      <td>319.153015</td>\n",
       "      <td>307.907990</td>\n",
       "      <td>307.907990</td>\n",
       "      <td>1.613480e+09</td>\n",
       "      <td>1283.500000</td>\n",
       "      <td>1272.400024</td>\n",
       "      <td>1283.500000</td>\n",
       "      <td>1272.400024</td>\n",
       "      <td>1272.400024</td>\n",
       "      <td>10.0</td>\n",
       "    </tr>\n",
       "    <tr>\n",
       "      <th>...</th>\n",
       "      <td>...</td>\n",
       "      <td>...</td>\n",
       "      <td>...</td>\n",
       "      <td>...</td>\n",
       "      <td>...</td>\n",
       "      <td>...</td>\n",
       "      <td>...</td>\n",
       "      <td>...</td>\n",
       "      <td>...</td>\n",
       "      <td>...</td>\n",
       "      <td>...</td>\n",
       "      <td>...</td>\n",
       "      <td>...</td>\n",
       "      <td>...</td>\n",
       "      <td>...</td>\n",
       "      <td>...</td>\n",
       "      <td>...</td>\n",
       "      <td>...</td>\n",
       "    </tr>\n",
       "    <tr>\n",
       "      <th>2022-09-09</th>\n",
       "      <td>19328.140625</td>\n",
       "      <td>19310.962891</td>\n",
       "      <td>21439.410156</td>\n",
       "      <td>21381.152344</td>\n",
       "      <td>21381.152344</td>\n",
       "      <td>48469528171</td>\n",
       "      <td>1635.187744</td>\n",
       "      <td>1632.836548</td>\n",
       "      <td>1735.809814</td>\n",
       "      <td>1719.085449</td>\n",
       "      <td>1719.085449</td>\n",
       "      <td>2.024232e+10</td>\n",
       "      <td>1719.199951</td>\n",
       "      <td>1712.800049</td>\n",
       "      <td>1720.000000</td>\n",
       "      <td>1716.199951</td>\n",
       "      <td>1716.199951</td>\n",
       "      <td>635.0</td>\n",
       "    </tr>\n",
       "    <tr>\n",
       "      <th>2022-09-10</th>\n",
       "      <td>21376.912109</td>\n",
       "      <td>21168.722656</td>\n",
       "      <td>21760.275391</td>\n",
       "      <td>21680.539062</td>\n",
       "      <td>21680.539062</td>\n",
       "      <td>36913738894</td>\n",
       "      <td>1718.961304</td>\n",
       "      <td>1710.296997</td>\n",
       "      <td>1784.497803</td>\n",
       "      <td>1776.203735</td>\n",
       "      <td>1776.203735</td>\n",
       "      <td>1.313093e+10</td>\n",
       "      <td>1719.199951</td>\n",
       "      <td>1712.800049</td>\n",
       "      <td>1720.000000</td>\n",
       "      <td>1716.199951</td>\n",
       "      <td>1716.199951</td>\n",
       "      <td>635.0</td>\n",
       "    </tr>\n",
       "    <tr>\n",
       "      <th>2022-09-11</th>\n",
       "      <td>21678.542969</td>\n",
       "      <td>21406.945312</td>\n",
       "      <td>21770.552734</td>\n",
       "      <td>21769.255859</td>\n",
       "      <td>21769.255859</td>\n",
       "      <td>34493951963</td>\n",
       "      <td>1775.976074</td>\n",
       "      <td>1730.164795</td>\n",
       "      <td>1782.729858</td>\n",
       "      <td>1761.800049</td>\n",
       "      <td>1761.800049</td>\n",
       "      <td>1.246430e+10</td>\n",
       "      <td>1719.199951</td>\n",
       "      <td>1712.800049</td>\n",
       "      <td>1720.000000</td>\n",
       "      <td>1716.199951</td>\n",
       "      <td>1716.199951</td>\n",
       "      <td>635.0</td>\n",
       "    </tr>\n",
       "    <tr>\n",
       "      <th>2022-09-12</th>\n",
       "      <td>21770.148438</td>\n",
       "      <td>21603.896484</td>\n",
       "      <td>22439.181641</td>\n",
       "      <td>22370.449219</td>\n",
       "      <td>22370.449219</td>\n",
       "      <td>50212088965</td>\n",
       "      <td>1762.084839</td>\n",
       "      <td>1698.293457</td>\n",
       "      <td>1778.163452</td>\n",
       "      <td>1713.765259</td>\n",
       "      <td>1713.765259</td>\n",
       "      <td>1.768839e+10</td>\n",
       "      <td>1727.400024</td>\n",
       "      <td>1727.400024</td>\n",
       "      <td>1728.099976</td>\n",
       "      <td>1728.099976</td>\n",
       "      <td>1728.099976</td>\n",
       "      <td>635.0</td>\n",
       "    </tr>\n",
       "    <tr>\n",
       "      <th>2022-09-13</th>\n",
       "      <td>22358.732422</td>\n",
       "      <td>20563.470703</td>\n",
       "      <td>22645.195312</td>\n",
       "      <td>20563.470703</td>\n",
       "      <td>20563.470703</td>\n",
       "      <td>50547585024</td>\n",
       "      <td>1712.593384</td>\n",
       "      <td>1584.246582</td>\n",
       "      <td>1743.564575</td>\n",
       "      <td>1603.823608</td>\n",
       "      <td>1603.823608</td>\n",
       "      <td>2.188409e+10</td>\n",
       "      <td>1736.000000</td>\n",
       "      <td>1706.699951</td>\n",
       "      <td>1742.900024</td>\n",
       "      <td>1715.099976</td>\n",
       "      <td>1715.099976</td>\n",
       "      <td>221642.0</td>\n",
       "    </tr>\n",
       "  </tbody>\n",
       "</table>\n",
       "<p>1771 rows × 18 columns</p>\n",
       "</div>"
      ],
      "text/plain": [
       "                BTC-open       BTC-low      BTC-high     BTC-close  \\\n",
       "Date                                                                 \n",
       "2017-11-08   7141.379883   7114.020020   7776.419922   7459.689941   \n",
       "2017-11-09   7446.830078   7101.520020   7446.830078   7143.580078   \n",
       "2017-11-10   7173.729980   6436.870117   7312.000000   6618.140137   \n",
       "2017-11-11   6618.609863   6204.220215   6873.149902   6357.600098   \n",
       "2017-11-12   6295.450195   5519.009766   6625.049805   5950.069824   \n",
       "...                  ...           ...           ...           ...   \n",
       "2022-09-09  19328.140625  19310.962891  21439.410156  21381.152344   \n",
       "2022-09-10  21376.912109  21168.722656  21760.275391  21680.539062   \n",
       "2022-09-11  21678.542969  21406.945312  21770.552734  21769.255859   \n",
       "2022-09-12  21770.148438  21603.896484  22439.181641  22370.449219   \n",
       "2022-09-13  22358.732422  20563.470703  22645.195312  20563.470703   \n",
       "\n",
       "            BTC-adj_close   BTC-volume     ETH-open      ETH-low     ETH-high  \\\n",
       "Date                                                                            \n",
       "2017-11-08    7459.689941   4602200064     0.000000     0.000000     0.000000   \n",
       "2017-11-09    7143.580078   3226249984   308.644989   307.056000   329.451996   \n",
       "2017-11-10    6618.140137   5208249856   320.670990   294.541992   324.717987   \n",
       "2017-11-11    6357.600098   4908680192   298.585999   298.191986   319.453003   \n",
       "2017-11-12    5950.069824   8957349888   314.690002   298.513000   319.153015   \n",
       "...                   ...          ...          ...          ...          ...   \n",
       "2022-09-09   21381.152344  48469528171  1635.187744  1632.836548  1735.809814   \n",
       "2022-09-10   21680.539062  36913738894  1718.961304  1710.296997  1784.497803   \n",
       "2022-09-11   21769.255859  34493951963  1775.976074  1730.164795  1782.729858   \n",
       "2022-09-12   22370.449219  50212088965  1762.084839  1698.293457  1778.163452   \n",
       "2022-09-13   20563.470703  50547585024  1712.593384  1584.246582  1743.564575   \n",
       "\n",
       "              ETH-close  ETH-adj_close    ETH-volume      AU-open  \\\n",
       "Date                                                                \n",
       "2017-11-08     0.000000       0.000000  0.000000e+00  1275.900024   \n",
       "2017-11-09   320.884003     320.884003  8.932500e+08  1279.699951   \n",
       "2017-11-10   299.252991     299.252991  8.859860e+08  1283.500000   \n",
       "2017-11-11   314.681000     314.681000  8.423010e+08  1283.500000   \n",
       "2017-11-12   307.907990     307.907990  1.613480e+09  1283.500000   \n",
       "...                 ...            ...           ...          ...   \n",
       "2022-09-09  1719.085449    1719.085449  2.024232e+10  1719.199951   \n",
       "2022-09-10  1776.203735    1776.203735  1.313093e+10  1719.199951   \n",
       "2022-09-11  1761.800049    1761.800049  1.246430e+10  1719.199951   \n",
       "2022-09-12  1713.765259    1713.765259  1.768839e+10  1727.400024   \n",
       "2022-09-13  1603.823608    1603.823608  2.188409e+10  1736.000000   \n",
       "\n",
       "                 AU-low      AU-high     AU-close  AU-adj_close  AU-volume  \n",
       "Date                                                                        \n",
       "2017-11-08  1274.699951  1284.900024  1281.599976   1281.599976       15.0  \n",
       "2017-11-09  1279.699951  1286.900024  1285.599976   1285.599976       18.0  \n",
       "2017-11-10  1272.400024  1283.500000  1272.400024   1272.400024       10.0  \n",
       "2017-11-11  1272.400024  1283.500000  1272.400024   1272.400024       10.0  \n",
       "2017-11-12  1272.400024  1283.500000  1272.400024   1272.400024       10.0  \n",
       "...                 ...          ...          ...           ...        ...  \n",
       "2022-09-09  1712.800049  1720.000000  1716.199951   1716.199951      635.0  \n",
       "2022-09-10  1712.800049  1720.000000  1716.199951   1716.199951      635.0  \n",
       "2022-09-11  1712.800049  1720.000000  1716.199951   1716.199951      635.0  \n",
       "2022-09-12  1727.400024  1728.099976  1728.099976   1728.099976      635.0  \n",
       "2022-09-13  1706.699951  1742.900024  1715.099976   1715.099976   221642.0  \n",
       "\n",
       "[1771 rows x 18 columns]"
      ]
     },
     "execution_count": 8,
     "metadata": {},
     "output_type": "execute_result"
    }
   ],
   "source": [
    "raw_data.fillna(0)"
   ]
  },
  {
   "cell_type": "markdown",
   "id": "59feb2ed",
   "metadata": {},
   "source": [
    "# Bitcoin Data"
   ]
  },
  {
   "cell_type": "code",
   "execution_count": 11,
   "id": "06b8c30c",
   "metadata": {},
   "outputs": [
    {
     "data": {
      "text/html": [
       "<div>\n",
       "<style scoped>\n",
       "    .dataframe tbody tr th:only-of-type {\n",
       "        vertical-align: middle;\n",
       "    }\n",
       "\n",
       "    .dataframe tbody tr th {\n",
       "        vertical-align: top;\n",
       "    }\n",
       "\n",
       "    .dataframe thead th {\n",
       "        text-align: right;\n",
       "    }\n",
       "</style>\n",
       "<table border=\"1\" class=\"dataframe\">\n",
       "  <thead>\n",
       "    <tr style=\"text-align: right;\">\n",
       "      <th></th>\n",
       "      <th>Open</th>\n",
       "      <th>High</th>\n",
       "      <th>Low</th>\n",
       "      <th>Close</th>\n",
       "      <th>Volume</th>\n",
       "      <th>Dividends</th>\n",
       "      <th>Stock Splits</th>\n",
       "    </tr>\n",
       "    <tr>\n",
       "      <th>Date</th>\n",
       "      <th></th>\n",
       "      <th></th>\n",
       "      <th></th>\n",
       "      <th></th>\n",
       "      <th></th>\n",
       "      <th></th>\n",
       "      <th></th>\n",
       "    </tr>\n",
       "  </thead>\n",
       "  <tbody>\n",
       "    <tr>\n",
       "      <th>2017-01-01</th>\n",
       "      <td>963.658020</td>\n",
       "      <td>1003.080017</td>\n",
       "      <td>958.698975</td>\n",
       "      <td>998.325012</td>\n",
       "      <td>147775008</td>\n",
       "      <td>0</td>\n",
       "      <td>0</td>\n",
       "    </tr>\n",
       "    <tr>\n",
       "      <th>2017-01-02</th>\n",
       "      <td>998.617004</td>\n",
       "      <td>1031.390015</td>\n",
       "      <td>996.702026</td>\n",
       "      <td>1021.750000</td>\n",
       "      <td>222184992</td>\n",
       "      <td>0</td>\n",
       "      <td>0</td>\n",
       "    </tr>\n",
       "    <tr>\n",
       "      <th>2017-01-03</th>\n",
       "      <td>1021.599976</td>\n",
       "      <td>1044.079956</td>\n",
       "      <td>1021.599976</td>\n",
       "      <td>1043.839966</td>\n",
       "      <td>185168000</td>\n",
       "      <td>0</td>\n",
       "      <td>0</td>\n",
       "    </tr>\n",
       "    <tr>\n",
       "      <th>2017-01-04</th>\n",
       "      <td>1044.400024</td>\n",
       "      <td>1159.420044</td>\n",
       "      <td>1044.400024</td>\n",
       "      <td>1154.729980</td>\n",
       "      <td>344945984</td>\n",
       "      <td>0</td>\n",
       "      <td>0</td>\n",
       "    </tr>\n",
       "    <tr>\n",
       "      <th>2017-01-05</th>\n",
       "      <td>1156.729980</td>\n",
       "      <td>1191.099976</td>\n",
       "      <td>910.416992</td>\n",
       "      <td>1013.380005</td>\n",
       "      <td>510199008</td>\n",
       "      <td>0</td>\n",
       "      <td>0</td>\n",
       "    </tr>\n",
       "    <tr>\n",
       "      <th>...</th>\n",
       "      <td>...</td>\n",
       "      <td>...</td>\n",
       "      <td>...</td>\n",
       "      <td>...</td>\n",
       "      <td>...</td>\n",
       "      <td>...</td>\n",
       "      <td>...</td>\n",
       "    </tr>\n",
       "    <tr>\n",
       "      <th>2022-09-09</th>\n",
       "      <td>19328.140625</td>\n",
       "      <td>21439.410156</td>\n",
       "      <td>19310.962891</td>\n",
       "      <td>21381.152344</td>\n",
       "      <td>48469528171</td>\n",
       "      <td>0</td>\n",
       "      <td>0</td>\n",
       "    </tr>\n",
       "    <tr>\n",
       "      <th>2022-09-10</th>\n",
       "      <td>21376.912109</td>\n",
       "      <td>21760.275391</td>\n",
       "      <td>21168.722656</td>\n",
       "      <td>21680.539062</td>\n",
       "      <td>36913738894</td>\n",
       "      <td>0</td>\n",
       "      <td>0</td>\n",
       "    </tr>\n",
       "    <tr>\n",
       "      <th>2022-09-11</th>\n",
       "      <td>21678.542969</td>\n",
       "      <td>21770.552734</td>\n",
       "      <td>21406.945312</td>\n",
       "      <td>21769.255859</td>\n",
       "      <td>34493951963</td>\n",
       "      <td>0</td>\n",
       "      <td>0</td>\n",
       "    </tr>\n",
       "    <tr>\n",
       "      <th>2022-09-12</th>\n",
       "      <td>21770.148438</td>\n",
       "      <td>22439.181641</td>\n",
       "      <td>21603.896484</td>\n",
       "      <td>22370.449219</td>\n",
       "      <td>50212088965</td>\n",
       "      <td>0</td>\n",
       "      <td>0</td>\n",
       "    </tr>\n",
       "    <tr>\n",
       "      <th>2022-09-13</th>\n",
       "      <td>22358.732422</td>\n",
       "      <td>22645.195312</td>\n",
       "      <td>20563.470703</td>\n",
       "      <td>20563.470703</td>\n",
       "      <td>50547585024</td>\n",
       "      <td>0</td>\n",
       "      <td>0</td>\n",
       "    </tr>\n",
       "  </tbody>\n",
       "</table>\n",
       "<p>2082 rows × 7 columns</p>\n",
       "</div>"
      ],
      "text/plain": [
       "                    Open          High           Low         Close  \\\n",
       "Date                                                                 \n",
       "2017-01-01    963.658020   1003.080017    958.698975    998.325012   \n",
       "2017-01-02    998.617004   1031.390015    996.702026   1021.750000   \n",
       "2017-01-03   1021.599976   1044.079956   1021.599976   1043.839966   \n",
       "2017-01-04   1044.400024   1159.420044   1044.400024   1154.729980   \n",
       "2017-01-05   1156.729980   1191.099976    910.416992   1013.380005   \n",
       "...                  ...           ...           ...           ...   \n",
       "2022-09-09  19328.140625  21439.410156  19310.962891  21381.152344   \n",
       "2022-09-10  21376.912109  21760.275391  21168.722656  21680.539062   \n",
       "2022-09-11  21678.542969  21770.552734  21406.945312  21769.255859   \n",
       "2022-09-12  21770.148438  22439.181641  21603.896484  22370.449219   \n",
       "2022-09-13  22358.732422  22645.195312  20563.470703  20563.470703   \n",
       "\n",
       "                 Volume  Dividends  Stock Splits  \n",
       "Date                                              \n",
       "2017-01-01    147775008          0             0  \n",
       "2017-01-02    222184992          0             0  \n",
       "2017-01-03    185168000          0             0  \n",
       "2017-01-04    344945984          0             0  \n",
       "2017-01-05    510199008          0             0  \n",
       "...                 ...        ...           ...  \n",
       "2022-09-09  48469528171          0             0  \n",
       "2022-09-10  36913738894          0             0  \n",
       "2022-09-11  34493951963          0             0  \n",
       "2022-09-12  50212088965          0             0  \n",
       "2022-09-13  50547585024          0             0  \n",
       "\n",
       "[2082 rows x 7 columns]"
      ]
     },
     "execution_count": 11,
     "metadata": {},
     "output_type": "execute_result"
    }
   ],
   "source": [
    "data = btc_history.loc['2017-01-01':]\n",
    "data"
   ]
  },
  {
   "cell_type": "markdown",
   "id": "3f129418",
   "metadata": {},
   "source": [
    "# ARIMA"
   ]
  },
  {
   "cell_type": "code",
   "execution_count": 44,
   "id": "11f1adad",
   "metadata": {},
   "outputs": [],
   "source": [
    "train_size =0.9\n",
    "\n",
    "index = round(train_size*data['Close'].shape[0])\n",
    "\n",
    "data_train = data['Close'].iloc[:index]\n",
    "data_test = data['Close'].iloc[index:]"
   ]
  },
  {
   "cell_type": "code",
   "execution_count": 45,
   "id": "cec4e0dc",
   "metadata": {},
   "outputs": [
    {
     "data": {
      "text/plain": [
       "(1873, 208)"
      ]
     },
     "execution_count": 45,
     "metadata": {},
     "output_type": "execute_result"
    }
   ],
   "source": [
    "len(data_train), len(data_test)"
   ]
  },
  {
   "cell_type": "markdown",
   "id": "56cab2b1",
   "metadata": {},
   "source": [
    "## Predict next day"
   ]
  },
  {
   "cell_type": "code",
   "execution_count": 16,
   "id": "9391290c",
   "metadata": {},
   "outputs": [
    {
     "data": {
      "text/plain": [
       "Date\n",
       "2020-12-28             NaN\n",
       "2020-12-29    27084.808594\n",
       "2020-12-30    27362.437500\n",
       "2020-12-31    28840.953125\n",
       "2021-01-01    29001.720703\n",
       "                  ...     \n",
       "2022-09-09    19329.833984\n",
       "2022-09-10    21381.152344\n",
       "2022-09-11    21680.539062\n",
       "2022-09-12    21769.255859\n",
       "2022-09-13    22370.449219\n",
       "Name: Close, Length: 625, dtype: float64"
      ]
     },
     "execution_count": 16,
     "metadata": {},
     "output_type": "execute_result"
    }
   ],
   "source": [
    "y_pred = data_test.shift(1)\n",
    "y_pred"
   ]
  },
  {
   "cell_type": "code",
   "execution_count": 17,
   "id": "10711efe",
   "metadata": {},
   "outputs": [
    {
     "name": "stdout",
     "output_type": "stream",
     "text": [
      "R2: 0.9816850426285197\n"
     ]
    }
   ],
   "source": [
    "from sklearn.metrics import r2_score\n",
    "\n",
    "y_pred = data_test.shift(1).dropna()\n",
    "y_true = data_test[1:]\n",
    "\n",
    "print(f\"R2: {r2_score(y_true, y_pred)}\")"
   ]
  },
  {
   "cell_type": "markdown",
   "id": "7aed7623",
   "metadata": {},
   "source": [
    "## Decomposition"
   ]
  },
  {
   "cell_type": "code",
   "execution_count": 18,
   "id": "532cd1ef",
   "metadata": {},
   "outputs": [],
   "source": [
    "#data_2.Date.diff().value_counts()\n",
    "\n",
    "data = data.iloc[:-1]"
   ]
  },
  {
   "cell_type": "code",
   "execution_count": 19,
   "id": "1f00e4ae",
   "metadata": {},
   "outputs": [
    {
     "data": {
      "image/png": "[encoded data removed]",
      "text/plain": [
       "<Figure size 432x288 with 4 Axes>"
      ]
     },
     "metadata": {
      "needs_background": "light"
     },
     "output_type": "display_data"
    }
   ],
   "source": [
    "from statsmodels.tsa.seasonal import seasonal_decompose\n",
    "\n",
    "result_add = seasonal_decompose(data['Close'], model='additive')\n",
    "result_add.plot();"
   ]
  },
  {
   "cell_type": "code",
   "execution_count": 20,
   "id": "f63ab64b",
   "metadata": {},
   "outputs": [
    {
     "data": {
      "image/png": "[encoded data removed]",
      "text/plain": [
       "<Figure size 432x288 with 4 Axes>"
      ]
     },
     "metadata": {
      "needs_background": "light"
     },
     "output_type": "display_data"
    }
   ],
   "source": [
    "result_mul = seasonal_decompose(data['Close'], model='multiplicative')\n",
    "result_mul.plot();"
   ]
  },
  {
   "cell_type": "code",
   "execution_count": 21,
   "id": "623ae1fa",
   "metadata": {},
   "outputs": [
    {
     "data": {
      "image/png": "[encoded data removed]",
      "text/plain": [
       "<Figure size 936x216 with 2 Axes>"
      ]
     },
     "metadata": {
      "needs_background": "light"
     },
     "output_type": "display_data"
    }
   ],
   "source": [
    "import matplotlib.pyplot as plt\n",
    "f, (ax1, ax2) = plt.subplots(1,2, figsize=(13,3))\n",
    "ax1.plot(result_add.resid); ax1.set_title(\"Additive Model Residuals\")\n",
    "ax2.plot(result_mul.resid); ax2.set_title(\"Multiplicative Model Residuals\");"
   ]
  },
  {
   "cell_type": "markdown",
   "id": "73ec17a2",
   "metadata": {},
   "source": [
    "## Adfuller"
   ]
  },
  {
   "cell_type": "code",
   "execution_count": 22,
   "id": "2864c8e2",
   "metadata": {},
   "outputs": [
    {
     "data": {
      "text/plain": [
       "0.5289257199410394"
      ]
     },
     "execution_count": 22,
     "metadata": {},
     "output_type": "execute_result"
    }
   ],
   "source": [
    "from  statsmodels.tsa.stattools import adfuller\n",
    "\n",
    "adfuller(data.Close)[1]"
   ]
  },
  {
   "cell_type": "code",
   "execution_count": 23,
   "id": "fc1ed942",
   "metadata": {},
   "outputs": [
    {
     "name": "stdout",
     "output_type": "stream",
     "text": [
      "additive resid:  1.676491012776986e-29\n",
      "multiplicative resid:  3.816917279268034e-27\n"
     ]
    }
   ],
   "source": [
    "print('additive resid: ', adfuller(result_add.resid.dropna())[1])\n",
    "print('multiplicative resid: ', adfuller(result_mul.resid.dropna())[1])"
   ]
  },
  {
   "cell_type": "markdown",
   "id": "b8203691",
   "metadata": {},
   "source": [
    "## ACF and PACF"
   ]
  },
  {
   "cell_type": "code",
   "execution_count": 24,
   "id": "1ebf8985",
   "metadata": {},
   "outputs": [
    {
     "data": {
      "image/png": "[encoded data removed]",
      "text/plain": [
       "<Figure size 432x288 with 1 Axes>"
      ]
     },
     "metadata": {
      "needs_background": "light"
     },
     "output_type": "display_data"
    }
   ],
   "source": [
    "from statsmodels.graphics.tsaplots import plot_acf\n",
    "plot_acf(data.Close, lags=60)\n",
    "plt.show()"
   ]
  },
  {
   "cell_type": "code",
   "execution_count": 25,
   "id": "e2d44d80",
   "metadata": {},
   "outputs": [
    {
     "name": "stderr",
     "output_type": "stream",
     "text": [
      "/Users/invite/.pyenv/versions/3.8.12/envs/lewagon/lib/python3.8/site-packages/statsmodels/graphics/tsaplots.py:348: FutureWarning: The default method 'yw' can produce PACF values outside of the [-1,1] interval. After 0.13, the default will change tounadjusted Yule-Walker ('ywm'). You can use this method now by setting method='ywm'.\n",
      "  warnings.warn(\n"
     ]
    },
    {
     "data": {
      "image/png": "[encoded data removed]",
      "text/plain": [
       "<Figure size 432x288 with 1 Axes>"
      ]
     },
     "metadata": {
      "needs_background": "light"
     },
     "output_type": "display_data"
    }
   ],
   "source": [
    "from statsmodels.graphics.tsaplots import plot_pacf\n",
    "\n",
    "plot_pacf(btc_history.Close, lags=30, c='r');"
   ]
  },
  {
   "cell_type": "markdown",
   "id": "fdcd6755",
   "metadata": {},
   "source": [
    "## DIFF"
   ]
  },
  {
   "cell_type": "code",
   "execution_count": 26,
   "id": "c03a2d90",
   "metadata": {},
   "outputs": [
    {
     "data": {
      "text/plain": [
       "Date\n",
       "2017-01-01            NaN\n",
       "2017-01-02      23.424988\n",
       "2017-01-03      22.089966\n",
       "2017-01-04     110.890015\n",
       "2017-01-05    -141.349976\n",
       "                 ...     \n",
       "2022-09-08      39.509766\n",
       "2022-09-09    2051.318359\n",
       "2022-09-10     299.386719\n",
       "2022-09-11      88.716797\n",
       "2022-09-12     601.193359\n",
       "Name: Close, Length: 2081, dtype: float64"
      ]
     },
     "execution_count": 26,
     "metadata": {},
     "output_type": "execute_result"
    }
   ],
   "source": [
    "difference_1 = data['Close'].diff()\n",
    "difference_1"
   ]
  },
  {
   "cell_type": "code",
   "execution_count": 27,
   "id": "05ed0580",
   "metadata": {},
   "outputs": [
    {
     "data": {
      "text/plain": [
       "Date\n",
       "2017-01-01            NaN\n",
       "2017-01-02            NaN\n",
       "2017-01-03      -1.335022\n",
       "2017-01-04      88.800049\n",
       "2017-01-05    -252.239990\n",
       "                 ...     \n",
       "2022-09-08    -413.146484\n",
       "2022-09-09    2011.808594\n",
       "2022-09-10   -1751.931641\n",
       "2022-09-11    -210.669922\n",
       "2022-09-12     512.476562\n",
       "Name: Close, Length: 2081, dtype: float64"
      ]
     },
     "execution_count": 27,
     "metadata": {},
     "output_type": "execute_result"
    }
   ],
   "source": [
    "difference_1.diff()"
   ]
  },
  {
   "cell_type": "code",
   "execution_count": 28,
   "id": "53691bdd",
   "metadata": {},
   "outputs": [
    {
     "data": {
      "image/png": "[encoded data removed]",
      "text/plain": [
       "<Figure size 1440x288 with 3 Axes>"
      ]
     },
     "metadata": {
      "needs_background": "light"
     },
     "output_type": "display_data"
    }
   ],
   "source": [
    "zero_diff = btc_history['Close']\n",
    "first_order_diff = btc_history['Close'].diff()\n",
    "second_order_diff = btc_history['Close'].diff(1).diff(1)\n",
    "\n",
    "fig, (ax1, ax2, ax3) = plt.subplots(1, 3, figsize=(20,4))\n",
    "ax1.plot(zero_diff); ax1.set_title('Original Series')\n",
    "ax2.plot(first_order_diff); ax2.set_title('1st Order Differencing')\n",
    "ax3.plot(second_order_diff); ax3.set_title('2nd Order Differencing');"
   ]
  },
  {
   "cell_type": "markdown",
   "id": "ea613b8b",
   "metadata": {},
   "source": [
    "## Deseasonalized and Linearized"
   ]
  },
  {
   "cell_type": "code",
   "execution_count": 29,
   "id": "ddbd0b4d",
   "metadata": {},
   "outputs": [
    {
     "name": "stderr",
     "output_type": "stream",
     "text": [
      "/var/folders/x6/36rt5cz91tsdc2y_c9095w4c0000gp/T/ipykernel_24380/3511641096.py:1: SettingWithCopyWarning: \n",
      "A value is trying to be set on a copy of a slice from a DataFrame.\n",
      "Try using .loc[row_indexer,col_indexer] = value instead\n",
      "\n",
      "See the caveats in the documentation: https://pandas.pydata.org/pandas-docs/stable/user_guide/indexing.html#returning-a-view-versus-a-copy\n",
      "  data['Deseasonalized'] = data.Close.values/result_mul.seasonal\n"
     ]
    }
   ],
   "source": [
    "data['Deseasonalized'] = data.Close.values/result_mul.seasonal"
   ]
  },
  {
   "cell_type": "code",
   "execution_count": 30,
   "id": "20af869f",
   "metadata": {},
   "outputs": [
    {
     "data": {
      "text/plain": [
       "(2081, 2081)"
      ]
     },
     "execution_count": 30,
     "metadata": {},
     "output_type": "execute_result"
    }
   ],
   "source": [
    "len(data.Close.values), len(result_mul.seasonal)"
   ]
  },
  {
   "cell_type": "code",
   "execution_count": 31,
   "id": "351b6af7",
   "metadata": {},
   "outputs": [
    {
     "data": {
      "text/plain": [
       "Index(['Open', 'High', 'Low', 'Close', 'Volume', 'Dividends', 'Stock Splits',\n",
       "       'Deseasonalized'],\n",
       "      dtype='object')"
      ]
     },
     "execution_count": 31,
     "metadata": {},
     "output_type": "execute_result"
    }
   ],
   "source": [
    "data.columns"
   ]
  },
  {
   "cell_type": "code",
   "execution_count": 32,
   "id": "58d77704",
   "metadata": {},
   "outputs": [
    {
     "name": "stderr",
     "output_type": "stream",
     "text": [
      "/var/folders/x6/36rt5cz91tsdc2y_c9095w4c0000gp/T/ipykernel_24380/133484456.py:6: SettingWithCopyWarning: \n",
      "A value is trying to be set on a copy of a slice from a DataFrame.\n",
      "Try using .loc[row_indexer,col_indexer] = value instead\n",
      "\n",
      "See the caveats in the documentation: https://pandas.pydata.org/pandas-docs/stable/user_guide/indexing.html#returning-a-view-versus-a-copy\n",
      "  data['Linearized'] = np.log(data['Deseasonalized'])\n"
     ]
    },
    {
     "data": {
      "image/png": "[encoded data removed]",
      "text/plain": [
       "<Figure size 1080x288 with 2 Axes>"
      ]
     },
     "metadata": {
      "needs_background": "light"
     },
     "output_type": "display_data"
    }
   ],
   "source": [
    "import numpy as np\n",
    "plt.figure(figsize=(15,4)); plt.subplot(1,2,1); plt.plot(data.Deseasonalized);\n",
    "plt.title('Bitcoin Deseasonalized', fontsize=16);\n",
    "\n",
    "# Also remove exponential trend \n",
    "data['Linearized'] = np.log(data['Deseasonalized'])\n",
    "\n",
    "plt.subplot(1,2,2); plt.plot(data['Linearized'])\n",
    "plt.title('BitcoinLinearized', fontsize=16);"
   ]
  },
  {
   "cell_type": "code",
   "execution_count": 33,
   "id": "999a6b94",
   "metadata": {},
   "outputs": [
    {
     "data": {
      "text/html": [
       "<div>\n",
       "<style scoped>\n",
       "    .dataframe tbody tr th:only-of-type {\n",
       "        vertical-align: middle;\n",
       "    }\n",
       "\n",
       "    .dataframe tbody tr th {\n",
       "        vertical-align: top;\n",
       "    }\n",
       "\n",
       "    .dataframe thead th {\n",
       "        text-align: right;\n",
       "    }\n",
       "</style>\n",
       "<table border=\"1\" class=\"dataframe\">\n",
       "  <thead>\n",
       "    <tr style=\"text-align: right;\">\n",
       "      <th></th>\n",
       "      <th>Open</th>\n",
       "      <th>High</th>\n",
       "      <th>Low</th>\n",
       "      <th>Close</th>\n",
       "      <th>Volume</th>\n",
       "      <th>Dividends</th>\n",
       "      <th>Stock Splits</th>\n",
       "      <th>Deseasonalized</th>\n",
       "      <th>Linearized</th>\n",
       "    </tr>\n",
       "    <tr>\n",
       "      <th>Date</th>\n",
       "      <th></th>\n",
       "      <th></th>\n",
       "      <th></th>\n",
       "      <th></th>\n",
       "      <th></th>\n",
       "      <th></th>\n",
       "      <th></th>\n",
       "      <th></th>\n",
       "      <th></th>\n",
       "    </tr>\n",
       "  </thead>\n",
       "  <tbody>\n",
       "    <tr>\n",
       "      <th>2017-01-01</th>\n",
       "      <td>963.658020</td>\n",
       "      <td>1003.080017</td>\n",
       "      <td>958.698975</td>\n",
       "      <td>998.325012</td>\n",
       "      <td>147775008</td>\n",
       "      <td>0</td>\n",
       "      <td>0</td>\n",
       "      <td>1000.039760</td>\n",
       "      <td>6.907795</td>\n",
       "    </tr>\n",
       "    <tr>\n",
       "      <th>2017-01-02</th>\n",
       "      <td>998.617004</td>\n",
       "      <td>1031.390015</td>\n",
       "      <td>996.702026</td>\n",
       "      <td>1021.750000</td>\n",
       "      <td>222184992</td>\n",
       "      <td>0</td>\n",
       "      <td>0</td>\n",
       "      <td>1020.507952</td>\n",
       "      <td>6.928056</td>\n",
       "    </tr>\n",
       "    <tr>\n",
       "      <th>2017-01-03</th>\n",
       "      <td>1021.599976</td>\n",
       "      <td>1044.079956</td>\n",
       "      <td>1021.599976</td>\n",
       "      <td>1043.839966</td>\n",
       "      <td>185168000</td>\n",
       "      <td>0</td>\n",
       "      <td>0</td>\n",
       "      <td>1043.244378</td>\n",
       "      <td>6.950091</td>\n",
       "    </tr>\n",
       "    <tr>\n",
       "      <th>2017-01-04</th>\n",
       "      <td>1044.400024</td>\n",
       "      <td>1159.420044</td>\n",
       "      <td>1044.400024</td>\n",
       "      <td>1154.729980</td>\n",
       "      <td>344945984</td>\n",
       "      <td>0</td>\n",
       "      <td>0</td>\n",
       "      <td>1152.354101</td>\n",
       "      <td>7.049562</td>\n",
       "    </tr>\n",
       "    <tr>\n",
       "      <th>2017-01-05</th>\n",
       "      <td>1156.729980</td>\n",
       "      <td>1191.099976</td>\n",
       "      <td>910.416992</td>\n",
       "      <td>1013.380005</td>\n",
       "      <td>510199008</td>\n",
       "      <td>0</td>\n",
       "      <td>0</td>\n",
       "      <td>1014.052133</td>\n",
       "      <td>6.921710</td>\n",
       "    </tr>\n",
       "    <tr>\n",
       "      <th>...</th>\n",
       "      <td>...</td>\n",
       "      <td>...</td>\n",
       "      <td>...</td>\n",
       "      <td>...</td>\n",
       "      <td>...</td>\n",
       "      <td>...</td>\n",
       "      <td>...</td>\n",
       "      <td>...</td>\n",
       "      <td>...</td>\n",
       "    </tr>\n",
       "    <tr>\n",
       "      <th>2022-09-08</th>\n",
       "      <td>19289.941406</td>\n",
       "      <td>19417.351562</td>\n",
       "      <td>19076.714844</td>\n",
       "      <td>19329.833984</td>\n",
       "      <td>32194477850</td>\n",
       "      <td>0</td>\n",
       "      <td>0</td>\n",
       "      <td>19342.654574</td>\n",
       "      <td>9.870068</td>\n",
       "    </tr>\n",
       "    <tr>\n",
       "      <th>2022-09-09</th>\n",
       "      <td>19328.140625</td>\n",
       "      <td>21439.410156</td>\n",
       "      <td>19310.962891</td>\n",
       "      <td>21381.152344</td>\n",
       "      <td>48469528171</td>\n",
       "      <td>0</td>\n",
       "      <td>0</td>\n",
       "      <td>21411.387112</td>\n",
       "      <td>9.971678</td>\n",
       "    </tr>\n",
       "    <tr>\n",
       "      <th>2022-09-10</th>\n",
       "      <td>21376.912109</td>\n",
       "      <td>21760.275391</td>\n",
       "      <td>21168.722656</td>\n",
       "      <td>21680.539062</td>\n",
       "      <td>36913738894</td>\n",
       "      <td>0</td>\n",
       "      <td>0</td>\n",
       "      <td>21681.843600</td>\n",
       "      <td>9.984230</td>\n",
       "    </tr>\n",
       "    <tr>\n",
       "      <th>2022-09-11</th>\n",
       "      <td>21678.542969</td>\n",
       "      <td>21770.552734</td>\n",
       "      <td>21406.945312</td>\n",
       "      <td>21769.255859</td>\n",
       "      <td>34493951963</td>\n",
       "      <td>0</td>\n",
       "      <td>0</td>\n",
       "      <td>21806.647272</td>\n",
       "      <td>9.989970</td>\n",
       "    </tr>\n",
       "    <tr>\n",
       "      <th>2022-09-12</th>\n",
       "      <td>21770.148438</td>\n",
       "      <td>22439.181641</td>\n",
       "      <td>21603.896484</td>\n",
       "      <td>22370.449219</td>\n",
       "      <td>50212088965</td>\n",
       "      <td>0</td>\n",
       "      <td>0</td>\n",
       "      <td>22343.255515</td>\n",
       "      <td>10.014280</td>\n",
       "    </tr>\n",
       "  </tbody>\n",
       "</table>\n",
       "<p>2081 rows × 9 columns</p>\n",
       "</div>"
      ],
      "text/plain": [
       "                    Open          High           Low         Close  \\\n",
       "Date                                                                 \n",
       "2017-01-01    963.658020   1003.080017    958.698975    998.325012   \n",
       "2017-01-02    998.617004   1031.390015    996.702026   1021.750000   \n",
       "2017-01-03   1021.599976   1044.079956   1021.599976   1043.839966   \n",
       "2017-01-04   1044.400024   1159.420044   1044.400024   1154.729980   \n",
       "2017-01-05   1156.729980   1191.099976    910.416992   1013.380005   \n",
       "...                  ...           ...           ...           ...   \n",
       "2022-09-08  19289.941406  19417.351562  19076.714844  19329.833984   \n",
       "2022-09-09  19328.140625  21439.410156  19310.962891  21381.152344   \n",
       "2022-09-10  21376.912109  21760.275391  21168.722656  21680.539062   \n",
       "2022-09-11  21678.542969  21770.552734  21406.945312  21769.255859   \n",
       "2022-09-12  21770.148438  22439.181641  21603.896484  22370.449219   \n",
       "\n",
       "                 Volume  Dividends  Stock Splits  Deseasonalized  Linearized  \n",
       "Date                                                                          \n",
       "2017-01-01    147775008          0             0     1000.039760    6.907795  \n",
       "2017-01-02    222184992          0             0     1020.507952    6.928056  \n",
       "2017-01-03    185168000          0             0     1043.244378    6.950091  \n",
       "2017-01-04    344945984          0             0     1152.354101    7.049562  \n",
       "2017-01-05    510199008          0             0     1014.052133    6.921710  \n",
       "...                 ...        ...           ...             ...         ...  \n",
       "2022-09-08  32194477850          0             0    19342.654574    9.870068  \n",
       "2022-09-09  48469528171          0             0    21411.387112    9.971678  \n",
       "2022-09-10  36913738894          0             0    21681.843600    9.984230  \n",
       "2022-09-11  34493951963          0             0    21806.647272    9.989970  \n",
       "2022-09-12  50212088965          0             0    22343.255515   10.014280  \n",
       "\n",
       "[2081 rows x 9 columns]"
      ]
     },
     "execution_count": 33,
     "metadata": {},
     "output_type": "execute_result"
    }
   ],
   "source": [
    "data"
   ]
  },
  {
   "cell_type": "code",
   "execution_count": 34,
   "id": "6779c1f2",
   "metadata": {},
   "outputs": [
    {
     "data": {
      "image/png": "[encoded data removed]",
      "text/plain": [
       "<Figure size 1080x288 with 3 Axes>"
      ]
     },
     "metadata": {
      "needs_background": "light"
     },
     "output_type": "display_data"
    }
   ],
   "source": [
    "fig, axes = plt.subplots(1, 3,figsize=(15,4))\n",
    "\n",
    "axes[0].plot(data['Linearized']); axes[0].set_title('Linearized Series')\n",
    "# 1st Differencing\n",
    "y_diff = data['Linearized'].diff().dropna()\n",
    "axes[1].plot(y_diff); axes[1].set_title('1st Order Differencing')\n",
    "\n",
    "# 2nd Differencing\n",
    "y_diff_diff = data['Linearized'].diff().diff().dropna()\n",
    "axes[2].plot(y_diff_diff); axes[2].set_title('2nd Order Differencing');"
   ]
  },
  {
   "cell_type": "code",
   "execution_count": 35,
   "id": "e5b3587a",
   "metadata": {},
   "outputs": [
    {
     "name": "stdout",
     "output_type": "stream",
     "text": [
      "p-value zero-diff:  0.23850157741413353\n",
      "p-value first-diff:  0.0\n",
      "p-value second-diff:  2.920747389660084e-27\n"
     ]
    }
   ],
   "source": [
    "print('p-value zero-diff: ', adfuller(data['Linearized'])[1])\n",
    "print('p-value first-diff: ', adfuller(data['Linearized'].diff().dropna())[1])\n",
    "print('p-value second-diff: ', adfuller(data['Linearized'].diff().diff().dropna())[1])"
   ]
  },
  {
   "cell_type": "code",
   "execution_count": 36,
   "id": "a17d4be9",
   "metadata": {},
   "outputs": [
    {
     "data": {
      "text/plain": [
       "1"
      ]
     },
     "execution_count": 36,
     "metadata": {},
     "output_type": "execute_result"
    }
   ],
   "source": [
    "from pmdarima.arima.utils import ndiffs\n",
    "ndiffs(data['Linearized'])"
   ]
  },
  {
   "cell_type": "code",
   "execution_count": 37,
   "id": "3ee44134",
   "metadata": {},
   "outputs": [
    {
     "name": "stderr",
     "output_type": "stream",
     "text": [
      "/Users/invite/.pyenv/versions/3.8.12/envs/lewagon/lib/python3.8/site-packages/statsmodels/graphics/tsaplots.py:348: FutureWarning: The default method 'yw' can produce PACF values outside of the [-1,1] interval. After 0.13, the default will change tounadjusted Yule-Walker ('ywm'). You can use this method now by setting method='ywm'.\n",
      "  warnings.warn(\n"
     ]
    },
    {
     "data": {
      "image/png": "[encoded data removed]",
      "text/plain": [
       "<Figure size 1152x648 with 3 Axes>"
      ]
     },
     "metadata": {
      "needs_background": "light"
     },
     "output_type": "display_data"
    }
   ],
   "source": [
    "fig, axes = plt.subplots(1,3, figsize=(16,9))\n",
    "axes[0].plot(y_diff); axes[0].set_title('1st Order Differencing')\n",
    "plot_acf(y_diff, ax=axes[1]);\n",
    "plot_pacf(y_diff, ax=axes[2], c='r');"
   ]
  },
  {
   "cell_type": "markdown",
   "id": "3b6e53ef",
   "metadata": {},
   "source": [
    "## Train test split"
   ]
  },
  {
   "cell_type": "code",
   "execution_count": 48,
   "id": "62e23e79",
   "metadata": {},
   "outputs": [],
   "source": [
    "train_size =0.9\n",
    "\n",
    "index = round(train_size*data['Linearized'].shape[0])\n",
    "\n",
    "train = data['Linearized'].iloc[:index]\n",
    "test = data['Linearized'].iloc[index:]"
   ]
  },
  {
   "cell_type": "code",
   "execution_count": 49,
   "id": "2c6e9a38",
   "metadata": {},
   "outputs": [
    {
     "data": {
      "text/plain": [
       "(1873, 208)"
      ]
     },
     "execution_count": 49,
     "metadata": {},
     "output_type": "execute_result"
    }
   ],
   "source": [
    "len(train), len(test)"
   ]
  },
  {
   "cell_type": "markdown",
   "id": "157f153f",
   "metadata": {},
   "source": [
    "## Model"
   ]
  },
  {
   "cell_type": "code",
   "execution_count": 50,
   "id": "2b108382",
   "metadata": {},
   "outputs": [],
   "source": [
    "from statsmodels.tsa.arima.model import ARIMA"
   ]
  },
  {
   "cell_type": "code",
   "execution_count": 51,
   "id": "9ce6836c",
   "metadata": {},
   "outputs": [
    {
     "name": "stderr",
     "output_type": "stream",
     "text": [
      "/Users/invite/.pyenv/versions/3.8.12/envs/lewagon/lib/python3.8/site-packages/statsmodels/tsa/base/tsa_model.py:471: ValueWarning: No frequency information was provided, so inferred frequency D will be used.\n",
      "  self._init_dates(dates, freq)\n",
      "/Users/invite/.pyenv/versions/3.8.12/envs/lewagon/lib/python3.8/site-packages/statsmodels/tsa/base/tsa_model.py:471: ValueWarning: No frequency information was provided, so inferred frequency D will be used.\n",
      "  self._init_dates(dates, freq)\n",
      "/Users/invite/.pyenv/versions/3.8.12/envs/lewagon/lib/python3.8/site-packages/statsmodels/tsa/base/tsa_model.py:471: ValueWarning: No frequency information was provided, so inferred frequency D will be used.\n",
      "  self._init_dates(dates, freq)\n"
     ]
    }
   ],
   "source": [
    "arima = ARIMA(data['Linearized'], order=(0,1,0),trend='t')\n",
    "arima = arima.fit()"
   ]
  },
  {
   "cell_type": "code",
   "execution_count": 52,
   "id": "067e8ad6",
   "metadata": {},
   "outputs": [
    {
     "data": {
      "text/html": [
       "<table class=\"simpletable\">\n",
       "<caption>SARIMAX Results</caption>\n",
       "<tr>\n",
       "  <th>Dep. Variable:</th>      <td>Linearized</td>    <th>  No. Observations:  </th>   <td>2081</td>   \n",
       "</tr>\n",
       "<tr>\n",
       "  <th>Model:</th>            <td>ARIMA(0, 1, 0)</td>  <th>  Log Likelihood     </th> <td>3667.081</td> \n",
       "</tr>\n",
       "<tr>\n",
       "  <th>Date:</th>            <td>Tue, 13 Sep 2022</td> <th>  AIC                </th> <td>-7330.161</td>\n",
       "</tr>\n",
       "<tr>\n",
       "  <th>Time:</th>                <td>21:07:51</td>     <th>  BIC                </th> <td>-7318.881</td>\n",
       "</tr>\n",
       "<tr>\n",
       "  <th>Sample:</th>             <td>01-01-2017</td>    <th>  HQIC               </th> <td>-7326.028</td>\n",
       "</tr>\n",
       "<tr>\n",
       "  <th></th>                   <td>- 09-12-2022</td>   <th>                     </th>     <td> </td>    \n",
       "</tr>\n",
       "<tr>\n",
       "  <th>Covariance Type:</th>        <td>opg</td>       <th>                     </th>     <td> </td>    \n",
       "</tr>\n",
       "</table>\n",
       "<table class=\"simpletable\">\n",
       "<tr>\n",
       "     <td></td>       <th>coef</th>     <th>std err</th>      <th>z</th>      <th>P>|z|</th>  <th>[0.025</th>    <th>0.975]</th>  \n",
       "</tr>\n",
       "<tr>\n",
       "  <th>x1</th>     <td>    0.0015</td> <td>    0.001</td> <td>    1.603</td> <td> 0.109</td> <td>   -0.000</td> <td>    0.003</td>\n",
       "</tr>\n",
       "<tr>\n",
       "  <th>sigma2</th> <td>    0.0017</td> <td> 2.22e-05</td> <td>   77.703</td> <td> 0.000</td> <td>    0.002</td> <td>    0.002</td>\n",
       "</tr>\n",
       "</table>\n",
       "<table class=\"simpletable\">\n",
       "<tr>\n",
       "  <th>Ljung-Box (L1) (Q):</th>     <td>1.47</td> <th>  Jarque-Bera (JB):  </th> <td>9001.11</td>\n",
       "</tr>\n",
       "<tr>\n",
       "  <th>Prob(Q):</th>                <td>0.23</td> <th>  Prob(JB):          </th>  <td>0.00</td>  \n",
       "</tr>\n",
       "<tr>\n",
       "  <th>Heteroskedasticity (H):</th> <td>0.71</td> <th>  Skew:              </th>  <td>-0.70</td> \n",
       "</tr>\n",
       "<tr>\n",
       "  <th>Prob(H) (two-sided):</th>    <td>0.00</td> <th>  Kurtosis:          </th>  <td>13.09</td> \n",
       "</tr>\n",
       "</table><br/><br/>Warnings:<br/>[1] Covariance matrix calculated using the outer product of gradients (complex-step)."
      ],
      "text/plain": [
       "<class 'statsmodels.iolib.summary.Summary'>\n",
       "\"\"\"\n",
       "                               SARIMAX Results                                \n",
       "==============================================================================\n",
       "Dep. Variable:             Linearized   No. Observations:                 2081\n",
       "Model:                 ARIMA(0, 1, 0)   Log Likelihood                3667.081\n",
       "Date:                Tue, 13 Sep 2022   AIC                          -7330.161\n",
       "Time:                        21:07:51   BIC                          -7318.881\n",
       "Sample:                    01-01-2017   HQIC                         -7326.028\n",
       "                         - 09-12-2022                                         \n",
       "Covariance Type:                  opg                                         \n",
       "==============================================================================\n",
       "                 coef    std err          z      P>|z|      [0.025      0.975]\n",
       "------------------------------------------------------------------------------\n",
       "x1             0.0015      0.001      1.603      0.109      -0.000       0.003\n",
       "sigma2         0.0017   2.22e-05     77.703      0.000       0.002       0.002\n",
       "===================================================================================\n",
       "Ljung-Box (L1) (Q):                   1.47   Jarque-Bera (JB):              9001.11\n",
       "Prob(Q):                              0.23   Prob(JB):                         0.00\n",
       "Heteroskedasticity (H):               0.71   Skew:                            -0.70\n",
       "Prob(H) (two-sided):                  0.00   Kurtosis:                        13.09\n",
       "===================================================================================\n",
       "\n",
       "Warnings:\n",
       "[1] Covariance matrix calculated using the outer product of gradients (complex-step).\n",
       "\"\"\""
      ]
     },
     "execution_count": 52,
     "metadata": {},
     "output_type": "execute_result"
    }
   ],
   "source": [
    "arima.summary()"
   ]
  },
  {
   "cell_type": "code",
   "execution_count": 53,
   "id": "04624873",
   "metadata": {},
   "outputs": [
    {
     "name": "stdout",
     "output_type": "stream",
     "text": [
      "Performing stepwise search to minimize aic\n",
      " ARIMA(1,1,1)(0,0,0)[0] intercept   : AIC=-7326.364, Time=0.60 sec\n",
      " ARIMA(0,1,0)(0,0,0)[0] intercept   : AIC=-7327.927, Time=0.27 sec\n",
      " ARIMA(1,1,0)(0,0,0)[0] intercept   : AIC=-7327.273, Time=0.58 sec\n",
      " ARIMA(0,1,1)(0,0,0)[0] intercept   : AIC=-7327.139, Time=1.23 sec\n",
      " ARIMA(0,1,0)(0,0,0)[0]             : AIC=-7327.927, Time=0.36 sec\n",
      "\n",
      "Best model:  ARIMA(0,1,0)(0,0,0)[0] intercept\n",
      "Total fit time: 3.055 seconds\n"
     ]
    }
   ],
   "source": [
    "import pmdarima as pm\n",
    "smodel = pm.auto_arima(data['Linearized'],\n",
    "                       start_p=1, max_p=2,\n",
    "                       start_q=1, max_q=2,\n",
    "                       trend='t',\n",
    "                       seasonal=False,\n",
    "                       trace=True)"
   ]
  },
  {
   "cell_type": "code",
   "execution_count": 54,
   "id": "5058d8ea",
   "metadata": {},
   "outputs": [
    {
     "data": {
      "text/plain": [
       "2081"
      ]
     },
     "execution_count": 54,
     "metadata": {},
     "output_type": "execute_result"
    }
   ],
   "source": [
    "len(data)"
   ]
  },
  {
   "cell_type": "code",
   "execution_count": 56,
   "id": "a45e28ef",
   "metadata": {},
   "outputs": [],
   "source": [
    "forecast = arima.forecast(len(test), alpha=0.05)\n",
    "forecast_results = arima.get_forecast(len(test), alpha=0.05)\n",
    "\n",
    "forecast = forecast_results.predicted_mean\n",
    "confidence_int = forecast_results.conf_int().values"
   ]
  },
  {
   "cell_type": "code",
   "execution_count": 57,
   "id": "f1bec997",
   "metadata": {},
   "outputs": [
    {
     "data": {
      "text/plain": [
       "2022-09-13    10.015768\n",
       "2022-09-14    10.017257\n",
       "2022-09-15    10.018745\n",
       "2022-09-16    10.020234\n",
       "2022-09-17    10.021722\n",
       "                ...    \n",
       "2023-04-04    10.317936\n",
       "2023-04-05    10.319425\n",
       "2023-04-06    10.320913\n",
       "2023-04-07    10.322402\n",
       "2023-04-08    10.323890\n",
       "Freq: D, Name: predicted_mean, Length: 208, dtype: float64"
      ]
     },
     "execution_count": 57,
     "metadata": {},
     "output_type": "execute_result"
    }
   ],
   "source": [
    "forecast = forecast_results.predicted_mean\n",
    "#len(confidence_int)\n",
    "forecast"
   ]
  },
  {
   "cell_type": "code",
   "execution_count": 58,
   "id": "c7c26024",
   "metadata": {},
   "outputs": [],
   "source": [
    "# We define here a \"Plot forecast vs. real\", which also shows historical training set\n",
    "\n",
    "def plot_forecast(fc, train, test, upper=None, lower=None):\n",
    "    is_confidence_int = isinstance(upper, np.ndarray) and isinstance(lower, np.ndarray)\n",
    "    # Prepare plot series\n",
    "    fc_series = fc#pd.Series(fc, index=test.index)\n",
    "    lower_series = pd.Series(upper, index=fc_series.index) if is_confidence_int else None\n",
    "    upper_series = pd.Series(lower, index=fc_series.index) if is_confidence_int else None\n",
    "\n",
    "    # Plot\n",
    "    plt.figure(figsize=(10,4), dpi=100)\n",
    "    plt.plot(train, label='training', color='black')\n",
    "    plt.plot(test, label='actual', color='black', ls='--')\n",
    "    plt.plot(fc_series, label='forecast', color='orange')\n",
    "    if is_confidence_int:\n",
    "        plt.fill_between(lower_series.index, lower_series, upper_series, color='k', alpha=.15)\n",
    "    plt.title('Forecast vs Actuals')\n",
    "    plt.legend(loc='upper left', fontsize=8);"
   ]
  },
  {
   "cell_type": "code",
   "execution_count": 59,
   "id": "c4a97d05",
   "metadata": {},
   "outputs": [
    {
     "data": {
      "image/png": "[encoded data removed]",
      "text/plain": [
       "<Figure size 1000x400 with 1 Axes>"
      ]
     },
     "metadata": {
      "needs_background": "light"
     },
     "output_type": "display_data"
    }
   ],
   "source": [
    "plot_forecast(forecast, train, test, confidence_int[:,0], confidence_int[:,1])"
   ]
  },
  {
   "cell_type": "code",
   "execution_count": 60,
   "id": "af017581",
   "metadata": {},
   "outputs": [
    {
     "data": {
      "text/plain": [
       "(2081, 1873, 208, 208)"
      ]
     },
     "execution_count": 60,
     "metadata": {},
     "output_type": "execute_result"
    }
   ],
   "source": [
    "len(result_mul.seasonal), len(train), len(test), len(forecast)"
   ]
  },
  {
   "cell_type": "code",
   "execution_count": 62,
   "id": "4284241c",
   "metadata": {},
   "outputs": [
    {
     "ename": "ValueError",
     "evalue": "operands could not be broadcast together with shapes (208,) (2081,) ",
     "output_type": "error",
     "traceback": [
      "\u001b[0;31m---------------------------------------------------------------------------\u001b[0m",
      "\u001b[0;31mValueError\u001b[0m                                Traceback (most recent call last)",
      "\u001b[0;32m/var/folders/x6/36rt5cz91tsdc2y_c9095w4c0000gp/T/ipykernel_24380/1785028427.py\u001b[0m in \u001b[0;36m<module>\u001b[0;34m\u001b[0m\n\u001b[1;32m      2\u001b[0m \u001b[0mtrain_recons\u001b[0m \u001b[0;34m=\u001b[0m \u001b[0mnp\u001b[0m\u001b[0;34m.\u001b[0m\u001b[0mexp\u001b[0m\u001b[0;34m(\u001b[0m\u001b[0mtrain\u001b[0m\u001b[0;34m)\u001b[0m \u001b[0;34m*\u001b[0m \u001b[0mresult_mul\u001b[0m\u001b[0;34m.\u001b[0m\u001b[0mseasonal\u001b[0m\u001b[0;31m#[0:1900]\u001b[0m\u001b[0;34m\u001b[0m\u001b[0;34m\u001b[0m\u001b[0m\n\u001b[1;32m      3\u001b[0m \u001b[0mtest_recons\u001b[0m \u001b[0;34m=\u001b[0m \u001b[0mnp\u001b[0m\u001b[0;34m.\u001b[0m\u001b[0mexp\u001b[0m\u001b[0;34m(\u001b[0m\u001b[0mtest\u001b[0m\u001b[0;34m)\u001b[0m \u001b[0;34m*\u001b[0m \u001b[0mresult_mul\u001b[0m\u001b[0;34m.\u001b[0m\u001b[0mseasonal\u001b[0m\u001b[0;31m#[1900:]\u001b[0m\u001b[0;34m\u001b[0m\u001b[0;34m\u001b[0m\u001b[0m\n\u001b[0;32m----> 4\u001b[0;31m \u001b[0mlower_recons\u001b[0m \u001b[0;34m=\u001b[0m \u001b[0mnp\u001b[0m\u001b[0;34m.\u001b[0m\u001b[0mexp\u001b[0m\u001b[0;34m(\u001b[0m\u001b[0mconfidence_int\u001b[0m\u001b[0;34m)\u001b[0m\u001b[0;34m[\u001b[0m\u001b[0;34m:\u001b[0m\u001b[0;34m,\u001b[0m \u001b[0;36m0\u001b[0m\u001b[0;34m]\u001b[0m \u001b[0;34m*\u001b[0m \u001b[0mresult_mul\u001b[0m\u001b[0;34m.\u001b[0m\u001b[0mseasonal\u001b[0m\u001b[0;31m#[1900:]\u001b[0m\u001b[0;34m\u001b[0m\u001b[0;34m\u001b[0m\u001b[0m\n\u001b[0m\u001b[1;32m      5\u001b[0m \u001b[0mupper_recons\u001b[0m \u001b[0;34m=\u001b[0m \u001b[0mnp\u001b[0m\u001b[0;34m.\u001b[0m\u001b[0mexp\u001b[0m\u001b[0;34m(\u001b[0m\u001b[0mconfidence_int\u001b[0m\u001b[0;34m)\u001b[0m\u001b[0;34m[\u001b[0m\u001b[0;34m:\u001b[0m\u001b[0;34m,\u001b[0m \u001b[0;36m1\u001b[0m\u001b[0;34m]\u001b[0m \u001b[0;34m*\u001b[0m \u001b[0mresult_mul\u001b[0m\u001b[0;34m.\u001b[0m\u001b[0mseasonal\u001b[0m\u001b[0;31m#[1900:]\u001b[0m\u001b[0;34m\u001b[0m\u001b[0;34m\u001b[0m\u001b[0m\n\u001b[1;32m      6\u001b[0m \u001b[0;34m\u001b[0m\u001b[0m\n",
      "\u001b[0;32m~/.pyenv/versions/3.8.12/envs/lewagon/lib/python3.8/site-packages/pandas/core/generic.py\u001b[0m in \u001b[0;36m__array_ufunc__\u001b[0;34m(self, ufunc, method, *inputs, **kwargs)\u001b[0m\n\u001b[1;32m   2030\u001b[0m         \u001b[0mself\u001b[0m\u001b[0;34m,\u001b[0m \u001b[0mufunc\u001b[0m\u001b[0;34m:\u001b[0m \u001b[0mnp\u001b[0m\u001b[0;34m.\u001b[0m\u001b[0mufunc\u001b[0m\u001b[0;34m,\u001b[0m \u001b[0mmethod\u001b[0m\u001b[0;34m:\u001b[0m \u001b[0mstr\u001b[0m\u001b[0;34m,\u001b[0m \u001b[0;34m*\u001b[0m\u001b[0minputs\u001b[0m\u001b[0;34m:\u001b[0m \u001b[0mAny\u001b[0m\u001b[0;34m,\u001b[0m \u001b[0;34m**\u001b[0m\u001b[0mkwargs\u001b[0m\u001b[0;34m:\u001b[0m \u001b[0mAny\u001b[0m\u001b[0;34m\u001b[0m\u001b[0;34m\u001b[0m\u001b[0m\n\u001b[1;32m   2031\u001b[0m     ):\n\u001b[0;32m-> 2032\u001b[0;31m         \u001b[0;32mreturn\u001b[0m \u001b[0marraylike\u001b[0m\u001b[0;34m.\u001b[0m\u001b[0marray_ufunc\u001b[0m\u001b[0;34m(\u001b[0m\u001b[0mself\u001b[0m\u001b[0;34m,\u001b[0m \u001b[0mufunc\u001b[0m\u001b[0;34m,\u001b[0m \u001b[0mmethod\u001b[0m\u001b[0;34m,\u001b[0m \u001b[0;34m*\u001b[0m\u001b[0minputs\u001b[0m\u001b[0;34m,\u001b[0m \u001b[0;34m**\u001b[0m\u001b[0mkwargs\u001b[0m\u001b[0;34m)\u001b[0m\u001b[0;34m\u001b[0m\u001b[0;34m\u001b[0m\u001b[0m\n\u001b[0m\u001b[1;32m   2033\u001b[0m \u001b[0;34m\u001b[0m\u001b[0m\n\u001b[1;32m   2034\u001b[0m     \u001b[0;31m# ideally we would define this to avoid the getattr checks, but\u001b[0m\u001b[0;34m\u001b[0m\u001b[0;34m\u001b[0m\u001b[0;34m\u001b[0m\u001b[0m\n",
      "\u001b[0;32m~/.pyenv/versions/3.8.12/envs/lewagon/lib/python3.8/site-packages/pandas/core/arraylike.py\u001b[0m in \u001b[0;36marray_ufunc\u001b[0;34m(self, ufunc, method, *inputs, **kwargs)\u001b[0m\n\u001b[1;32m    251\u001b[0m \u001b[0;34m\u001b[0m\u001b[0m\n\u001b[1;32m    252\u001b[0m     \u001b[0;31m# for binary ops, use our custom dunder methods\u001b[0m\u001b[0;34m\u001b[0m\u001b[0;34m\u001b[0m\u001b[0;34m\u001b[0m\u001b[0m\n\u001b[0;32m--> 253\u001b[0;31m     \u001b[0mresult\u001b[0m \u001b[0;34m=\u001b[0m \u001b[0mmaybe_dispatch_ufunc_to_dunder_op\u001b[0m\u001b[0;34m(\u001b[0m\u001b[0mself\u001b[0m\u001b[0;34m,\u001b[0m \u001b[0mufunc\u001b[0m\u001b[0;34m,\u001b[0m \u001b[0mmethod\u001b[0m\u001b[0;34m,\u001b[0m \u001b[0;34m*\u001b[0m\u001b[0minputs\u001b[0m\u001b[0;34m,\u001b[0m \u001b[0;34m**\u001b[0m\u001b[0mkwargs\u001b[0m\u001b[0;34m)\u001b[0m\u001b[0;34m\u001b[0m\u001b[0;34m\u001b[0m\u001b[0m\n\u001b[0m\u001b[1;32m    254\u001b[0m     \u001b[0;32mif\u001b[0m \u001b[0mresult\u001b[0m \u001b[0;32mis\u001b[0m \u001b[0;32mnot\u001b[0m \u001b[0mNotImplemented\u001b[0m\u001b[0;34m:\u001b[0m\u001b[0;34m\u001b[0m\u001b[0;34m\u001b[0m\u001b[0m\n\u001b[1;32m    255\u001b[0m         \u001b[0;32mreturn\u001b[0m \u001b[0mresult\u001b[0m\u001b[0;34m\u001b[0m\u001b[0;34m\u001b[0m\u001b[0m\n",
      "\u001b[0;32m~/.pyenv/versions/3.8.12/envs/lewagon/lib/python3.8/site-packages/pandas/_libs/ops_dispatch.pyx\u001b[0m in \u001b[0;36mpandas._libs.ops_dispatch.maybe_dispatch_ufunc_to_dunder_op\u001b[0;34m()\u001b[0m\n",
      "\u001b[0;32m~/.pyenv/versions/3.8.12/envs/lewagon/lib/python3.8/site-packages/pandas/core/ops/common.py\u001b[0m in \u001b[0;36mnew_method\u001b[0;34m(self, other)\u001b[0m\n\u001b[1;32m     67\u001b[0m         \u001b[0mother\u001b[0m \u001b[0;34m=\u001b[0m \u001b[0mitem_from_zerodim\u001b[0m\u001b[0;34m(\u001b[0m\u001b[0mother\u001b[0m\u001b[0;34m)\u001b[0m\u001b[0;34m\u001b[0m\u001b[0;34m\u001b[0m\u001b[0m\n\u001b[1;32m     68\u001b[0m \u001b[0;34m\u001b[0m\u001b[0m\n\u001b[0;32m---> 69\u001b[0;31m         \u001b[0;32mreturn\u001b[0m \u001b[0mmethod\u001b[0m\u001b[0;34m(\u001b[0m\u001b[0mself\u001b[0m\u001b[0;34m,\u001b[0m \u001b[0mother\u001b[0m\u001b[0;34m)\u001b[0m\u001b[0;34m\u001b[0m\u001b[0;34m\u001b[0m\u001b[0m\n\u001b[0m\u001b[1;32m     70\u001b[0m \u001b[0;34m\u001b[0m\u001b[0m\n\u001b[1;32m     71\u001b[0m     \u001b[0;32mreturn\u001b[0m \u001b[0mnew_method\u001b[0m\u001b[0;34m\u001b[0m\u001b[0;34m\u001b[0m\u001b[0m\n",
      "\u001b[0;32m~/.pyenv/versions/3.8.12/envs/lewagon/lib/python3.8/site-packages/pandas/core/arraylike.py\u001b[0m in \u001b[0;36m__rmul__\u001b[0;34m(self, other)\u001b[0m\n\u001b[1;32m    110\u001b[0m     \u001b[0;34m@\u001b[0m\u001b[0munpack_zerodim_and_defer\u001b[0m\u001b[0;34m(\u001b[0m\u001b[0;34m\"__rmul__\"\u001b[0m\u001b[0;34m)\u001b[0m\u001b[0;34m\u001b[0m\u001b[0;34m\u001b[0m\u001b[0m\n\u001b[1;32m    111\u001b[0m     \u001b[0;32mdef\u001b[0m \u001b[0m__rmul__\u001b[0m\u001b[0;34m(\u001b[0m\u001b[0mself\u001b[0m\u001b[0;34m,\u001b[0m \u001b[0mother\u001b[0m\u001b[0;34m)\u001b[0m\u001b[0;34m:\u001b[0m\u001b[0;34m\u001b[0m\u001b[0;34m\u001b[0m\u001b[0m\n\u001b[0;32m--> 112\u001b[0;31m         \u001b[0;32mreturn\u001b[0m \u001b[0mself\u001b[0m\u001b[0;34m.\u001b[0m\u001b[0m_arith_method\u001b[0m\u001b[0;34m(\u001b[0m\u001b[0mother\u001b[0m\u001b[0;34m,\u001b[0m \u001b[0mroperator\u001b[0m\u001b[0;34m.\u001b[0m\u001b[0mrmul\u001b[0m\u001b[0;34m)\u001b[0m\u001b[0;34m\u001b[0m\u001b[0;34m\u001b[0m\u001b[0m\n\u001b[0m\u001b[1;32m    113\u001b[0m \u001b[0;34m\u001b[0m\u001b[0m\n\u001b[1;32m    114\u001b[0m     \u001b[0;34m@\u001b[0m\u001b[0munpack_zerodim_and_defer\u001b[0m\u001b[0;34m(\u001b[0m\u001b[0;34m\"__truediv__\"\u001b[0m\u001b[0;34m)\u001b[0m\u001b[0;34m\u001b[0m\u001b[0;34m\u001b[0m\u001b[0m\n",
      "\u001b[0;32m~/.pyenv/versions/3.8.12/envs/lewagon/lib/python3.8/site-packages/pandas/core/series.py\u001b[0m in \u001b[0;36m_arith_method\u001b[0;34m(self, other, op)\u001b[0m\n\u001b[1;32m   5524\u001b[0m \u001b[0;34m\u001b[0m\u001b[0m\n\u001b[1;32m   5525\u001b[0m         \u001b[0;32mwith\u001b[0m \u001b[0mnp\u001b[0m\u001b[0;34m.\u001b[0m\u001b[0merrstate\u001b[0m\u001b[0;34m(\u001b[0m\u001b[0mall\u001b[0m\u001b[0;34m=\u001b[0m\u001b[0;34m\"ignore\"\u001b[0m\u001b[0;34m)\u001b[0m\u001b[0;34m:\u001b[0m\u001b[0;34m\u001b[0m\u001b[0;34m\u001b[0m\u001b[0m\n\u001b[0;32m-> 5526\u001b[0;31m             \u001b[0mresult\u001b[0m \u001b[0;34m=\u001b[0m \u001b[0mops\u001b[0m\u001b[0;34m.\u001b[0m\u001b[0marithmetic_op\u001b[0m\u001b[0;34m(\u001b[0m\u001b[0mlvalues\u001b[0m\u001b[0;34m,\u001b[0m \u001b[0mrvalues\u001b[0m\u001b[0;34m,\u001b[0m \u001b[0mop\u001b[0m\u001b[0;34m)\u001b[0m\u001b[0;34m\u001b[0m\u001b[0;34m\u001b[0m\u001b[0m\n\u001b[0m\u001b[1;32m   5527\u001b[0m \u001b[0;34m\u001b[0m\u001b[0m\n\u001b[1;32m   5528\u001b[0m         \u001b[0;32mreturn\u001b[0m \u001b[0mself\u001b[0m\u001b[0;34m.\u001b[0m\u001b[0m_construct_result\u001b[0m\u001b[0;34m(\u001b[0m\u001b[0mresult\u001b[0m\u001b[0;34m,\u001b[0m \u001b[0mname\u001b[0m\u001b[0;34m=\u001b[0m\u001b[0mres_name\u001b[0m\u001b[0;34m)\u001b[0m\u001b[0;34m\u001b[0m\u001b[0;34m\u001b[0m\u001b[0m\n",
      "\u001b[0;32m~/.pyenv/versions/3.8.12/envs/lewagon/lib/python3.8/site-packages/pandas/core/ops/array_ops.py\u001b[0m in \u001b[0;36marithmetic_op\u001b[0;34m(left, right, op)\u001b[0m\n\u001b[1;32m    222\u001b[0m         \u001b[0m_bool_arith_check\u001b[0m\u001b[0;34m(\u001b[0m\u001b[0mop\u001b[0m\u001b[0;34m,\u001b[0m \u001b[0mleft\u001b[0m\u001b[0;34m,\u001b[0m \u001b[0mright\u001b[0m\u001b[0;34m)\u001b[0m\u001b[0;34m\u001b[0m\u001b[0;34m\u001b[0m\u001b[0m\n\u001b[1;32m    223\u001b[0m \u001b[0;34m\u001b[0m\u001b[0m\n\u001b[0;32m--> 224\u001b[0;31m         \u001b[0mres_values\u001b[0m \u001b[0;34m=\u001b[0m \u001b[0m_na_arithmetic_op\u001b[0m\u001b[0;34m(\u001b[0m\u001b[0mleft\u001b[0m\u001b[0;34m,\u001b[0m \u001b[0mright\u001b[0m\u001b[0;34m,\u001b[0m \u001b[0mop\u001b[0m\u001b[0;34m)\u001b[0m\u001b[0;34m\u001b[0m\u001b[0;34m\u001b[0m\u001b[0m\n\u001b[0m\u001b[1;32m    225\u001b[0m \u001b[0;34m\u001b[0m\u001b[0m\n\u001b[1;32m    226\u001b[0m     \u001b[0;32mreturn\u001b[0m \u001b[0mres_values\u001b[0m\u001b[0;34m\u001b[0m\u001b[0;34m\u001b[0m\u001b[0m\n",
      "\u001b[0;32m~/.pyenv/versions/3.8.12/envs/lewagon/lib/python3.8/site-packages/pandas/core/ops/array_ops.py\u001b[0m in \u001b[0;36m_na_arithmetic_op\u001b[0;34m(left, right, op, is_cmp)\u001b[0m\n\u001b[1;32m    164\u001b[0m \u001b[0;34m\u001b[0m\u001b[0m\n\u001b[1;32m    165\u001b[0m     \u001b[0;32mtry\u001b[0m\u001b[0;34m:\u001b[0m\u001b[0;34m\u001b[0m\u001b[0;34m\u001b[0m\u001b[0m\n\u001b[0;32m--> 166\u001b[0;31m         \u001b[0mresult\u001b[0m \u001b[0;34m=\u001b[0m \u001b[0mfunc\u001b[0m\u001b[0;34m(\u001b[0m\u001b[0mleft\u001b[0m\u001b[0;34m,\u001b[0m \u001b[0mright\u001b[0m\u001b[0;34m)\u001b[0m\u001b[0;34m\u001b[0m\u001b[0;34m\u001b[0m\u001b[0m\n\u001b[0m\u001b[1;32m    167\u001b[0m     \u001b[0;32mexcept\u001b[0m \u001b[0mTypeError\u001b[0m\u001b[0;34m:\u001b[0m\u001b[0;34m\u001b[0m\u001b[0;34m\u001b[0m\u001b[0m\n\u001b[1;32m    168\u001b[0m         \u001b[0;32mif\u001b[0m \u001b[0mis_object_dtype\u001b[0m\u001b[0;34m(\u001b[0m\u001b[0mleft\u001b[0m\u001b[0;34m)\u001b[0m \u001b[0;32mor\u001b[0m \u001b[0mis_object_dtype\u001b[0m\u001b[0;34m(\u001b[0m\u001b[0mright\u001b[0m\u001b[0;34m)\u001b[0m \u001b[0;32mand\u001b[0m \u001b[0;32mnot\u001b[0m \u001b[0mis_cmp\u001b[0m\u001b[0;34m:\u001b[0m\u001b[0;34m\u001b[0m\u001b[0;34m\u001b[0m\u001b[0m\n",
      "\u001b[0;32m~/.pyenv/versions/3.8.12/envs/lewagon/lib/python3.8/site-packages/pandas/core/computation/expressions.py\u001b[0m in \u001b[0;36mevaluate\u001b[0;34m(op, a, b, use_numexpr)\u001b[0m\n\u001b[1;32m    237\u001b[0m         \u001b[0;32mif\u001b[0m \u001b[0muse_numexpr\u001b[0m\u001b[0;34m:\u001b[0m\u001b[0;34m\u001b[0m\u001b[0;34m\u001b[0m\u001b[0m\n\u001b[1;32m    238\u001b[0m             \u001b[0;31m# error: \"None\" not callable\u001b[0m\u001b[0;34m\u001b[0m\u001b[0;34m\u001b[0m\u001b[0;34m\u001b[0m\u001b[0m\n\u001b[0;32m--> 239\u001b[0;31m             \u001b[0;32mreturn\u001b[0m \u001b[0m_evaluate\u001b[0m\u001b[0;34m(\u001b[0m\u001b[0mop\u001b[0m\u001b[0;34m,\u001b[0m \u001b[0mop_str\u001b[0m\u001b[0;34m,\u001b[0m \u001b[0ma\u001b[0m\u001b[0;34m,\u001b[0m \u001b[0mb\u001b[0m\u001b[0;34m)\u001b[0m  \u001b[0;31m# type: ignore[misc]\u001b[0m\u001b[0;34m\u001b[0m\u001b[0;34m\u001b[0m\u001b[0m\n\u001b[0m\u001b[1;32m    240\u001b[0m     \u001b[0;32mreturn\u001b[0m \u001b[0m_evaluate_standard\u001b[0m\u001b[0;34m(\u001b[0m\u001b[0mop\u001b[0m\u001b[0;34m,\u001b[0m \u001b[0mop_str\u001b[0m\u001b[0;34m,\u001b[0m \u001b[0ma\u001b[0m\u001b[0;34m,\u001b[0m \u001b[0mb\u001b[0m\u001b[0;34m)\u001b[0m\u001b[0;34m\u001b[0m\u001b[0;34m\u001b[0m\u001b[0m\n\u001b[1;32m    241\u001b[0m \u001b[0;34m\u001b[0m\u001b[0m\n",
      "\u001b[0;32m~/.pyenv/versions/3.8.12/envs/lewagon/lib/python3.8/site-packages/pandas/core/computation/expressions.py\u001b[0m in \u001b[0;36m_evaluate_standard\u001b[0;34m(op, op_str, a, b)\u001b[0m\n\u001b[1;32m     67\u001b[0m     \u001b[0;32mif\u001b[0m \u001b[0m_TEST_MODE\u001b[0m\u001b[0;34m:\u001b[0m\u001b[0;34m\u001b[0m\u001b[0;34m\u001b[0m\u001b[0m\n\u001b[1;32m     68\u001b[0m         \u001b[0m_store_test_result\u001b[0m\u001b[0;34m(\u001b[0m\u001b[0;32mFalse\u001b[0m\u001b[0;34m)\u001b[0m\u001b[0;34m\u001b[0m\u001b[0;34m\u001b[0m\u001b[0m\n\u001b[0;32m---> 69\u001b[0;31m     \u001b[0;32mreturn\u001b[0m \u001b[0mop\u001b[0m\u001b[0;34m(\u001b[0m\u001b[0ma\u001b[0m\u001b[0;34m,\u001b[0m \u001b[0mb\u001b[0m\u001b[0;34m)\u001b[0m\u001b[0;34m\u001b[0m\u001b[0;34m\u001b[0m\u001b[0m\n\u001b[0m\u001b[1;32m     70\u001b[0m \u001b[0;34m\u001b[0m\u001b[0m\n\u001b[1;32m     71\u001b[0m \u001b[0;34m\u001b[0m\u001b[0m\n",
      "\u001b[0;32m~/.pyenv/versions/3.8.12/envs/lewagon/lib/python3.8/site-packages/pandas/core/roperator.py\u001b[0m in \u001b[0;36mrmul\u001b[0;34m(left, right)\u001b[0m\n\u001b[1;32m     15\u001b[0m \u001b[0;34m\u001b[0m\u001b[0m\n\u001b[1;32m     16\u001b[0m \u001b[0;32mdef\u001b[0m \u001b[0mrmul\u001b[0m\u001b[0;34m(\u001b[0m\u001b[0mleft\u001b[0m\u001b[0;34m,\u001b[0m \u001b[0mright\u001b[0m\u001b[0;34m)\u001b[0m\u001b[0;34m:\u001b[0m\u001b[0;34m\u001b[0m\u001b[0;34m\u001b[0m\u001b[0m\n\u001b[0;32m---> 17\u001b[0;31m     \u001b[0;32mreturn\u001b[0m \u001b[0mright\u001b[0m \u001b[0;34m*\u001b[0m \u001b[0mleft\u001b[0m\u001b[0;34m\u001b[0m\u001b[0;34m\u001b[0m\u001b[0m\n\u001b[0m\u001b[1;32m     18\u001b[0m \u001b[0;34m\u001b[0m\u001b[0m\n\u001b[1;32m     19\u001b[0m \u001b[0;34m\u001b[0m\u001b[0m\n",
      "\u001b[0;31mValueError\u001b[0m: operands could not be broadcast together with shapes (208,) (2081,) "
     ]
    }
   ],
   "source": [
    "forecast_recons = np.exp(forecast) * result_mul.seasonal#[1900:]\n",
    "train_recons = np.exp(train) * result_mul.seasonal#[0:1900]\n",
    "test_recons = np.exp(test) * result_mul.seasonal#[1900:]\n",
    "lower_recons = np.exp(confidence_int)[:, 0] * result_mul.seasonal#[1900:]\n",
    "upper_recons = np.exp(confidence_int)[:, 1] * result_mul.seasonal#[1900:]\n",
    "\n",
    "# Plot\n",
    "plot_forecast(forecast_recons, train_recons, test_recons, lower_recons.values, upper_recons.values)"
   ]
  },
  {
   "cell_type": "code",
   "execution_count": null,
   "id": "919362c6",
   "metadata": {},
   "outputs": [],
   "source": [
    "residuals = pd.DataFrame(arima.resid)\n",
    "\n",
    "fig, ax = plt.subplots(1,2, figsize=(16,3))\n",
    "residuals.plot(title=\"Residuals\", ax=ax[0])\n",
    "residuals.plot(kind='kde', title='Density', ax=ax[1]);"
   ]
  },
  {
   "cell_type": "markdown",
   "id": "8d480b8e",
   "metadata": {},
   "source": [
    "# SARIMA"
   ]
  },
  {
   "cell_type": "code",
   "execution_count": null,
   "id": "fd8322ca",
   "metadata": {},
   "outputs": [],
   "source": [
    "data.head()"
   ]
  },
  {
   "cell_type": "code",
   "execution_count": null,
   "id": "47175e8c",
   "metadata": {},
   "outputs": [],
   "source": [
    "fig, axs = plt.subplots(2, 2, figsize=(18,8))\n",
    "# keeping just log transform to stay ~ linear\n",
    "data['log'] = np.log(data.Close)\n",
    "\n",
    "# linearized series\n",
    "axs[0,0].plot(data.log); axs[0,0].set_title('linearized Series')\n",
    "\n",
    "# Normal differencing\n",
    "axs[0,1].plot(data.log.diff(1)); axs[0,1].set_title('1st Order Differencing')\n",
    "\n",
    "# Seasonal differencing\n",
    "axs[1,0].plot(data.log.diff(12))\n",
    "axs[1,0].set_title('Seasonal differencing of period 12')\n",
    "\n",
    "# Sesonal + Normal differencing\n",
    "axs[1,1].plot(data.log.diff(12).diff(1))\n",
    "axs[1,1].set_title('First order diff of seasonal differencing 12');"
   ]
  },
  {
   "cell_type": "markdown",
   "id": "8777e52e",
   "metadata": {},
   "source": [
    "## Split Train/Test"
   ]
  },
  {
   "cell_type": "code",
   "execution_count": null,
   "id": "c8fce513",
   "metadata": {},
   "outputs": [],
   "source": [
    "train = data.log[0:1900]\n",
    "test = data.log[1900:]"
   ]
  },
  {
   "cell_type": "markdown",
   "id": "87383625",
   "metadata": {},
   "source": [
    "## Grid search"
   ]
  },
  {
   "cell_type": "code",
   "execution_count": null,
   "id": "c4e8ddca",
   "metadata": {},
   "outputs": [],
   "source": [
    "smodel = pm.auto_arima(train, seasonal=True, m=12, \n",
    "                       start_p=0, max_p=1, max_d=1, start_q=0, max_q=1,\n",
    "                       start_P=0, max_P=2, max_D=1, start_Q=0, max_Q=2, \n",
    "                       trace=True, error_action='ignore', suppress_warnings=True)"
   ]
  },
  {
   "cell_type": "markdown",
   "id": "94a61b30",
   "metadata": {},
   "source": [
    "## Model"
   ]
  },
  {
   "cell_type": "code",
   "execution_count": null,
   "id": "610ab542",
   "metadata": {},
   "outputs": [],
   "source": [
    "from statsmodels.tsa.statespace.sarimax import SARIMAX\n",
    "\n",
    "sarima = SARIMAX(train, order=(0,1,0), seasonal_order=(0,0,0,12))\n",
    "sarima = sarima.fit()\n",
    "\n",
    "results = sarima.get_forecast(len(test), alpha=0.05)\n",
    "forecast = results.predicted_mean\n",
    "confidence_int = results.conf_int()"
   ]
  },
  {
   "cell_type": "code",
   "execution_count": null,
   "id": "03af0d80",
   "metadata": {},
   "outputs": [],
   "source": [
    "forecast_recons = pd.Series(np.exp(forecast), index=test.index)\n",
    "lower_recons = np.exp(confidence_int['lower log']).values\n",
    "upper_recons = np.exp(confidence_int['upper log']).values\n",
    "\n",
    "plot_forecast(forecast_recons, np.exp(train), np.exp(test), upper = upper_recons, lower=lower_recons)"
   ]
  },
  {
   "cell_type": "code",
   "execution_count": null,
   "id": "66456dd5",
   "metadata": {},
   "outputs": [],
   "source": [
    "sarima.summary()"
   ]
  },
  {
   "cell_type": "markdown",
   "id": "0f6c2f2d",
   "metadata": {},
   "source": [
    "# Train"
   ]
  },
  {
   "cell_type": "code",
   "execution_count": 64,
   "id": "343f69d5",
   "metadata": {},
   "outputs": [],
   "source": [
    "import requests\n",
    "\n",
    "response = requests.get('https://www.comitedesgaleriesdart.com/galeries/')"
   ]
  },
  {
   "cell_type": "code",
   "execution_count": 65,
   "id": "7c456bd8",
   "metadata": {},
   "outputs": [
    {
     "data": {
      "text/plain": [
       "<Response [200]>"
      ]
     },
     "execution_count": 65,
     "metadata": {},
     "output_type": "execute_result"
    }
   ],
   "source": [
    "response"
   ]
  },
  {
   "cell_type": "code",
   "execution_count": null,
   "id": "7fdfec57",
   "metadata": {},
   "outputs": [],
   "source": []
  }
 ],
 "metadata": {
  "kernelspec": {
   "display_name": "Python 3 (ipykernel)",
   "language": "python",
   "name": "python3"
  },
  "language_info": {
   "codemirror_mode": {
    "name": "ipython",
    "version": 3
   },
   "file_extension": ".py",
   "mimetype": "text/x-python",
   "name": "python",
   "nbconvert_exporter": "python",
   "pygments_lexer": "ipython3",
   "version": "3.8.12"
  },
  "toc": {
   "base_numbering": 1,
   "nav_menu": {},
   "number_sections": true,
   "sideBar": true,
   "skip_h1_title": false,
   "title_cell": "Table of Contents",
   "title_sidebar": "Contents",
   "toc_cell": false,
   "toc_position": {},
   "toc_section_display": true,
   "toc_window_display": true
  }
 },
 "nbformat": 4,
 "nbformat_minor": 5
}
