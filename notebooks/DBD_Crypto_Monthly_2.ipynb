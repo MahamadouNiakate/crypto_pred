{
  "nbformat": 4,
  "nbformat_minor": 0,
  "metadata": {
    "colab": {
      "provenance": [],
      "collapsed_sections": [],
      "toc_visible": true
    },
    "kernelspec": {
      "name": "python3",
      "display_name": "Python 3"
    },
    "language_info": {
      "name": "python"
    }
  },
  "cells": [
    {
      "cell_type": "markdown",
      "source": [
        "# Setup & Data Import"
      ],
      "metadata": {
        "id": "AgSC2NPZO62D"
      }
    },
    {
      "cell_type": "code",
      "execution_count": 177,
      "metadata": {
        "id": "nQrfHH_CMYYv",
        "colab": {
          "base_uri": "https://localhost:8080/",
          "height": 17
        },
        "outputId": "b9c0aeec-64e9-4542-a5aa-888ead77ff82"
      },
      "outputs": [
        {
          "output_type": "display_data",
          "data": {
            "text/plain": [
              "<IPython.core.display.HTML object>"
            ],
            "text/html": [
              "\n",
              "            <script src=\"/static/components/requirejs/require.js\"></script>\n",
              "            <script>\n",
              "              requirejs.config({\n",
              "                paths: {\n",
              "                  base: '/static/base',\n",
              "                  plotly: 'https://cdn.plot.ly/plotly-latest.min.js?noext',\n",
              "                },\n",
              "              });\n",
              "            </script>\n",
              "            "
            ]
          },
          "metadata": {}
        },
        {
          "output_type": "display_data",
          "data": {
            "text/plain": [
              "<IPython.core.display.HTML object>"
            ],
            "text/html": [
              "\n",
              "            <script src=\"/static/components/requirejs/require.js\"></script>\n",
              "            <script>\n",
              "              requirejs.config({\n",
              "                paths: {\n",
              "                  base: '/static/base',\n",
              "                  plotly: 'https://cdn.plot.ly/plotly-latest.min.js?noext',\n",
              "                },\n",
              "              });\n",
              "            </script>\n",
              "            "
            ]
          },
          "metadata": {}
        },
        {
          "output_type": "display_data",
          "data": {
            "text/plain": [
              "<IPython.core.display.HTML object>"
            ],
            "text/html": [
              "\n",
              "            <script src=\"/static/components/requirejs/require.js\"></script>\n",
              "            <script>\n",
              "              requirejs.config({\n",
              "                paths: {\n",
              "                  base: '/static/base',\n",
              "                  plotly: 'https://cdn.plot.ly/plotly-latest.min.js?noext',\n",
              "                },\n",
              "              });\n",
              "            </script>\n",
              "            "
            ]
          },
          "metadata": {}
        }
      ],
      "source": [
        "# !pip install yfinance\n",
        "\n",
        "# !pip install pycaret\n",
        "# !pip install markupsafe==2.0.1\n",
        "# !pip install Jinja2"
      ]
    },
    {
      "cell_type": "code",
      "source": [
        "import pandas as pd\n",
        "import yfinance as yf\n",
        "from statsmodels.tsa.stattools import adfuller\n",
        "from statsmodels.tsa.seasonal import seasonal_decompose\n",
        "from sklearn.preprocessing import StandardScaler, MinMaxScaler\n",
        "from sklearn.linear_model import LinearRegression\n",
        "\n",
        "import statsmodels.api as sm\n",
        "import matplotlib.pyplot as plt\n",
        "import seaborn as sns"
      ],
      "metadata": {
        "id": "lolRvhLmMnD0",
        "colab": {
          "base_uri": "https://localhost:8080/",
          "height": 17
        },
        "outputId": "ffc4bbd4-c2f8-4414-d600-fdc3f7cbc4ac"
      },
      "execution_count": 178,
      "outputs": [
        {
          "output_type": "display_data",
          "data": {
            "text/plain": [
              "<IPython.core.display.HTML object>"
            ],
            "text/html": [
              "\n",
              "            <script src=\"/static/components/requirejs/require.js\"></script>\n",
              "            <script>\n",
              "              requirejs.config({\n",
              "                paths: {\n",
              "                  base: '/static/base',\n",
              "                  plotly: 'https://cdn.plot.ly/plotly-latest.min.js?noext',\n",
              "                },\n",
              "              });\n",
              "            </script>\n",
              "            "
            ]
          },
          "metadata": {}
        },
        {
          "output_type": "display_data",
          "data": {
            "text/plain": [
              "<IPython.core.display.HTML object>"
            ],
            "text/html": [
              "\n",
              "            <script src=\"/static/components/requirejs/require.js\"></script>\n",
              "            <script>\n",
              "              requirejs.config({\n",
              "                paths: {\n",
              "                  base: '/static/base',\n",
              "                  plotly: 'https://cdn.plot.ly/plotly-latest.min.js?noext',\n",
              "                },\n",
              "              });\n",
              "            </script>\n",
              "            "
            ]
          },
          "metadata": {}
        },
        {
          "output_type": "display_data",
          "data": {
            "text/plain": [
              "<IPython.core.display.HTML object>"
            ],
            "text/html": [
              "\n",
              "            <script src=\"/static/components/requirejs/require.js\"></script>\n",
              "            <script>\n",
              "              requirejs.config({\n",
              "                paths: {\n",
              "                  base: '/static/base',\n",
              "                  plotly: 'https://cdn.plot.ly/plotly-latest.min.js?noext',\n",
              "                },\n",
              "              });\n",
              "            </script>\n",
              "            "
            ]
          },
          "metadata": {}
        }
      ]
    },
    {
      "cell_type": "code",
      "source": [
        "btc_ticker = yf.Ticker('BTC-USD')\n",
        "btc = btc_ticker.history(period=\"max\")\n",
        "btc = btc.drop(columns=['Dividends', 'Stock Splits'])"
      ],
      "metadata": {
        "id": "QkE2QK_5Mnhq",
        "colab": {
          "base_uri": "https://localhost:8080/",
          "height": 17
        },
        "outputId": "17fd9f53-7664-441f-ecdf-4dc84a83aaaf"
      },
      "execution_count": 179,
      "outputs": [
        {
          "output_type": "display_data",
          "data": {
            "text/plain": [
              "<IPython.core.display.HTML object>"
            ],
            "text/html": [
              "\n",
              "            <script src=\"/static/components/requirejs/require.js\"></script>\n",
              "            <script>\n",
              "              requirejs.config({\n",
              "                paths: {\n",
              "                  base: '/static/base',\n",
              "                  plotly: 'https://cdn.plot.ly/plotly-latest.min.js?noext',\n",
              "                },\n",
              "              });\n",
              "            </script>\n",
              "            "
            ]
          },
          "metadata": {}
        },
        {
          "output_type": "display_data",
          "data": {
            "text/plain": [
              "<IPython.core.display.HTML object>"
            ],
            "text/html": [
              "\n",
              "            <script src=\"/static/components/requirejs/require.js\"></script>\n",
              "            <script>\n",
              "              requirejs.config({\n",
              "                paths: {\n",
              "                  base: '/static/base',\n",
              "                  plotly: 'https://cdn.plot.ly/plotly-latest.min.js?noext',\n",
              "                },\n",
              "              });\n",
              "            </script>\n",
              "            "
            ]
          },
          "metadata": {}
        },
        {
          "output_type": "display_data",
          "data": {
            "text/plain": [
              "<IPython.core.display.HTML object>"
            ],
            "text/html": [
              "\n",
              "            <script src=\"/static/components/requirejs/require.js\"></script>\n",
              "            <script>\n",
              "              requirejs.config({\n",
              "                paths: {\n",
              "                  base: '/static/base',\n",
              "                  plotly: 'https://cdn.plot.ly/plotly-latest.min.js?noext',\n",
              "                },\n",
              "              });\n",
              "            </script>\n",
              "            "
            ]
          },
          "metadata": {}
        }
      ]
    },
    {
      "cell_type": "code",
      "source": [
        "btc.tail()"
      ],
      "metadata": {
        "colab": {
          "base_uri": "https://localhost:8080/",
          "height": 237
        },
        "id": "PyqagOedMpqC",
        "outputId": "adc7c325-e7d4-4a3e-fbaf-a62ea84883d9"
      },
      "execution_count": 180,
      "outputs": [
        {
          "output_type": "display_data",
          "data": {
            "text/plain": [
              "<IPython.core.display.HTML object>"
            ],
            "text/html": [
              "\n",
              "            <script src=\"/static/components/requirejs/require.js\"></script>\n",
              "            <script>\n",
              "              requirejs.config({\n",
              "                paths: {\n",
              "                  base: '/static/base',\n",
              "                  plotly: 'https://cdn.plot.ly/plotly-latest.min.js?noext',\n",
              "                },\n",
              "              });\n",
              "            </script>\n",
              "            "
            ]
          },
          "metadata": {}
        },
        {
          "output_type": "display_data",
          "data": {
            "text/plain": [
              "<IPython.core.display.HTML object>"
            ],
            "text/html": [
              "\n",
              "            <script src=\"/static/components/requirejs/require.js\"></script>\n",
              "            <script>\n",
              "              requirejs.config({\n",
              "                paths: {\n",
              "                  base: '/static/base',\n",
              "                  plotly: 'https://cdn.plot.ly/plotly-latest.min.js?noext',\n",
              "                },\n",
              "              });\n",
              "            </script>\n",
              "            "
            ]
          },
          "metadata": {}
        },
        {
          "output_type": "display_data",
          "data": {
            "text/plain": [
              "<IPython.core.display.HTML object>"
            ],
            "text/html": [
              "\n",
              "            <script src=\"/static/components/requirejs/require.js\"></script>\n",
              "            <script>\n",
              "              requirejs.config({\n",
              "                paths: {\n",
              "                  base: '/static/base',\n",
              "                  plotly: 'https://cdn.plot.ly/plotly-latest.min.js?noext',\n",
              "                },\n",
              "              });\n",
              "            </script>\n",
              "            "
            ]
          },
          "metadata": {}
        },
        {
          "output_type": "execute_result",
          "data": {
            "text/plain": [
              "                    Open          High           Low         Close  \\\n",
              "Date                                                                 \n",
              "2022-08-28  20041.035156  20139.054688  19616.814453  19616.814453   \n",
              "2022-08-29  19615.154297  20357.462891  19600.785156  20297.994141   \n",
              "2022-08-30  20298.611328  20542.644531  19617.640625  19796.808594   \n",
              "2022-08-31  19799.582031  20420.990234  19799.582031  20049.763672   \n",
              "2022-09-01  20068.558594  20192.179688  19935.248047  19936.281250   \n",
              "\n",
              "                 Volume  \n",
              "Date                     \n",
              "2022-08-28  24366810591  \n",
              "2022-08-29  32637854078  \n",
              "2022-08-30  34483360283  \n",
              "2022-08-31  33225232872  \n",
              "2022-09-01  31269920768  "
            ],
            "text/html": [
              "\n",
              "  <div id=\"df-e7136ad9-4242-4329-b331-ba75002ca011\">\n",
              "    <div class=\"colab-df-container\">\n",
              "      <div>\n",
              "<style scoped>\n",
              "    .dataframe tbody tr th:only-of-type {\n",
              "        vertical-align: middle;\n",
              "    }\n",
              "\n",
              "    .dataframe tbody tr th {\n",
              "        vertical-align: top;\n",
              "    }\n",
              "\n",
              "    .dataframe thead th {\n",
              "        text-align: right;\n",
              "    }\n",
              "</style>\n",
              "<table border=\"1\" class=\"dataframe\">\n",
              "  <thead>\n",
              "    <tr style=\"text-align: right;\">\n",
              "      <th></th>\n",
              "      <th>Open</th>\n",
              "      <th>High</th>\n",
              "      <th>Low</th>\n",
              "      <th>Close</th>\n",
              "      <th>Volume</th>\n",
              "    </tr>\n",
              "    <tr>\n",
              "      <th>Date</th>\n",
              "      <th></th>\n",
              "      <th></th>\n",
              "      <th></th>\n",
              "      <th></th>\n",
              "      <th></th>\n",
              "    </tr>\n",
              "  </thead>\n",
              "  <tbody>\n",
              "    <tr>\n",
              "      <th>2022-08-28</th>\n",
              "      <td>20041.035156</td>\n",
              "      <td>20139.054688</td>\n",
              "      <td>19616.814453</td>\n",
              "      <td>19616.814453</td>\n",
              "      <td>24366810591</td>\n",
              "    </tr>\n",
              "    <tr>\n",
              "      <th>2022-08-29</th>\n",
              "      <td>19615.154297</td>\n",
              "      <td>20357.462891</td>\n",
              "      <td>19600.785156</td>\n",
              "      <td>20297.994141</td>\n",
              "      <td>32637854078</td>\n",
              "    </tr>\n",
              "    <tr>\n",
              "      <th>2022-08-30</th>\n",
              "      <td>20298.611328</td>\n",
              "      <td>20542.644531</td>\n",
              "      <td>19617.640625</td>\n",
              "      <td>19796.808594</td>\n",
              "      <td>34483360283</td>\n",
              "    </tr>\n",
              "    <tr>\n",
              "      <th>2022-08-31</th>\n",
              "      <td>19799.582031</td>\n",
              "      <td>20420.990234</td>\n",
              "      <td>19799.582031</td>\n",
              "      <td>20049.763672</td>\n",
              "      <td>33225232872</td>\n",
              "    </tr>\n",
              "    <tr>\n",
              "      <th>2022-09-01</th>\n",
              "      <td>20068.558594</td>\n",
              "      <td>20192.179688</td>\n",
              "      <td>19935.248047</td>\n",
              "      <td>19936.281250</td>\n",
              "      <td>31269920768</td>\n",
              "    </tr>\n",
              "  </tbody>\n",
              "</table>\n",
              "</div>\n",
              "      <button class=\"colab-df-convert\" onclick=\"convertToInteractive('df-e7136ad9-4242-4329-b331-ba75002ca011')\"\n",
              "              title=\"Convert this dataframe to an interactive table.\"\n",
              "              style=\"display:none;\">\n",
              "        \n",
              "  <svg xmlns=\"http://www.w3.org/2000/svg\" height=\"24px\"viewBox=\"0 0 24 24\"\n",
              "       width=\"24px\">\n",
              "    <path d=\"M0 0h24v24H0V0z\" fill=\"none\"/>\n",
              "    <path d=\"M18.56 5.44l.94 2.06.94-2.06 2.06-.94-2.06-.94-.94-2.06-.94 2.06-2.06.94zm-11 1L8.5 8.5l.94-2.06 2.06-.94-2.06-.94L8.5 2.5l-.94 2.06-2.06.94zm10 10l.94 2.06.94-2.06 2.06-.94-2.06-.94-.94-2.06-.94 2.06-2.06.94z\"/><path d=\"M17.41 7.96l-1.37-1.37c-.4-.4-.92-.59-1.43-.59-.52 0-1.04.2-1.43.59L10.3 9.45l-7.72 7.72c-.78.78-.78 2.05 0 2.83L4 21.41c.39.39.9.59 1.41.59.51 0 1.02-.2 1.41-.59l7.78-7.78 2.81-2.81c.8-.78.8-2.07 0-2.86zM5.41 20L4 18.59l7.72-7.72 1.47 1.35L5.41 20z\"/>\n",
              "  </svg>\n",
              "      </button>\n",
              "      \n",
              "  <style>\n",
              "    .colab-df-container {\n",
              "      display:flex;\n",
              "      flex-wrap:wrap;\n",
              "      gap: 12px;\n",
              "    }\n",
              "\n",
              "    .colab-df-convert {\n",
              "      background-color: #E8F0FE;\n",
              "      border: none;\n",
              "      border-radius: 50%;\n",
              "      cursor: pointer;\n",
              "      display: none;\n",
              "      fill: #1967D2;\n",
              "      height: 32px;\n",
              "      padding: 0 0 0 0;\n",
              "      width: 32px;\n",
              "    }\n",
              "\n",
              "    .colab-df-convert:hover {\n",
              "      background-color: #E2EBFA;\n",
              "      box-shadow: 0px 1px 2px rgba(60, 64, 67, 0.3), 0px 1px 3px 1px rgba(60, 64, 67, 0.15);\n",
              "      fill: #174EA6;\n",
              "    }\n",
              "\n",
              "    [theme=dark] .colab-df-convert {\n",
              "      background-color: #3B4455;\n",
              "      fill: #D2E3FC;\n",
              "    }\n",
              "\n",
              "    [theme=dark] .colab-df-convert:hover {\n",
              "      background-color: #434B5C;\n",
              "      box-shadow: 0px 1px 3px 1px rgba(0, 0, 0, 0.15);\n",
              "      filter: drop-shadow(0px 1px 2px rgba(0, 0, 0, 0.3));\n",
              "      fill: #FFFFFF;\n",
              "    }\n",
              "  </style>\n",
              "\n",
              "      <script>\n",
              "        const buttonEl =\n",
              "          document.querySelector('#df-e7136ad9-4242-4329-b331-ba75002ca011 button.colab-df-convert');\n",
              "        buttonEl.style.display =\n",
              "          google.colab.kernel.accessAllowed ? 'block' : 'none';\n",
              "\n",
              "        async function convertToInteractive(key) {\n",
              "          const element = document.querySelector('#df-e7136ad9-4242-4329-b331-ba75002ca011');\n",
              "          const dataTable =\n",
              "            await google.colab.kernel.invokeFunction('convertToInteractive',\n",
              "                                                     [key], {});\n",
              "          if (!dataTable) return;\n",
              "\n",
              "          const docLinkHtml = 'Like what you see? Visit the ' +\n",
              "            '<a target=\"_blank\" href=https://colab.research.google.com/notebooks/data_table.ipynb>data table notebook</a>'\n",
              "            + ' to learn more about interactive tables.';\n",
              "          element.innerHTML = '';\n",
              "          dataTable['output_type'] = 'display_data';\n",
              "          await google.colab.output.renderOutput(dataTable, element);\n",
              "          const docLink = document.createElement('div');\n",
              "          docLink.innerHTML = docLinkHtml;\n",
              "          element.appendChild(docLink);\n",
              "        }\n",
              "      </script>\n",
              "    </div>\n",
              "  </div>\n",
              "  "
            ]
          },
          "metadata": {},
          "execution_count": 180
        }
      ]
    },
    {
      "cell_type": "markdown",
      "source": [
        "# Data Preparation"
      ],
      "metadata": {
        "id": "_tX91w_bPEI_"
      }
    },
    {
      "cell_type": "code",
      "source": [
        "monthly_close = btc.groupby(btc.index.month)['Close'].tail(1)"
      ],
      "metadata": {
        "id": "veKMErG-5Bea",
        "colab": {
          "base_uri": "https://localhost:8080/",
          "height": 17
        },
        "outputId": "9c15e46d-a38d-4922-8d71-2623be0f66b5"
      },
      "execution_count": 181,
      "outputs": [
        {
          "output_type": "display_data",
          "data": {
            "text/plain": [
              "<IPython.core.display.HTML object>"
            ],
            "text/html": [
              "\n",
              "            <script src=\"/static/components/requirejs/require.js\"></script>\n",
              "            <script>\n",
              "              requirejs.config({\n",
              "                paths: {\n",
              "                  base: '/static/base',\n",
              "                  plotly: 'https://cdn.plot.ly/plotly-latest.min.js?noext',\n",
              "                },\n",
              "              });\n",
              "            </script>\n",
              "            "
            ]
          },
          "metadata": {}
        },
        {
          "output_type": "display_data",
          "data": {
            "text/plain": [
              "<IPython.core.display.HTML object>"
            ],
            "text/html": [
              "\n",
              "            <script src=\"/static/components/requirejs/require.js\"></script>\n",
              "            <script>\n",
              "              requirejs.config({\n",
              "                paths: {\n",
              "                  base: '/static/base',\n",
              "                  plotly: 'https://cdn.plot.ly/plotly-latest.min.js?noext',\n",
              "                },\n",
              "              });\n",
              "            </script>\n",
              "            "
            ]
          },
          "metadata": {}
        },
        {
          "output_type": "display_data",
          "data": {
            "text/plain": [
              "<IPython.core.display.HTML object>"
            ],
            "text/html": [
              "\n",
              "            <script src=\"/static/components/requirejs/require.js\"></script>\n",
              "            <script>\n",
              "              requirejs.config({\n",
              "                paths: {\n",
              "                  base: '/static/base',\n",
              "                  plotly: 'https://cdn.plot.ly/plotly-latest.min.js?noext',\n",
              "                },\n",
              "              });\n",
              "            </script>\n",
              "            "
            ]
          },
          "metadata": {}
        }
      ]
    },
    {
      "cell_type": "code",
      "source": [
        "# btc.resample('M', origin='end').mean().tail(10)"
      ],
      "metadata": {
        "id": "fpImqY4a5TFq",
        "colab": {
          "base_uri": "https://localhost:8080/",
          "height": 17
        },
        "outputId": "01c3579e-4247-48e6-f508-78cc0c9df654"
      },
      "execution_count": 182,
      "outputs": [
        {
          "output_type": "display_data",
          "data": {
            "text/plain": [
              "<IPython.core.display.HTML object>"
            ],
            "text/html": [
              "\n",
              "            <script src=\"/static/components/requirejs/require.js\"></script>\n",
              "            <script>\n",
              "              requirejs.config({\n",
              "                paths: {\n",
              "                  base: '/static/base',\n",
              "                  plotly: 'https://cdn.plot.ly/plotly-latest.min.js?noext',\n",
              "                },\n",
              "              });\n",
              "            </script>\n",
              "            "
            ]
          },
          "metadata": {}
        },
        {
          "output_type": "display_data",
          "data": {
            "text/plain": [
              "<IPython.core.display.HTML object>"
            ],
            "text/html": [
              "\n",
              "            <script src=\"/static/components/requirejs/require.js\"></script>\n",
              "            <script>\n",
              "              requirejs.config({\n",
              "                paths: {\n",
              "                  base: '/static/base',\n",
              "                  plotly: 'https://cdn.plot.ly/plotly-latest.min.js?noext',\n",
              "                },\n",
              "              });\n",
              "            </script>\n",
              "            "
            ]
          },
          "metadata": {}
        },
        {
          "output_type": "display_data",
          "data": {
            "text/plain": [
              "<IPython.core.display.HTML object>"
            ],
            "text/html": [
              "\n",
              "            <script src=\"/static/components/requirejs/require.js\"></script>\n",
              "            <script>\n",
              "              requirejs.config({\n",
              "                paths: {\n",
              "                  base: '/static/base',\n",
              "                  plotly: 'https://cdn.plot.ly/plotly-latest.min.js?noext',\n",
              "                },\n",
              "              });\n",
              "            </script>\n",
              "            "
            ]
          },
          "metadata": {}
        }
      ]
    },
    {
      "cell_type": "code",
      "source": [
        "month_close_df = btc.copy()[btc.index.is_month_end]\n",
        "month_close_df.drop(columns=['Open', 'High', 'Low', 'Volume'], inplace=True)\n",
        "\n",
        "month_close_df.rename(columns={'Close':'month_close'}, inplace=True)\n",
        "\n",
        "\n",
        "month_close_df"
      ],
      "metadata": {
        "colab": {
          "base_uri": "https://localhost:8080/",
          "height": 455
        },
        "id": "tJuM7Rk55TJv",
        "outputId": "433002a6-7d97-4f9d-9180-e4063c4aee29"
      },
      "execution_count": 183,
      "outputs": [
        {
          "output_type": "display_data",
          "data": {
            "text/plain": [
              "<IPython.core.display.HTML object>"
            ],
            "text/html": [
              "\n",
              "            <script src=\"/static/components/requirejs/require.js\"></script>\n",
              "            <script>\n",
              "              requirejs.config({\n",
              "                paths: {\n",
              "                  base: '/static/base',\n",
              "                  plotly: 'https://cdn.plot.ly/plotly-latest.min.js?noext',\n",
              "                },\n",
              "              });\n",
              "            </script>\n",
              "            "
            ]
          },
          "metadata": {}
        },
        {
          "output_type": "display_data",
          "data": {
            "text/plain": [
              "<IPython.core.display.HTML object>"
            ],
            "text/html": [
              "\n",
              "            <script src=\"/static/components/requirejs/require.js\"></script>\n",
              "            <script>\n",
              "              requirejs.config({\n",
              "                paths: {\n",
              "                  base: '/static/base',\n",
              "                  plotly: 'https://cdn.plot.ly/plotly-latest.min.js?noext',\n",
              "                },\n",
              "              });\n",
              "            </script>\n",
              "            "
            ]
          },
          "metadata": {}
        },
        {
          "output_type": "display_data",
          "data": {
            "text/plain": [
              "<IPython.core.display.HTML object>"
            ],
            "text/html": [
              "\n",
              "            <script src=\"/static/components/requirejs/require.js\"></script>\n",
              "            <script>\n",
              "              requirejs.config({\n",
              "                paths: {\n",
              "                  base: '/static/base',\n",
              "                  plotly: 'https://cdn.plot.ly/plotly-latest.min.js?noext',\n",
              "                },\n",
              "              });\n",
              "            </script>\n",
              "            "
            ]
          },
          "metadata": {}
        },
        {
          "output_type": "execute_result",
          "data": {
            "text/plain": [
              "             month_close\n",
              "Date                    \n",
              "2014-09-30    386.944000\n",
              "2014-10-31    338.321014\n",
              "2014-11-30    378.046997\n",
              "2014-12-31    320.192993\n",
              "2015-01-31    217.464005\n",
              "...                  ...\n",
              "2022-04-30  37714.875000\n",
              "2022-05-31  31792.310547\n",
              "2022-06-30  19784.726562\n",
              "2022-07-31  23336.896484\n",
              "2022-08-31  20049.763672\n",
              "\n",
              "[96 rows x 1 columns]"
            ],
            "text/html": [
              "\n",
              "  <div id=\"df-c5844a39-8b4c-4e96-bc9a-c2c94fe97d96\">\n",
              "    <div class=\"colab-df-container\">\n",
              "      <div>\n",
              "<style scoped>\n",
              "    .dataframe tbody tr th:only-of-type {\n",
              "        vertical-align: middle;\n",
              "    }\n",
              "\n",
              "    .dataframe tbody tr th {\n",
              "        vertical-align: top;\n",
              "    }\n",
              "\n",
              "    .dataframe thead th {\n",
              "        text-align: right;\n",
              "    }\n",
              "</style>\n",
              "<table border=\"1\" class=\"dataframe\">\n",
              "  <thead>\n",
              "    <tr style=\"text-align: right;\">\n",
              "      <th></th>\n",
              "      <th>month_close</th>\n",
              "    </tr>\n",
              "    <tr>\n",
              "      <th>Date</th>\n",
              "      <th></th>\n",
              "    </tr>\n",
              "  </thead>\n",
              "  <tbody>\n",
              "    <tr>\n",
              "      <th>2014-09-30</th>\n",
              "      <td>386.944000</td>\n",
              "    </tr>\n",
              "    <tr>\n",
              "      <th>2014-10-31</th>\n",
              "      <td>338.321014</td>\n",
              "    </tr>\n",
              "    <tr>\n",
              "      <th>2014-11-30</th>\n",
              "      <td>378.046997</td>\n",
              "    </tr>\n",
              "    <tr>\n",
              "      <th>2014-12-31</th>\n",
              "      <td>320.192993</td>\n",
              "    </tr>\n",
              "    <tr>\n",
              "      <th>2015-01-31</th>\n",
              "      <td>217.464005</td>\n",
              "    </tr>\n",
              "    <tr>\n",
              "      <th>...</th>\n",
              "      <td>...</td>\n",
              "    </tr>\n",
              "    <tr>\n",
              "      <th>2022-04-30</th>\n",
              "      <td>37714.875000</td>\n",
              "    </tr>\n",
              "    <tr>\n",
              "      <th>2022-05-31</th>\n",
              "      <td>31792.310547</td>\n",
              "    </tr>\n",
              "    <tr>\n",
              "      <th>2022-06-30</th>\n",
              "      <td>19784.726562</td>\n",
              "    </tr>\n",
              "    <tr>\n",
              "      <th>2022-07-31</th>\n",
              "      <td>23336.896484</td>\n",
              "    </tr>\n",
              "    <tr>\n",
              "      <th>2022-08-31</th>\n",
              "      <td>20049.763672</td>\n",
              "    </tr>\n",
              "  </tbody>\n",
              "</table>\n",
              "<p>96 rows × 1 columns</p>\n",
              "</div>\n",
              "      <button class=\"colab-df-convert\" onclick=\"convertToInteractive('df-c5844a39-8b4c-4e96-bc9a-c2c94fe97d96')\"\n",
              "              title=\"Convert this dataframe to an interactive table.\"\n",
              "              style=\"display:none;\">\n",
              "        \n",
              "  <svg xmlns=\"http://www.w3.org/2000/svg\" height=\"24px\"viewBox=\"0 0 24 24\"\n",
              "       width=\"24px\">\n",
              "    <path d=\"M0 0h24v24H0V0z\" fill=\"none\"/>\n",
              "    <path d=\"M18.56 5.44l.94 2.06.94-2.06 2.06-.94-2.06-.94-.94-2.06-.94 2.06-2.06.94zm-11 1L8.5 8.5l.94-2.06 2.06-.94-2.06-.94L8.5 2.5l-.94 2.06-2.06.94zm10 10l.94 2.06.94-2.06 2.06-.94-2.06-.94-.94-2.06-.94 2.06-2.06.94z\"/><path d=\"M17.41 7.96l-1.37-1.37c-.4-.4-.92-.59-1.43-.59-.52 0-1.04.2-1.43.59L10.3 9.45l-7.72 7.72c-.78.78-.78 2.05 0 2.83L4 21.41c.39.39.9.59 1.41.59.51 0 1.02-.2 1.41-.59l7.78-7.78 2.81-2.81c.8-.78.8-2.07 0-2.86zM5.41 20L4 18.59l7.72-7.72 1.47 1.35L5.41 20z\"/>\n",
              "  </svg>\n",
              "      </button>\n",
              "      \n",
              "  <style>\n",
              "    .colab-df-container {\n",
              "      display:flex;\n",
              "      flex-wrap:wrap;\n",
              "      gap: 12px;\n",
              "    }\n",
              "\n",
              "    .colab-df-convert {\n",
              "      background-color: #E8F0FE;\n",
              "      border: none;\n",
              "      border-radius: 50%;\n",
              "      cursor: pointer;\n",
              "      display: none;\n",
              "      fill: #1967D2;\n",
              "      height: 32px;\n",
              "      padding: 0 0 0 0;\n",
              "      width: 32px;\n",
              "    }\n",
              "\n",
              "    .colab-df-convert:hover {\n",
              "      background-color: #E2EBFA;\n",
              "      box-shadow: 0px 1px 2px rgba(60, 64, 67, 0.3), 0px 1px 3px 1px rgba(60, 64, 67, 0.15);\n",
              "      fill: #174EA6;\n",
              "    }\n",
              "\n",
              "    [theme=dark] .colab-df-convert {\n",
              "      background-color: #3B4455;\n",
              "      fill: #D2E3FC;\n",
              "    }\n",
              "\n",
              "    [theme=dark] .colab-df-convert:hover {\n",
              "      background-color: #434B5C;\n",
              "      box-shadow: 0px 1px 3px 1px rgba(0, 0, 0, 0.15);\n",
              "      filter: drop-shadow(0px 1px 2px rgba(0, 0, 0, 0.3));\n",
              "      fill: #FFFFFF;\n",
              "    }\n",
              "  </style>\n",
              "\n",
              "      <script>\n",
              "        const buttonEl =\n",
              "          document.querySelector('#df-c5844a39-8b4c-4e96-bc9a-c2c94fe97d96 button.colab-df-convert');\n",
              "        buttonEl.style.display =\n",
              "          google.colab.kernel.accessAllowed ? 'block' : 'none';\n",
              "\n",
              "        async function convertToInteractive(key) {\n",
              "          const element = document.querySelector('#df-c5844a39-8b4c-4e96-bc9a-c2c94fe97d96');\n",
              "          const dataTable =\n",
              "            await google.colab.kernel.invokeFunction('convertToInteractive',\n",
              "                                                     [key], {});\n",
              "          if (!dataTable) return;\n",
              "\n",
              "          const docLinkHtml = 'Like what you see? Visit the ' +\n",
              "            '<a target=\"_blank\" href=https://colab.research.google.com/notebooks/data_table.ipynb>data table notebook</a>'\n",
              "            + ' to learn more about interactive tables.';\n",
              "          element.innerHTML = '';\n",
              "          dataTable['output_type'] = 'display_data';\n",
              "          await google.colab.output.renderOutput(dataTable, element);\n",
              "          const docLink = document.createElement('div');\n",
              "          docLink.innerHTML = docLinkHtml;\n",
              "          element.appendChild(docLink);\n",
              "        }\n",
              "      </script>\n",
              "    </div>\n",
              "  </div>\n",
              "  "
            ]
          },
          "metadata": {},
          "execution_count": 183
        }
      ]
    },
    {
      "cell_type": "code",
      "source": [
        "btc_month_mean = btc.resample('M').mean()\n",
        "btc_month_mean.rename(columns={'Open':'month_ave_open', 'High':'month_ave_high', 'Low':'month_ave_low', 'Close':'month_ave_close', 'Volume':'month_ave_volume'}, inplace=True)\n",
        "btc_month_mean.tail()\n"
      ],
      "metadata": {
        "colab": {
          "base_uri": "https://localhost:8080/",
          "height": 237
        },
        "id": "UUs2_wlINDEc",
        "outputId": "33e0e9d4-b095-47a1-d191-f22dbc51e208"
      },
      "execution_count": 184,
      "outputs": [
        {
          "output_type": "display_data",
          "data": {
            "text/plain": [
              "<IPython.core.display.HTML object>"
            ],
            "text/html": [
              "\n",
              "            <script src=\"/static/components/requirejs/require.js\"></script>\n",
              "            <script>\n",
              "              requirejs.config({\n",
              "                paths: {\n",
              "                  base: '/static/base',\n",
              "                  plotly: 'https://cdn.plot.ly/plotly-latest.min.js?noext',\n",
              "                },\n",
              "              });\n",
              "            </script>\n",
              "            "
            ]
          },
          "metadata": {}
        },
        {
          "output_type": "display_data",
          "data": {
            "text/plain": [
              "<IPython.core.display.HTML object>"
            ],
            "text/html": [
              "\n",
              "            <script src=\"/static/components/requirejs/require.js\"></script>\n",
              "            <script>\n",
              "              requirejs.config({\n",
              "                paths: {\n",
              "                  base: '/static/base',\n",
              "                  plotly: 'https://cdn.plot.ly/plotly-latest.min.js?noext',\n",
              "                },\n",
              "              });\n",
              "            </script>\n",
              "            "
            ]
          },
          "metadata": {}
        },
        {
          "output_type": "display_data",
          "data": {
            "text/plain": [
              "<IPython.core.display.HTML object>"
            ],
            "text/html": [
              "\n",
              "            <script src=\"/static/components/requirejs/require.js\"></script>\n",
              "            <script>\n",
              "              requirejs.config({\n",
              "                paths: {\n",
              "                  base: '/static/base',\n",
              "                  plotly: 'https://cdn.plot.ly/plotly-latest.min.js?noext',\n",
              "                },\n",
              "              });\n",
              "            </script>\n",
              "            "
            ]
          },
          "metadata": {}
        },
        {
          "output_type": "execute_result",
          "data": {
            "text/plain": [
              "            month_ave_open  month_ave_high  month_ave_low  month_ave_close  \\\n",
              "Date                                                                         \n",
              "2022-05-31    31900.711127    32629.598349   30905.249244     31706.105217   \n",
              "2022-06-30    24783.338477    25228.663672   23752.240495     24383.685482   \n",
              "2022-07-31    21424.733052    22012.192729   20958.936996     21539.253843   \n",
              "2022-08-31    22471.866557    22870.607863   22075.572203     22366.266318   \n",
              "2022-09-30    20068.558594    20192.179688   19935.248047     19936.281250   \n",
              "\n",
              "            month_ave_volume  \n",
              "Date                          \n",
              "2022-05-31      3.566740e+10  \n",
              "2022-06-30      3.079797e+10  \n",
              "2022-07-31      2.992201e+10  \n",
              "2022-08-31      2.884492e+10  \n",
              "2022-09-30      3.126992e+10  "
            ],
            "text/html": [
              "\n",
              "  <div id=\"df-238a3134-4f9f-48b2-b0f3-84c6999072df\">\n",
              "    <div class=\"colab-df-container\">\n",
              "      <div>\n",
              "<style scoped>\n",
              "    .dataframe tbody tr th:only-of-type {\n",
              "        vertical-align: middle;\n",
              "    }\n",
              "\n",
              "    .dataframe tbody tr th {\n",
              "        vertical-align: top;\n",
              "    }\n",
              "\n",
              "    .dataframe thead th {\n",
              "        text-align: right;\n",
              "    }\n",
              "</style>\n",
              "<table border=\"1\" class=\"dataframe\">\n",
              "  <thead>\n",
              "    <tr style=\"text-align: right;\">\n",
              "      <th></th>\n",
              "      <th>month_ave_open</th>\n",
              "      <th>month_ave_high</th>\n",
              "      <th>month_ave_low</th>\n",
              "      <th>month_ave_close</th>\n",
              "      <th>month_ave_volume</th>\n",
              "    </tr>\n",
              "    <tr>\n",
              "      <th>Date</th>\n",
              "      <th></th>\n",
              "      <th></th>\n",
              "      <th></th>\n",
              "      <th></th>\n",
              "      <th></th>\n",
              "    </tr>\n",
              "  </thead>\n",
              "  <tbody>\n",
              "    <tr>\n",
              "      <th>2022-05-31</th>\n",
              "      <td>31900.711127</td>\n",
              "      <td>32629.598349</td>\n",
              "      <td>30905.249244</td>\n",
              "      <td>31706.105217</td>\n",
              "      <td>3.566740e+10</td>\n",
              "    </tr>\n",
              "    <tr>\n",
              "      <th>2022-06-30</th>\n",
              "      <td>24783.338477</td>\n",
              "      <td>25228.663672</td>\n",
              "      <td>23752.240495</td>\n",
              "      <td>24383.685482</td>\n",
              "      <td>3.079797e+10</td>\n",
              "    </tr>\n",
              "    <tr>\n",
              "      <th>2022-07-31</th>\n",
              "      <td>21424.733052</td>\n",
              "      <td>22012.192729</td>\n",
              "      <td>20958.936996</td>\n",
              "      <td>21539.253843</td>\n",
              "      <td>2.992201e+10</td>\n",
              "    </tr>\n",
              "    <tr>\n",
              "      <th>2022-08-31</th>\n",
              "      <td>22471.866557</td>\n",
              "      <td>22870.607863</td>\n",
              "      <td>22075.572203</td>\n",
              "      <td>22366.266318</td>\n",
              "      <td>2.884492e+10</td>\n",
              "    </tr>\n",
              "    <tr>\n",
              "      <th>2022-09-30</th>\n",
              "      <td>20068.558594</td>\n",
              "      <td>20192.179688</td>\n",
              "      <td>19935.248047</td>\n",
              "      <td>19936.281250</td>\n",
              "      <td>3.126992e+10</td>\n",
              "    </tr>\n",
              "  </tbody>\n",
              "</table>\n",
              "</div>\n",
              "      <button class=\"colab-df-convert\" onclick=\"convertToInteractive('df-238a3134-4f9f-48b2-b0f3-84c6999072df')\"\n",
              "              title=\"Convert this dataframe to an interactive table.\"\n",
              "              style=\"display:none;\">\n",
              "        \n",
              "  <svg xmlns=\"http://www.w3.org/2000/svg\" height=\"24px\"viewBox=\"0 0 24 24\"\n",
              "       width=\"24px\">\n",
              "    <path d=\"M0 0h24v24H0V0z\" fill=\"none\"/>\n",
              "    <path d=\"M18.56 5.44l.94 2.06.94-2.06 2.06-.94-2.06-.94-.94-2.06-.94 2.06-2.06.94zm-11 1L8.5 8.5l.94-2.06 2.06-.94-2.06-.94L8.5 2.5l-.94 2.06-2.06.94zm10 10l.94 2.06.94-2.06 2.06-.94-2.06-.94-.94-2.06-.94 2.06-2.06.94z\"/><path d=\"M17.41 7.96l-1.37-1.37c-.4-.4-.92-.59-1.43-.59-.52 0-1.04.2-1.43.59L10.3 9.45l-7.72 7.72c-.78.78-.78 2.05 0 2.83L4 21.41c.39.39.9.59 1.41.59.51 0 1.02-.2 1.41-.59l7.78-7.78 2.81-2.81c.8-.78.8-2.07 0-2.86zM5.41 20L4 18.59l7.72-7.72 1.47 1.35L5.41 20z\"/>\n",
              "  </svg>\n",
              "      </button>\n",
              "      \n",
              "  <style>\n",
              "    .colab-df-container {\n",
              "      display:flex;\n",
              "      flex-wrap:wrap;\n",
              "      gap: 12px;\n",
              "    }\n",
              "\n",
              "    .colab-df-convert {\n",
              "      background-color: #E8F0FE;\n",
              "      border: none;\n",
              "      border-radius: 50%;\n",
              "      cursor: pointer;\n",
              "      display: none;\n",
              "      fill: #1967D2;\n",
              "      height: 32px;\n",
              "      padding: 0 0 0 0;\n",
              "      width: 32px;\n",
              "    }\n",
              "\n",
              "    .colab-df-convert:hover {\n",
              "      background-color: #E2EBFA;\n",
              "      box-shadow: 0px 1px 2px rgba(60, 64, 67, 0.3), 0px 1px 3px 1px rgba(60, 64, 67, 0.15);\n",
              "      fill: #174EA6;\n",
              "    }\n",
              "\n",
              "    [theme=dark] .colab-df-convert {\n",
              "      background-color: #3B4455;\n",
              "      fill: #D2E3FC;\n",
              "    }\n",
              "\n",
              "    [theme=dark] .colab-df-convert:hover {\n",
              "      background-color: #434B5C;\n",
              "      box-shadow: 0px 1px 3px 1px rgba(0, 0, 0, 0.15);\n",
              "      filter: drop-shadow(0px 1px 2px rgba(0, 0, 0, 0.3));\n",
              "      fill: #FFFFFF;\n",
              "    }\n",
              "  </style>\n",
              "\n",
              "      <script>\n",
              "        const buttonEl =\n",
              "          document.querySelector('#df-238a3134-4f9f-48b2-b0f3-84c6999072df button.colab-df-convert');\n",
              "        buttonEl.style.display =\n",
              "          google.colab.kernel.accessAllowed ? 'block' : 'none';\n",
              "\n",
              "        async function convertToInteractive(key) {\n",
              "          const element = document.querySelector('#df-238a3134-4f9f-48b2-b0f3-84c6999072df');\n",
              "          const dataTable =\n",
              "            await google.colab.kernel.invokeFunction('convertToInteractive',\n",
              "                                                     [key], {});\n",
              "          if (!dataTable) return;\n",
              "\n",
              "          const docLinkHtml = 'Like what you see? Visit the ' +\n",
              "            '<a target=\"_blank\" href=https://colab.research.google.com/notebooks/data_table.ipynb>data table notebook</a>'\n",
              "            + ' to learn more about interactive tables.';\n",
              "          element.innerHTML = '';\n",
              "          dataTable['output_type'] = 'display_data';\n",
              "          await google.colab.output.renderOutput(dataTable, element);\n",
              "          const docLink = document.createElement('div');\n",
              "          docLink.innerHTML = docLinkHtml;\n",
              "          element.appendChild(docLink);\n",
              "        }\n",
              "      </script>\n",
              "    </div>\n",
              "  </div>\n",
              "  "
            ]
          },
          "metadata": {},
          "execution_count": 184
        }
      ]
    },
    {
      "cell_type": "code",
      "source": [
        "btc_month_mean['month_ave_close_shift'] = btc_month_mean['month_ave_close'].shift(-1)\n",
        "# btc_month_mean.dropna(inplace=True)\n",
        "btc_month_mean"
      ],
      "metadata": {
        "colab": {
          "base_uri": "https://localhost:8080/",
          "height": 455
        },
        "id": "CIW1CdSjLy2C",
        "outputId": "a822b107-b91e-4a6a-910d-f33c3f5a310b"
      },
      "execution_count": 185,
      "outputs": [
        {
          "output_type": "display_data",
          "data": {
            "text/plain": [
              "<IPython.core.display.HTML object>"
            ],
            "text/html": [
              "\n",
              "            <script src=\"/static/components/requirejs/require.js\"></script>\n",
              "            <script>\n",
              "              requirejs.config({\n",
              "                paths: {\n",
              "                  base: '/static/base',\n",
              "                  plotly: 'https://cdn.plot.ly/plotly-latest.min.js?noext',\n",
              "                },\n",
              "              });\n",
              "            </script>\n",
              "            "
            ]
          },
          "metadata": {}
        },
        {
          "output_type": "display_data",
          "data": {
            "text/plain": [
              "<IPython.core.display.HTML object>"
            ],
            "text/html": [
              "\n",
              "            <script src=\"/static/components/requirejs/require.js\"></script>\n",
              "            <script>\n",
              "              requirejs.config({\n",
              "                paths: {\n",
              "                  base: '/static/base',\n",
              "                  plotly: 'https://cdn.plot.ly/plotly-latest.min.js?noext',\n",
              "                },\n",
              "              });\n",
              "            </script>\n",
              "            "
            ]
          },
          "metadata": {}
        },
        {
          "output_type": "display_data",
          "data": {
            "text/plain": [
              "<IPython.core.display.HTML object>"
            ],
            "text/html": [
              "\n",
              "            <script src=\"/static/components/requirejs/require.js\"></script>\n",
              "            <script>\n",
              "              requirejs.config({\n",
              "                paths: {\n",
              "                  base: '/static/base',\n",
              "                  plotly: 'https://cdn.plot.ly/plotly-latest.min.js?noext',\n",
              "                },\n",
              "              });\n",
              "            </script>\n",
              "            "
            ]
          },
          "metadata": {}
        },
        {
          "output_type": "execute_result",
          "data": {
            "text/plain": [
              "            month_ave_open  month_ave_high  month_ave_low  month_ave_close  \\\n",
              "Date                                                                         \n",
              "2014-09-30      412.654003      421.104422     398.174641       407.182428   \n",
              "2014-10-31      365.748000      374.314260     354.856645       364.148873   \n",
              "2014-11-30      364.850235      376.494235     357.241831       366.099799   \n",
              "2014-12-31      343.074836      347.487129     336.565775       341.267871   \n",
              "2015-01-31      251.799905      261.391583     240.495550       248.782547   \n",
              "...                    ...             ...            ...              ...   \n",
              "2022-05-31    31900.711127    32629.598349   30905.249244     31706.105217   \n",
              "2022-06-30    24783.338477    25228.663672   23752.240495     24383.685482   \n",
              "2022-07-31    21424.733052    22012.192729   20958.936996     21539.253843   \n",
              "2022-08-31    22471.866557    22870.607863   22075.572203     22366.266318   \n",
              "2022-09-30    20068.558594    20192.179688   19935.248047     19936.281250   \n",
              "\n",
              "            month_ave_volume  month_ave_close_shift  \n",
              "Date                                                 \n",
              "2014-09-30      2.934864e+07             364.148873  \n",
              "2014-10-31      2.912885e+07             366.099799  \n",
              "2014-11-30      2.199111e+07             341.267871  \n",
              "2014-12-31      1.784201e+07             248.782547  \n",
              "2015-01-31      3.544555e+07             234.153645  \n",
              "...                      ...                    ...  \n",
              "2022-05-31      3.566740e+10           24383.685482  \n",
              "2022-06-30      3.079797e+10           21539.253843  \n",
              "2022-07-31      2.992201e+10           22366.266318  \n",
              "2022-08-31      2.884492e+10           19936.281250  \n",
              "2022-09-30      3.126992e+10                    NaN  \n",
              "\n",
              "[97 rows x 6 columns]"
            ],
            "text/html": [
              "\n",
              "  <div id=\"df-81ab5bc9-01b4-4634-97b6-026f57fdf742\">\n",
              "    <div class=\"colab-df-container\">\n",
              "      <div>\n",
              "<style scoped>\n",
              "    .dataframe tbody tr th:only-of-type {\n",
              "        vertical-align: middle;\n",
              "    }\n",
              "\n",
              "    .dataframe tbody tr th {\n",
              "        vertical-align: top;\n",
              "    }\n",
              "\n",
              "    .dataframe thead th {\n",
              "        text-align: right;\n",
              "    }\n",
              "</style>\n",
              "<table border=\"1\" class=\"dataframe\">\n",
              "  <thead>\n",
              "    <tr style=\"text-align: right;\">\n",
              "      <th></th>\n",
              "      <th>month_ave_open</th>\n",
              "      <th>month_ave_high</th>\n",
              "      <th>month_ave_low</th>\n",
              "      <th>month_ave_close</th>\n",
              "      <th>month_ave_volume</th>\n",
              "      <th>month_ave_close_shift</th>\n",
              "    </tr>\n",
              "    <tr>\n",
              "      <th>Date</th>\n",
              "      <th></th>\n",
              "      <th></th>\n",
              "      <th></th>\n",
              "      <th></th>\n",
              "      <th></th>\n",
              "      <th></th>\n",
              "    </tr>\n",
              "  </thead>\n",
              "  <tbody>\n",
              "    <tr>\n",
              "      <th>2014-09-30</th>\n",
              "      <td>412.654003</td>\n",
              "      <td>421.104422</td>\n",
              "      <td>398.174641</td>\n",
              "      <td>407.182428</td>\n",
              "      <td>2.934864e+07</td>\n",
              "      <td>364.148873</td>\n",
              "    </tr>\n",
              "    <tr>\n",
              "      <th>2014-10-31</th>\n",
              "      <td>365.748000</td>\n",
              "      <td>374.314260</td>\n",
              "      <td>354.856645</td>\n",
              "      <td>364.148873</td>\n",
              "      <td>2.912885e+07</td>\n",
              "      <td>366.099799</td>\n",
              "    </tr>\n",
              "    <tr>\n",
              "      <th>2014-11-30</th>\n",
              "      <td>364.850235</td>\n",
              "      <td>376.494235</td>\n",
              "      <td>357.241831</td>\n",
              "      <td>366.099799</td>\n",
              "      <td>2.199111e+07</td>\n",
              "      <td>341.267871</td>\n",
              "    </tr>\n",
              "    <tr>\n",
              "      <th>2014-12-31</th>\n",
              "      <td>343.074836</td>\n",
              "      <td>347.487129</td>\n",
              "      <td>336.565775</td>\n",
              "      <td>341.267871</td>\n",
              "      <td>1.784201e+07</td>\n",
              "      <td>248.782547</td>\n",
              "    </tr>\n",
              "    <tr>\n",
              "      <th>2015-01-31</th>\n",
              "      <td>251.799905</td>\n",
              "      <td>261.391583</td>\n",
              "      <td>240.495550</td>\n",
              "      <td>248.782547</td>\n",
              "      <td>3.544555e+07</td>\n",
              "      <td>234.153645</td>\n",
              "    </tr>\n",
              "    <tr>\n",
              "      <th>...</th>\n",
              "      <td>...</td>\n",
              "      <td>...</td>\n",
              "      <td>...</td>\n",
              "      <td>...</td>\n",
              "      <td>...</td>\n",
              "      <td>...</td>\n",
              "    </tr>\n",
              "    <tr>\n",
              "      <th>2022-05-31</th>\n",
              "      <td>31900.711127</td>\n",
              "      <td>32629.598349</td>\n",
              "      <td>30905.249244</td>\n",
              "      <td>31706.105217</td>\n",
              "      <td>3.566740e+10</td>\n",
              "      <td>24383.685482</td>\n",
              "    </tr>\n",
              "    <tr>\n",
              "      <th>2022-06-30</th>\n",
              "      <td>24783.338477</td>\n",
              "      <td>25228.663672</td>\n",
              "      <td>23752.240495</td>\n",
              "      <td>24383.685482</td>\n",
              "      <td>3.079797e+10</td>\n",
              "      <td>21539.253843</td>\n",
              "    </tr>\n",
              "    <tr>\n",
              "      <th>2022-07-31</th>\n",
              "      <td>21424.733052</td>\n",
              "      <td>22012.192729</td>\n",
              "      <td>20958.936996</td>\n",
              "      <td>21539.253843</td>\n",
              "      <td>2.992201e+10</td>\n",
              "      <td>22366.266318</td>\n",
              "    </tr>\n",
              "    <tr>\n",
              "      <th>2022-08-31</th>\n",
              "      <td>22471.866557</td>\n",
              "      <td>22870.607863</td>\n",
              "      <td>22075.572203</td>\n",
              "      <td>22366.266318</td>\n",
              "      <td>2.884492e+10</td>\n",
              "      <td>19936.281250</td>\n",
              "    </tr>\n",
              "    <tr>\n",
              "      <th>2022-09-30</th>\n",
              "      <td>20068.558594</td>\n",
              "      <td>20192.179688</td>\n",
              "      <td>19935.248047</td>\n",
              "      <td>19936.281250</td>\n",
              "      <td>3.126992e+10</td>\n",
              "      <td>NaN</td>\n",
              "    </tr>\n",
              "  </tbody>\n",
              "</table>\n",
              "<p>97 rows × 6 columns</p>\n",
              "</div>\n",
              "      <button class=\"colab-df-convert\" onclick=\"convertToInteractive('df-81ab5bc9-01b4-4634-97b6-026f57fdf742')\"\n",
              "              title=\"Convert this dataframe to an interactive table.\"\n",
              "              style=\"display:none;\">\n",
              "        \n",
              "  <svg xmlns=\"http://www.w3.org/2000/svg\" height=\"24px\"viewBox=\"0 0 24 24\"\n",
              "       width=\"24px\">\n",
              "    <path d=\"M0 0h24v24H0V0z\" fill=\"none\"/>\n",
              "    <path d=\"M18.56 5.44l.94 2.06.94-2.06 2.06-.94-2.06-.94-.94-2.06-.94 2.06-2.06.94zm-11 1L8.5 8.5l.94-2.06 2.06-.94-2.06-.94L8.5 2.5l-.94 2.06-2.06.94zm10 10l.94 2.06.94-2.06 2.06-.94-2.06-.94-.94-2.06-.94 2.06-2.06.94z\"/><path d=\"M17.41 7.96l-1.37-1.37c-.4-.4-.92-.59-1.43-.59-.52 0-1.04.2-1.43.59L10.3 9.45l-7.72 7.72c-.78.78-.78 2.05 0 2.83L4 21.41c.39.39.9.59 1.41.59.51 0 1.02-.2 1.41-.59l7.78-7.78 2.81-2.81c.8-.78.8-2.07 0-2.86zM5.41 20L4 18.59l7.72-7.72 1.47 1.35L5.41 20z\"/>\n",
              "  </svg>\n",
              "      </button>\n",
              "      \n",
              "  <style>\n",
              "    .colab-df-container {\n",
              "      display:flex;\n",
              "      flex-wrap:wrap;\n",
              "      gap: 12px;\n",
              "    }\n",
              "\n",
              "    .colab-df-convert {\n",
              "      background-color: #E8F0FE;\n",
              "      border: none;\n",
              "      border-radius: 50%;\n",
              "      cursor: pointer;\n",
              "      display: none;\n",
              "      fill: #1967D2;\n",
              "      height: 32px;\n",
              "      padding: 0 0 0 0;\n",
              "      width: 32px;\n",
              "    }\n",
              "\n",
              "    .colab-df-convert:hover {\n",
              "      background-color: #E2EBFA;\n",
              "      box-shadow: 0px 1px 2px rgba(60, 64, 67, 0.3), 0px 1px 3px 1px rgba(60, 64, 67, 0.15);\n",
              "      fill: #174EA6;\n",
              "    }\n",
              "\n",
              "    [theme=dark] .colab-df-convert {\n",
              "      background-color: #3B4455;\n",
              "      fill: #D2E3FC;\n",
              "    }\n",
              "\n",
              "    [theme=dark] .colab-df-convert:hover {\n",
              "      background-color: #434B5C;\n",
              "      box-shadow: 0px 1px 3px 1px rgba(0, 0, 0, 0.15);\n",
              "      filter: drop-shadow(0px 1px 2px rgba(0, 0, 0, 0.3));\n",
              "      fill: #FFFFFF;\n",
              "    }\n",
              "  </style>\n",
              "\n",
              "      <script>\n",
              "        const buttonEl =\n",
              "          document.querySelector('#df-81ab5bc9-01b4-4634-97b6-026f57fdf742 button.colab-df-convert');\n",
              "        buttonEl.style.display =\n",
              "          google.colab.kernel.accessAllowed ? 'block' : 'none';\n",
              "\n",
              "        async function convertToInteractive(key) {\n",
              "          const element = document.querySelector('#df-81ab5bc9-01b4-4634-97b6-026f57fdf742');\n",
              "          const dataTable =\n",
              "            await google.colab.kernel.invokeFunction('convertToInteractive',\n",
              "                                                     [key], {});\n",
              "          if (!dataTable) return;\n",
              "\n",
              "          const docLinkHtml = 'Like what you see? Visit the ' +\n",
              "            '<a target=\"_blank\" href=https://colab.research.google.com/notebooks/data_table.ipynb>data table notebook</a>'\n",
              "            + ' to learn more about interactive tables.';\n",
              "          element.innerHTML = '';\n",
              "          dataTable['output_type'] = 'display_data';\n",
              "          await google.colab.output.renderOutput(dataTable, element);\n",
              "          const docLink = document.createElement('div');\n",
              "          docLink.innerHTML = docLinkHtml;\n",
              "          element.appendChild(docLink);\n",
              "        }\n",
              "      </script>\n",
              "    </div>\n",
              "  </div>\n",
              "  "
            ]
          },
          "metadata": {},
          "execution_count": 185
        }
      ]
    },
    {
      "cell_type": "code",
      "source": [
        "btc_month_mean['month_ave_close_shift'].hist()"
      ],
      "metadata": {
        "colab": {
          "base_uri": "https://localhost:8080/",
          "height": 283
        },
        "id": "ELox2ltINjRG",
        "outputId": "4b234cd4-27c6-4e29-c976-39b448570b49"
      },
      "execution_count": 186,
      "outputs": [
        {
          "output_type": "display_data",
          "data": {
            "text/plain": [
              "<IPython.core.display.HTML object>"
            ],
            "text/html": [
              "\n",
              "            <script src=\"/static/components/requirejs/require.js\"></script>\n",
              "            <script>\n",
              "              requirejs.config({\n",
              "                paths: {\n",
              "                  base: '/static/base',\n",
              "                  plotly: 'https://cdn.plot.ly/plotly-latest.min.js?noext',\n",
              "                },\n",
              "              });\n",
              "            </script>\n",
              "            "
            ]
          },
          "metadata": {}
        },
        {
          "output_type": "display_data",
          "data": {
            "text/plain": [
              "<IPython.core.display.HTML object>"
            ],
            "text/html": [
              "\n",
              "            <script src=\"/static/components/requirejs/require.js\"></script>\n",
              "            <script>\n",
              "              requirejs.config({\n",
              "                paths: {\n",
              "                  base: '/static/base',\n",
              "                  plotly: 'https://cdn.plot.ly/plotly-latest.min.js?noext',\n",
              "                },\n",
              "              });\n",
              "            </script>\n",
              "            "
            ]
          },
          "metadata": {}
        },
        {
          "output_type": "display_data",
          "data": {
            "text/plain": [
              "<IPython.core.display.HTML object>"
            ],
            "text/html": [
              "\n",
              "            <script src=\"/static/components/requirejs/require.js\"></script>\n",
              "            <script>\n",
              "              requirejs.config({\n",
              "                paths: {\n",
              "                  base: '/static/base',\n",
              "                  plotly: 'https://cdn.plot.ly/plotly-latest.min.js?noext',\n",
              "                },\n",
              "              });\n",
              "            </script>\n",
              "            "
            ]
          },
          "metadata": {}
        },
        {
          "output_type": "execute_result",
          "data": {
            "text/plain": [
              "<matplotlib.axes._subplots.AxesSubplot at 0x7f7307072d50>"
            ]
          },
          "metadata": {},
          "execution_count": 186
        },
        {
          "output_type": "display_data",
          "data": {
            "text/plain": [
              "<Figure size 432x288 with 1 Axes>"
            ],
            "image/png": "[encoded data removed]"
          },
          "metadata": {
            "needs_background": "light"
          }
        }
      ]
    },
    {
      "cell_type": "code",
      "source": [
        "btc_month_mean['month_ave_close_shift_diff'] = btc_month_mean['month_ave_close_shift'].diff()\n",
        "btc_month_mean.dropna(inplace=True)"
      ],
      "metadata": {
        "id": "QlnxYQFHOCbl",
        "colab": {
          "base_uri": "https://localhost:8080/",
          "height": 17
        },
        "outputId": "9094a6f2-7c4c-4728-8dd7-82bdb8cde4b8"
      },
      "execution_count": 187,
      "outputs": [
        {
          "output_type": "display_data",
          "data": {
            "text/plain": [
              "<IPython.core.display.HTML object>"
            ],
            "text/html": [
              "\n",
              "            <script src=\"/static/components/requirejs/require.js\"></script>\n",
              "            <script>\n",
              "              requirejs.config({\n",
              "                paths: {\n",
              "                  base: '/static/base',\n",
              "                  plotly: 'https://cdn.plot.ly/plotly-latest.min.js?noext',\n",
              "                },\n",
              "              });\n",
              "            </script>\n",
              "            "
            ]
          },
          "metadata": {}
        },
        {
          "output_type": "display_data",
          "data": {
            "text/plain": [
              "<IPython.core.display.HTML object>"
            ],
            "text/html": [
              "\n",
              "            <script src=\"/static/components/requirejs/require.js\"></script>\n",
              "            <script>\n",
              "              requirejs.config({\n",
              "                paths: {\n",
              "                  base: '/static/base',\n",
              "                  plotly: 'https://cdn.plot.ly/plotly-latest.min.js?noext',\n",
              "                },\n",
              "              });\n",
              "            </script>\n",
              "            "
            ]
          },
          "metadata": {}
        },
        {
          "output_type": "display_data",
          "data": {
            "text/plain": [
              "<IPython.core.display.HTML object>"
            ],
            "text/html": [
              "\n",
              "            <script src=\"/static/components/requirejs/require.js\"></script>\n",
              "            <script>\n",
              "              requirejs.config({\n",
              "                paths: {\n",
              "                  base: '/static/base',\n",
              "                  plotly: 'https://cdn.plot.ly/plotly-latest.min.js?noext',\n",
              "                },\n",
              "              });\n",
              "            </script>\n",
              "            "
            ]
          },
          "metadata": {}
        }
      ]
    },
    {
      "cell_type": "code",
      "source": [
        "btc_month_mean['month_ave_close_shift_diff'].hist()"
      ],
      "metadata": {
        "colab": {
          "base_uri": "https://localhost:8080/",
          "height": 283
        },
        "id": "rJvqonDUOzh1",
        "outputId": "f7aa266b-447d-4a1c-d93b-37a73550c1ff"
      },
      "execution_count": 188,
      "outputs": [
        {
          "output_type": "display_data",
          "data": {
            "text/plain": [
              "<IPython.core.display.HTML object>"
            ],
            "text/html": [
              "\n",
              "            <script src=\"/static/components/requirejs/require.js\"></script>\n",
              "            <script>\n",
              "              requirejs.config({\n",
              "                paths: {\n",
              "                  base: '/static/base',\n",
              "                  plotly: 'https://cdn.plot.ly/plotly-latest.min.js?noext',\n",
              "                },\n",
              "              });\n",
              "            </script>\n",
              "            "
            ]
          },
          "metadata": {}
        },
        {
          "output_type": "display_data",
          "data": {
            "text/plain": [
              "<IPython.core.display.HTML object>"
            ],
            "text/html": [
              "\n",
              "            <script src=\"/static/components/requirejs/require.js\"></script>\n",
              "            <script>\n",
              "              requirejs.config({\n",
              "                paths: {\n",
              "                  base: '/static/base',\n",
              "                  plotly: 'https://cdn.plot.ly/plotly-latest.min.js?noext',\n",
              "                },\n",
              "              });\n",
              "            </script>\n",
              "            "
            ]
          },
          "metadata": {}
        },
        {
          "output_type": "display_data",
          "data": {
            "text/plain": [
              "<IPython.core.display.HTML object>"
            ],
            "text/html": [
              "\n",
              "            <script src=\"/static/components/requirejs/require.js\"></script>\n",
              "            <script>\n",
              "              requirejs.config({\n",
              "                paths: {\n",
              "                  base: '/static/base',\n",
              "                  plotly: 'https://cdn.plot.ly/plotly-latest.min.js?noext',\n",
              "                },\n",
              "              });\n",
              "            </script>\n",
              "            "
            ]
          },
          "metadata": {}
        },
        {
          "output_type": "execute_result",
          "data": {
            "text/plain": [
              "<matplotlib.axes._subplots.AxesSubplot at 0x7f7307508150>"
            ]
          },
          "metadata": {},
          "execution_count": 188
        },
        {
          "output_type": "display_data",
          "data": {
            "text/plain": [
              "<Figure size 432x288 with 1 Axes>"
            ],
            "image/png": "[encoded data removed]"
          },
          "metadata": {
            "needs_background": "light"
          }
        }
      ]
    },
    {
      "cell_type": "code",
      "source": [
        "seasonal_decompose(btc_month_mean['month_ave_close_shift_diff']).plot()   \n",
        "print(\"Dickey–Fuller test: p=%f\" % adfuller(btc_month_mean['month_ave_close_shift_diff'])[1])"
      ],
      "metadata": {
        "colab": {
          "base_uri": "https://localhost:8080/",
          "height": 315
        },
        "id": "e7m4cpSQOon4",
        "outputId": "b64da0ba-7c36-4e3e-e044-e3bd96c9d2cf"
      },
      "execution_count": 189,
      "outputs": [
        {
          "output_type": "display_data",
          "data": {
            "text/plain": [
              "<IPython.core.display.HTML object>"
            ],
            "text/html": [
              "\n",
              "            <script src=\"/static/components/requirejs/require.js\"></script>\n",
              "            <script>\n",
              "              requirejs.config({\n",
              "                paths: {\n",
              "                  base: '/static/base',\n",
              "                  plotly: 'https://cdn.plot.ly/plotly-latest.min.js?noext',\n",
              "                },\n",
              "              });\n",
              "            </script>\n",
              "            "
            ]
          },
          "metadata": {}
        },
        {
          "output_type": "display_data",
          "data": {
            "text/plain": [
              "<IPython.core.display.HTML object>"
            ],
            "text/html": [
              "\n",
              "            <script src=\"/static/components/requirejs/require.js\"></script>\n",
              "            <script>\n",
              "              requirejs.config({\n",
              "                paths: {\n",
              "                  base: '/static/base',\n",
              "                  plotly: 'https://cdn.plot.ly/plotly-latest.min.js?noext',\n",
              "                },\n",
              "              });\n",
              "            </script>\n",
              "            "
            ]
          },
          "metadata": {}
        },
        {
          "output_type": "display_data",
          "data": {
            "text/plain": [
              "<IPython.core.display.HTML object>"
            ],
            "text/html": [
              "\n",
              "            <script src=\"/static/components/requirejs/require.js\"></script>\n",
              "            <script>\n",
              "              requirejs.config({\n",
              "                paths: {\n",
              "                  base: '/static/base',\n",
              "                  plotly: 'https://cdn.plot.ly/plotly-latest.min.js?noext',\n",
              "                },\n",
              "              });\n",
              "            </script>\n",
              "            "
            ]
          },
          "metadata": {}
        },
        {
          "output_type": "stream",
          "name": "stdout",
          "text": [
            "Dickey–Fuller test: p=0.103240\n"
          ]
        },
        {
          "output_type": "display_data",
          "data": {
            "text/plain": [
              "<Figure size 432x288 with 4 Axes>"
            ],
            "image/png": "[encoded data removed]"
          },
          "metadata": {
            "needs_background": "light"
          }
        }
      ]
    },
    {
      "cell_type": "code",
      "source": [
        "btc_month_mean.head(20)\n"
      ],
      "metadata": {
        "colab": {
          "base_uri": "https://localhost:8080/",
          "height": 708
        },
        "id": "hD2XaZ-UQr0o",
        "outputId": "c3891502-3f88-4eef-d7e9-759913f2b9dd"
      },
      "execution_count": 190,
      "outputs": [
        {
          "output_type": "display_data",
          "data": {
            "text/plain": [
              "<IPython.core.display.HTML object>"
            ],
            "text/html": [
              "\n",
              "            <script src=\"/static/components/requirejs/require.js\"></script>\n",
              "            <script>\n",
              "              requirejs.config({\n",
              "                paths: {\n",
              "                  base: '/static/base',\n",
              "                  plotly: 'https://cdn.plot.ly/plotly-latest.min.js?noext',\n",
              "                },\n",
              "              });\n",
              "            </script>\n",
              "            "
            ]
          },
          "metadata": {}
        },
        {
          "output_type": "display_data",
          "data": {
            "text/plain": [
              "<IPython.core.display.HTML object>"
            ],
            "text/html": [
              "\n",
              "            <script src=\"/static/components/requirejs/require.js\"></script>\n",
              "            <script>\n",
              "              requirejs.config({\n",
              "                paths: {\n",
              "                  base: '/static/base',\n",
              "                  plotly: 'https://cdn.plot.ly/plotly-latest.min.js?noext',\n",
              "                },\n",
              "              });\n",
              "            </script>\n",
              "            "
            ]
          },
          "metadata": {}
        },
        {
          "output_type": "display_data",
          "data": {
            "text/plain": [
              "<IPython.core.display.HTML object>"
            ],
            "text/html": [
              "\n",
              "            <script src=\"/static/components/requirejs/require.js\"></script>\n",
              "            <script>\n",
              "              requirejs.config({\n",
              "                paths: {\n",
              "                  base: '/static/base',\n",
              "                  plotly: 'https://cdn.plot.ly/plotly-latest.min.js?noext',\n",
              "                },\n",
              "              });\n",
              "            </script>\n",
              "            "
            ]
          },
          "metadata": {}
        },
        {
          "output_type": "execute_result",
          "data": {
            "text/plain": [
              "            month_ave_open  month_ave_high  month_ave_low  month_ave_close  \\\n",
              "Date                                                                         \n",
              "2014-10-31      365.748000      374.314260     354.856645       364.148873   \n",
              "2014-11-30      364.850235      376.494235     357.241831       366.099799   \n",
              "2014-12-31      343.074836      347.487129     336.565775       341.267871   \n",
              "2015-01-31      251.799905      261.391583     240.495550       248.782547   \n",
              "2015-02-28      232.821856      240.211430     227.769678       234.153645   \n",
              "2015-03-31      269.278419      274.850999     263.134162       269.042259   \n",
              "2015-04-30      235.708668      238.957098     231.734033       235.491534   \n",
              "2015-05-31      237.161806      239.563161     234.939388       236.997001   \n",
              "2015-06-30      236.941433      240.127034     235.028233       238.081766   \n",
              "2015-07-31      278.857679      284.122356     274.771742       279.563740   \n",
              "2015-08-31      252.986774      256.415905     247.146256       250.733805   \n",
              "2015-09-30      233.486733      236.684667     231.632166       233.595533   \n",
              "2015-10-31      262.306000      267.740645     260.490968       264.855356   \n",
              "2015-11-30      346.866833      361.374567     336.263869       348.883332   \n",
              "2015-12-31      422.618033      431.568609     413.460000       424.464547   \n",
              "2016-01-31      412.805902      418.802354     403.495161       410.844485   \n",
              "2016-02-29      402.304692      408.422725     398.191209       404.408274   \n",
              "2016-03-31      417.262033      420.026969     413.330710       416.525774   \n",
              "2016-04-30      433.487433      436.753132     430.642734       434.339398   \n",
              "2016-05-31      459.237547      466.128643     455.772068       461.954415   \n",
              "\n",
              "            month_ave_volume  month_ave_close_shift  \\\n",
              "Date                                                  \n",
              "2014-10-31      2.912885e+07             366.099799   \n",
              "2014-11-30      2.199111e+07             341.267871   \n",
              "2014-12-31      1.784201e+07             248.782547   \n",
              "2015-01-31      3.544555e+07             234.153645   \n",
              "2015-02-28      2.541138e+07             269.042259   \n",
              "2015-03-31      3.093865e+07             235.491534   \n",
              "2015-04-30      2.241129e+07             236.997001   \n",
              "2015-05-31      1.832654e+07             238.081766   \n",
              "2015-06-30      2.099267e+07             279.563740   \n",
              "2015-07-31      3.225459e+07             250.733805   \n",
              "2015-08-31      2.919975e+07             233.595533   \n",
              "2015-09-30      2.012080e+07             264.855356   \n",
              "2015-10-31      3.075095e+07             348.883332   \n",
              "2015-11-30      7.258745e+07             424.464547   \n",
              "2015-12-31      6.762097e+07             410.844485   \n",
              "2016-01-31      6.422195e+07             404.408274   \n",
              "2016-02-29      6.469789e+07             416.525774   \n",
              "2016-03-31      7.525332e+07             434.339398   \n",
              "2016-04-30      6.038251e+07             461.954415   \n",
              "2016-05-31      7.207848e+07             642.869061   \n",
              "\n",
              "            month_ave_close_shift_diff  \n",
              "Date                                    \n",
              "2014-10-31                    1.950926  \n",
              "2014-11-30                  -24.831928  \n",
              "2014-12-31                  -92.485323  \n",
              "2015-01-31                  -14.628903  \n",
              "2015-02-28                   34.888614  \n",
              "2015-03-31                  -33.550725  \n",
              "2015-04-30                    1.505467  \n",
              "2015-05-31                    1.084765  \n",
              "2015-06-30                   41.481974  \n",
              "2015-07-31                  -28.829935  \n",
              "2015-08-31                  -17.138272  \n",
              "2015-09-30                   31.259822  \n",
              "2015-10-31                   84.027977  \n",
              "2015-11-30                   75.581215  \n",
              "2015-12-31                  -13.620062  \n",
              "2016-01-31                   -6.436212  \n",
              "2016-02-29                   12.117500  \n",
              "2016-03-31                   17.813625  \n",
              "2016-04-30                   27.615016  \n",
              "2016-05-31                  180.914647  "
            ],
            "text/html": [
              "\n",
              "  <div id=\"df-4e59841f-9f91-4b60-b12c-8baf6f18956b\">\n",
              "    <div class=\"colab-df-container\">\n",
              "      <div>\n",
              "<style scoped>\n",
              "    .dataframe tbody tr th:only-of-type {\n",
              "        vertical-align: middle;\n",
              "    }\n",
              "\n",
              "    .dataframe tbody tr th {\n",
              "        vertical-align: top;\n",
              "    }\n",
              "\n",
              "    .dataframe thead th {\n",
              "        text-align: right;\n",
              "    }\n",
              "</style>\n",
              "<table border=\"1\" class=\"dataframe\">\n",
              "  <thead>\n",
              "    <tr style=\"text-align: right;\">\n",
              "      <th></th>\n",
              "      <th>month_ave_open</th>\n",
              "      <th>month_ave_high</th>\n",
              "      <th>month_ave_low</th>\n",
              "      <th>month_ave_close</th>\n",
              "      <th>month_ave_volume</th>\n",
              "      <th>month_ave_close_shift</th>\n",
              "      <th>month_ave_close_shift_diff</th>\n",
              "    </tr>\n",
              "    <tr>\n",
              "      <th>Date</th>\n",
              "      <th></th>\n",
              "      <th></th>\n",
              "      <th></th>\n",
              "      <th></th>\n",
              "      <th></th>\n",
              "      <th></th>\n",
              "      <th></th>\n",
              "    </tr>\n",
              "  </thead>\n",
              "  <tbody>\n",
              "    <tr>\n",
              "      <th>2014-10-31</th>\n",
              "      <td>365.748000</td>\n",
              "      <td>374.314260</td>\n",
              "      <td>354.856645</td>\n",
              "      <td>364.148873</td>\n",
              "      <td>2.912885e+07</td>\n",
              "      <td>366.099799</td>\n",
              "      <td>1.950926</td>\n",
              "    </tr>\n",
              "    <tr>\n",
              "      <th>2014-11-30</th>\n",
              "      <td>364.850235</td>\n",
              "      <td>376.494235</td>\n",
              "      <td>357.241831</td>\n",
              "      <td>366.099799</td>\n",
              "      <td>2.199111e+07</td>\n",
              "      <td>341.267871</td>\n",
              "      <td>-24.831928</td>\n",
              "    </tr>\n",
              "    <tr>\n",
              "      <th>2014-12-31</th>\n",
              "      <td>343.074836</td>\n",
              "      <td>347.487129</td>\n",
              "      <td>336.565775</td>\n",
              "      <td>341.267871</td>\n",
              "      <td>1.784201e+07</td>\n",
              "      <td>248.782547</td>\n",
              "      <td>-92.485323</td>\n",
              "    </tr>\n",
              "    <tr>\n",
              "      <th>2015-01-31</th>\n",
              "      <td>251.799905</td>\n",
              "      <td>261.391583</td>\n",
              "      <td>240.495550</td>\n",
              "      <td>248.782547</td>\n",
              "      <td>3.544555e+07</td>\n",
              "      <td>234.153645</td>\n",
              "      <td>-14.628903</td>\n",
              "    </tr>\n",
              "    <tr>\n",
              "      <th>2015-02-28</th>\n",
              "      <td>232.821856</td>\n",
              "      <td>240.211430</td>\n",
              "      <td>227.769678</td>\n",
              "      <td>234.153645</td>\n",
              "      <td>2.541138e+07</td>\n",
              "      <td>269.042259</td>\n",
              "      <td>34.888614</td>\n",
              "    </tr>\n",
              "    <tr>\n",
              "      <th>2015-03-31</th>\n",
              "      <td>269.278419</td>\n",
              "      <td>274.850999</td>\n",
              "      <td>263.134162</td>\n",
              "      <td>269.042259</td>\n",
              "      <td>3.093865e+07</td>\n",
              "      <td>235.491534</td>\n",
              "      <td>-33.550725</td>\n",
              "    </tr>\n",
              "    <tr>\n",
              "      <th>2015-04-30</th>\n",
              "      <td>235.708668</td>\n",
              "      <td>238.957098</td>\n",
              "      <td>231.734033</td>\n",
              "      <td>235.491534</td>\n",
              "      <td>2.241129e+07</td>\n",
              "      <td>236.997001</td>\n",
              "      <td>1.505467</td>\n",
              "    </tr>\n",
              "    <tr>\n",
              "      <th>2015-05-31</th>\n",
              "      <td>237.161806</td>\n",
              "      <td>239.563161</td>\n",
              "      <td>234.939388</td>\n",
              "      <td>236.997001</td>\n",
              "      <td>1.832654e+07</td>\n",
              "      <td>238.081766</td>\n",
              "      <td>1.084765</td>\n",
              "    </tr>\n",
              "    <tr>\n",
              "      <th>2015-06-30</th>\n",
              "      <td>236.941433</td>\n",
              "      <td>240.127034</td>\n",
              "      <td>235.028233</td>\n",
              "      <td>238.081766</td>\n",
              "      <td>2.099267e+07</td>\n",
              "      <td>279.563740</td>\n",
              "      <td>41.481974</td>\n",
              "    </tr>\n",
              "    <tr>\n",
              "      <th>2015-07-31</th>\n",
              "      <td>278.857679</td>\n",
              "      <td>284.122356</td>\n",
              "      <td>274.771742</td>\n",
              "      <td>279.563740</td>\n",
              "      <td>3.225459e+07</td>\n",
              "      <td>250.733805</td>\n",
              "      <td>-28.829935</td>\n",
              "    </tr>\n",
              "    <tr>\n",
              "      <th>2015-08-31</th>\n",
              "      <td>252.986774</td>\n",
              "      <td>256.415905</td>\n",
              "      <td>247.146256</td>\n",
              "      <td>250.733805</td>\n",
              "      <td>2.919975e+07</td>\n",
              "      <td>233.595533</td>\n",
              "      <td>-17.138272</td>\n",
              "    </tr>\n",
              "    <tr>\n",
              "      <th>2015-09-30</th>\n",
              "      <td>233.486733</td>\n",
              "      <td>236.684667</td>\n",
              "      <td>231.632166</td>\n",
              "      <td>233.595533</td>\n",
              "      <td>2.012080e+07</td>\n",
              "      <td>264.855356</td>\n",
              "      <td>31.259822</td>\n",
              "    </tr>\n",
              "    <tr>\n",
              "      <th>2015-10-31</th>\n",
              "      <td>262.306000</td>\n",
              "      <td>267.740645</td>\n",
              "      <td>260.490968</td>\n",
              "      <td>264.855356</td>\n",
              "      <td>3.075095e+07</td>\n",
              "      <td>348.883332</td>\n",
              "      <td>84.027977</td>\n",
              "    </tr>\n",
              "    <tr>\n",
              "      <th>2015-11-30</th>\n",
              "      <td>346.866833</td>\n",
              "      <td>361.374567</td>\n",
              "      <td>336.263869</td>\n",
              "      <td>348.883332</td>\n",
              "      <td>7.258745e+07</td>\n",
              "      <td>424.464547</td>\n",
              "      <td>75.581215</td>\n",
              "    </tr>\n",
              "    <tr>\n",
              "      <th>2015-12-31</th>\n",
              "      <td>422.618033</td>\n",
              "      <td>431.568609</td>\n",
              "      <td>413.460000</td>\n",
              "      <td>424.464547</td>\n",
              "      <td>6.762097e+07</td>\n",
              "      <td>410.844485</td>\n",
              "      <td>-13.620062</td>\n",
              "    </tr>\n",
              "    <tr>\n",
              "      <th>2016-01-31</th>\n",
              "      <td>412.805902</td>\n",
              "      <td>418.802354</td>\n",
              "      <td>403.495161</td>\n",
              "      <td>410.844485</td>\n",
              "      <td>6.422195e+07</td>\n",
              "      <td>404.408274</td>\n",
              "      <td>-6.436212</td>\n",
              "    </tr>\n",
              "    <tr>\n",
              "      <th>2016-02-29</th>\n",
              "      <td>402.304692</td>\n",
              "      <td>408.422725</td>\n",
              "      <td>398.191209</td>\n",
              "      <td>404.408274</td>\n",
              "      <td>6.469789e+07</td>\n",
              "      <td>416.525774</td>\n",
              "      <td>12.117500</td>\n",
              "    </tr>\n",
              "    <tr>\n",
              "      <th>2016-03-31</th>\n",
              "      <td>417.262033</td>\n",
              "      <td>420.026969</td>\n",
              "      <td>413.330710</td>\n",
              "      <td>416.525774</td>\n",
              "      <td>7.525332e+07</td>\n",
              "      <td>434.339398</td>\n",
              "      <td>17.813625</td>\n",
              "    </tr>\n",
              "    <tr>\n",
              "      <th>2016-04-30</th>\n",
              "      <td>433.487433</td>\n",
              "      <td>436.753132</td>\n",
              "      <td>430.642734</td>\n",
              "      <td>434.339398</td>\n",
              "      <td>6.038251e+07</td>\n",
              "      <td>461.954415</td>\n",
              "      <td>27.615016</td>\n",
              "    </tr>\n",
              "    <tr>\n",
              "      <th>2016-05-31</th>\n",
              "      <td>459.237547</td>\n",
              "      <td>466.128643</td>\n",
              "      <td>455.772068</td>\n",
              "      <td>461.954415</td>\n",
              "      <td>7.207848e+07</td>\n",
              "      <td>642.869061</td>\n",
              "      <td>180.914647</td>\n",
              "    </tr>\n",
              "  </tbody>\n",
              "</table>\n",
              "</div>\n",
              "      <button class=\"colab-df-convert\" onclick=\"convertToInteractive('df-4e59841f-9f91-4b60-b12c-8baf6f18956b')\"\n",
              "              title=\"Convert this dataframe to an interactive table.\"\n",
              "              style=\"display:none;\">\n",
              "        \n",
              "  <svg xmlns=\"http://www.w3.org/2000/svg\" height=\"24px\"viewBox=\"0 0 24 24\"\n",
              "       width=\"24px\">\n",
              "    <path d=\"M0 0h24v24H0V0z\" fill=\"none\"/>\n",
              "    <path d=\"M18.56 5.44l.94 2.06.94-2.06 2.06-.94-2.06-.94-.94-2.06-.94 2.06-2.06.94zm-11 1L8.5 8.5l.94-2.06 2.06-.94-2.06-.94L8.5 2.5l-.94 2.06-2.06.94zm10 10l.94 2.06.94-2.06 2.06-.94-2.06-.94-.94-2.06-.94 2.06-2.06.94z\"/><path d=\"M17.41 7.96l-1.37-1.37c-.4-.4-.92-.59-1.43-.59-.52 0-1.04.2-1.43.59L10.3 9.45l-7.72 7.72c-.78.78-.78 2.05 0 2.83L4 21.41c.39.39.9.59 1.41.59.51 0 1.02-.2 1.41-.59l7.78-7.78 2.81-2.81c.8-.78.8-2.07 0-2.86zM5.41 20L4 18.59l7.72-7.72 1.47 1.35L5.41 20z\"/>\n",
              "  </svg>\n",
              "      </button>\n",
              "      \n",
              "  <style>\n",
              "    .colab-df-container {\n",
              "      display:flex;\n",
              "      flex-wrap:wrap;\n",
              "      gap: 12px;\n",
              "    }\n",
              "\n",
              "    .colab-df-convert {\n",
              "      background-color: #E8F0FE;\n",
              "      border: none;\n",
              "      border-radius: 50%;\n",
              "      cursor: pointer;\n",
              "      display: none;\n",
              "      fill: #1967D2;\n",
              "      height: 32px;\n",
              "      padding: 0 0 0 0;\n",
              "      width: 32px;\n",
              "    }\n",
              "\n",
              "    .colab-df-convert:hover {\n",
              "      background-color: #E2EBFA;\n",
              "      box-shadow: 0px 1px 2px rgba(60, 64, 67, 0.3), 0px 1px 3px 1px rgba(60, 64, 67, 0.15);\n",
              "      fill: #174EA6;\n",
              "    }\n",
              "\n",
              "    [theme=dark] .colab-df-convert {\n",
              "      background-color: #3B4455;\n",
              "      fill: #D2E3FC;\n",
              "    }\n",
              "\n",
              "    [theme=dark] .colab-df-convert:hover {\n",
              "      background-color: #434B5C;\n",
              "      box-shadow: 0px 1px 3px 1px rgba(0, 0, 0, 0.15);\n",
              "      filter: drop-shadow(0px 1px 2px rgba(0, 0, 0, 0.3));\n",
              "      fill: #FFFFFF;\n",
              "    }\n",
              "  </style>\n",
              "\n",
              "      <script>\n",
              "        const buttonEl =\n",
              "          document.querySelector('#df-4e59841f-9f91-4b60-b12c-8baf6f18956b button.colab-df-convert');\n",
              "        buttonEl.style.display =\n",
              "          google.colab.kernel.accessAllowed ? 'block' : 'none';\n",
              "\n",
              "        async function convertToInteractive(key) {\n",
              "          const element = document.querySelector('#df-4e59841f-9f91-4b60-b12c-8baf6f18956b');\n",
              "          const dataTable =\n",
              "            await google.colab.kernel.invokeFunction('convertToInteractive',\n",
              "                                                     [key], {});\n",
              "          if (!dataTable) return;\n",
              "\n",
              "          const docLinkHtml = 'Like what you see? Visit the ' +\n",
              "            '<a target=\"_blank\" href=https://colab.research.google.com/notebooks/data_table.ipynb>data table notebook</a>'\n",
              "            + ' to learn more about interactive tables.';\n",
              "          element.innerHTML = '';\n",
              "          dataTable['output_type'] = 'display_data';\n",
              "          await google.colab.output.renderOutput(dataTable, element);\n",
              "          const docLink = document.createElement('div');\n",
              "          docLink.innerHTML = docLinkHtml;\n",
              "          element.appendChild(docLink);\n",
              "        }\n",
              "      </script>\n",
              "    </div>\n",
              "  </div>\n",
              "  "
            ]
          },
          "metadata": {},
          "execution_count": 190
        }
      ]
    },
    {
      "cell_type": "code",
      "source": [
        "btc_month_mean['month_ave_close_shift_diff_percent'] = None\n",
        "\n",
        "for i in range(1, len(btc_month_mean)):\n",
        "  btc_month_mean['month_ave_close_shift_diff_percent'][i] = \\\n",
        "  (btc_month_mean['month_ave_close_shift'][i] - btc_month_mean['month_ave_close_shift'][i-1]) / btc_month_mean['month_ave_close_shift'][i-1]\n",
        "\n",
        "btc_month_mean.dropna(inplace=True)"
      ],
      "metadata": {
        "colab": {
          "base_uri": "https://localhost:8080/",
          "height": 17
        },
        "id": "va9fjb9AQsvX",
        "outputId": "059e4c2b-7a12-4cd6-be3c-3cf1d4eedd09"
      },
      "execution_count": 191,
      "outputs": [
        {
          "output_type": "display_data",
          "data": {
            "text/plain": [
              "<IPython.core.display.HTML object>"
            ],
            "text/html": [
              "\n",
              "            <script src=\"/static/components/requirejs/require.js\"></script>\n",
              "            <script>\n",
              "              requirejs.config({\n",
              "                paths: {\n",
              "                  base: '/static/base',\n",
              "                  plotly: 'https://cdn.plot.ly/plotly-latest.min.js?noext',\n",
              "                },\n",
              "              });\n",
              "            </script>\n",
              "            "
            ]
          },
          "metadata": {}
        },
        {
          "output_type": "display_data",
          "data": {
            "text/plain": [
              "<IPython.core.display.HTML object>"
            ],
            "text/html": [
              "\n",
              "            <script src=\"/static/components/requirejs/require.js\"></script>\n",
              "            <script>\n",
              "              requirejs.config({\n",
              "                paths: {\n",
              "                  base: '/static/base',\n",
              "                  plotly: 'https://cdn.plot.ly/plotly-latest.min.js?noext',\n",
              "                },\n",
              "              });\n",
              "            </script>\n",
              "            "
            ]
          },
          "metadata": {}
        },
        {
          "output_type": "display_data",
          "data": {
            "text/plain": [
              "<IPython.core.display.HTML object>"
            ],
            "text/html": [
              "\n",
              "            <script src=\"/static/components/requirejs/require.js\"></script>\n",
              "            <script>\n",
              "              requirejs.config({\n",
              "                paths: {\n",
              "                  base: '/static/base',\n",
              "                  plotly: 'https://cdn.plot.ly/plotly-latest.min.js?noext',\n",
              "                },\n",
              "              });\n",
              "            </script>\n",
              "            "
            ]
          },
          "metadata": {}
        }
      ]
    },
    {
      "cell_type": "code",
      "source": [
        "btc_month_mean"
      ],
      "metadata": {
        "colab": {
          "base_uri": "https://localhost:8080/",
          "height": 455
        },
        "id": "BjXj3pD1QsyI",
        "outputId": "8a45350f-627b-4fc5-8bb5-e70348cb2963"
      },
      "execution_count": 192,
      "outputs": [
        {
          "output_type": "display_data",
          "data": {
            "text/plain": [
              "<IPython.core.display.HTML object>"
            ],
            "text/html": [
              "\n",
              "            <script src=\"/static/components/requirejs/require.js\"></script>\n",
              "            <script>\n",
              "              requirejs.config({\n",
              "                paths: {\n",
              "                  base: '/static/base',\n",
              "                  plotly: 'https://cdn.plot.ly/plotly-latest.min.js?noext',\n",
              "                },\n",
              "              });\n",
              "            </script>\n",
              "            "
            ]
          },
          "metadata": {}
        },
        {
          "output_type": "display_data",
          "data": {
            "text/plain": [
              "<IPython.core.display.HTML object>"
            ],
            "text/html": [
              "\n",
              "            <script src=\"/static/components/requirejs/require.js\"></script>\n",
              "            <script>\n",
              "              requirejs.config({\n",
              "                paths: {\n",
              "                  base: '/static/base',\n",
              "                  plotly: 'https://cdn.plot.ly/plotly-latest.min.js?noext',\n",
              "                },\n",
              "              });\n",
              "            </script>\n",
              "            "
            ]
          },
          "metadata": {}
        },
        {
          "output_type": "display_data",
          "data": {
            "text/plain": [
              "<IPython.core.display.HTML object>"
            ],
            "text/html": [
              "\n",
              "            <script src=\"/static/components/requirejs/require.js\"></script>\n",
              "            <script>\n",
              "              requirejs.config({\n",
              "                paths: {\n",
              "                  base: '/static/base',\n",
              "                  plotly: 'https://cdn.plot.ly/plotly-latest.min.js?noext',\n",
              "                },\n",
              "              });\n",
              "            </script>\n",
              "            "
            ]
          },
          "metadata": {}
        },
        {
          "output_type": "execute_result",
          "data": {
            "text/plain": [
              "            month_ave_open  month_ave_high  month_ave_low  month_ave_close  \\\n",
              "Date                                                                         \n",
              "2014-11-30      364.850235      376.494235     357.241831       366.099799   \n",
              "2014-12-31      343.074836      347.487129     336.565775       341.267871   \n",
              "2015-01-31      251.799905      261.391583     240.495550       248.782547   \n",
              "2015-02-28      232.821856      240.211430     227.769678       234.153645   \n",
              "2015-03-31      269.278419      274.850999     263.134162       269.042259   \n",
              "...                    ...             ...            ...              ...   \n",
              "2022-04-30    41694.653646    42328.085156   40805.150260     41435.319661   \n",
              "2022-05-31    31900.711127    32629.598349   30905.249244     31706.105217   \n",
              "2022-06-30    24783.338477    25228.663672   23752.240495     24383.685482   \n",
              "2022-07-31    21424.733052    22012.192729   20958.936996     21539.253843   \n",
              "2022-08-31    22471.866557    22870.607863   22075.572203     22366.266318   \n",
              "\n",
              "            month_ave_volume  month_ave_close_shift  \\\n",
              "Date                                                  \n",
              "2014-11-30      2.199111e+07             341.267871   \n",
              "2014-12-31      1.784201e+07             248.782547   \n",
              "2015-01-31      3.544555e+07             234.153645   \n",
              "2015-02-28      2.541138e+07             269.042259   \n",
              "2015-03-31      3.093865e+07             235.491534   \n",
              "...                      ...                    ...   \n",
              "2022-04-30      2.767053e+10           31706.105217   \n",
              "2022-05-31      3.566740e+10           24383.685482   \n",
              "2022-06-30      3.079797e+10           21539.253843   \n",
              "2022-07-31      2.992201e+10           22366.266318   \n",
              "2022-08-31      2.884492e+10           19936.281250   \n",
              "\n",
              "            month_ave_close_shift_diff month_ave_close_shift_diff_percent  \n",
              "Date                                                                       \n",
              "2014-11-30                  -24.831928                          -0.067828  \n",
              "2014-12-31                  -92.485323                          -0.271005  \n",
              "2015-01-31                  -14.628903                          -0.058802  \n",
              "2015-02-28                   34.888614                           0.148999  \n",
              "2015-03-31                  -33.550725                          -0.124704  \n",
              "...                                ...                                ...  \n",
              "2022-04-30                -9729.214445                          -0.234805  \n",
              "2022-05-31                -7322.419735                          -0.230947  \n",
              "2022-06-30                -2844.431639                          -0.116653  \n",
              "2022-07-31                  827.012475                           0.038396  \n",
              "2022-08-31                -2429.985068                          -0.108645  \n",
              "\n",
              "[94 rows x 8 columns]"
            ],
            "text/html": [
              "\n",
              "  <div id=\"df-6598c951-f79b-4c11-b85f-c2b1824b7579\">\n",
              "    <div class=\"colab-df-container\">\n",
              "      <div>\n",
              "<style scoped>\n",
              "    .dataframe tbody tr th:only-of-type {\n",
              "        vertical-align: middle;\n",
              "    }\n",
              "\n",
              "    .dataframe tbody tr th {\n",
              "        vertical-align: top;\n",
              "    }\n",
              "\n",
              "    .dataframe thead th {\n",
              "        text-align: right;\n",
              "    }\n",
              "</style>\n",
              "<table border=\"1\" class=\"dataframe\">\n",
              "  <thead>\n",
              "    <tr style=\"text-align: right;\">\n",
              "      <th></th>\n",
              "      <th>month_ave_open</th>\n",
              "      <th>month_ave_high</th>\n",
              "      <th>month_ave_low</th>\n",
              "      <th>month_ave_close</th>\n",
              "      <th>month_ave_volume</th>\n",
              "      <th>month_ave_close_shift</th>\n",
              "      <th>month_ave_close_shift_diff</th>\n",
              "      <th>month_ave_close_shift_diff_percent</th>\n",
              "    </tr>\n",
              "    <tr>\n",
              "      <th>Date</th>\n",
              "      <th></th>\n",
              "      <th></th>\n",
              "      <th></th>\n",
              "      <th></th>\n",
              "      <th></th>\n",
              "      <th></th>\n",
              "      <th></th>\n",
              "      <th></th>\n",
              "    </tr>\n",
              "  </thead>\n",
              "  <tbody>\n",
              "    <tr>\n",
              "      <th>2014-11-30</th>\n",
              "      <td>364.850235</td>\n",
              "      <td>376.494235</td>\n",
              "      <td>357.241831</td>\n",
              "      <td>366.099799</td>\n",
              "      <td>2.199111e+07</td>\n",
              "      <td>341.267871</td>\n",
              "      <td>-24.831928</td>\n",
              "      <td>-0.067828</td>\n",
              "    </tr>\n",
              "    <tr>\n",
              "      <th>2014-12-31</th>\n",
              "      <td>343.074836</td>\n",
              "      <td>347.487129</td>\n",
              "      <td>336.565775</td>\n",
              "      <td>341.267871</td>\n",
              "      <td>1.784201e+07</td>\n",
              "      <td>248.782547</td>\n",
              "      <td>-92.485323</td>\n",
              "      <td>-0.271005</td>\n",
              "    </tr>\n",
              "    <tr>\n",
              "      <th>2015-01-31</th>\n",
              "      <td>251.799905</td>\n",
              "      <td>261.391583</td>\n",
              "      <td>240.495550</td>\n",
              "      <td>248.782547</td>\n",
              "      <td>3.544555e+07</td>\n",
              "      <td>234.153645</td>\n",
              "      <td>-14.628903</td>\n",
              "      <td>-0.058802</td>\n",
              "    </tr>\n",
              "    <tr>\n",
              "      <th>2015-02-28</th>\n",
              "      <td>232.821856</td>\n",
              "      <td>240.211430</td>\n",
              "      <td>227.769678</td>\n",
              "      <td>234.153645</td>\n",
              "      <td>2.541138e+07</td>\n",
              "      <td>269.042259</td>\n",
              "      <td>34.888614</td>\n",
              "      <td>0.148999</td>\n",
              "    </tr>\n",
              "    <tr>\n",
              "      <th>2015-03-31</th>\n",
              "      <td>269.278419</td>\n",
              "      <td>274.850999</td>\n",
              "      <td>263.134162</td>\n",
              "      <td>269.042259</td>\n",
              "      <td>3.093865e+07</td>\n",
              "      <td>235.491534</td>\n",
              "      <td>-33.550725</td>\n",
              "      <td>-0.124704</td>\n",
              "    </tr>\n",
              "    <tr>\n",
              "      <th>...</th>\n",
              "      <td>...</td>\n",
              "      <td>...</td>\n",
              "      <td>...</td>\n",
              "      <td>...</td>\n",
              "      <td>...</td>\n",
              "      <td>...</td>\n",
              "      <td>...</td>\n",
              "      <td>...</td>\n",
              "    </tr>\n",
              "    <tr>\n",
              "      <th>2022-04-30</th>\n",
              "      <td>41694.653646</td>\n",
              "      <td>42328.085156</td>\n",
              "      <td>40805.150260</td>\n",
              "      <td>41435.319661</td>\n",
              "      <td>2.767053e+10</td>\n",
              "      <td>31706.105217</td>\n",
              "      <td>-9729.214445</td>\n",
              "      <td>-0.234805</td>\n",
              "    </tr>\n",
              "    <tr>\n",
              "      <th>2022-05-31</th>\n",
              "      <td>31900.711127</td>\n",
              "      <td>32629.598349</td>\n",
              "      <td>30905.249244</td>\n",
              "      <td>31706.105217</td>\n",
              "      <td>3.566740e+10</td>\n",
              "      <td>24383.685482</td>\n",
              "      <td>-7322.419735</td>\n",
              "      <td>-0.230947</td>\n",
              "    </tr>\n",
              "    <tr>\n",
              "      <th>2022-06-30</th>\n",
              "      <td>24783.338477</td>\n",
              "      <td>25228.663672</td>\n",
              "      <td>23752.240495</td>\n",
              "      <td>24383.685482</td>\n",
              "      <td>3.079797e+10</td>\n",
              "      <td>21539.253843</td>\n",
              "      <td>-2844.431639</td>\n",
              "      <td>-0.116653</td>\n",
              "    </tr>\n",
              "    <tr>\n",
              "      <th>2022-07-31</th>\n",
              "      <td>21424.733052</td>\n",
              "      <td>22012.192729</td>\n",
              "      <td>20958.936996</td>\n",
              "      <td>21539.253843</td>\n",
              "      <td>2.992201e+10</td>\n",
              "      <td>22366.266318</td>\n",
              "      <td>827.012475</td>\n",
              "      <td>0.038396</td>\n",
              "    </tr>\n",
              "    <tr>\n",
              "      <th>2022-08-31</th>\n",
              "      <td>22471.866557</td>\n",
              "      <td>22870.607863</td>\n",
              "      <td>22075.572203</td>\n",
              "      <td>22366.266318</td>\n",
              "      <td>2.884492e+10</td>\n",
              "      <td>19936.281250</td>\n",
              "      <td>-2429.985068</td>\n",
              "      <td>-0.108645</td>\n",
              "    </tr>\n",
              "  </tbody>\n",
              "</table>\n",
              "<p>94 rows × 8 columns</p>\n",
              "</div>\n",
              "      <button class=\"colab-df-convert\" onclick=\"convertToInteractive('df-6598c951-f79b-4c11-b85f-c2b1824b7579')\"\n",
              "              title=\"Convert this dataframe to an interactive table.\"\n",
              "              style=\"display:none;\">\n",
              "        \n",
              "  <svg xmlns=\"http://www.w3.org/2000/svg\" height=\"24px\"viewBox=\"0 0 24 24\"\n",
              "       width=\"24px\">\n",
              "    <path d=\"M0 0h24v24H0V0z\" fill=\"none\"/>\n",
              "    <path d=\"M18.56 5.44l.94 2.06.94-2.06 2.06-.94-2.06-.94-.94-2.06-.94 2.06-2.06.94zm-11 1L8.5 8.5l.94-2.06 2.06-.94-2.06-.94L8.5 2.5l-.94 2.06-2.06.94zm10 10l.94 2.06.94-2.06 2.06-.94-2.06-.94-.94-2.06-.94 2.06-2.06.94z\"/><path d=\"M17.41 7.96l-1.37-1.37c-.4-.4-.92-.59-1.43-.59-.52 0-1.04.2-1.43.59L10.3 9.45l-7.72 7.72c-.78.78-.78 2.05 0 2.83L4 21.41c.39.39.9.59 1.41.59.51 0 1.02-.2 1.41-.59l7.78-7.78 2.81-2.81c.8-.78.8-2.07 0-2.86zM5.41 20L4 18.59l7.72-7.72 1.47 1.35L5.41 20z\"/>\n",
              "  </svg>\n",
              "      </button>\n",
              "      \n",
              "  <style>\n",
              "    .colab-df-container {\n",
              "      display:flex;\n",
              "      flex-wrap:wrap;\n",
              "      gap: 12px;\n",
              "    }\n",
              "\n",
              "    .colab-df-convert {\n",
              "      background-color: #E8F0FE;\n",
              "      border: none;\n",
              "      border-radius: 50%;\n",
              "      cursor: pointer;\n",
              "      display: none;\n",
              "      fill: #1967D2;\n",
              "      height: 32px;\n",
              "      padding: 0 0 0 0;\n",
              "      width: 32px;\n",
              "    }\n",
              "\n",
              "    .colab-df-convert:hover {\n",
              "      background-color: #E2EBFA;\n",
              "      box-shadow: 0px 1px 2px rgba(60, 64, 67, 0.3), 0px 1px 3px 1px rgba(60, 64, 67, 0.15);\n",
              "      fill: #174EA6;\n",
              "    }\n",
              "\n",
              "    [theme=dark] .colab-df-convert {\n",
              "      background-color: #3B4455;\n",
              "      fill: #D2E3FC;\n",
              "    }\n",
              "\n",
              "    [theme=dark] .colab-df-convert:hover {\n",
              "      background-color: #434B5C;\n",
              "      box-shadow: 0px 1px 3px 1px rgba(0, 0, 0, 0.15);\n",
              "      filter: drop-shadow(0px 1px 2px rgba(0, 0, 0, 0.3));\n",
              "      fill: #FFFFFF;\n",
              "    }\n",
              "  </style>\n",
              "\n",
              "      <script>\n",
              "        const buttonEl =\n",
              "          document.querySelector('#df-6598c951-f79b-4c11-b85f-c2b1824b7579 button.colab-df-convert');\n",
              "        buttonEl.style.display =\n",
              "          google.colab.kernel.accessAllowed ? 'block' : 'none';\n",
              "\n",
              "        async function convertToInteractive(key) {\n",
              "          const element = document.querySelector('#df-6598c951-f79b-4c11-b85f-c2b1824b7579');\n",
              "          const dataTable =\n",
              "            await google.colab.kernel.invokeFunction('convertToInteractive',\n",
              "                                                     [key], {});\n",
              "          if (!dataTable) return;\n",
              "\n",
              "          const docLinkHtml = 'Like what you see? Visit the ' +\n",
              "            '<a target=\"_blank\" href=https://colab.research.google.com/notebooks/data_table.ipynb>data table notebook</a>'\n",
              "            + ' to learn more about interactive tables.';\n",
              "          element.innerHTML = '';\n",
              "          dataTable['output_type'] = 'display_data';\n",
              "          await google.colab.output.renderOutput(dataTable, element);\n",
              "          const docLink = document.createElement('div');\n",
              "          docLink.innerHTML = docLinkHtml;\n",
              "          element.appendChild(docLink);\n",
              "        }\n",
              "      </script>\n",
              "    </div>\n",
              "  </div>\n",
              "  "
            ]
          },
          "metadata": {},
          "execution_count": 192
        }
      ]
    },
    {
      "cell_type": "markdown",
      "source": [
        "!! Stationary"
      ],
      "metadata": {
        "id": "y86CbumVPQwm"
      }
    },
    {
      "cell_type": "code",
      "source": [
        "seasonal_decompose(btc_month_mean['month_ave_close_shift_diff_percent']).plot()   \n",
        "print(\"Dickey–Fuller test: p=%f\" % adfuller(btc_month_mean['month_ave_close_shift_diff_percent'])[1])"
      ],
      "metadata": {
        "colab": {
          "base_uri": "https://localhost:8080/",
          "height": 315
        },
        "id": "qVYdF7InQs0n",
        "outputId": "22937dca-c4f0-4374-e700-b1f802fe7961"
      },
      "execution_count": 193,
      "outputs": [
        {
          "output_type": "display_data",
          "data": {
            "text/plain": [
              "<IPython.core.display.HTML object>"
            ],
            "text/html": [
              "\n",
              "            <script src=\"/static/components/requirejs/require.js\"></script>\n",
              "            <script>\n",
              "              requirejs.config({\n",
              "                paths: {\n",
              "                  base: '/static/base',\n",
              "                  plotly: 'https://cdn.plot.ly/plotly-latest.min.js?noext',\n",
              "                },\n",
              "              });\n",
              "            </script>\n",
              "            "
            ]
          },
          "metadata": {}
        },
        {
          "output_type": "display_data",
          "data": {
            "text/plain": [
              "<IPython.core.display.HTML object>"
            ],
            "text/html": [
              "\n",
              "            <script src=\"/static/components/requirejs/require.js\"></script>\n",
              "            <script>\n",
              "              requirejs.config({\n",
              "                paths: {\n",
              "                  base: '/static/base',\n",
              "                  plotly: 'https://cdn.plot.ly/plotly-latest.min.js?noext',\n",
              "                },\n",
              "              });\n",
              "            </script>\n",
              "            "
            ]
          },
          "metadata": {}
        },
        {
          "output_type": "display_data",
          "data": {
            "text/plain": [
              "<IPython.core.display.HTML object>"
            ],
            "text/html": [
              "\n",
              "            <script src=\"/static/components/requirejs/require.js\"></script>\n",
              "            <script>\n",
              "              requirejs.config({\n",
              "                paths: {\n",
              "                  base: '/static/base',\n",
              "                  plotly: 'https://cdn.plot.ly/plotly-latest.min.js?noext',\n",
              "                },\n",
              "              });\n",
              "            </script>\n",
              "            "
            ]
          },
          "metadata": {}
        },
        {
          "output_type": "stream",
          "name": "stdout",
          "text": [
            "Dickey–Fuller test: p=0.000000\n"
          ]
        },
        {
          "output_type": "display_data",
          "data": {
            "text/plain": [
              "<Figure size 432x288 with 4 Axes>"
            ],
            "image/png": "[encoded data removed]"
          },
          "metadata": {
            "needs_background": "light"
          }
        }
      ]
    },
    {
      "cell_type": "code",
      "source": [
        "from statsmodels.graphics.tsaplots import plot_acf, plot_pacf\n",
        "\n",
        "plot_acf(btc_month_mean['month_ave_close_shift_diff_percent'], lags=24);\n",
        "plot_pacf(btc_month_mean['month_ave_close_shift_diff_percent'], lags=24);"
      ],
      "metadata": {
        "colab": {
          "base_uri": "https://localhost:8080/",
          "height": 545
        },
        "id": "aRKu6Vqwokmf",
        "outputId": "bd903cb8-7b33-4666-9222-0a3e687deec7"
      },
      "execution_count": 194,
      "outputs": [
        {
          "output_type": "display_data",
          "data": {
            "text/plain": [
              "<IPython.core.display.HTML object>"
            ],
            "text/html": [
              "\n",
              "            <script src=\"/static/components/requirejs/require.js\"></script>\n",
              "            <script>\n",
              "              requirejs.config({\n",
              "                paths: {\n",
              "                  base: '/static/base',\n",
              "                  plotly: 'https://cdn.plot.ly/plotly-latest.min.js?noext',\n",
              "                },\n",
              "              });\n",
              "            </script>\n",
              "            "
            ]
          },
          "metadata": {}
        },
        {
          "output_type": "display_data",
          "data": {
            "text/plain": [
              "<IPython.core.display.HTML object>"
            ],
            "text/html": [
              "\n",
              "            <script src=\"/static/components/requirejs/require.js\"></script>\n",
              "            <script>\n",
              "              requirejs.config({\n",
              "                paths: {\n",
              "                  base: '/static/base',\n",
              "                  plotly: 'https://cdn.plot.ly/plotly-latest.min.js?noext',\n",
              "                },\n",
              "              });\n",
              "            </script>\n",
              "            "
            ]
          },
          "metadata": {}
        },
        {
          "output_type": "display_data",
          "data": {
            "text/plain": [
              "<IPython.core.display.HTML object>"
            ],
            "text/html": [
              "\n",
              "            <script src=\"/static/components/requirejs/require.js\"></script>\n",
              "            <script>\n",
              "              requirejs.config({\n",
              "                paths: {\n",
              "                  base: '/static/base',\n",
              "                  plotly: 'https://cdn.plot.ly/plotly-latest.min.js?noext',\n",
              "                },\n",
              "              });\n",
              "            </script>\n",
              "            "
            ]
          },
          "metadata": {}
        },
        {
          "output_type": "display_data",
          "data": {
            "text/plain": [
              "<Figure size 432x288 with 1 Axes>"
            ],
            "image/png": "[encoded data removed]"
          },
          "metadata": {
            "needs_background": "light"
          }
        },
        {
          "output_type": "display_data",
          "data": {
            "text/plain": [
              "<Figure size 432x288 with 1 Axes>"
            ],
            "image/png": "[encoded data removed]"
          },
          "metadata": {
            "needs_background": "light"
          }
        }
      ]
    },
    {
      "cell_type": "markdown",
      "source": [
        "## Train/Test Split + Scale Data"
      ],
      "metadata": {
        "id": "FPbeVv8gd1nq"
      }
    },
    {
      "cell_type": "code",
      "source": [
        "train_test_split = int(btc_month_mean.shape[0] * 0.75)\n",
        "train = btc_month_mean.copy().iloc[:train_test_split]\n",
        "test = btc_month_mean.copy().iloc[train_test_split:]\n",
        "train.shape, test.shape"
      ],
      "metadata": {
        "colab": {
          "base_uri": "https://localhost:8080/",
          "height": 35
        },
        "id": "5UvO5oxlQs3T",
        "outputId": "c3da11dc-4388-4810-df4a-2dc4adba729f"
      },
      "execution_count": 195,
      "outputs": [
        {
          "output_type": "display_data",
          "data": {
            "text/plain": [
              "<IPython.core.display.HTML object>"
            ],
            "text/html": [
              "\n",
              "            <script src=\"/static/components/requirejs/require.js\"></script>\n",
              "            <script>\n",
              "              requirejs.config({\n",
              "                paths: {\n",
              "                  base: '/static/base',\n",
              "                  plotly: 'https://cdn.plot.ly/plotly-latest.min.js?noext',\n",
              "                },\n",
              "              });\n",
              "            </script>\n",
              "            "
            ]
          },
          "metadata": {}
        },
        {
          "output_type": "display_data",
          "data": {
            "text/plain": [
              "<IPython.core.display.HTML object>"
            ],
            "text/html": [
              "\n",
              "            <script src=\"/static/components/requirejs/require.js\"></script>\n",
              "            <script>\n",
              "              requirejs.config({\n",
              "                paths: {\n",
              "                  base: '/static/base',\n",
              "                  plotly: 'https://cdn.plot.ly/plotly-latest.min.js?noext',\n",
              "                },\n",
              "              });\n",
              "            </script>\n",
              "            "
            ]
          },
          "metadata": {}
        },
        {
          "output_type": "display_data",
          "data": {
            "text/plain": [
              "<IPython.core.display.HTML object>"
            ],
            "text/html": [
              "\n",
              "            <script src=\"/static/components/requirejs/require.js\"></script>\n",
              "            <script>\n",
              "              requirejs.config({\n",
              "                paths: {\n",
              "                  base: '/static/base',\n",
              "                  plotly: 'https://cdn.plot.ly/plotly-latest.min.js?noext',\n",
              "                },\n",
              "              });\n",
              "            </script>\n",
              "            "
            ]
          },
          "metadata": {}
        },
        {
          "output_type": "execute_result",
          "data": {
            "text/plain": [
              "((70, 8), (24, 8))"
            ]
          },
          "metadata": {},
          "execution_count": 195
        }
      ]
    },
    {
      "cell_type": "code",
      "source": [
        "train.columns"
      ],
      "metadata": {
        "colab": {
          "base_uri": "https://localhost:8080/",
          "height": 89
        },
        "id": "rAD2Ae2tHMTB",
        "outputId": "7560bc99-ba66-4999-a0f7-3c552b3c3828"
      },
      "execution_count": 196,
      "outputs": [
        {
          "output_type": "display_data",
          "data": {
            "text/plain": [
              "<IPython.core.display.HTML object>"
            ],
            "text/html": [
              "\n",
              "            <script src=\"/static/components/requirejs/require.js\"></script>\n",
              "            <script>\n",
              "              requirejs.config({\n",
              "                paths: {\n",
              "                  base: '/static/base',\n",
              "                  plotly: 'https://cdn.plot.ly/plotly-latest.min.js?noext',\n",
              "                },\n",
              "              });\n",
              "            </script>\n",
              "            "
            ]
          },
          "metadata": {}
        },
        {
          "output_type": "display_data",
          "data": {
            "text/plain": [
              "<IPython.core.display.HTML object>"
            ],
            "text/html": [
              "\n",
              "            <script src=\"/static/components/requirejs/require.js\"></script>\n",
              "            <script>\n",
              "              requirejs.config({\n",
              "                paths: {\n",
              "                  base: '/static/base',\n",
              "                  plotly: 'https://cdn.plot.ly/plotly-latest.min.js?noext',\n",
              "                },\n",
              "              });\n",
              "            </script>\n",
              "            "
            ]
          },
          "metadata": {}
        },
        {
          "output_type": "display_data",
          "data": {
            "text/plain": [
              "<IPython.core.display.HTML object>"
            ],
            "text/html": [
              "\n",
              "            <script src=\"/static/components/requirejs/require.js\"></script>\n",
              "            <script>\n",
              "              requirejs.config({\n",
              "                paths: {\n",
              "                  base: '/static/base',\n",
              "                  plotly: 'https://cdn.plot.ly/plotly-latest.min.js?noext',\n",
              "                },\n",
              "              });\n",
              "            </script>\n",
              "            "
            ]
          },
          "metadata": {}
        },
        {
          "output_type": "execute_result",
          "data": {
            "text/plain": [
              "Index(['month_ave_open', 'month_ave_high', 'month_ave_low', 'month_ave_close',\n",
              "       'month_ave_volume', 'month_ave_close_shift',\n",
              "       'month_ave_close_shift_diff', 'month_ave_close_shift_diff_percent'],\n",
              "      dtype='object')"
            ]
          },
          "metadata": {},
          "execution_count": 196
        }
      ]
    },
    {
      "cell_type": "code",
      "source": [
        "# scaler = StandardScaler()\n",
        "scaler = MinMaxScaler()\n",
        "\n",
        "#hide warnings\n",
        "train_scaled = pd.DataFrame()\n",
        "test_scaled = pd.DataFrame()\n",
        "\n",
        "train_scaled[['month_ave_open', 'month_ave_high', 'month_ave_low', 'month_ave_volume', 'month_ave_close', 'month_ave_close_shift_diff_percent']] = \\\n",
        "  scaler.fit_transform(train[['month_ave_open', 'month_ave_high', 'month_ave_low', 'month_ave_volume', 'month_ave_close', 'month_ave_close_shift_diff_percent']])\n",
        "test_scaled[['month_ave_open', 'month_ave_high', 'month_ave_low', 'month_ave_volume', 'month_ave_close', 'month_ave_close_shift_diff_percent']] = \\\n",
        "  scaler.transform(test[['month_ave_open', 'month_ave_high', 'month_ave_low', 'month_ave_volume', 'month_ave_close', 'month_ave_close_shift_diff_percent']])\n",
        "\n",
        "train_scaled.index = train.index\n",
        "test_scaled.index = test.index\n",
        "\n",
        "display(train_scaled.head())\n",
        "display(test_scaled.tail())"
      ],
      "metadata": {
        "colab": {
          "base_uri": "https://localhost:8080/",
          "height": 458
        },
        "id": "1ygqQE83Qs6J",
        "outputId": "d6254215-eee4-4c57-995d-ce7a5a080dc6"
      },
      "execution_count": 197,
      "outputs": [
        {
          "output_type": "display_data",
          "data": {
            "text/plain": [
              "<IPython.core.display.HTML object>"
            ],
            "text/html": [
              "\n",
              "            <script src=\"/static/components/requirejs/require.js\"></script>\n",
              "            <script>\n",
              "              requirejs.config({\n",
              "                paths: {\n",
              "                  base: '/static/base',\n",
              "                  plotly: 'https://cdn.plot.ly/plotly-latest.min.js?noext',\n",
              "                },\n",
              "              });\n",
              "            </script>\n",
              "            "
            ]
          },
          "metadata": {}
        },
        {
          "output_type": "display_data",
          "data": {
            "text/plain": [
              "<IPython.core.display.HTML object>"
            ],
            "text/html": [
              "\n",
              "            <script src=\"/static/components/requirejs/require.js\"></script>\n",
              "            <script>\n",
              "              requirejs.config({\n",
              "                paths: {\n",
              "                  base: '/static/base',\n",
              "                  plotly: 'https://cdn.plot.ly/plotly-latest.min.js?noext',\n",
              "                },\n",
              "              });\n",
              "            </script>\n",
              "            "
            ]
          },
          "metadata": {}
        },
        {
          "output_type": "display_data",
          "data": {
            "text/plain": [
              "<IPython.core.display.HTML object>"
            ],
            "text/html": [
              "\n",
              "            <script src=\"/static/components/requirejs/require.js\"></script>\n",
              "            <script>\n",
              "              requirejs.config({\n",
              "                paths: {\n",
              "                  base: '/static/base',\n",
              "                  plotly: 'https://cdn.plot.ly/plotly-latest.min.js?noext',\n",
              "                },\n",
              "              });\n",
              "            </script>\n",
              "            "
            ]
          },
          "metadata": {}
        },
        {
          "output_type": "display_data",
          "data": {
            "text/plain": [
              "            month_ave_open  month_ave_high  month_ave_low  month_ave_volume  \\\n",
              "Date                                                                          \n",
              "2014-11-30        0.008836        0.008840       0.009269          0.000100   \n",
              "2014-12-31        0.007379        0.007006       0.007789          0.000000   \n",
              "2015-01-31        0.001270        0.001562       0.000911          0.000423   \n",
              "2015-02-28        0.000000        0.000223       0.000000          0.000182   \n",
              "2015-03-31        0.002440        0.002413       0.002532          0.000315   \n",
              "\n",
              "            month_ave_close  month_ave_close_shift_diff_percent  \n",
              "Date                                                             \n",
              "2014-11-30         0.008798                            0.192411  \n",
              "2014-12-31         0.007149                            0.032382  \n",
              "2015-01-31         0.001008                            0.199520  \n",
              "2015-02-28         0.000037                            0.363191  \n",
              "2015-03-31         0.002354                            0.147613  "
            ],
            "text/html": [
              "\n",
              "  <div id=\"df-eac3b7b6-a44e-460c-a221-61dd07e96172\">\n",
              "    <div class=\"colab-df-container\">\n",
              "      <div>\n",
              "<style scoped>\n",
              "    .dataframe tbody tr th:only-of-type {\n",
              "        vertical-align: middle;\n",
              "    }\n",
              "\n",
              "    .dataframe tbody tr th {\n",
              "        vertical-align: top;\n",
              "    }\n",
              "\n",
              "    .dataframe thead th {\n",
              "        text-align: right;\n",
              "    }\n",
              "</style>\n",
              "<table border=\"1\" class=\"dataframe\">\n",
              "  <thead>\n",
              "    <tr style=\"text-align: right;\">\n",
              "      <th></th>\n",
              "      <th>month_ave_open</th>\n",
              "      <th>month_ave_high</th>\n",
              "      <th>month_ave_low</th>\n",
              "      <th>month_ave_volume</th>\n",
              "      <th>month_ave_close</th>\n",
              "      <th>month_ave_close_shift_diff_percent</th>\n",
              "    </tr>\n",
              "    <tr>\n",
              "      <th>Date</th>\n",
              "      <th></th>\n",
              "      <th></th>\n",
              "      <th></th>\n",
              "      <th></th>\n",
              "      <th></th>\n",
              "      <th></th>\n",
              "    </tr>\n",
              "  </thead>\n",
              "  <tbody>\n",
              "    <tr>\n",
              "      <th>2014-11-30</th>\n",
              "      <td>0.008836</td>\n",
              "      <td>0.008840</td>\n",
              "      <td>0.009269</td>\n",
              "      <td>0.000100</td>\n",
              "      <td>0.008798</td>\n",
              "      <td>0.192411</td>\n",
              "    </tr>\n",
              "    <tr>\n",
              "      <th>2014-12-31</th>\n",
              "      <td>0.007379</td>\n",
              "      <td>0.007006</td>\n",
              "      <td>0.007789</td>\n",
              "      <td>0.000000</td>\n",
              "      <td>0.007149</td>\n",
              "      <td>0.032382</td>\n",
              "    </tr>\n",
              "    <tr>\n",
              "      <th>2015-01-31</th>\n",
              "      <td>0.001270</td>\n",
              "      <td>0.001562</td>\n",
              "      <td>0.000911</td>\n",
              "      <td>0.000423</td>\n",
              "      <td>0.001008</td>\n",
              "      <td>0.199520</td>\n",
              "    </tr>\n",
              "    <tr>\n",
              "      <th>2015-02-28</th>\n",
              "      <td>0.000000</td>\n",
              "      <td>0.000223</td>\n",
              "      <td>0.000000</td>\n",
              "      <td>0.000182</td>\n",
              "      <td>0.000037</td>\n",
              "      <td>0.363191</td>\n",
              "    </tr>\n",
              "    <tr>\n",
              "      <th>2015-03-31</th>\n",
              "      <td>0.002440</td>\n",
              "      <td>0.002413</td>\n",
              "      <td>0.002532</td>\n",
              "      <td>0.000315</td>\n",
              "      <td>0.002354</td>\n",
              "      <td>0.147613</td>\n",
              "    </tr>\n",
              "  </tbody>\n",
              "</table>\n",
              "</div>\n",
              "      <button class=\"colab-df-convert\" onclick=\"convertToInteractive('df-eac3b7b6-a44e-460c-a221-61dd07e96172')\"\n",
              "              title=\"Convert this dataframe to an interactive table.\"\n",
              "              style=\"display:none;\">\n",
              "        \n",
              "  <svg xmlns=\"http://www.w3.org/2000/svg\" height=\"24px\"viewBox=\"0 0 24 24\"\n",
              "       width=\"24px\">\n",
              "    <path d=\"M0 0h24v24H0V0z\" fill=\"none\"/>\n",
              "    <path d=\"M18.56 5.44l.94 2.06.94-2.06 2.06-.94-2.06-.94-.94-2.06-.94 2.06-2.06.94zm-11 1L8.5 8.5l.94-2.06 2.06-.94-2.06-.94L8.5 2.5l-.94 2.06-2.06.94zm10 10l.94 2.06.94-2.06 2.06-.94-2.06-.94-.94-2.06-.94 2.06-2.06.94z\"/><path d=\"M17.41 7.96l-1.37-1.37c-.4-.4-.92-.59-1.43-.59-.52 0-1.04.2-1.43.59L10.3 9.45l-7.72 7.72c-.78.78-.78 2.05 0 2.83L4 21.41c.39.39.9.59 1.41.59.51 0 1.02-.2 1.41-.59l7.78-7.78 2.81-2.81c.8-.78.8-2.07 0-2.86zM5.41 20L4 18.59l7.72-7.72 1.47 1.35L5.41 20z\"/>\n",
              "  </svg>\n",
              "      </button>\n",
              "      \n",
              "  <style>\n",
              "    .colab-df-container {\n",
              "      display:flex;\n",
              "      flex-wrap:wrap;\n",
              "      gap: 12px;\n",
              "    }\n",
              "\n",
              "    .colab-df-convert {\n",
              "      background-color: #E8F0FE;\n",
              "      border: none;\n",
              "      border-radius: 50%;\n",
              "      cursor: pointer;\n",
              "      display: none;\n",
              "      fill: #1967D2;\n",
              "      height: 32px;\n",
              "      padding: 0 0 0 0;\n",
              "      width: 32px;\n",
              "    }\n",
              "\n",
              "    .colab-df-convert:hover {\n",
              "      background-color: #E2EBFA;\n",
              "      box-shadow: 0px 1px 2px rgba(60, 64, 67, 0.3), 0px 1px 3px 1px rgba(60, 64, 67, 0.15);\n",
              "      fill: #174EA6;\n",
              "    }\n",
              "\n",
              "    [theme=dark] .colab-df-convert {\n",
              "      background-color: #3B4455;\n",
              "      fill: #D2E3FC;\n",
              "    }\n",
              "\n",
              "    [theme=dark] .colab-df-convert:hover {\n",
              "      background-color: #434B5C;\n",
              "      box-shadow: 0px 1px 3px 1px rgba(0, 0, 0, 0.15);\n",
              "      filter: drop-shadow(0px 1px 2px rgba(0, 0, 0, 0.3));\n",
              "      fill: #FFFFFF;\n",
              "    }\n",
              "  </style>\n",
              "\n",
              "      <script>\n",
              "        const buttonEl =\n",
              "          document.querySelector('#df-eac3b7b6-a44e-460c-a221-61dd07e96172 button.colab-df-convert');\n",
              "        buttonEl.style.display =\n",
              "          google.colab.kernel.accessAllowed ? 'block' : 'none';\n",
              "\n",
              "        async function convertToInteractive(key) {\n",
              "          const element = document.querySelector('#df-eac3b7b6-a44e-460c-a221-61dd07e96172');\n",
              "          const dataTable =\n",
              "            await google.colab.kernel.invokeFunction('convertToInteractive',\n",
              "                                                     [key], {});\n",
              "          if (!dataTable) return;\n",
              "\n",
              "          const docLinkHtml = 'Like what you see? Visit the ' +\n",
              "            '<a target=\"_blank\" href=https://colab.research.google.com/notebooks/data_table.ipynb>data table notebook</a>'\n",
              "            + ' to learn more about interactive tables.';\n",
              "          element.innerHTML = '';\n",
              "          dataTable['output_type'] = 'display_data';\n",
              "          await google.colab.output.renderOutput(dataTable, element);\n",
              "          const docLink = document.createElement('div');\n",
              "          docLink.innerHTML = docLinkHtml;\n",
              "          element.appendChild(docLink);\n",
              "        }\n",
              "      </script>\n",
              "    </div>\n",
              "  </div>\n",
              "  "
            ]
          },
          "metadata": {}
        },
        {
          "output_type": "display_data",
          "data": {
            "text/plain": [
              "            month_ave_open  month_ave_high  month_ave_low  month_ave_volume  \\\n",
              "Date                                                                          \n",
              "2022-04-30        2.774778        2.661495       2.905062          0.664579   \n",
              "2022-05-31        2.119331        2.048247       2.196297          0.856768   \n",
              "2022-06-30        1.643011        1.580276       1.684191          0.739741   \n",
              "2022-07-31        1.418240        1.376894       1.484209          0.718689   \n",
              "2022-08-31        1.488318        1.431173       1.564153          0.692803   \n",
              "\n",
              "            month_ave_close  month_ave_close_shift_diff_percent  \n",
              "Date                                                             \n",
              "2022-04-30         2.735716                            0.060894  \n",
              "2022-05-31         2.089714                            0.063933  \n",
              "2022-06-30         1.603520                            0.153954  \n",
              "2022-07-31         1.414655                            0.276076  \n",
              "2022-08-31         1.469567                            0.160262  "
            ],
            "text/html": [
              "\n",
              "  <div id=\"df-93474392-5f4f-4fd3-ab93-60986985f1d9\">\n",
              "    <div class=\"colab-df-container\">\n",
              "      <div>\n",
              "<style scoped>\n",
              "    .dataframe tbody tr th:only-of-type {\n",
              "        vertical-align: middle;\n",
              "    }\n",
              "\n",
              "    .dataframe tbody tr th {\n",
              "        vertical-align: top;\n",
              "    }\n",
              "\n",
              "    .dataframe thead th {\n",
              "        text-align: right;\n",
              "    }\n",
              "</style>\n",
              "<table border=\"1\" class=\"dataframe\">\n",
              "  <thead>\n",
              "    <tr style=\"text-align: right;\">\n",
              "      <th></th>\n",
              "      <th>month_ave_open</th>\n",
              "      <th>month_ave_high</th>\n",
              "      <th>month_ave_low</th>\n",
              "      <th>month_ave_volume</th>\n",
              "      <th>month_ave_close</th>\n",
              "      <th>month_ave_close_shift_diff_percent</th>\n",
              "    </tr>\n",
              "    <tr>\n",
              "      <th>Date</th>\n",
              "      <th></th>\n",
              "      <th></th>\n",
              "      <th></th>\n",
              "      <th></th>\n",
              "      <th></th>\n",
              "      <th></th>\n",
              "    </tr>\n",
              "  </thead>\n",
              "  <tbody>\n",
              "    <tr>\n",
              "      <th>2022-04-30</th>\n",
              "      <td>2.774778</td>\n",
              "      <td>2.661495</td>\n",
              "      <td>2.905062</td>\n",
              "      <td>0.664579</td>\n",
              "      <td>2.735716</td>\n",
              "      <td>0.060894</td>\n",
              "    </tr>\n",
              "    <tr>\n",
              "      <th>2022-05-31</th>\n",
              "      <td>2.119331</td>\n",
              "      <td>2.048247</td>\n",
              "      <td>2.196297</td>\n",
              "      <td>0.856768</td>\n",
              "      <td>2.089714</td>\n",
              "      <td>0.063933</td>\n",
              "    </tr>\n",
              "    <tr>\n",
              "      <th>2022-06-30</th>\n",
              "      <td>1.643011</td>\n",
              "      <td>1.580276</td>\n",
              "      <td>1.684191</td>\n",
              "      <td>0.739741</td>\n",
              "      <td>1.603520</td>\n",
              "      <td>0.153954</td>\n",
              "    </tr>\n",
              "    <tr>\n",
              "      <th>2022-07-31</th>\n",
              "      <td>1.418240</td>\n",
              "      <td>1.376894</td>\n",
              "      <td>1.484209</td>\n",
              "      <td>0.718689</td>\n",
              "      <td>1.414655</td>\n",
              "      <td>0.276076</td>\n",
              "    </tr>\n",
              "    <tr>\n",
              "      <th>2022-08-31</th>\n",
              "      <td>1.488318</td>\n",
              "      <td>1.431173</td>\n",
              "      <td>1.564153</td>\n",
              "      <td>0.692803</td>\n",
              "      <td>1.469567</td>\n",
              "      <td>0.160262</td>\n",
              "    </tr>\n",
              "  </tbody>\n",
              "</table>\n",
              "</div>\n",
              "      <button class=\"colab-df-convert\" onclick=\"convertToInteractive('df-93474392-5f4f-4fd3-ab93-60986985f1d9')\"\n",
              "              title=\"Convert this dataframe to an interactive table.\"\n",
              "              style=\"display:none;\">\n",
              "        \n",
              "  <svg xmlns=\"http://www.w3.org/2000/svg\" height=\"24px\"viewBox=\"0 0 24 24\"\n",
              "       width=\"24px\">\n",
              "    <path d=\"M0 0h24v24H0V0z\" fill=\"none\"/>\n",
              "    <path d=\"M18.56 5.44l.94 2.06.94-2.06 2.06-.94-2.06-.94-.94-2.06-.94 2.06-2.06.94zm-11 1L8.5 8.5l.94-2.06 2.06-.94-2.06-.94L8.5 2.5l-.94 2.06-2.06.94zm10 10l.94 2.06.94-2.06 2.06-.94-2.06-.94-.94-2.06-.94 2.06-2.06.94z\"/><path d=\"M17.41 7.96l-1.37-1.37c-.4-.4-.92-.59-1.43-.59-.52 0-1.04.2-1.43.59L10.3 9.45l-7.72 7.72c-.78.78-.78 2.05 0 2.83L4 21.41c.39.39.9.59 1.41.59.51 0 1.02-.2 1.41-.59l7.78-7.78 2.81-2.81c.8-.78.8-2.07 0-2.86zM5.41 20L4 18.59l7.72-7.72 1.47 1.35L5.41 20z\"/>\n",
              "  </svg>\n",
              "      </button>\n",
              "      \n",
              "  <style>\n",
              "    .colab-df-container {\n",
              "      display:flex;\n",
              "      flex-wrap:wrap;\n",
              "      gap: 12px;\n",
              "    }\n",
              "\n",
              "    .colab-df-convert {\n",
              "      background-color: #E8F0FE;\n",
              "      border: none;\n",
              "      border-radius: 50%;\n",
              "      cursor: pointer;\n",
              "      display: none;\n",
              "      fill: #1967D2;\n",
              "      height: 32px;\n",
              "      padding: 0 0 0 0;\n",
              "      width: 32px;\n",
              "    }\n",
              "\n",
              "    .colab-df-convert:hover {\n",
              "      background-color: #E2EBFA;\n",
              "      box-shadow: 0px 1px 2px rgba(60, 64, 67, 0.3), 0px 1px 3px 1px rgba(60, 64, 67, 0.15);\n",
              "      fill: #174EA6;\n",
              "    }\n",
              "\n",
              "    [theme=dark] .colab-df-convert {\n",
              "      background-color: #3B4455;\n",
              "      fill: #D2E3FC;\n",
              "    }\n",
              "\n",
              "    [theme=dark] .colab-df-convert:hover {\n",
              "      background-color: #434B5C;\n",
              "      box-shadow: 0px 1px 3px 1px rgba(0, 0, 0, 0.15);\n",
              "      filter: drop-shadow(0px 1px 2px rgba(0, 0, 0, 0.3));\n",
              "      fill: #FFFFFF;\n",
              "    }\n",
              "  </style>\n",
              "\n",
              "      <script>\n",
              "        const buttonEl =\n",
              "          document.querySelector('#df-93474392-5f4f-4fd3-ab93-60986985f1d9 button.colab-df-convert');\n",
              "        buttonEl.style.display =\n",
              "          google.colab.kernel.accessAllowed ? 'block' : 'none';\n",
              "\n",
              "        async function convertToInteractive(key) {\n",
              "          const element = document.querySelector('#df-93474392-5f4f-4fd3-ab93-60986985f1d9');\n",
              "          const dataTable =\n",
              "            await google.colab.kernel.invokeFunction('convertToInteractive',\n",
              "                                                     [key], {});\n",
              "          if (!dataTable) return;\n",
              "\n",
              "          const docLinkHtml = 'Like what you see? Visit the ' +\n",
              "            '<a target=\"_blank\" href=https://colab.research.google.com/notebooks/data_table.ipynb>data table notebook</a>'\n",
              "            + ' to learn more about interactive tables.';\n",
              "          element.innerHTML = '';\n",
              "          dataTable['output_type'] = 'display_data';\n",
              "          await google.colab.output.renderOutput(dataTable, element);\n",
              "          const docLink = document.createElement('div');\n",
              "          docLink.innerHTML = docLinkHtml;\n",
              "          element.appendChild(docLink);\n",
              "        }\n",
              "      </script>\n",
              "    </div>\n",
              "  </div>\n",
              "  "
            ]
          },
          "metadata": {}
        }
      ]
    },
    {
      "cell_type": "code",
      "source": [
        "X_train = train_scaled.copy().drop(columns=['month_ave_close_shift_diff_percent'])\n",
        "y_train = train_scaled.copy()['month_ave_close_shift_diff_percent']\n",
        "\n",
        "X_test = test_scaled.copy().drop(columns=['month_ave_close_shift_diff_percent'])\n",
        "y_test = test_scaled.copy()['month_ave_close_shift_diff_percent']\n",
        "\n",
        "X_train.shape, y_train.shape, X_test.shape, y_test.shape"
      ],
      "metadata": {
        "colab": {
          "base_uri": "https://localhost:8080/",
          "height": 35
        },
        "id": "oq3iHvzSQs8g",
        "outputId": "dbdda94d-2135-4f6c-aff9-8d6a88c12e41"
      },
      "execution_count": 198,
      "outputs": [
        {
          "output_type": "display_data",
          "data": {
            "text/plain": [
              "<IPython.core.display.HTML object>"
            ],
            "text/html": [
              "\n",
              "            <script src=\"/static/components/requirejs/require.js\"></script>\n",
              "            <script>\n",
              "              requirejs.config({\n",
              "                paths: {\n",
              "                  base: '/static/base',\n",
              "                  plotly: 'https://cdn.plot.ly/plotly-latest.min.js?noext',\n",
              "                },\n",
              "              });\n",
              "            </script>\n",
              "            "
            ]
          },
          "metadata": {}
        },
        {
          "output_type": "display_data",
          "data": {
            "text/plain": [
              "<IPython.core.display.HTML object>"
            ],
            "text/html": [
              "\n",
              "            <script src=\"/static/components/requirejs/require.js\"></script>\n",
              "            <script>\n",
              "              requirejs.config({\n",
              "                paths: {\n",
              "                  base: '/static/base',\n",
              "                  plotly: 'https://cdn.plot.ly/plotly-latest.min.js?noext',\n",
              "                },\n",
              "              });\n",
              "            </script>\n",
              "            "
            ]
          },
          "metadata": {}
        },
        {
          "output_type": "display_data",
          "data": {
            "text/plain": [
              "<IPython.core.display.HTML object>"
            ],
            "text/html": [
              "\n",
              "            <script src=\"/static/components/requirejs/require.js\"></script>\n",
              "            <script>\n",
              "              requirejs.config({\n",
              "                paths: {\n",
              "                  base: '/static/base',\n",
              "                  plotly: 'https://cdn.plot.ly/plotly-latest.min.js?noext',\n",
              "                },\n",
              "              });\n",
              "            </script>\n",
              "            "
            ]
          },
          "metadata": {}
        },
        {
          "output_type": "execute_result",
          "data": {
            "text/plain": [
              "((70, 5), (70,), (24, 5), (24,))"
            ]
          },
          "metadata": {},
          "execution_count": 198
        }
      ]
    },
    {
      "cell_type": "code",
      "source": [
        "X_train.head(20)"
      ],
      "metadata": {
        "colab": {
          "base_uri": "https://localhost:8080/",
          "height": 708
        },
        "id": "ypAG7cOalhgK",
        "outputId": "06507f0a-bd68-4820-e4de-f03a54013c5c"
      },
      "execution_count": 199,
      "outputs": [
        {
          "output_type": "display_data",
          "data": {
            "text/plain": [
              "<IPython.core.display.HTML object>"
            ],
            "text/html": [
              "\n",
              "            <script src=\"/static/components/requirejs/require.js\"></script>\n",
              "            <script>\n",
              "              requirejs.config({\n",
              "                paths: {\n",
              "                  base: '/static/base',\n",
              "                  plotly: 'https://cdn.plot.ly/plotly-latest.min.js?noext',\n",
              "                },\n",
              "              });\n",
              "            </script>\n",
              "            "
            ]
          },
          "metadata": {}
        },
        {
          "output_type": "display_data",
          "data": {
            "text/plain": [
              "<IPython.core.display.HTML object>"
            ],
            "text/html": [
              "\n",
              "            <script src=\"/static/components/requirejs/require.js\"></script>\n",
              "            <script>\n",
              "              requirejs.config({\n",
              "                paths: {\n",
              "                  base: '/static/base',\n",
              "                  plotly: 'https://cdn.plot.ly/plotly-latest.min.js?noext',\n",
              "                },\n",
              "              });\n",
              "            </script>\n",
              "            "
            ]
          },
          "metadata": {}
        },
        {
          "output_type": "display_data",
          "data": {
            "text/plain": [
              "<IPython.core.display.HTML object>"
            ],
            "text/html": [
              "\n",
              "            <script src=\"/static/components/requirejs/require.js\"></script>\n",
              "            <script>\n",
              "              requirejs.config({\n",
              "                paths: {\n",
              "                  base: '/static/base',\n",
              "                  plotly: 'https://cdn.plot.ly/plotly-latest.min.js?noext',\n",
              "                },\n",
              "              });\n",
              "            </script>\n",
              "            "
            ]
          },
          "metadata": {}
        },
        {
          "output_type": "execute_result",
          "data": {
            "text/plain": [
              "            month_ave_open  month_ave_high  month_ave_low  month_ave_volume  \\\n",
              "Date                                                                          \n",
              "2014-11-30        0.008836        0.008840       0.009269          0.000100   \n",
              "2014-12-31        0.007379        0.007006       0.007789          0.000000   \n",
              "2015-01-31        0.001270        0.001562       0.000911          0.000423   \n",
              "2015-02-28        0.000000        0.000223       0.000000          0.000182   \n",
              "2015-03-31        0.002440        0.002413       0.002532          0.000315   \n",
              "2015-04-30        0.000193        0.000144       0.000284          0.000110   \n",
              "2015-05-31        0.000290        0.000182       0.000513          0.000012   \n",
              "2015-06-30        0.000276        0.000218       0.000520          0.000076   \n",
              "2015-07-31        0.003081        0.003000       0.003365          0.000346   \n",
              "2015-08-31        0.001350        0.001248       0.001387          0.000273   \n",
              "2015-09-30        0.000044        0.000000       0.000277          0.000055   \n",
              "2015-10-31        0.001973        0.001964       0.002343          0.000310   \n",
              "2015-11-30        0.007632        0.007884       0.007767          0.001316   \n",
              "2015-12-31        0.012702        0.012323       0.013294          0.001196   \n",
              "2016-01-31        0.012045        0.011516       0.012581          0.001115   \n",
              "2016-02-29        0.011342        0.010859       0.012201          0.001126   \n",
              "2016-03-31        0.012343        0.011593       0.013285          0.001380   \n",
              "2016-04-30        0.013429        0.012651       0.014524          0.001022   \n",
              "2016-05-31        0.015153        0.014508       0.016323          0.001303   \n",
              "2016-06-30        0.027152        0.026633       0.028072          0.003376   \n",
              "\n",
              "            month_ave_close  \n",
              "Date                         \n",
              "2014-11-30         0.008798  \n",
              "2014-12-31         0.007149  \n",
              "2015-01-31         0.001008  \n",
              "2015-02-28         0.000037  \n",
              "2015-03-31         0.002354  \n",
              "2015-04-30         0.000126  \n",
              "2015-05-31         0.000226  \n",
              "2015-06-30         0.000298  \n",
              "2015-07-31         0.003052  \n",
              "2015-08-31         0.001138  \n",
              "2015-09-30         0.000000  \n",
              "2015-10-31         0.002076  \n",
              "2015-11-30         0.007655  \n",
              "2015-12-31         0.012673  \n",
              "2016-01-31         0.011769  \n",
              "2016-02-29         0.011342  \n",
              "2016-03-31         0.012146  \n",
              "2016-04-30         0.013329  \n",
              "2016-05-31         0.015163  \n",
              "2016-06-30         0.027175  "
            ],
            "text/html": [
              "\n",
              "  <div id=\"df-8902790a-da66-4c42-8138-e4c232892d24\">\n",
              "    <div class=\"colab-df-container\">\n",
              "      <div>\n",
              "<style scoped>\n",
              "    .dataframe tbody tr th:only-of-type {\n",
              "        vertical-align: middle;\n",
              "    }\n",
              "\n",
              "    .dataframe tbody tr th {\n",
              "        vertical-align: top;\n",
              "    }\n",
              "\n",
              "    .dataframe thead th {\n",
              "        text-align: right;\n",
              "    }\n",
              "</style>\n",
              "<table border=\"1\" class=\"dataframe\">\n",
              "  <thead>\n",
              "    <tr style=\"text-align: right;\">\n",
              "      <th></th>\n",
              "      <th>month_ave_open</th>\n",
              "      <th>month_ave_high</th>\n",
              "      <th>month_ave_low</th>\n",
              "      <th>month_ave_volume</th>\n",
              "      <th>month_ave_close</th>\n",
              "    </tr>\n",
              "    <tr>\n",
              "      <th>Date</th>\n",
              "      <th></th>\n",
              "      <th></th>\n",
              "      <th></th>\n",
              "      <th></th>\n",
              "      <th></th>\n",
              "    </tr>\n",
              "  </thead>\n",
              "  <tbody>\n",
              "    <tr>\n",
              "      <th>2014-11-30</th>\n",
              "      <td>0.008836</td>\n",
              "      <td>0.008840</td>\n",
              "      <td>0.009269</td>\n",
              "      <td>0.000100</td>\n",
              "      <td>0.008798</td>\n",
              "    </tr>\n",
              "    <tr>\n",
              "      <th>2014-12-31</th>\n",
              "      <td>0.007379</td>\n",
              "      <td>0.007006</td>\n",
              "      <td>0.007789</td>\n",
              "      <td>0.000000</td>\n",
              "      <td>0.007149</td>\n",
              "    </tr>\n",
              "    <tr>\n",
              "      <th>2015-01-31</th>\n",
              "      <td>0.001270</td>\n",
              "      <td>0.001562</td>\n",
              "      <td>0.000911</td>\n",
              "      <td>0.000423</td>\n",
              "      <td>0.001008</td>\n",
              "    </tr>\n",
              "    <tr>\n",
              "      <th>2015-02-28</th>\n",
              "      <td>0.000000</td>\n",
              "      <td>0.000223</td>\n",
              "      <td>0.000000</td>\n",
              "      <td>0.000182</td>\n",
              "      <td>0.000037</td>\n",
              "    </tr>\n",
              "    <tr>\n",
              "      <th>2015-03-31</th>\n",
              "      <td>0.002440</td>\n",
              "      <td>0.002413</td>\n",
              "      <td>0.002532</td>\n",
              "      <td>0.000315</td>\n",
              "      <td>0.002354</td>\n",
              "    </tr>\n",
              "    <tr>\n",
              "      <th>2015-04-30</th>\n",
              "      <td>0.000193</td>\n",
              "      <td>0.000144</td>\n",
              "      <td>0.000284</td>\n",
              "      <td>0.000110</td>\n",
              "      <td>0.000126</td>\n",
              "    </tr>\n",
              "    <tr>\n",
              "      <th>2015-05-31</th>\n",
              "      <td>0.000290</td>\n",
              "      <td>0.000182</td>\n",
              "      <td>0.000513</td>\n",
              "      <td>0.000012</td>\n",
              "      <td>0.000226</td>\n",
              "    </tr>\n",
              "    <tr>\n",
              "      <th>2015-06-30</th>\n",
              "      <td>0.000276</td>\n",
              "      <td>0.000218</td>\n",
              "      <td>0.000520</td>\n",
              "      <td>0.000076</td>\n",
              "      <td>0.000298</td>\n",
              "    </tr>\n",
              "    <tr>\n",
              "      <th>2015-07-31</th>\n",
              "      <td>0.003081</td>\n",
              "      <td>0.003000</td>\n",
              "      <td>0.003365</td>\n",
              "      <td>0.000346</td>\n",
              "      <td>0.003052</td>\n",
              "    </tr>\n",
              "    <tr>\n",
              "      <th>2015-08-31</th>\n",
              "      <td>0.001350</td>\n",
              "      <td>0.001248</td>\n",
              "      <td>0.001387</td>\n",
              "      <td>0.000273</td>\n",
              "      <td>0.001138</td>\n",
              "    </tr>\n",
              "    <tr>\n",
              "      <th>2015-09-30</th>\n",
              "      <td>0.000044</td>\n",
              "      <td>0.000000</td>\n",
              "      <td>0.000277</td>\n",
              "      <td>0.000055</td>\n",
              "      <td>0.000000</td>\n",
              "    </tr>\n",
              "    <tr>\n",
              "      <th>2015-10-31</th>\n",
              "      <td>0.001973</td>\n",
              "      <td>0.001964</td>\n",
              "      <td>0.002343</td>\n",
              "      <td>0.000310</td>\n",
              "      <td>0.002076</td>\n",
              "    </tr>\n",
              "    <tr>\n",
              "      <th>2015-11-30</th>\n",
              "      <td>0.007632</td>\n",
              "      <td>0.007884</td>\n",
              "      <td>0.007767</td>\n",
              "      <td>0.001316</td>\n",
              "      <td>0.007655</td>\n",
              "    </tr>\n",
              "    <tr>\n",
              "      <th>2015-12-31</th>\n",
              "      <td>0.012702</td>\n",
              "      <td>0.012323</td>\n",
              "      <td>0.013294</td>\n",
              "      <td>0.001196</td>\n",
              "      <td>0.012673</td>\n",
              "    </tr>\n",
              "    <tr>\n",
              "      <th>2016-01-31</th>\n",
              "      <td>0.012045</td>\n",
              "      <td>0.011516</td>\n",
              "      <td>0.012581</td>\n",
              "      <td>0.001115</td>\n",
              "      <td>0.011769</td>\n",
              "    </tr>\n",
              "    <tr>\n",
              "      <th>2016-02-29</th>\n",
              "      <td>0.011342</td>\n",
              "      <td>0.010859</td>\n",
              "      <td>0.012201</td>\n",
              "      <td>0.001126</td>\n",
              "      <td>0.011342</td>\n",
              "    </tr>\n",
              "    <tr>\n",
              "      <th>2016-03-31</th>\n",
              "      <td>0.012343</td>\n",
              "      <td>0.011593</td>\n",
              "      <td>0.013285</td>\n",
              "      <td>0.001380</td>\n",
              "      <td>0.012146</td>\n",
              "    </tr>\n",
              "    <tr>\n",
              "      <th>2016-04-30</th>\n",
              "      <td>0.013429</td>\n",
              "      <td>0.012651</td>\n",
              "      <td>0.014524</td>\n",
              "      <td>0.001022</td>\n",
              "      <td>0.013329</td>\n",
              "    </tr>\n",
              "    <tr>\n",
              "      <th>2016-05-31</th>\n",
              "      <td>0.015153</td>\n",
              "      <td>0.014508</td>\n",
              "      <td>0.016323</td>\n",
              "      <td>0.001303</td>\n",
              "      <td>0.015163</td>\n",
              "    </tr>\n",
              "    <tr>\n",
              "      <th>2016-06-30</th>\n",
              "      <td>0.027152</td>\n",
              "      <td>0.026633</td>\n",
              "      <td>0.028072</td>\n",
              "      <td>0.003376</td>\n",
              "      <td>0.027175</td>\n",
              "    </tr>\n",
              "  </tbody>\n",
              "</table>\n",
              "</div>\n",
              "      <button class=\"colab-df-convert\" onclick=\"convertToInteractive('df-8902790a-da66-4c42-8138-e4c232892d24')\"\n",
              "              title=\"Convert this dataframe to an interactive table.\"\n",
              "              style=\"display:none;\">\n",
              "        \n",
              "  <svg xmlns=\"http://www.w3.org/2000/svg\" height=\"24px\"viewBox=\"0 0 24 24\"\n",
              "       width=\"24px\">\n",
              "    <path d=\"M0 0h24v24H0V0z\" fill=\"none\"/>\n",
              "    <path d=\"M18.56 5.44l.94 2.06.94-2.06 2.06-.94-2.06-.94-.94-2.06-.94 2.06-2.06.94zm-11 1L8.5 8.5l.94-2.06 2.06-.94-2.06-.94L8.5 2.5l-.94 2.06-2.06.94zm10 10l.94 2.06.94-2.06 2.06-.94-2.06-.94-.94-2.06-.94 2.06-2.06.94z\"/><path d=\"M17.41 7.96l-1.37-1.37c-.4-.4-.92-.59-1.43-.59-.52 0-1.04.2-1.43.59L10.3 9.45l-7.72 7.72c-.78.78-.78 2.05 0 2.83L4 21.41c.39.39.9.59 1.41.59.51 0 1.02-.2 1.41-.59l7.78-7.78 2.81-2.81c.8-.78.8-2.07 0-2.86zM5.41 20L4 18.59l7.72-7.72 1.47 1.35L5.41 20z\"/>\n",
              "  </svg>\n",
              "      </button>\n",
              "      \n",
              "  <style>\n",
              "    .colab-df-container {\n",
              "      display:flex;\n",
              "      flex-wrap:wrap;\n",
              "      gap: 12px;\n",
              "    }\n",
              "\n",
              "    .colab-df-convert {\n",
              "      background-color: #E8F0FE;\n",
              "      border: none;\n",
              "      border-radius: 50%;\n",
              "      cursor: pointer;\n",
              "      display: none;\n",
              "      fill: #1967D2;\n",
              "      height: 32px;\n",
              "      padding: 0 0 0 0;\n",
              "      width: 32px;\n",
              "    }\n",
              "\n",
              "    .colab-df-convert:hover {\n",
              "      background-color: #E2EBFA;\n",
              "      box-shadow: 0px 1px 2px rgba(60, 64, 67, 0.3), 0px 1px 3px 1px rgba(60, 64, 67, 0.15);\n",
              "      fill: #174EA6;\n",
              "    }\n",
              "\n",
              "    [theme=dark] .colab-df-convert {\n",
              "      background-color: #3B4455;\n",
              "      fill: #D2E3FC;\n",
              "    }\n",
              "\n",
              "    [theme=dark] .colab-df-convert:hover {\n",
              "      background-color: #434B5C;\n",
              "      box-shadow: 0px 1px 3px 1px rgba(0, 0, 0, 0.15);\n",
              "      filter: drop-shadow(0px 1px 2px rgba(0, 0, 0, 0.3));\n",
              "      fill: #FFFFFF;\n",
              "    }\n",
              "  </style>\n",
              "\n",
              "      <script>\n",
              "        const buttonEl =\n",
              "          document.querySelector('#df-8902790a-da66-4c42-8138-e4c232892d24 button.colab-df-convert');\n",
              "        buttonEl.style.display =\n",
              "          google.colab.kernel.accessAllowed ? 'block' : 'none';\n",
              "\n",
              "        async function convertToInteractive(key) {\n",
              "          const element = document.querySelector('#df-8902790a-da66-4c42-8138-e4c232892d24');\n",
              "          const dataTable =\n",
              "            await google.colab.kernel.invokeFunction('convertToInteractive',\n",
              "                                                     [key], {});\n",
              "          if (!dataTable) return;\n",
              "\n",
              "          const docLinkHtml = 'Like what you see? Visit the ' +\n",
              "            '<a target=\"_blank\" href=https://colab.research.google.com/notebooks/data_table.ipynb>data table notebook</a>'\n",
              "            + ' to learn more about interactive tables.';\n",
              "          element.innerHTML = '';\n",
              "          dataTable['output_type'] = 'display_data';\n",
              "          await google.colab.output.renderOutput(dataTable, element);\n",
              "          const docLink = document.createElement('div');\n",
              "          docLink.innerHTML = docLinkHtml;\n",
              "          element.appendChild(docLink);\n",
              "        }\n",
              "      </script>\n",
              "    </div>\n",
              "  </div>\n",
              "  "
            ]
          },
          "metadata": {},
          "execution_count": 199
        }
      ]
    },
    {
      "cell_type": "markdown",
      "source": [
        "# LinearRegression (static window)"
      ],
      "metadata": {
        "id": "oxXquj1SxJBw"
      }
    },
    {
      "cell_type": "code",
      "source": [
        "lr = LinearRegression()\n",
        "lr.fit(X_train, y_train) \n",
        "lr.score(X_train, y_train) "
      ],
      "metadata": {
        "colab": {
          "base_uri": "https://localhost:8080/",
          "height": 35
        },
        "id": "L4mBCqNXdMiM",
        "outputId": "895fec31-d564-4c8e-b0d0-776a30c51613"
      },
      "execution_count": 200,
      "outputs": [
        {
          "output_type": "display_data",
          "data": {
            "text/plain": [
              "<IPython.core.display.HTML object>"
            ],
            "text/html": [
              "\n",
              "            <script src=\"/static/components/requirejs/require.js\"></script>\n",
              "            <script>\n",
              "              requirejs.config({\n",
              "                paths: {\n",
              "                  base: '/static/base',\n",
              "                  plotly: 'https://cdn.plot.ly/plotly-latest.min.js?noext',\n",
              "                },\n",
              "              });\n",
              "            </script>\n",
              "            "
            ]
          },
          "metadata": {}
        },
        {
          "output_type": "display_data",
          "data": {
            "text/plain": [
              "<IPython.core.display.HTML object>"
            ],
            "text/html": [
              "\n",
              "            <script src=\"/static/components/requirejs/require.js\"></script>\n",
              "            <script>\n",
              "              requirejs.config({\n",
              "                paths: {\n",
              "                  base: '/static/base',\n",
              "                  plotly: 'https://cdn.plot.ly/plotly-latest.min.js?noext',\n",
              "                },\n",
              "              });\n",
              "            </script>\n",
              "            "
            ]
          },
          "metadata": {}
        },
        {
          "output_type": "display_data",
          "data": {
            "text/plain": [
              "<IPython.core.display.HTML object>"
            ],
            "text/html": [
              "\n",
              "            <script src=\"/static/components/requirejs/require.js\"></script>\n",
              "            <script>\n",
              "              requirejs.config({\n",
              "                paths: {\n",
              "                  base: '/static/base',\n",
              "                  plotly: 'https://cdn.plot.ly/plotly-latest.min.js?noext',\n",
              "                },\n",
              "              });\n",
              "            </script>\n",
              "            "
            ]
          },
          "metadata": {}
        },
        {
          "output_type": "execute_result",
          "data": {
            "text/plain": [
              "0.4130837625034667"
            ]
          },
          "metadata": {},
          "execution_count": 200
        }
      ]
    },
    {
      "cell_type": "code",
      "source": [
        "X_test_predict = lr.predict(X_test)\n",
        "\n",
        "X_test_predict_df = pd.DataFrame(X_test_predict, index=X_test.index, columns=['Y_PRED'])\n",
        "X_test_predict_df"
      ],
      "metadata": {
        "colab": {
          "base_uri": "https://localhost:8080/",
          "height": 833
        },
        "id": "qi6tD6k4dMk8",
        "outputId": "0a640c4c-f13b-481c-80a9-1f8f4d1f657a"
      },
      "execution_count": 201,
      "outputs": [
        {
          "output_type": "display_data",
          "data": {
            "text/plain": [
              "<IPython.core.display.HTML object>"
            ],
            "text/html": [
              "\n",
              "            <script src=\"/static/components/requirejs/require.js\"></script>\n",
              "            <script>\n",
              "              requirejs.config({\n",
              "                paths: {\n",
              "                  base: '/static/base',\n",
              "                  plotly: 'https://cdn.plot.ly/plotly-latest.min.js?noext',\n",
              "                },\n",
              "              });\n",
              "            </script>\n",
              "            "
            ]
          },
          "metadata": {}
        },
        {
          "output_type": "display_data",
          "data": {
            "text/plain": [
              "<IPython.core.display.HTML object>"
            ],
            "text/html": [
              "\n",
              "            <script src=\"/static/components/requirejs/require.js\"></script>\n",
              "            <script>\n",
              "              requirejs.config({\n",
              "                paths: {\n",
              "                  base: '/static/base',\n",
              "                  plotly: 'https://cdn.plot.ly/plotly-latest.min.js?noext',\n",
              "                },\n",
              "              });\n",
              "            </script>\n",
              "            "
            ]
          },
          "metadata": {}
        },
        {
          "output_type": "display_data",
          "data": {
            "text/plain": [
              "<IPython.core.display.HTML object>"
            ],
            "text/html": [
              "\n",
              "            <script src=\"/static/components/requirejs/require.js\"></script>\n",
              "            <script>\n",
              "              requirejs.config({\n",
              "                paths: {\n",
              "                  base: '/static/base',\n",
              "                  plotly: 'https://cdn.plot.ly/plotly-latest.min.js?noext',\n",
              "                },\n",
              "              });\n",
              "            </script>\n",
              "            "
            ]
          },
          "metadata": {}
        },
        {
          "output_type": "execute_result",
          "data": {
            "text/plain": [
              "              Y_PRED\n",
              "Date                \n",
              "2020-09-30  0.122398\n",
              "2020-10-31  0.334955\n",
              "2020-11-30  0.373815\n",
              "2020-12-31  0.541257\n",
              "2021-01-31 -0.257381\n",
              "2021-02-28  0.615860\n",
              "2021-03-31  0.372402\n",
              "2021-04-30 -0.336695\n",
              "2021-05-31 -0.685087\n",
              "2021-06-30 -0.165558\n",
              "2021-07-31  0.474952\n",
              "2021-08-31  0.499061\n",
              "2021-09-30 -0.149795\n",
              "2021-10-31  1.108057\n",
              "2021-11-30 -0.238598\n",
              "2021-12-31 -0.264861\n",
              "2022-01-31 -0.629743\n",
              "2022-02-28  0.604312\n",
              "2022-03-31  0.508889\n",
              "2022-04-30 -0.048584\n",
              "2022-05-31  0.001727\n",
              "2022-06-30 -0.552567\n",
              "2022-07-31  0.522681\n",
              "2022-08-31  0.411875"
            ],
            "text/html": [
              "\n",
              "  <div id=\"df-7e4c3921-31d1-4322-8eb3-19d0af908f9a\">\n",
              "    <div class=\"colab-df-container\">\n",
              "      <div>\n",
              "<style scoped>\n",
              "    .dataframe tbody tr th:only-of-type {\n",
              "        vertical-align: middle;\n",
              "    }\n",
              "\n",
              "    .dataframe tbody tr th {\n",
              "        vertical-align: top;\n",
              "    }\n",
              "\n",
              "    .dataframe thead th {\n",
              "        text-align: right;\n",
              "    }\n",
              "</style>\n",
              "<table border=\"1\" class=\"dataframe\">\n",
              "  <thead>\n",
              "    <tr style=\"text-align: right;\">\n",
              "      <th></th>\n",
              "      <th>Y_PRED</th>\n",
              "    </tr>\n",
              "    <tr>\n",
              "      <th>Date</th>\n",
              "      <th></th>\n",
              "    </tr>\n",
              "  </thead>\n",
              "  <tbody>\n",
              "    <tr>\n",
              "      <th>2020-09-30</th>\n",
              "      <td>0.122398</td>\n",
              "    </tr>\n",
              "    <tr>\n",
              "      <th>2020-10-31</th>\n",
              "      <td>0.334955</td>\n",
              "    </tr>\n",
              "    <tr>\n",
              "      <th>2020-11-30</th>\n",
              "      <td>0.373815</td>\n",
              "    </tr>\n",
              "    <tr>\n",
              "      <th>2020-12-31</th>\n",
              "      <td>0.541257</td>\n",
              "    </tr>\n",
              "    <tr>\n",
              "      <th>2021-01-31</th>\n",
              "      <td>-0.257381</td>\n",
              "    </tr>\n",
              "    <tr>\n",
              "      <th>2021-02-28</th>\n",
              "      <td>0.615860</td>\n",
              "    </tr>\n",
              "    <tr>\n",
              "      <th>2021-03-31</th>\n",
              "      <td>0.372402</td>\n",
              "    </tr>\n",
              "    <tr>\n",
              "      <th>2021-04-30</th>\n",
              "      <td>-0.336695</td>\n",
              "    </tr>\n",
              "    <tr>\n",
              "      <th>2021-05-31</th>\n",
              "      <td>-0.685087</td>\n",
              "    </tr>\n",
              "    <tr>\n",
              "      <th>2021-06-30</th>\n",
              "      <td>-0.165558</td>\n",
              "    </tr>\n",
              "    <tr>\n",
              "      <th>2021-07-31</th>\n",
              "      <td>0.474952</td>\n",
              "    </tr>\n",
              "    <tr>\n",
              "      <th>2021-08-31</th>\n",
              "      <td>0.499061</td>\n",
              "    </tr>\n",
              "    <tr>\n",
              "      <th>2021-09-30</th>\n",
              "      <td>-0.149795</td>\n",
              "    </tr>\n",
              "    <tr>\n",
              "      <th>2021-10-31</th>\n",
              "      <td>1.108057</td>\n",
              "    </tr>\n",
              "    <tr>\n",
              "      <th>2021-11-30</th>\n",
              "      <td>-0.238598</td>\n",
              "    </tr>\n",
              "    <tr>\n",
              "      <th>2021-12-31</th>\n",
              "      <td>-0.264861</td>\n",
              "    </tr>\n",
              "    <tr>\n",
              "      <th>2022-01-31</th>\n",
              "      <td>-0.629743</td>\n",
              "    </tr>\n",
              "    <tr>\n",
              "      <th>2022-02-28</th>\n",
              "      <td>0.604312</td>\n",
              "    </tr>\n",
              "    <tr>\n",
              "      <th>2022-03-31</th>\n",
              "      <td>0.508889</td>\n",
              "    </tr>\n",
              "    <tr>\n",
              "      <th>2022-04-30</th>\n",
              "      <td>-0.048584</td>\n",
              "    </tr>\n",
              "    <tr>\n",
              "      <th>2022-05-31</th>\n",
              "      <td>0.001727</td>\n",
              "    </tr>\n",
              "    <tr>\n",
              "      <th>2022-06-30</th>\n",
              "      <td>-0.552567</td>\n",
              "    </tr>\n",
              "    <tr>\n",
              "      <th>2022-07-31</th>\n",
              "      <td>0.522681</td>\n",
              "    </tr>\n",
              "    <tr>\n",
              "      <th>2022-08-31</th>\n",
              "      <td>0.411875</td>\n",
              "    </tr>\n",
              "  </tbody>\n",
              "</table>\n",
              "</div>\n",
              "      <button class=\"colab-df-convert\" onclick=\"convertToInteractive('df-7e4c3921-31d1-4322-8eb3-19d0af908f9a')\"\n",
              "              title=\"Convert this dataframe to an interactive table.\"\n",
              "              style=\"display:none;\">\n",
              "        \n",
              "  <svg xmlns=\"http://www.w3.org/2000/svg\" height=\"24px\"viewBox=\"0 0 24 24\"\n",
              "       width=\"24px\">\n",
              "    <path d=\"M0 0h24v24H0V0z\" fill=\"none\"/>\n",
              "    <path d=\"M18.56 5.44l.94 2.06.94-2.06 2.06-.94-2.06-.94-.94-2.06-.94 2.06-2.06.94zm-11 1L8.5 8.5l.94-2.06 2.06-.94-2.06-.94L8.5 2.5l-.94 2.06-2.06.94zm10 10l.94 2.06.94-2.06 2.06-.94-2.06-.94-.94-2.06-.94 2.06-2.06.94z\"/><path d=\"M17.41 7.96l-1.37-1.37c-.4-.4-.92-.59-1.43-.59-.52 0-1.04.2-1.43.59L10.3 9.45l-7.72 7.72c-.78.78-.78 2.05 0 2.83L4 21.41c.39.39.9.59 1.41.59.51 0 1.02-.2 1.41-.59l7.78-7.78 2.81-2.81c.8-.78.8-2.07 0-2.86zM5.41 20L4 18.59l7.72-7.72 1.47 1.35L5.41 20z\"/>\n",
              "  </svg>\n",
              "      </button>\n",
              "      \n",
              "  <style>\n",
              "    .colab-df-container {\n",
              "      display:flex;\n",
              "      flex-wrap:wrap;\n",
              "      gap: 12px;\n",
              "    }\n",
              "\n",
              "    .colab-df-convert {\n",
              "      background-color: #E8F0FE;\n",
              "      border: none;\n",
              "      border-radius: 50%;\n",
              "      cursor: pointer;\n",
              "      display: none;\n",
              "      fill: #1967D2;\n",
              "      height: 32px;\n",
              "      padding: 0 0 0 0;\n",
              "      width: 32px;\n",
              "    }\n",
              "\n",
              "    .colab-df-convert:hover {\n",
              "      background-color: #E2EBFA;\n",
              "      box-shadow: 0px 1px 2px rgba(60, 64, 67, 0.3), 0px 1px 3px 1px rgba(60, 64, 67, 0.15);\n",
              "      fill: #174EA6;\n",
              "    }\n",
              "\n",
              "    [theme=dark] .colab-df-convert {\n",
              "      background-color: #3B4455;\n",
              "      fill: #D2E3FC;\n",
              "    }\n",
              "\n",
              "    [theme=dark] .colab-df-convert:hover {\n",
              "      background-color: #434B5C;\n",
              "      box-shadow: 0px 1px 3px 1px rgba(0, 0, 0, 0.15);\n",
              "      filter: drop-shadow(0px 1px 2px rgba(0, 0, 0, 0.3));\n",
              "      fill: #FFFFFF;\n",
              "    }\n",
              "  </style>\n",
              "\n",
              "      <script>\n",
              "        const buttonEl =\n",
              "          document.querySelector('#df-7e4c3921-31d1-4322-8eb3-19d0af908f9a button.colab-df-convert');\n",
              "        buttonEl.style.display =\n",
              "          google.colab.kernel.accessAllowed ? 'block' : 'none';\n",
              "\n",
              "        async function convertToInteractive(key) {\n",
              "          const element = document.querySelector('#df-7e4c3921-31d1-4322-8eb3-19d0af908f9a');\n",
              "          const dataTable =\n",
              "            await google.colab.kernel.invokeFunction('convertToInteractive',\n",
              "                                                     [key], {});\n",
              "          if (!dataTable) return;\n",
              "\n",
              "          const docLinkHtml = 'Like what you see? Visit the ' +\n",
              "            '<a target=\"_blank\" href=https://colab.research.google.com/notebooks/data_table.ipynb>data table notebook</a>'\n",
              "            + ' to learn more about interactive tables.';\n",
              "          element.innerHTML = '';\n",
              "          dataTable['output_type'] = 'display_data';\n",
              "          await google.colab.output.renderOutput(dataTable, element);\n",
              "          const docLink = document.createElement('div');\n",
              "          docLink.innerHTML = docLinkHtml;\n",
              "          element.appendChild(docLink);\n",
              "        }\n",
              "      </script>\n",
              "    </div>\n",
              "  </div>\n",
              "  "
            ]
          },
          "metadata": {},
          "execution_count": 201
        }
      ]
    },
    {
      "cell_type": "markdown",
      "source": [
        "## Reassemble data frame with prediction"
      ],
      "metadata": {
        "id": "YSPg8duOxOmh"
      }
    },
    {
      "cell_type": "code",
      "source": [
        "predict_df = test.merge(X_test_predict_df, how='left', on='Date')\n",
        "predict_df"
      ],
      "metadata": {
        "colab": {
          "base_uri": "https://localhost:8080/",
          "height": 833
        },
        "id": "UDiBfI5skKS_",
        "outputId": "8f371370-b5af-4017-b5ea-e4b12baab1ab"
      },
      "execution_count": 202,
      "outputs": [
        {
          "output_type": "display_data",
          "data": {
            "text/plain": [
              "<IPython.core.display.HTML object>"
            ],
            "text/html": [
              "\n",
              "            <script src=\"/static/components/requirejs/require.js\"></script>\n",
              "            <script>\n",
              "              requirejs.config({\n",
              "                paths: {\n",
              "                  base: '/static/base',\n",
              "                  plotly: 'https://cdn.plot.ly/plotly-latest.min.js?noext',\n",
              "                },\n",
              "              });\n",
              "            </script>\n",
              "            "
            ]
          },
          "metadata": {}
        },
        {
          "output_type": "display_data",
          "data": {
            "text/plain": [
              "<IPython.core.display.HTML object>"
            ],
            "text/html": [
              "\n",
              "            <script src=\"/static/components/requirejs/require.js\"></script>\n",
              "            <script>\n",
              "              requirejs.config({\n",
              "                paths: {\n",
              "                  base: '/static/base',\n",
              "                  plotly: 'https://cdn.plot.ly/plotly-latest.min.js?noext',\n",
              "                },\n",
              "              });\n",
              "            </script>\n",
              "            "
            ]
          },
          "metadata": {}
        },
        {
          "output_type": "display_data",
          "data": {
            "text/plain": [
              "<IPython.core.display.HTML object>"
            ],
            "text/html": [
              "\n",
              "            <script src=\"/static/components/requirejs/require.js\"></script>\n",
              "            <script>\n",
              "              requirejs.config({\n",
              "                paths: {\n",
              "                  base: '/static/base',\n",
              "                  plotly: 'https://cdn.plot.ly/plotly-latest.min.js?noext',\n",
              "                },\n",
              "              });\n",
              "            </script>\n",
              "            "
            ]
          },
          "metadata": {}
        },
        {
          "output_type": "execute_result",
          "data": {
            "text/plain": [
              "            month_ave_open  month_ave_high  month_ave_low  month_ave_close  \\\n",
              "Date                                                                         \n",
              "2020-09-30    10689.700163    10844.910254   10470.011263     10660.276855   \n",
              "2020-10-31    11791.307491    12018.847719   11648.076833     11886.978201   \n",
              "2020-11-30    16450.121647    16945.980208   16064.074740     16645.757422   \n",
              "2020-12-31    21680.540827    22354.685610   21229.362021     21983.137097   \n",
              "2021-01-31    34652.961694    36206.557082   32705.655998     34761.649950   \n",
              "2021-02-28    45874.967215    47710.414621   44197.377302     46306.798968   \n",
              "2021-03-31    54544.678175    56250.979083   52964.134703     54998.008695   \n",
              "2021-04-30    57251.256250    58557.342057   55604.271094     57206.720052   \n",
              "2021-05-31    47105.828503    48775.041835   44434.530620     46443.286668   \n",
              "2021-06-30    35920.546940    37094.880143   34375.803060     35845.154687   \n",
              "2021-07-31    34234.212450    35161.966356   33430.565020     34444.973790   \n",
              "2021-08-31    45516.119834    46685.621346   44464.354587     45709.022681   \n",
              "2021-09-30    46041.859375    47132.725000   44643.686328     45939.771484   \n",
              "2021-10-31    57344.743952    59024.878150   56183.983115     57911.970514   \n",
              "2021-11-30    60857.520312    62046.720703   59290.196615     60621.488802   \n",
              "2021-12-31    49670.411794    50722.471018   48108.254914     49263.209173   \n",
              "2022-01-31    41368.073463    42044.166331   40176.096396     41114.422379   \n",
              "2022-02-28    40591.103934    41685.856864   39637.587472     40763.474051   \n",
              "2022-03-31    41889.148438    42770.031502   41120.731729     41966.237525   \n",
              "2022-04-30    41694.653646    42328.085156   40805.150260     41435.319661   \n",
              "2022-05-31    31900.711127    32629.598349   30905.249244     31706.105217   \n",
              "2022-06-30    24783.338477    25228.663672   23752.240495     24383.685482   \n",
              "2022-07-31    21424.733052    22012.192729   20958.936996     21539.253843   \n",
              "2022-08-31    22471.866557    22870.607863   22075.572203     22366.266318   \n",
              "\n",
              "            month_ave_volume  month_ave_close_shift  \\\n",
              "Date                                                  \n",
              "2020-09-30      3.586498e+10           11886.978201   \n",
              "2020-10-31      3.389918e+10           16645.757422   \n",
              "2020-11-30      3.643816e+10           21983.137097   \n",
              "2020-12-31      3.910515e+10           34761.649950   \n",
              "2021-01-31      6.946688e+10           46306.798968   \n",
              "2021-02-28      8.096975e+10           54998.008695   \n",
              "2021-03-31      5.423175e+10           57206.720052   \n",
              "2021-04-30      6.148273e+10           46443.286668   \n",
              "2021-05-31      6.376108e+10           35845.154687   \n",
              "2021-06-30      3.965492e+10           34444.973790   \n",
              "2021-07-31      2.642269e+10           45709.022681   \n",
              "2021-08-31      3.273143e+10           45939.771484   \n",
              "2021-09-30      3.673799e+10           57911.970514   \n",
              "2021-10-31      3.719606e+10           60621.488802   \n",
              "2021-11-30      3.510901e+10           49263.209173   \n",
              "2021-12-31      3.087249e+10           41114.422379   \n",
              "2022-01-31      2.980578e+10           40763.474051   \n",
              "2022-02-28      2.397629e+10           41966.237525   \n",
              "2022-03-31      2.680464e+10           41435.319661   \n",
              "2022-04-30      2.767053e+10           31706.105217   \n",
              "2022-05-31      3.566740e+10           24383.685482   \n",
              "2022-06-30      3.079797e+10           21539.253843   \n",
              "2022-07-31      2.992201e+10           22366.266318   \n",
              "2022-08-31      2.884492e+10           19936.281250   \n",
              "\n",
              "            month_ave_close_shift_diff month_ave_close_shift_diff_percent  \\\n",
              "Date                                                                        \n",
              "2020-09-30                 1226.701345                           0.115072   \n",
              "2020-10-31                 4758.779221                           0.400335   \n",
              "2020-11-30                 5337.379675                           0.320645   \n",
              "2020-12-31                12778.512853                           0.581287   \n",
              "2021-01-31                11545.149018                           0.332123   \n",
              "2021-02-28                 8691.209727                           0.187688   \n",
              "2021-03-31                 2208.711358                            0.04016   \n",
              "2021-04-30               -10763.433384                           -0.18815   \n",
              "2021-05-31               -10598.131981                          -0.228195   \n",
              "2021-06-30                -1400.180897                          -0.039062   \n",
              "2021-07-31                11264.048891                           0.327016   \n",
              "2021-08-31                  230.748803                           0.005048   \n",
              "2021-09-30                11972.199030                           0.260606   \n",
              "2021-10-31                 2709.518288                           0.046787   \n",
              "2021-11-30               -11358.279629                          -0.187364   \n",
              "2021-12-31                -8148.786794                          -0.165413   \n",
              "2022-01-31                 -350.948328                          -0.008536   \n",
              "2022-02-28                 1202.763474                           0.029506   \n",
              "2022-03-31                 -530.917864                          -0.012651   \n",
              "2022-04-30                -9729.214445                          -0.234805   \n",
              "2022-05-31                -7322.419735                          -0.230947   \n",
              "2022-06-30                -2844.431639                          -0.116653   \n",
              "2022-07-31                  827.012475                           0.038396   \n",
              "2022-08-31                -2429.985068                          -0.108645   \n",
              "\n",
              "              Y_PRED  \n",
              "Date                  \n",
              "2020-09-30  0.122398  \n",
              "2020-10-31  0.334955  \n",
              "2020-11-30  0.373815  \n",
              "2020-12-31  0.541257  \n",
              "2021-01-31 -0.257381  \n",
              "2021-02-28  0.615860  \n",
              "2021-03-31  0.372402  \n",
              "2021-04-30 -0.336695  \n",
              "2021-05-31 -0.685087  \n",
              "2021-06-30 -0.165558  \n",
              "2021-07-31  0.474952  \n",
              "2021-08-31  0.499061  \n",
              "2021-09-30 -0.149795  \n",
              "2021-10-31  1.108057  \n",
              "2021-11-30 -0.238598  \n",
              "2021-12-31 -0.264861  \n",
              "2022-01-31 -0.629743  \n",
              "2022-02-28  0.604312  \n",
              "2022-03-31  0.508889  \n",
              "2022-04-30 -0.048584  \n",
              "2022-05-31  0.001727  \n",
              "2022-06-30 -0.552567  \n",
              "2022-07-31  0.522681  \n",
              "2022-08-31  0.411875  "
            ],
            "text/html": [
              "\n",
              "  <div id=\"df-164b10a4-39dd-417f-a45a-f12834639fc7\">\n",
              "    <div class=\"colab-df-container\">\n",
              "      <div>\n",
              "<style scoped>\n",
              "    .dataframe tbody tr th:only-of-type {\n",
              "        vertical-align: middle;\n",
              "    }\n",
              "\n",
              "    .dataframe tbody tr th {\n",
              "        vertical-align: top;\n",
              "    }\n",
              "\n",
              "    .dataframe thead th {\n",
              "        text-align: right;\n",
              "    }\n",
              "</style>\n",
              "<table border=\"1\" class=\"dataframe\">\n",
              "  <thead>\n",
              "    <tr style=\"text-align: right;\">\n",
              "      <th></th>\n",
              "      <th>month_ave_open</th>\n",
              "      <th>month_ave_high</th>\n",
              "      <th>month_ave_low</th>\n",
              "      <th>month_ave_close</th>\n",
              "      <th>month_ave_volume</th>\n",
              "      <th>month_ave_close_shift</th>\n",
              "      <th>month_ave_close_shift_diff</th>\n",
              "      <th>month_ave_close_shift_diff_percent</th>\n",
              "      <th>Y_PRED</th>\n",
              "    </tr>\n",
              "    <tr>\n",
              "      <th>Date</th>\n",
              "      <th></th>\n",
              "      <th></th>\n",
              "      <th></th>\n",
              "      <th></th>\n",
              "      <th></th>\n",
              "      <th></th>\n",
              "      <th></th>\n",
              "      <th></th>\n",
              "      <th></th>\n",
              "    </tr>\n",
              "  </thead>\n",
              "  <tbody>\n",
              "    <tr>\n",
              "      <th>2020-09-30</th>\n",
              "      <td>10689.700163</td>\n",
              "      <td>10844.910254</td>\n",
              "      <td>10470.011263</td>\n",
              "      <td>10660.276855</td>\n",
              "      <td>3.586498e+10</td>\n",
              "      <td>11886.978201</td>\n",
              "      <td>1226.701345</td>\n",
              "      <td>0.115072</td>\n",
              "      <td>0.122398</td>\n",
              "    </tr>\n",
              "    <tr>\n",
              "      <th>2020-10-31</th>\n",
              "      <td>11791.307491</td>\n",
              "      <td>12018.847719</td>\n",
              "      <td>11648.076833</td>\n",
              "      <td>11886.978201</td>\n",
              "      <td>3.389918e+10</td>\n",
              "      <td>16645.757422</td>\n",
              "      <td>4758.779221</td>\n",
              "      <td>0.400335</td>\n",
              "      <td>0.334955</td>\n",
              "    </tr>\n",
              "    <tr>\n",
              "      <th>2020-11-30</th>\n",
              "      <td>16450.121647</td>\n",
              "      <td>16945.980208</td>\n",
              "      <td>16064.074740</td>\n",
              "      <td>16645.757422</td>\n",
              "      <td>3.643816e+10</td>\n",
              "      <td>21983.137097</td>\n",
              "      <td>5337.379675</td>\n",
              "      <td>0.320645</td>\n",
              "      <td>0.373815</td>\n",
              "    </tr>\n",
              "    <tr>\n",
              "      <th>2020-12-31</th>\n",
              "      <td>21680.540827</td>\n",
              "      <td>22354.685610</td>\n",
              "      <td>21229.362021</td>\n",
              "      <td>21983.137097</td>\n",
              "      <td>3.910515e+10</td>\n",
              "      <td>34761.649950</td>\n",
              "      <td>12778.512853</td>\n",
              "      <td>0.581287</td>\n",
              "      <td>0.541257</td>\n",
              "    </tr>\n",
              "    <tr>\n",
              "      <th>2021-01-31</th>\n",
              "      <td>34652.961694</td>\n",
              "      <td>36206.557082</td>\n",
              "      <td>32705.655998</td>\n",
              "      <td>34761.649950</td>\n",
              "      <td>6.946688e+10</td>\n",
              "      <td>46306.798968</td>\n",
              "      <td>11545.149018</td>\n",
              "      <td>0.332123</td>\n",
              "      <td>-0.257381</td>\n",
              "    </tr>\n",
              "    <tr>\n",
              "      <th>2021-02-28</th>\n",
              "      <td>45874.967215</td>\n",
              "      <td>47710.414621</td>\n",
              "      <td>44197.377302</td>\n",
              "      <td>46306.798968</td>\n",
              "      <td>8.096975e+10</td>\n",
              "      <td>54998.008695</td>\n",
              "      <td>8691.209727</td>\n",
              "      <td>0.187688</td>\n",
              "      <td>0.615860</td>\n",
              "    </tr>\n",
              "    <tr>\n",
              "      <th>2021-03-31</th>\n",
              "      <td>54544.678175</td>\n",
              "      <td>56250.979083</td>\n",
              "      <td>52964.134703</td>\n",
              "      <td>54998.008695</td>\n",
              "      <td>5.423175e+10</td>\n",
              "      <td>57206.720052</td>\n",
              "      <td>2208.711358</td>\n",
              "      <td>0.04016</td>\n",
              "      <td>0.372402</td>\n",
              "    </tr>\n",
              "    <tr>\n",
              "      <th>2021-04-30</th>\n",
              "      <td>57251.256250</td>\n",
              "      <td>58557.342057</td>\n",
              "      <td>55604.271094</td>\n",
              "      <td>57206.720052</td>\n",
              "      <td>6.148273e+10</td>\n",
              "      <td>46443.286668</td>\n",
              "      <td>-10763.433384</td>\n",
              "      <td>-0.18815</td>\n",
              "      <td>-0.336695</td>\n",
              "    </tr>\n",
              "    <tr>\n",
              "      <th>2021-05-31</th>\n",
              "      <td>47105.828503</td>\n",
              "      <td>48775.041835</td>\n",
              "      <td>44434.530620</td>\n",
              "      <td>46443.286668</td>\n",
              "      <td>6.376108e+10</td>\n",
              "      <td>35845.154687</td>\n",
              "      <td>-10598.131981</td>\n",
              "      <td>-0.228195</td>\n",
              "      <td>-0.685087</td>\n",
              "    </tr>\n",
              "    <tr>\n",
              "      <th>2021-06-30</th>\n",
              "      <td>35920.546940</td>\n",
              "      <td>37094.880143</td>\n",
              "      <td>34375.803060</td>\n",
              "      <td>35845.154687</td>\n",
              "      <td>3.965492e+10</td>\n",
              "      <td>34444.973790</td>\n",
              "      <td>-1400.180897</td>\n",
              "      <td>-0.039062</td>\n",
              "      <td>-0.165558</td>\n",
              "    </tr>\n",
              "    <tr>\n",
              "      <th>2021-07-31</th>\n",
              "      <td>34234.212450</td>\n",
              "      <td>35161.966356</td>\n",
              "      <td>33430.565020</td>\n",
              "      <td>34444.973790</td>\n",
              "      <td>2.642269e+10</td>\n",
              "      <td>45709.022681</td>\n",
              "      <td>11264.048891</td>\n",
              "      <td>0.327016</td>\n",
              "      <td>0.474952</td>\n",
              "    </tr>\n",
              "    <tr>\n",
              "      <th>2021-08-31</th>\n",
              "      <td>45516.119834</td>\n",
              "      <td>46685.621346</td>\n",
              "      <td>44464.354587</td>\n",
              "      <td>45709.022681</td>\n",
              "      <td>3.273143e+10</td>\n",
              "      <td>45939.771484</td>\n",
              "      <td>230.748803</td>\n",
              "      <td>0.005048</td>\n",
              "      <td>0.499061</td>\n",
              "    </tr>\n",
              "    <tr>\n",
              "      <th>2021-09-30</th>\n",
              "      <td>46041.859375</td>\n",
              "      <td>47132.725000</td>\n",
              "      <td>44643.686328</td>\n",
              "      <td>45939.771484</td>\n",
              "      <td>3.673799e+10</td>\n",
              "      <td>57911.970514</td>\n",
              "      <td>11972.199030</td>\n",
              "      <td>0.260606</td>\n",
              "      <td>-0.149795</td>\n",
              "    </tr>\n",
              "    <tr>\n",
              "      <th>2021-10-31</th>\n",
              "      <td>57344.743952</td>\n",
              "      <td>59024.878150</td>\n",
              "      <td>56183.983115</td>\n",
              "      <td>57911.970514</td>\n",
              "      <td>3.719606e+10</td>\n",
              "      <td>60621.488802</td>\n",
              "      <td>2709.518288</td>\n",
              "      <td>0.046787</td>\n",
              "      <td>1.108057</td>\n",
              "    </tr>\n",
              "    <tr>\n",
              "      <th>2021-11-30</th>\n",
              "      <td>60857.520312</td>\n",
              "      <td>62046.720703</td>\n",
              "      <td>59290.196615</td>\n",
              "      <td>60621.488802</td>\n",
              "      <td>3.510901e+10</td>\n",
              "      <td>49263.209173</td>\n",
              "      <td>-11358.279629</td>\n",
              "      <td>-0.187364</td>\n",
              "      <td>-0.238598</td>\n",
              "    </tr>\n",
              "    <tr>\n",
              "      <th>2021-12-31</th>\n",
              "      <td>49670.411794</td>\n",
              "      <td>50722.471018</td>\n",
              "      <td>48108.254914</td>\n",
              "      <td>49263.209173</td>\n",
              "      <td>3.087249e+10</td>\n",
              "      <td>41114.422379</td>\n",
              "      <td>-8148.786794</td>\n",
              "      <td>-0.165413</td>\n",
              "      <td>-0.264861</td>\n",
              "    </tr>\n",
              "    <tr>\n",
              "      <th>2022-01-31</th>\n",
              "      <td>41368.073463</td>\n",
              "      <td>42044.166331</td>\n",
              "      <td>40176.096396</td>\n",
              "      <td>41114.422379</td>\n",
              "      <td>2.980578e+10</td>\n",
              "      <td>40763.474051</td>\n",
              "      <td>-350.948328</td>\n",
              "      <td>-0.008536</td>\n",
              "      <td>-0.629743</td>\n",
              "    </tr>\n",
              "    <tr>\n",
              "      <th>2022-02-28</th>\n",
              "      <td>40591.103934</td>\n",
              "      <td>41685.856864</td>\n",
              "      <td>39637.587472</td>\n",
              "      <td>40763.474051</td>\n",
              "      <td>2.397629e+10</td>\n",
              "      <td>41966.237525</td>\n",
              "      <td>1202.763474</td>\n",
              "      <td>0.029506</td>\n",
              "      <td>0.604312</td>\n",
              "    </tr>\n",
              "    <tr>\n",
              "      <th>2022-03-31</th>\n",
              "      <td>41889.148438</td>\n",
              "      <td>42770.031502</td>\n",
              "      <td>41120.731729</td>\n",
              "      <td>41966.237525</td>\n",
              "      <td>2.680464e+10</td>\n",
              "      <td>41435.319661</td>\n",
              "      <td>-530.917864</td>\n",
              "      <td>-0.012651</td>\n",
              "      <td>0.508889</td>\n",
              "    </tr>\n",
              "    <tr>\n",
              "      <th>2022-04-30</th>\n",
              "      <td>41694.653646</td>\n",
              "      <td>42328.085156</td>\n",
              "      <td>40805.150260</td>\n",
              "      <td>41435.319661</td>\n",
              "      <td>2.767053e+10</td>\n",
              "      <td>31706.105217</td>\n",
              "      <td>-9729.214445</td>\n",
              "      <td>-0.234805</td>\n",
              "      <td>-0.048584</td>\n",
              "    </tr>\n",
              "    <tr>\n",
              "      <th>2022-05-31</th>\n",
              "      <td>31900.711127</td>\n",
              "      <td>32629.598349</td>\n",
              "      <td>30905.249244</td>\n",
              "      <td>31706.105217</td>\n",
              "      <td>3.566740e+10</td>\n",
              "      <td>24383.685482</td>\n",
              "      <td>-7322.419735</td>\n",
              "      <td>-0.230947</td>\n",
              "      <td>0.001727</td>\n",
              "    </tr>\n",
              "    <tr>\n",
              "      <th>2022-06-30</th>\n",
              "      <td>24783.338477</td>\n",
              "      <td>25228.663672</td>\n",
              "      <td>23752.240495</td>\n",
              "      <td>24383.685482</td>\n",
              "      <td>3.079797e+10</td>\n",
              "      <td>21539.253843</td>\n",
              "      <td>-2844.431639</td>\n",
              "      <td>-0.116653</td>\n",
              "      <td>-0.552567</td>\n",
              "    </tr>\n",
              "    <tr>\n",
              "      <th>2022-07-31</th>\n",
              "      <td>21424.733052</td>\n",
              "      <td>22012.192729</td>\n",
              "      <td>20958.936996</td>\n",
              "      <td>21539.253843</td>\n",
              "      <td>2.992201e+10</td>\n",
              "      <td>22366.266318</td>\n",
              "      <td>827.012475</td>\n",
              "      <td>0.038396</td>\n",
              "      <td>0.522681</td>\n",
              "    </tr>\n",
              "    <tr>\n",
              "      <th>2022-08-31</th>\n",
              "      <td>22471.866557</td>\n",
              "      <td>22870.607863</td>\n",
              "      <td>22075.572203</td>\n",
              "      <td>22366.266318</td>\n",
              "      <td>2.884492e+10</td>\n",
              "      <td>19936.281250</td>\n",
              "      <td>-2429.985068</td>\n",
              "      <td>-0.108645</td>\n",
              "      <td>0.411875</td>\n",
              "    </tr>\n",
              "  </tbody>\n",
              "</table>\n",
              "</div>\n",
              "      <button class=\"colab-df-convert\" onclick=\"convertToInteractive('df-164b10a4-39dd-417f-a45a-f12834639fc7')\"\n",
              "              title=\"Convert this dataframe to an interactive table.\"\n",
              "              style=\"display:none;\">\n",
              "        \n",
              "  <svg xmlns=\"http://www.w3.org/2000/svg\" height=\"24px\"viewBox=\"0 0 24 24\"\n",
              "       width=\"24px\">\n",
              "    <path d=\"M0 0h24v24H0V0z\" fill=\"none\"/>\n",
              "    <path d=\"M18.56 5.44l.94 2.06.94-2.06 2.06-.94-2.06-.94-.94-2.06-.94 2.06-2.06.94zm-11 1L8.5 8.5l.94-2.06 2.06-.94-2.06-.94L8.5 2.5l-.94 2.06-2.06.94zm10 10l.94 2.06.94-2.06 2.06-.94-2.06-.94-.94-2.06-.94 2.06-2.06.94z\"/><path d=\"M17.41 7.96l-1.37-1.37c-.4-.4-.92-.59-1.43-.59-.52 0-1.04.2-1.43.59L10.3 9.45l-7.72 7.72c-.78.78-.78 2.05 0 2.83L4 21.41c.39.39.9.59 1.41.59.51 0 1.02-.2 1.41-.59l7.78-7.78 2.81-2.81c.8-.78.8-2.07 0-2.86zM5.41 20L4 18.59l7.72-7.72 1.47 1.35L5.41 20z\"/>\n",
              "  </svg>\n",
              "      </button>\n",
              "      \n",
              "  <style>\n",
              "    .colab-df-container {\n",
              "      display:flex;\n",
              "      flex-wrap:wrap;\n",
              "      gap: 12px;\n",
              "    }\n",
              "\n",
              "    .colab-df-convert {\n",
              "      background-color: #E8F0FE;\n",
              "      border: none;\n",
              "      border-radius: 50%;\n",
              "      cursor: pointer;\n",
              "      display: none;\n",
              "      fill: #1967D2;\n",
              "      height: 32px;\n",
              "      padding: 0 0 0 0;\n",
              "      width: 32px;\n",
              "    }\n",
              "\n",
              "    .colab-df-convert:hover {\n",
              "      background-color: #E2EBFA;\n",
              "      box-shadow: 0px 1px 2px rgba(60, 64, 67, 0.3), 0px 1px 3px 1px rgba(60, 64, 67, 0.15);\n",
              "      fill: #174EA6;\n",
              "    }\n",
              "\n",
              "    [theme=dark] .colab-df-convert {\n",
              "      background-color: #3B4455;\n",
              "      fill: #D2E3FC;\n",
              "    }\n",
              "\n",
              "    [theme=dark] .colab-df-convert:hover {\n",
              "      background-color: #434B5C;\n",
              "      box-shadow: 0px 1px 3px 1px rgba(0, 0, 0, 0.15);\n",
              "      filter: drop-shadow(0px 1px 2px rgba(0, 0, 0, 0.3));\n",
              "      fill: #FFFFFF;\n",
              "    }\n",
              "  </style>\n",
              "\n",
              "      <script>\n",
              "        const buttonEl =\n",
              "          document.querySelector('#df-164b10a4-39dd-417f-a45a-f12834639fc7 button.colab-df-convert');\n",
              "        buttonEl.style.display =\n",
              "          google.colab.kernel.accessAllowed ? 'block' : 'none';\n",
              "\n",
              "        async function convertToInteractive(key) {\n",
              "          const element = document.querySelector('#df-164b10a4-39dd-417f-a45a-f12834639fc7');\n",
              "          const dataTable =\n",
              "            await google.colab.kernel.invokeFunction('convertToInteractive',\n",
              "                                                     [key], {});\n",
              "          if (!dataTable) return;\n",
              "\n",
              "          const docLinkHtml = 'Like what you see? Visit the ' +\n",
              "            '<a target=\"_blank\" href=https://colab.research.google.com/notebooks/data_table.ipynb>data table notebook</a>'\n",
              "            + ' to learn more about interactive tables.';\n",
              "          element.innerHTML = '';\n",
              "          dataTable['output_type'] = 'display_data';\n",
              "          await google.colab.output.renderOutput(dataTable, element);\n",
              "          const docLink = document.createElement('div');\n",
              "          docLink.innerHTML = docLinkHtml;\n",
              "          element.appendChild(docLink);\n",
              "        }\n",
              "      </script>\n",
              "    </div>\n",
              "  </div>\n",
              "  "
            ]
          },
          "metadata": {},
          "execution_count": 202
        }
      ]
    },
    {
      "cell_type": "code",
      "source": [
        "predict_df['month_ave_close_shift_diff_percent'].plot(c='red')\n",
        "predict_df['Y_PRED'].plot(c='green')"
      ],
      "metadata": {
        "colab": {
          "base_uri": "https://localhost:8080/",
          "height": 309
        },
        "id": "qDL0C1ovn8ox",
        "outputId": "4d3f7234-809d-4ee4-8e1a-39c91efba239"
      },
      "execution_count": 203,
      "outputs": [
        {
          "output_type": "display_data",
          "data": {
            "text/plain": [
              "<IPython.core.display.HTML object>"
            ],
            "text/html": [
              "\n",
              "            <script src=\"/static/components/requirejs/require.js\"></script>\n",
              "            <script>\n",
              "              requirejs.config({\n",
              "                paths: {\n",
              "                  base: '/static/base',\n",
              "                  plotly: 'https://cdn.plot.ly/plotly-latest.min.js?noext',\n",
              "                },\n",
              "              });\n",
              "            </script>\n",
              "            "
            ]
          },
          "metadata": {}
        },
        {
          "output_type": "display_data",
          "data": {
            "text/plain": [
              "<IPython.core.display.HTML object>"
            ],
            "text/html": [
              "\n",
              "            <script src=\"/static/components/requirejs/require.js\"></script>\n",
              "            <script>\n",
              "              requirejs.config({\n",
              "                paths: {\n",
              "                  base: '/static/base',\n",
              "                  plotly: 'https://cdn.plot.ly/plotly-latest.min.js?noext',\n",
              "                },\n",
              "              });\n",
              "            </script>\n",
              "            "
            ]
          },
          "metadata": {}
        },
        {
          "output_type": "display_data",
          "data": {
            "text/plain": [
              "<IPython.core.display.HTML object>"
            ],
            "text/html": [
              "\n",
              "            <script src=\"/static/components/requirejs/require.js\"></script>\n",
              "            <script>\n",
              "              requirejs.config({\n",
              "                paths: {\n",
              "                  base: '/static/base',\n",
              "                  plotly: 'https://cdn.plot.ly/plotly-latest.min.js?noext',\n",
              "                },\n",
              "              });\n",
              "            </script>\n",
              "            "
            ]
          },
          "metadata": {}
        },
        {
          "output_type": "execute_result",
          "data": {
            "text/plain": [
              "<matplotlib.axes._subplots.AxesSubplot at 0x7f7309de6ad0>"
            ]
          },
          "metadata": {},
          "execution_count": 203
        },
        {
          "output_type": "display_data",
          "data": {
            "text/plain": [
              "<Figure size 432x288 with 1 Axes>"
            ],
            "image/png": "[encoded data removed]"
          },
          "metadata": {
            "needs_background": "light"
          }
        }
      ]
    },
    {
      "cell_type": "code",
      "source": [
        "#merge actual close with the dataframe\n",
        "# predict_df = predict_df.merge(month_close_df, how='left', left_index=True, right_index=True)\n",
        "predict_df\n"
      ],
      "metadata": {
        "colab": {
          "base_uri": "https://localhost:8080/",
          "height": 833
        },
        "id": "hALMQE8qILxh",
        "outputId": "ed537f07-7469-4733-c0a4-f2283f973f49"
      },
      "execution_count": 204,
      "outputs": [
        {
          "output_type": "display_data",
          "data": {
            "text/plain": [
              "<IPython.core.display.HTML object>"
            ],
            "text/html": [
              "\n",
              "            <script src=\"/static/components/requirejs/require.js\"></script>\n",
              "            <script>\n",
              "              requirejs.config({\n",
              "                paths: {\n",
              "                  base: '/static/base',\n",
              "                  plotly: 'https://cdn.plot.ly/plotly-latest.min.js?noext',\n",
              "                },\n",
              "              });\n",
              "            </script>\n",
              "            "
            ]
          },
          "metadata": {}
        },
        {
          "output_type": "display_data",
          "data": {
            "text/plain": [
              "<IPython.core.display.HTML object>"
            ],
            "text/html": [
              "\n",
              "            <script src=\"/static/components/requirejs/require.js\"></script>\n",
              "            <script>\n",
              "              requirejs.config({\n",
              "                paths: {\n",
              "                  base: '/static/base',\n",
              "                  plotly: 'https://cdn.plot.ly/plotly-latest.min.js?noext',\n",
              "                },\n",
              "              });\n",
              "            </script>\n",
              "            "
            ]
          },
          "metadata": {}
        },
        {
          "output_type": "display_data",
          "data": {
            "text/plain": [
              "<IPython.core.display.HTML object>"
            ],
            "text/html": [
              "\n",
              "            <script src=\"/static/components/requirejs/require.js\"></script>\n",
              "            <script>\n",
              "              requirejs.config({\n",
              "                paths: {\n",
              "                  base: '/static/base',\n",
              "                  plotly: 'https://cdn.plot.ly/plotly-latest.min.js?noext',\n",
              "                },\n",
              "              });\n",
              "            </script>\n",
              "            "
            ]
          },
          "metadata": {}
        },
        {
          "output_type": "execute_result",
          "data": {
            "text/plain": [
              "            month_ave_open  month_ave_high  month_ave_low  month_ave_close  \\\n",
              "Date                                                                         \n",
              "2020-09-30    10689.700163    10844.910254   10470.011263     10660.276855   \n",
              "2020-10-31    11791.307491    12018.847719   11648.076833     11886.978201   \n",
              "2020-11-30    16450.121647    16945.980208   16064.074740     16645.757422   \n",
              "2020-12-31    21680.540827    22354.685610   21229.362021     21983.137097   \n",
              "2021-01-31    34652.961694    36206.557082   32705.655998     34761.649950   \n",
              "2021-02-28    45874.967215    47710.414621   44197.377302     46306.798968   \n",
              "2021-03-31    54544.678175    56250.979083   52964.134703     54998.008695   \n",
              "2021-04-30    57251.256250    58557.342057   55604.271094     57206.720052   \n",
              "2021-05-31    47105.828503    48775.041835   44434.530620     46443.286668   \n",
              "2021-06-30    35920.546940    37094.880143   34375.803060     35845.154687   \n",
              "2021-07-31    34234.212450    35161.966356   33430.565020     34444.973790   \n",
              "2021-08-31    45516.119834    46685.621346   44464.354587     45709.022681   \n",
              "2021-09-30    46041.859375    47132.725000   44643.686328     45939.771484   \n",
              "2021-10-31    57344.743952    59024.878150   56183.983115     57911.970514   \n",
              "2021-11-30    60857.520312    62046.720703   59290.196615     60621.488802   \n",
              "2021-12-31    49670.411794    50722.471018   48108.254914     49263.209173   \n",
              "2022-01-31    41368.073463    42044.166331   40176.096396     41114.422379   \n",
              "2022-02-28    40591.103934    41685.856864   39637.587472     40763.474051   \n",
              "2022-03-31    41889.148438    42770.031502   41120.731729     41966.237525   \n",
              "2022-04-30    41694.653646    42328.085156   40805.150260     41435.319661   \n",
              "2022-05-31    31900.711127    32629.598349   30905.249244     31706.105217   \n",
              "2022-06-30    24783.338477    25228.663672   23752.240495     24383.685482   \n",
              "2022-07-31    21424.733052    22012.192729   20958.936996     21539.253843   \n",
              "2022-08-31    22471.866557    22870.607863   22075.572203     22366.266318   \n",
              "\n",
              "            month_ave_volume  month_ave_close_shift  \\\n",
              "Date                                                  \n",
              "2020-09-30      3.586498e+10           11886.978201   \n",
              "2020-10-31      3.389918e+10           16645.757422   \n",
              "2020-11-30      3.643816e+10           21983.137097   \n",
              "2020-12-31      3.910515e+10           34761.649950   \n",
              "2021-01-31      6.946688e+10           46306.798968   \n",
              "2021-02-28      8.096975e+10           54998.008695   \n",
              "2021-03-31      5.423175e+10           57206.720052   \n",
              "2021-04-30      6.148273e+10           46443.286668   \n",
              "2021-05-31      6.376108e+10           35845.154687   \n",
              "2021-06-30      3.965492e+10           34444.973790   \n",
              "2021-07-31      2.642269e+10           45709.022681   \n",
              "2021-08-31      3.273143e+10           45939.771484   \n",
              "2021-09-30      3.673799e+10           57911.970514   \n",
              "2021-10-31      3.719606e+10           60621.488802   \n",
              "2021-11-30      3.510901e+10           49263.209173   \n",
              "2021-12-31      3.087249e+10           41114.422379   \n",
              "2022-01-31      2.980578e+10           40763.474051   \n",
              "2022-02-28      2.397629e+10           41966.237525   \n",
              "2022-03-31      2.680464e+10           41435.319661   \n",
              "2022-04-30      2.767053e+10           31706.105217   \n",
              "2022-05-31      3.566740e+10           24383.685482   \n",
              "2022-06-30      3.079797e+10           21539.253843   \n",
              "2022-07-31      2.992201e+10           22366.266318   \n",
              "2022-08-31      2.884492e+10           19936.281250   \n",
              "\n",
              "            month_ave_close_shift_diff month_ave_close_shift_diff_percent  \\\n",
              "Date                                                                        \n",
              "2020-09-30                 1226.701345                           0.115072   \n",
              "2020-10-31                 4758.779221                           0.400335   \n",
              "2020-11-30                 5337.379675                           0.320645   \n",
              "2020-12-31                12778.512853                           0.581287   \n",
              "2021-01-31                11545.149018                           0.332123   \n",
              "2021-02-28                 8691.209727                           0.187688   \n",
              "2021-03-31                 2208.711358                            0.04016   \n",
              "2021-04-30               -10763.433384                           -0.18815   \n",
              "2021-05-31               -10598.131981                          -0.228195   \n",
              "2021-06-30                -1400.180897                          -0.039062   \n",
              "2021-07-31                11264.048891                           0.327016   \n",
              "2021-08-31                  230.748803                           0.005048   \n",
              "2021-09-30                11972.199030                           0.260606   \n",
              "2021-10-31                 2709.518288                           0.046787   \n",
              "2021-11-30               -11358.279629                          -0.187364   \n",
              "2021-12-31                -8148.786794                          -0.165413   \n",
              "2022-01-31                 -350.948328                          -0.008536   \n",
              "2022-02-28                 1202.763474                           0.029506   \n",
              "2022-03-31                 -530.917864                          -0.012651   \n",
              "2022-04-30                -9729.214445                          -0.234805   \n",
              "2022-05-31                -7322.419735                          -0.230947   \n",
              "2022-06-30                -2844.431639                          -0.116653   \n",
              "2022-07-31                  827.012475                           0.038396   \n",
              "2022-08-31                -2429.985068                          -0.108645   \n",
              "\n",
              "              Y_PRED  \n",
              "Date                  \n",
              "2020-09-30  0.122398  \n",
              "2020-10-31  0.334955  \n",
              "2020-11-30  0.373815  \n",
              "2020-12-31  0.541257  \n",
              "2021-01-31 -0.257381  \n",
              "2021-02-28  0.615860  \n",
              "2021-03-31  0.372402  \n",
              "2021-04-30 -0.336695  \n",
              "2021-05-31 -0.685087  \n",
              "2021-06-30 -0.165558  \n",
              "2021-07-31  0.474952  \n",
              "2021-08-31  0.499061  \n",
              "2021-09-30 -0.149795  \n",
              "2021-10-31  1.108057  \n",
              "2021-11-30 -0.238598  \n",
              "2021-12-31 -0.264861  \n",
              "2022-01-31 -0.629743  \n",
              "2022-02-28  0.604312  \n",
              "2022-03-31  0.508889  \n",
              "2022-04-30 -0.048584  \n",
              "2022-05-31  0.001727  \n",
              "2022-06-30 -0.552567  \n",
              "2022-07-31  0.522681  \n",
              "2022-08-31  0.411875  "
            ],
            "text/html": [
              "\n",
              "  <div id=\"df-a146de1f-91ba-4d0a-8482-6c18f6135ee6\">\n",
              "    <div class=\"colab-df-container\">\n",
              "      <div>\n",
              "<style scoped>\n",
              "    .dataframe tbody tr th:only-of-type {\n",
              "        vertical-align: middle;\n",
              "    }\n",
              "\n",
              "    .dataframe tbody tr th {\n",
              "        vertical-align: top;\n",
              "    }\n",
              "\n",
              "    .dataframe thead th {\n",
              "        text-align: right;\n",
              "    }\n",
              "</style>\n",
              "<table border=\"1\" class=\"dataframe\">\n",
              "  <thead>\n",
              "    <tr style=\"text-align: right;\">\n",
              "      <th></th>\n",
              "      <th>month_ave_open</th>\n",
              "      <th>month_ave_high</th>\n",
              "      <th>month_ave_low</th>\n",
              "      <th>month_ave_close</th>\n",
              "      <th>month_ave_volume</th>\n",
              "      <th>month_ave_close_shift</th>\n",
              "      <th>month_ave_close_shift_diff</th>\n",
              "      <th>month_ave_close_shift_diff_percent</th>\n",
              "      <th>Y_PRED</th>\n",
              "    </tr>\n",
              "    <tr>\n",
              "      <th>Date</th>\n",
              "      <th></th>\n",
              "      <th></th>\n",
              "      <th></th>\n",
              "      <th></th>\n",
              "      <th></th>\n",
              "      <th></th>\n",
              "      <th></th>\n",
              "      <th></th>\n",
              "      <th></th>\n",
              "    </tr>\n",
              "  </thead>\n",
              "  <tbody>\n",
              "    <tr>\n",
              "      <th>2020-09-30</th>\n",
              "      <td>10689.700163</td>\n",
              "      <td>10844.910254</td>\n",
              "      <td>10470.011263</td>\n",
              "      <td>10660.276855</td>\n",
              "      <td>3.586498e+10</td>\n",
              "      <td>11886.978201</td>\n",
              "      <td>1226.701345</td>\n",
              "      <td>0.115072</td>\n",
              "      <td>0.122398</td>\n",
              "    </tr>\n",
              "    <tr>\n",
              "      <th>2020-10-31</th>\n",
              "      <td>11791.307491</td>\n",
              "      <td>12018.847719</td>\n",
              "      <td>11648.076833</td>\n",
              "      <td>11886.978201</td>\n",
              "      <td>3.389918e+10</td>\n",
              "      <td>16645.757422</td>\n",
              "      <td>4758.779221</td>\n",
              "      <td>0.400335</td>\n",
              "      <td>0.334955</td>\n",
              "    </tr>\n",
              "    <tr>\n",
              "      <th>2020-11-30</th>\n",
              "      <td>16450.121647</td>\n",
              "      <td>16945.980208</td>\n",
              "      <td>16064.074740</td>\n",
              "      <td>16645.757422</td>\n",
              "      <td>3.643816e+10</td>\n",
              "      <td>21983.137097</td>\n",
              "      <td>5337.379675</td>\n",
              "      <td>0.320645</td>\n",
              "      <td>0.373815</td>\n",
              "    </tr>\n",
              "    <tr>\n",
              "      <th>2020-12-31</th>\n",
              "      <td>21680.540827</td>\n",
              "      <td>22354.685610</td>\n",
              "      <td>21229.362021</td>\n",
              "      <td>21983.137097</td>\n",
              "      <td>3.910515e+10</td>\n",
              "      <td>34761.649950</td>\n",
              "      <td>12778.512853</td>\n",
              "      <td>0.581287</td>\n",
              "      <td>0.541257</td>\n",
              "    </tr>\n",
              "    <tr>\n",
              "      <th>2021-01-31</th>\n",
              "      <td>34652.961694</td>\n",
              "      <td>36206.557082</td>\n",
              "      <td>32705.655998</td>\n",
              "      <td>34761.649950</td>\n",
              "      <td>6.946688e+10</td>\n",
              "      <td>46306.798968</td>\n",
              "      <td>11545.149018</td>\n",
              "      <td>0.332123</td>\n",
              "      <td>-0.257381</td>\n",
              "    </tr>\n",
              "    <tr>\n",
              "      <th>2021-02-28</th>\n",
              "      <td>45874.967215</td>\n",
              "      <td>47710.414621</td>\n",
              "      <td>44197.377302</td>\n",
              "      <td>46306.798968</td>\n",
              "      <td>8.096975e+10</td>\n",
              "      <td>54998.008695</td>\n",
              "      <td>8691.209727</td>\n",
              "      <td>0.187688</td>\n",
              "      <td>0.615860</td>\n",
              "    </tr>\n",
              "    <tr>\n",
              "      <th>2021-03-31</th>\n",
              "      <td>54544.678175</td>\n",
              "      <td>56250.979083</td>\n",
              "      <td>52964.134703</td>\n",
              "      <td>54998.008695</td>\n",
              "      <td>5.423175e+10</td>\n",
              "      <td>57206.720052</td>\n",
              "      <td>2208.711358</td>\n",
              "      <td>0.04016</td>\n",
              "      <td>0.372402</td>\n",
              "    </tr>\n",
              "    <tr>\n",
              "      <th>2021-04-30</th>\n",
              "      <td>57251.256250</td>\n",
              "      <td>58557.342057</td>\n",
              "      <td>55604.271094</td>\n",
              "      <td>57206.720052</td>\n",
              "      <td>6.148273e+10</td>\n",
              "      <td>46443.286668</td>\n",
              "      <td>-10763.433384</td>\n",
              "      <td>-0.18815</td>\n",
              "      <td>-0.336695</td>\n",
              "    </tr>\n",
              "    <tr>\n",
              "      <th>2021-05-31</th>\n",
              "      <td>47105.828503</td>\n",
              "      <td>48775.041835</td>\n",
              "      <td>44434.530620</td>\n",
              "      <td>46443.286668</td>\n",
              "      <td>6.376108e+10</td>\n",
              "      <td>35845.154687</td>\n",
              "      <td>-10598.131981</td>\n",
              "      <td>-0.228195</td>\n",
              "      <td>-0.685087</td>\n",
              "    </tr>\n",
              "    <tr>\n",
              "      <th>2021-06-30</th>\n",
              "      <td>35920.546940</td>\n",
              "      <td>37094.880143</td>\n",
              "      <td>34375.803060</td>\n",
              "      <td>35845.154687</td>\n",
              "      <td>3.965492e+10</td>\n",
              "      <td>34444.973790</td>\n",
              "      <td>-1400.180897</td>\n",
              "      <td>-0.039062</td>\n",
              "      <td>-0.165558</td>\n",
              "    </tr>\n",
              "    <tr>\n",
              "      <th>2021-07-31</th>\n",
              "      <td>34234.212450</td>\n",
              "      <td>35161.966356</td>\n",
              "      <td>33430.565020</td>\n",
              "      <td>34444.973790</td>\n",
              "      <td>2.642269e+10</td>\n",
              "      <td>45709.022681</td>\n",
              "      <td>11264.048891</td>\n",
              "      <td>0.327016</td>\n",
              "      <td>0.474952</td>\n",
              "    </tr>\n",
              "    <tr>\n",
              "      <th>2021-08-31</th>\n",
              "      <td>45516.119834</td>\n",
              "      <td>46685.621346</td>\n",
              "      <td>44464.354587</td>\n",
              "      <td>45709.022681</td>\n",
              "      <td>3.273143e+10</td>\n",
              "      <td>45939.771484</td>\n",
              "      <td>230.748803</td>\n",
              "      <td>0.005048</td>\n",
              "      <td>0.499061</td>\n",
              "    </tr>\n",
              "    <tr>\n",
              "      <th>2021-09-30</th>\n",
              "      <td>46041.859375</td>\n",
              "      <td>47132.725000</td>\n",
              "      <td>44643.686328</td>\n",
              "      <td>45939.771484</td>\n",
              "      <td>3.673799e+10</td>\n",
              "      <td>57911.970514</td>\n",
              "      <td>11972.199030</td>\n",
              "      <td>0.260606</td>\n",
              "      <td>-0.149795</td>\n",
              "    </tr>\n",
              "    <tr>\n",
              "      <th>2021-10-31</th>\n",
              "      <td>57344.743952</td>\n",
              "      <td>59024.878150</td>\n",
              "      <td>56183.983115</td>\n",
              "      <td>57911.970514</td>\n",
              "      <td>3.719606e+10</td>\n",
              "      <td>60621.488802</td>\n",
              "      <td>2709.518288</td>\n",
              "      <td>0.046787</td>\n",
              "      <td>1.108057</td>\n",
              "    </tr>\n",
              "    <tr>\n",
              "      <th>2021-11-30</th>\n",
              "      <td>60857.520312</td>\n",
              "      <td>62046.720703</td>\n",
              "      <td>59290.196615</td>\n",
              "      <td>60621.488802</td>\n",
              "      <td>3.510901e+10</td>\n",
              "      <td>49263.209173</td>\n",
              "      <td>-11358.279629</td>\n",
              "      <td>-0.187364</td>\n",
              "      <td>-0.238598</td>\n",
              "    </tr>\n",
              "    <tr>\n",
              "      <th>2021-12-31</th>\n",
              "      <td>49670.411794</td>\n",
              "      <td>50722.471018</td>\n",
              "      <td>48108.254914</td>\n",
              "      <td>49263.209173</td>\n",
              "      <td>3.087249e+10</td>\n",
              "      <td>41114.422379</td>\n",
              "      <td>-8148.786794</td>\n",
              "      <td>-0.165413</td>\n",
              "      <td>-0.264861</td>\n",
              "    </tr>\n",
              "    <tr>\n",
              "      <th>2022-01-31</th>\n",
              "      <td>41368.073463</td>\n",
              "      <td>42044.166331</td>\n",
              "      <td>40176.096396</td>\n",
              "      <td>41114.422379</td>\n",
              "      <td>2.980578e+10</td>\n",
              "      <td>40763.474051</td>\n",
              "      <td>-350.948328</td>\n",
              "      <td>-0.008536</td>\n",
              "      <td>-0.629743</td>\n",
              "    </tr>\n",
              "    <tr>\n",
              "      <th>2022-02-28</th>\n",
              "      <td>40591.103934</td>\n",
              "      <td>41685.856864</td>\n",
              "      <td>39637.587472</td>\n",
              "      <td>40763.474051</td>\n",
              "      <td>2.397629e+10</td>\n",
              "      <td>41966.237525</td>\n",
              "      <td>1202.763474</td>\n",
              "      <td>0.029506</td>\n",
              "      <td>0.604312</td>\n",
              "    </tr>\n",
              "    <tr>\n",
              "      <th>2022-03-31</th>\n",
              "      <td>41889.148438</td>\n",
              "      <td>42770.031502</td>\n",
              "      <td>41120.731729</td>\n",
              "      <td>41966.237525</td>\n",
              "      <td>2.680464e+10</td>\n",
              "      <td>41435.319661</td>\n",
              "      <td>-530.917864</td>\n",
              "      <td>-0.012651</td>\n",
              "      <td>0.508889</td>\n",
              "    </tr>\n",
              "    <tr>\n",
              "      <th>2022-04-30</th>\n",
              "      <td>41694.653646</td>\n",
              "      <td>42328.085156</td>\n",
              "      <td>40805.150260</td>\n",
              "      <td>41435.319661</td>\n",
              "      <td>2.767053e+10</td>\n",
              "      <td>31706.105217</td>\n",
              "      <td>-9729.214445</td>\n",
              "      <td>-0.234805</td>\n",
              "      <td>-0.048584</td>\n",
              "    </tr>\n",
              "    <tr>\n",
              "      <th>2022-05-31</th>\n",
              "      <td>31900.711127</td>\n",
              "      <td>32629.598349</td>\n",
              "      <td>30905.249244</td>\n",
              "      <td>31706.105217</td>\n",
              "      <td>3.566740e+10</td>\n",
              "      <td>24383.685482</td>\n",
              "      <td>-7322.419735</td>\n",
              "      <td>-0.230947</td>\n",
              "      <td>0.001727</td>\n",
              "    </tr>\n",
              "    <tr>\n",
              "      <th>2022-06-30</th>\n",
              "      <td>24783.338477</td>\n",
              "      <td>25228.663672</td>\n",
              "      <td>23752.240495</td>\n",
              "      <td>24383.685482</td>\n",
              "      <td>3.079797e+10</td>\n",
              "      <td>21539.253843</td>\n",
              "      <td>-2844.431639</td>\n",
              "      <td>-0.116653</td>\n",
              "      <td>-0.552567</td>\n",
              "    </tr>\n",
              "    <tr>\n",
              "      <th>2022-07-31</th>\n",
              "      <td>21424.733052</td>\n",
              "      <td>22012.192729</td>\n",
              "      <td>20958.936996</td>\n",
              "      <td>21539.253843</td>\n",
              "      <td>2.992201e+10</td>\n",
              "      <td>22366.266318</td>\n",
              "      <td>827.012475</td>\n",
              "      <td>0.038396</td>\n",
              "      <td>0.522681</td>\n",
              "    </tr>\n",
              "    <tr>\n",
              "      <th>2022-08-31</th>\n",
              "      <td>22471.866557</td>\n",
              "      <td>22870.607863</td>\n",
              "      <td>22075.572203</td>\n",
              "      <td>22366.266318</td>\n",
              "      <td>2.884492e+10</td>\n",
              "      <td>19936.281250</td>\n",
              "      <td>-2429.985068</td>\n",
              "      <td>-0.108645</td>\n",
              "      <td>0.411875</td>\n",
              "    </tr>\n",
              "  </tbody>\n",
              "</table>\n",
              "</div>\n",
              "      <button class=\"colab-df-convert\" onclick=\"convertToInteractive('df-a146de1f-91ba-4d0a-8482-6c18f6135ee6')\"\n",
              "              title=\"Convert this dataframe to an interactive table.\"\n",
              "              style=\"display:none;\">\n",
              "        \n",
              "  <svg xmlns=\"http://www.w3.org/2000/svg\" height=\"24px\"viewBox=\"0 0 24 24\"\n",
              "       width=\"24px\">\n",
              "    <path d=\"M0 0h24v24H0V0z\" fill=\"none\"/>\n",
              "    <path d=\"M18.56 5.44l.94 2.06.94-2.06 2.06-.94-2.06-.94-.94-2.06-.94 2.06-2.06.94zm-11 1L8.5 8.5l.94-2.06 2.06-.94-2.06-.94L8.5 2.5l-.94 2.06-2.06.94zm10 10l.94 2.06.94-2.06 2.06-.94-2.06-.94-.94-2.06-.94 2.06-2.06.94z\"/><path d=\"M17.41 7.96l-1.37-1.37c-.4-.4-.92-.59-1.43-.59-.52 0-1.04.2-1.43.59L10.3 9.45l-7.72 7.72c-.78.78-.78 2.05 0 2.83L4 21.41c.39.39.9.59 1.41.59.51 0 1.02-.2 1.41-.59l7.78-7.78 2.81-2.81c.8-.78.8-2.07 0-2.86zM5.41 20L4 18.59l7.72-7.72 1.47 1.35L5.41 20z\"/>\n",
              "  </svg>\n",
              "      </button>\n",
              "      \n",
              "  <style>\n",
              "    .colab-df-container {\n",
              "      display:flex;\n",
              "      flex-wrap:wrap;\n",
              "      gap: 12px;\n",
              "    }\n",
              "\n",
              "    .colab-df-convert {\n",
              "      background-color: #E8F0FE;\n",
              "      border: none;\n",
              "      border-radius: 50%;\n",
              "      cursor: pointer;\n",
              "      display: none;\n",
              "      fill: #1967D2;\n",
              "      height: 32px;\n",
              "      padding: 0 0 0 0;\n",
              "      width: 32px;\n",
              "    }\n",
              "\n",
              "    .colab-df-convert:hover {\n",
              "      background-color: #E2EBFA;\n",
              "      box-shadow: 0px 1px 2px rgba(60, 64, 67, 0.3), 0px 1px 3px 1px rgba(60, 64, 67, 0.15);\n",
              "      fill: #174EA6;\n",
              "    }\n",
              "\n",
              "    [theme=dark] .colab-df-convert {\n",
              "      background-color: #3B4455;\n",
              "      fill: #D2E3FC;\n",
              "    }\n",
              "\n",
              "    [theme=dark] .colab-df-convert:hover {\n",
              "      background-color: #434B5C;\n",
              "      box-shadow: 0px 1px 3px 1px rgba(0, 0, 0, 0.15);\n",
              "      filter: drop-shadow(0px 1px 2px rgba(0, 0, 0, 0.3));\n",
              "      fill: #FFFFFF;\n",
              "    }\n",
              "  </style>\n",
              "\n",
              "      <script>\n",
              "        const buttonEl =\n",
              "          document.querySelector('#df-a146de1f-91ba-4d0a-8482-6c18f6135ee6 button.colab-df-convert');\n",
              "        buttonEl.style.display =\n",
              "          google.colab.kernel.accessAllowed ? 'block' : 'none';\n",
              "\n",
              "        async function convertToInteractive(key) {\n",
              "          const element = document.querySelector('#df-a146de1f-91ba-4d0a-8482-6c18f6135ee6');\n",
              "          const dataTable =\n",
              "            await google.colab.kernel.invokeFunction('convertToInteractive',\n",
              "                                                     [key], {});\n",
              "          if (!dataTable) return;\n",
              "\n",
              "          const docLinkHtml = 'Like what you see? Visit the ' +\n",
              "            '<a target=\"_blank\" href=https://colab.research.google.com/notebooks/data_table.ipynb>data table notebook</a>'\n",
              "            + ' to learn more about interactive tables.';\n",
              "          element.innerHTML = '';\n",
              "          dataTable['output_type'] = 'display_data';\n",
              "          await google.colab.output.renderOutput(dataTable, element);\n",
              "          const docLink = document.createElement('div');\n",
              "          docLink.innerHTML = docLinkHtml;\n",
              "          element.appendChild(docLink);\n",
              "        }\n",
              "      </script>\n",
              "    </div>\n",
              "  </div>\n",
              "  "
            ]
          },
          "metadata": {},
          "execution_count": 204
        }
      ]
    },
    {
      "cell_type": "markdown",
      "source": [
        "### append_gain_loss"
      ],
      "metadata": {
        "id": "bGeWn2vuPvt0"
      }
    },
    {
      "cell_type": "code",
      "source": [
        "#temp\n",
        "month_close_df.tail()"
      ],
      "metadata": {
        "colab": {
          "base_uri": "https://localhost:8080/",
          "height": 237
        },
        "id": "2nrzZSD0QDbB",
        "outputId": "d4ee673b-a35a-4184-c8d5-f40bf14a63f7"
      },
      "execution_count": 205,
      "outputs": [
        {
          "output_type": "display_data",
          "data": {
            "text/plain": [
              "<IPython.core.display.HTML object>"
            ],
            "text/html": [
              "\n",
              "            <script src=\"/static/components/requirejs/require.js\"></script>\n",
              "            <script>\n",
              "              requirejs.config({\n",
              "                paths: {\n",
              "                  base: '/static/base',\n",
              "                  plotly: 'https://cdn.plot.ly/plotly-latest.min.js?noext',\n",
              "                },\n",
              "              });\n",
              "            </script>\n",
              "            "
            ]
          },
          "metadata": {}
        },
        {
          "output_type": "display_data",
          "data": {
            "text/plain": [
              "<IPython.core.display.HTML object>"
            ],
            "text/html": [
              "\n",
              "            <script src=\"/static/components/requirejs/require.js\"></script>\n",
              "            <script>\n",
              "              requirejs.config({\n",
              "                paths: {\n",
              "                  base: '/static/base',\n",
              "                  plotly: 'https://cdn.plot.ly/plotly-latest.min.js?noext',\n",
              "                },\n",
              "              });\n",
              "            </script>\n",
              "            "
            ]
          },
          "metadata": {}
        },
        {
          "output_type": "display_data",
          "data": {
            "text/plain": [
              "<IPython.core.display.HTML object>"
            ],
            "text/html": [
              "\n",
              "            <script src=\"/static/components/requirejs/require.js\"></script>\n",
              "            <script>\n",
              "              requirejs.config({\n",
              "                paths: {\n",
              "                  base: '/static/base',\n",
              "                  plotly: 'https://cdn.plot.ly/plotly-latest.min.js?noext',\n",
              "                },\n",
              "              });\n",
              "            </script>\n",
              "            "
            ]
          },
          "metadata": {}
        },
        {
          "output_type": "execute_result",
          "data": {
            "text/plain": [
              "             month_close\n",
              "Date                    \n",
              "2022-04-30  37714.875000\n",
              "2022-05-31  31792.310547\n",
              "2022-06-30  19784.726562\n",
              "2022-07-31  23336.896484\n",
              "2022-08-31  20049.763672"
            ],
            "text/html": [
              "\n",
              "  <div id=\"df-f81af0e6-444c-4c3c-b2ce-cf71fc6b8a63\">\n",
              "    <div class=\"colab-df-container\">\n",
              "      <div>\n",
              "<style scoped>\n",
              "    .dataframe tbody tr th:only-of-type {\n",
              "        vertical-align: middle;\n",
              "    }\n",
              "\n",
              "    .dataframe tbody tr th {\n",
              "        vertical-align: top;\n",
              "    }\n",
              "\n",
              "    .dataframe thead th {\n",
              "        text-align: right;\n",
              "    }\n",
              "</style>\n",
              "<table border=\"1\" class=\"dataframe\">\n",
              "  <thead>\n",
              "    <tr style=\"text-align: right;\">\n",
              "      <th></th>\n",
              "      <th>month_close</th>\n",
              "    </tr>\n",
              "    <tr>\n",
              "      <th>Date</th>\n",
              "      <th></th>\n",
              "    </tr>\n",
              "  </thead>\n",
              "  <tbody>\n",
              "    <tr>\n",
              "      <th>2022-04-30</th>\n",
              "      <td>37714.875000</td>\n",
              "    </tr>\n",
              "    <tr>\n",
              "      <th>2022-05-31</th>\n",
              "      <td>31792.310547</td>\n",
              "    </tr>\n",
              "    <tr>\n",
              "      <th>2022-06-30</th>\n",
              "      <td>19784.726562</td>\n",
              "    </tr>\n",
              "    <tr>\n",
              "      <th>2022-07-31</th>\n",
              "      <td>23336.896484</td>\n",
              "    </tr>\n",
              "    <tr>\n",
              "      <th>2022-08-31</th>\n",
              "      <td>20049.763672</td>\n",
              "    </tr>\n",
              "  </tbody>\n",
              "</table>\n",
              "</div>\n",
              "      <button class=\"colab-df-convert\" onclick=\"convertToInteractive('df-f81af0e6-444c-4c3c-b2ce-cf71fc6b8a63')\"\n",
              "              title=\"Convert this dataframe to an interactive table.\"\n",
              "              style=\"display:none;\">\n",
              "        \n",
              "  <svg xmlns=\"http://www.w3.org/2000/svg\" height=\"24px\"viewBox=\"0 0 24 24\"\n",
              "       width=\"24px\">\n",
              "    <path d=\"M0 0h24v24H0V0z\" fill=\"none\"/>\n",
              "    <path d=\"M18.56 5.44l.94 2.06.94-2.06 2.06-.94-2.06-.94-.94-2.06-.94 2.06-2.06.94zm-11 1L8.5 8.5l.94-2.06 2.06-.94-2.06-.94L8.5 2.5l-.94 2.06-2.06.94zm10 10l.94 2.06.94-2.06 2.06-.94-2.06-.94-.94-2.06-.94 2.06-2.06.94z\"/><path d=\"M17.41 7.96l-1.37-1.37c-.4-.4-.92-.59-1.43-.59-.52 0-1.04.2-1.43.59L10.3 9.45l-7.72 7.72c-.78.78-.78 2.05 0 2.83L4 21.41c.39.39.9.59 1.41.59.51 0 1.02-.2 1.41-.59l7.78-7.78 2.81-2.81c.8-.78.8-2.07 0-2.86zM5.41 20L4 18.59l7.72-7.72 1.47 1.35L5.41 20z\"/>\n",
              "  </svg>\n",
              "      </button>\n",
              "      \n",
              "  <style>\n",
              "    .colab-df-container {\n",
              "      display:flex;\n",
              "      flex-wrap:wrap;\n",
              "      gap: 12px;\n",
              "    }\n",
              "\n",
              "    .colab-df-convert {\n",
              "      background-color: #E8F0FE;\n",
              "      border: none;\n",
              "      border-radius: 50%;\n",
              "      cursor: pointer;\n",
              "      display: none;\n",
              "      fill: #1967D2;\n",
              "      height: 32px;\n",
              "      padding: 0 0 0 0;\n",
              "      width: 32px;\n",
              "    }\n",
              "\n",
              "    .colab-df-convert:hover {\n",
              "      background-color: #E2EBFA;\n",
              "      box-shadow: 0px 1px 2px rgba(60, 64, 67, 0.3), 0px 1px 3px 1px rgba(60, 64, 67, 0.15);\n",
              "      fill: #174EA6;\n",
              "    }\n",
              "\n",
              "    [theme=dark] .colab-df-convert {\n",
              "      background-color: #3B4455;\n",
              "      fill: #D2E3FC;\n",
              "    }\n",
              "\n",
              "    [theme=dark] .colab-df-convert:hover {\n",
              "      background-color: #434B5C;\n",
              "      box-shadow: 0px 1px 3px 1px rgba(0, 0, 0, 0.15);\n",
              "      filter: drop-shadow(0px 1px 2px rgba(0, 0, 0, 0.3));\n",
              "      fill: #FFFFFF;\n",
              "    }\n",
              "  </style>\n",
              "\n",
              "      <script>\n",
              "        const buttonEl =\n",
              "          document.querySelector('#df-f81af0e6-444c-4c3c-b2ce-cf71fc6b8a63 button.colab-df-convert');\n",
              "        buttonEl.style.display =\n",
              "          google.colab.kernel.accessAllowed ? 'block' : 'none';\n",
              "\n",
              "        async function convertToInteractive(key) {\n",
              "          const element = document.querySelector('#df-f81af0e6-444c-4c3c-b2ce-cf71fc6b8a63');\n",
              "          const dataTable =\n",
              "            await google.colab.kernel.invokeFunction('convertToInteractive',\n",
              "                                                     [key], {});\n",
              "          if (!dataTable) return;\n",
              "\n",
              "          const docLinkHtml = 'Like what you see? Visit the ' +\n",
              "            '<a target=\"_blank\" href=https://colab.research.google.com/notebooks/data_table.ipynb>data table notebook</a>'\n",
              "            + ' to learn more about interactive tables.';\n",
              "          element.innerHTML = '';\n",
              "          dataTable['output_type'] = 'display_data';\n",
              "          await google.colab.output.renderOutput(dataTable, element);\n",
              "          const docLink = document.createElement('div');\n",
              "          docLink.innerHTML = docLinkHtml;\n",
              "          element.appendChild(docLink);\n",
              "        }\n",
              "      </script>\n",
              "    </div>\n",
              "  </div>\n",
              "  "
            ]
          },
          "metadata": {},
          "execution_count": 205
        }
      ]
    },
    {
      "cell_type": "code",
      "source": [
        "#hide chain warning\n",
        "pd.options.mode.chained_assignment = None"
      ],
      "metadata": {
        "colab": {
          "base_uri": "https://localhost:8080/",
          "height": 17
        },
        "id": "3Yskg82L5pEH",
        "outputId": "64f0adfa-0879-4646-8890-12e78eb43ec4"
      },
      "execution_count": 206,
      "outputs": [
        {
          "output_type": "display_data",
          "data": {
            "text/plain": [
              "<IPython.core.display.HTML object>"
            ],
            "text/html": [
              "\n",
              "            <script src=\"/static/components/requirejs/require.js\"></script>\n",
              "            <script>\n",
              "              requirejs.config({\n",
              "                paths: {\n",
              "                  base: '/static/base',\n",
              "                  plotly: 'https://cdn.plot.ly/plotly-latest.min.js?noext',\n",
              "                },\n",
              "              });\n",
              "            </script>\n",
              "            "
            ]
          },
          "metadata": {}
        },
        {
          "output_type": "display_data",
          "data": {
            "text/plain": [
              "<IPython.core.display.HTML object>"
            ],
            "text/html": [
              "\n",
              "            <script src=\"/static/components/requirejs/require.js\"></script>\n",
              "            <script>\n",
              "              requirejs.config({\n",
              "                paths: {\n",
              "                  base: '/static/base',\n",
              "                  plotly: 'https://cdn.plot.ly/plotly-latest.min.js?noext',\n",
              "                },\n",
              "              });\n",
              "            </script>\n",
              "            "
            ]
          },
          "metadata": {}
        },
        {
          "output_type": "display_data",
          "data": {
            "text/plain": [
              "<IPython.core.display.HTML object>"
            ],
            "text/html": [
              "\n",
              "            <script src=\"/static/components/requirejs/require.js\"></script>\n",
              "            <script>\n",
              "              requirejs.config({\n",
              "                paths: {\n",
              "                  base: '/static/base',\n",
              "                  plotly: 'https://cdn.plot.ly/plotly-latest.min.js?noext',\n",
              "                },\n",
              "              });\n",
              "            </script>\n",
              "            "
            ]
          },
          "metadata": {}
        }
      ]
    },
    {
      "cell_type": "code",
      "source": [
        "def append_gain_loss(df, debug=False):\n",
        "\n",
        "  df = df.merge(month_close_df, how='left', left_index=True, right_index=True)\n",
        "  if debug:\n",
        "    display(df.tail())\n",
        "\n",
        "  df['gain_loss'] = None\n",
        "  for i in range(1, len(df)):\n",
        "    df['gain_loss'][i] = df['month_close'][i] - df['month_close'][i-1]\n",
        "\n",
        "  df.dropna(inplace=True)\n",
        "  return df\n",
        "\n",
        "predict_df = append_gain_loss(predict_df)\n",
        "predict_df"
      ],
      "metadata": {
        "colab": {
          "base_uri": "https://localhost:8080/",
          "height": 1000
        },
        "id": "k3YVKIpB30P1",
        "outputId": "c8fec2cf-6fc4-45ca-e7d2-cd8041e32f31"
      },
      "execution_count": 207,
      "outputs": [
        {
          "output_type": "display_data",
          "data": {
            "text/plain": [
              "<IPython.core.display.HTML object>"
            ],
            "text/html": [
              "\n",
              "            <script src=\"/static/components/requirejs/require.js\"></script>\n",
              "            <script>\n",
              "              requirejs.config({\n",
              "                paths: {\n",
              "                  base: '/static/base',\n",
              "                  plotly: 'https://cdn.plot.ly/plotly-latest.min.js?noext',\n",
              "                },\n",
              "              });\n",
              "            </script>\n",
              "            "
            ]
          },
          "metadata": {}
        },
        {
          "output_type": "display_data",
          "data": {
            "text/plain": [
              "<IPython.core.display.HTML object>"
            ],
            "text/html": [
              "\n",
              "            <script src=\"/static/components/requirejs/require.js\"></script>\n",
              "            <script>\n",
              "              requirejs.config({\n",
              "                paths: {\n",
              "                  base: '/static/base',\n",
              "                  plotly: 'https://cdn.plot.ly/plotly-latest.min.js?noext',\n",
              "                },\n",
              "              });\n",
              "            </script>\n",
              "            "
            ]
          },
          "metadata": {}
        },
        {
          "output_type": "display_data",
          "data": {
            "text/plain": [
              "<IPython.core.display.HTML object>"
            ],
            "text/html": [
              "\n",
              "            <script src=\"/static/components/requirejs/require.js\"></script>\n",
              "            <script>\n",
              "              requirejs.config({\n",
              "                paths: {\n",
              "                  base: '/static/base',\n",
              "                  plotly: 'https://cdn.plot.ly/plotly-latest.min.js?noext',\n",
              "                },\n",
              "              });\n",
              "            </script>\n",
              "            "
            ]
          },
          "metadata": {}
        },
        {
          "output_type": "execute_result",
          "data": {
            "text/plain": [
              "            month_ave_open  month_ave_high  month_ave_low  month_ave_close  \\\n",
              "Date                                                                         \n",
              "2020-10-31    11791.307491    12018.847719   11648.076833     11886.978201   \n",
              "2020-11-30    16450.121647    16945.980208   16064.074740     16645.757422   \n",
              "2020-12-31    21680.540827    22354.685610   21229.362021     21983.137097   \n",
              "2021-01-31    34652.961694    36206.557082   32705.655998     34761.649950   \n",
              "2021-02-28    45874.967215    47710.414621   44197.377302     46306.798968   \n",
              "2021-03-31    54544.678175    56250.979083   52964.134703     54998.008695   \n",
              "2021-04-30    57251.256250    58557.342057   55604.271094     57206.720052   \n",
              "2021-05-31    47105.828503    48775.041835   44434.530620     46443.286668   \n",
              "2021-06-30    35920.546940    37094.880143   34375.803060     35845.154687   \n",
              "2021-07-31    34234.212450    35161.966356   33430.565020     34444.973790   \n",
              "2021-08-31    45516.119834    46685.621346   44464.354587     45709.022681   \n",
              "2021-09-30    46041.859375    47132.725000   44643.686328     45939.771484   \n",
              "2021-10-31    57344.743952    59024.878150   56183.983115     57911.970514   \n",
              "2021-11-30    60857.520312    62046.720703   59290.196615     60621.488802   \n",
              "2021-12-31    49670.411794    50722.471018   48108.254914     49263.209173   \n",
              "2022-01-31    41368.073463    42044.166331   40176.096396     41114.422379   \n",
              "2022-02-28    40591.103934    41685.856864   39637.587472     40763.474051   \n",
              "2022-03-31    41889.148438    42770.031502   41120.731729     41966.237525   \n",
              "2022-04-30    41694.653646    42328.085156   40805.150260     41435.319661   \n",
              "2022-05-31    31900.711127    32629.598349   30905.249244     31706.105217   \n",
              "2022-06-30    24783.338477    25228.663672   23752.240495     24383.685482   \n",
              "2022-07-31    21424.733052    22012.192729   20958.936996     21539.253843   \n",
              "2022-08-31    22471.866557    22870.607863   22075.572203     22366.266318   \n",
              "\n",
              "            month_ave_volume  month_ave_close_shift  \\\n",
              "Date                                                  \n",
              "2020-10-31      3.389918e+10           16645.757422   \n",
              "2020-11-30      3.643816e+10           21983.137097   \n",
              "2020-12-31      3.910515e+10           34761.649950   \n",
              "2021-01-31      6.946688e+10           46306.798968   \n",
              "2021-02-28      8.096975e+10           54998.008695   \n",
              "2021-03-31      5.423175e+10           57206.720052   \n",
              "2021-04-30      6.148273e+10           46443.286668   \n",
              "2021-05-31      6.376108e+10           35845.154687   \n",
              "2021-06-30      3.965492e+10           34444.973790   \n",
              "2021-07-31      2.642269e+10           45709.022681   \n",
              "2021-08-31      3.273143e+10           45939.771484   \n",
              "2021-09-30      3.673799e+10           57911.970514   \n",
              "2021-10-31      3.719606e+10           60621.488802   \n",
              "2021-11-30      3.510901e+10           49263.209173   \n",
              "2021-12-31      3.087249e+10           41114.422379   \n",
              "2022-01-31      2.980578e+10           40763.474051   \n",
              "2022-02-28      2.397629e+10           41966.237525   \n",
              "2022-03-31      2.680464e+10           41435.319661   \n",
              "2022-04-30      2.767053e+10           31706.105217   \n",
              "2022-05-31      3.566740e+10           24383.685482   \n",
              "2022-06-30      3.079797e+10           21539.253843   \n",
              "2022-07-31      2.992201e+10           22366.266318   \n",
              "2022-08-31      2.884492e+10           19936.281250   \n",
              "\n",
              "            month_ave_close_shift_diff month_ave_close_shift_diff_percent  \\\n",
              "Date                                                                        \n",
              "2020-10-31                 4758.779221                           0.400335   \n",
              "2020-11-30                 5337.379675                           0.320645   \n",
              "2020-12-31                12778.512853                           0.581287   \n",
              "2021-01-31                11545.149018                           0.332123   \n",
              "2021-02-28                 8691.209727                           0.187688   \n",
              "2021-03-31                 2208.711358                            0.04016   \n",
              "2021-04-30               -10763.433384                           -0.18815   \n",
              "2021-05-31               -10598.131981                          -0.228195   \n",
              "2021-06-30                -1400.180897                          -0.039062   \n",
              "2021-07-31                11264.048891                           0.327016   \n",
              "2021-08-31                  230.748803                           0.005048   \n",
              "2021-09-30                11972.199030                           0.260606   \n",
              "2021-10-31                 2709.518288                           0.046787   \n",
              "2021-11-30               -11358.279629                          -0.187364   \n",
              "2021-12-31                -8148.786794                          -0.165413   \n",
              "2022-01-31                 -350.948328                          -0.008536   \n",
              "2022-02-28                 1202.763474                           0.029506   \n",
              "2022-03-31                 -530.917864                          -0.012651   \n",
              "2022-04-30                -9729.214445                          -0.234805   \n",
              "2022-05-31                -7322.419735                          -0.230947   \n",
              "2022-06-30                -2844.431639                          -0.116653   \n",
              "2022-07-31                  827.012475                           0.038396   \n",
              "2022-08-31                -2429.985068                          -0.108645   \n",
              "\n",
              "              Y_PRED   month_close     gain_loss  \n",
              "Date                                              \n",
              "2020-10-31  0.334955  13780.995117   2996.503906  \n",
              "2020-11-30  0.373815  19625.835938    5844.84082  \n",
              "2020-12-31  0.541257  29001.720703   9375.884766  \n",
              "2021-01-31 -0.257381  33114.359375   4112.638672  \n",
              "2021-02-28  0.615860  45137.769531  12023.410156  \n",
              "2021-03-31  0.372402  58918.832031    13781.0625  \n",
              "2021-04-30 -0.336695  57750.175781   -1168.65625  \n",
              "2021-05-31 -0.685087  37332.855469 -20417.320312  \n",
              "2021-06-30 -0.165558  35040.835938  -2292.019531  \n",
              "2021-07-31  0.474952  41626.195312   6585.359375  \n",
              "2021-08-31  0.499061  47166.687500   5540.492188  \n",
              "2021-09-30 -0.149795  43790.894531  -3375.792969  \n",
              "2021-10-31  1.108057  61318.957031    17528.0625  \n",
              "2021-11-30 -0.238598  57005.425781   -4313.53125  \n",
              "2021-12-31 -0.264861  46306.445312 -10698.980469  \n",
              "2022-01-31 -0.629743  38483.125000  -7823.320312  \n",
              "2022-02-28  0.604312  43193.234375   4710.109375  \n",
              "2022-03-31  0.508889  45538.675781   2345.441406  \n",
              "2022-04-30 -0.048584  37714.875000  -7823.800781  \n",
              "2022-05-31  0.001727  31792.310547  -5922.564453  \n",
              "2022-06-30 -0.552567  19784.726562 -12007.583984  \n",
              "2022-07-31  0.522681  23336.896484   3552.169922  \n",
              "2022-08-31  0.411875  20049.763672  -3287.132812  "
            ],
            "text/html": [
              "\n",
              "  <div id=\"df-b4d373a4-def7-4b27-bd41-a4bfb5380e75\">\n",
              "    <div class=\"colab-df-container\">\n",
              "      <div>\n",
              "<style scoped>\n",
              "    .dataframe tbody tr th:only-of-type {\n",
              "        vertical-align: middle;\n",
              "    }\n",
              "\n",
              "    .dataframe tbody tr th {\n",
              "        vertical-align: top;\n",
              "    }\n",
              "\n",
              "    .dataframe thead th {\n",
              "        text-align: right;\n",
              "    }\n",
              "</style>\n",
              "<table border=\"1\" class=\"dataframe\">\n",
              "  <thead>\n",
              "    <tr style=\"text-align: right;\">\n",
              "      <th></th>\n",
              "      <th>month_ave_open</th>\n",
              "      <th>month_ave_high</th>\n",
              "      <th>month_ave_low</th>\n",
              "      <th>month_ave_close</th>\n",
              "      <th>month_ave_volume</th>\n",
              "      <th>month_ave_close_shift</th>\n",
              "      <th>month_ave_close_shift_diff</th>\n",
              "      <th>month_ave_close_shift_diff_percent</th>\n",
              "      <th>Y_PRED</th>\n",
              "      <th>month_close</th>\n",
              "      <th>gain_loss</th>\n",
              "    </tr>\n",
              "    <tr>\n",
              "      <th>Date</th>\n",
              "      <th></th>\n",
              "      <th></th>\n",
              "      <th></th>\n",
              "      <th></th>\n",
              "      <th></th>\n",
              "      <th></th>\n",
              "      <th></th>\n",
              "      <th></th>\n",
              "      <th></th>\n",
              "      <th></th>\n",
              "      <th></th>\n",
              "    </tr>\n",
              "  </thead>\n",
              "  <tbody>\n",
              "    <tr>\n",
              "      <th>2020-10-31</th>\n",
              "      <td>11791.307491</td>\n",
              "      <td>12018.847719</td>\n",
              "      <td>11648.076833</td>\n",
              "      <td>11886.978201</td>\n",
              "      <td>3.389918e+10</td>\n",
              "      <td>16645.757422</td>\n",
              "      <td>4758.779221</td>\n",
              "      <td>0.400335</td>\n",
              "      <td>0.334955</td>\n",
              "      <td>13780.995117</td>\n",
              "      <td>2996.503906</td>\n",
              "    </tr>\n",
              "    <tr>\n",
              "      <th>2020-11-30</th>\n",
              "      <td>16450.121647</td>\n",
              "      <td>16945.980208</td>\n",
              "      <td>16064.074740</td>\n",
              "      <td>16645.757422</td>\n",
              "      <td>3.643816e+10</td>\n",
              "      <td>21983.137097</td>\n",
              "      <td>5337.379675</td>\n",
              "      <td>0.320645</td>\n",
              "      <td>0.373815</td>\n",
              "      <td>19625.835938</td>\n",
              "      <td>5844.84082</td>\n",
              "    </tr>\n",
              "    <tr>\n",
              "      <th>2020-12-31</th>\n",
              "      <td>21680.540827</td>\n",
              "      <td>22354.685610</td>\n",
              "      <td>21229.362021</td>\n",
              "      <td>21983.137097</td>\n",
              "      <td>3.910515e+10</td>\n",
              "      <td>34761.649950</td>\n",
              "      <td>12778.512853</td>\n",
              "      <td>0.581287</td>\n",
              "      <td>0.541257</td>\n",
              "      <td>29001.720703</td>\n",
              "      <td>9375.884766</td>\n",
              "    </tr>\n",
              "    <tr>\n",
              "      <th>2021-01-31</th>\n",
              "      <td>34652.961694</td>\n",
              "      <td>36206.557082</td>\n",
              "      <td>32705.655998</td>\n",
              "      <td>34761.649950</td>\n",
              "      <td>6.946688e+10</td>\n",
              "      <td>46306.798968</td>\n",
              "      <td>11545.149018</td>\n",
              "      <td>0.332123</td>\n",
              "      <td>-0.257381</td>\n",
              "      <td>33114.359375</td>\n",
              "      <td>4112.638672</td>\n",
              "    </tr>\n",
              "    <tr>\n",
              "      <th>2021-02-28</th>\n",
              "      <td>45874.967215</td>\n",
              "      <td>47710.414621</td>\n",
              "      <td>44197.377302</td>\n",
              "      <td>46306.798968</td>\n",
              "      <td>8.096975e+10</td>\n",
              "      <td>54998.008695</td>\n",
              "      <td>8691.209727</td>\n",
              "      <td>0.187688</td>\n",
              "      <td>0.615860</td>\n",
              "      <td>45137.769531</td>\n",
              "      <td>12023.410156</td>\n",
              "    </tr>\n",
              "    <tr>\n",
              "      <th>2021-03-31</th>\n",
              "      <td>54544.678175</td>\n",
              "      <td>56250.979083</td>\n",
              "      <td>52964.134703</td>\n",
              "      <td>54998.008695</td>\n",
              "      <td>5.423175e+10</td>\n",
              "      <td>57206.720052</td>\n",
              "      <td>2208.711358</td>\n",
              "      <td>0.04016</td>\n",
              "      <td>0.372402</td>\n",
              "      <td>58918.832031</td>\n",
              "      <td>13781.0625</td>\n",
              "    </tr>\n",
              "    <tr>\n",
              "      <th>2021-04-30</th>\n",
              "      <td>57251.256250</td>\n",
              "      <td>58557.342057</td>\n",
              "      <td>55604.271094</td>\n",
              "      <td>57206.720052</td>\n",
              "      <td>6.148273e+10</td>\n",
              "      <td>46443.286668</td>\n",
              "      <td>-10763.433384</td>\n",
              "      <td>-0.18815</td>\n",
              "      <td>-0.336695</td>\n",
              "      <td>57750.175781</td>\n",
              "      <td>-1168.65625</td>\n",
              "    </tr>\n",
              "    <tr>\n",
              "      <th>2021-05-31</th>\n",
              "      <td>47105.828503</td>\n",
              "      <td>48775.041835</td>\n",
              "      <td>44434.530620</td>\n",
              "      <td>46443.286668</td>\n",
              "      <td>6.376108e+10</td>\n",
              "      <td>35845.154687</td>\n",
              "      <td>-10598.131981</td>\n",
              "      <td>-0.228195</td>\n",
              "      <td>-0.685087</td>\n",
              "      <td>37332.855469</td>\n",
              "      <td>-20417.320312</td>\n",
              "    </tr>\n",
              "    <tr>\n",
              "      <th>2021-06-30</th>\n",
              "      <td>35920.546940</td>\n",
              "      <td>37094.880143</td>\n",
              "      <td>34375.803060</td>\n",
              "      <td>35845.154687</td>\n",
              "      <td>3.965492e+10</td>\n",
              "      <td>34444.973790</td>\n",
              "      <td>-1400.180897</td>\n",
              "      <td>-0.039062</td>\n",
              "      <td>-0.165558</td>\n",
              "      <td>35040.835938</td>\n",
              "      <td>-2292.019531</td>\n",
              "    </tr>\n",
              "    <tr>\n",
              "      <th>2021-07-31</th>\n",
              "      <td>34234.212450</td>\n",
              "      <td>35161.966356</td>\n",
              "      <td>33430.565020</td>\n",
              "      <td>34444.973790</td>\n",
              "      <td>2.642269e+10</td>\n",
              "      <td>45709.022681</td>\n",
              "      <td>11264.048891</td>\n",
              "      <td>0.327016</td>\n",
              "      <td>0.474952</td>\n",
              "      <td>41626.195312</td>\n",
              "      <td>6585.359375</td>\n",
              "    </tr>\n",
              "    <tr>\n",
              "      <th>2021-08-31</th>\n",
              "      <td>45516.119834</td>\n",
              "      <td>46685.621346</td>\n",
              "      <td>44464.354587</td>\n",
              "      <td>45709.022681</td>\n",
              "      <td>3.273143e+10</td>\n",
              "      <td>45939.771484</td>\n",
              "      <td>230.748803</td>\n",
              "      <td>0.005048</td>\n",
              "      <td>0.499061</td>\n",
              "      <td>47166.687500</td>\n",
              "      <td>5540.492188</td>\n",
              "    </tr>\n",
              "    <tr>\n",
              "      <th>2021-09-30</th>\n",
              "      <td>46041.859375</td>\n",
              "      <td>47132.725000</td>\n",
              "      <td>44643.686328</td>\n",
              "      <td>45939.771484</td>\n",
              "      <td>3.673799e+10</td>\n",
              "      <td>57911.970514</td>\n",
              "      <td>11972.199030</td>\n",
              "      <td>0.260606</td>\n",
              "      <td>-0.149795</td>\n",
              "      <td>43790.894531</td>\n",
              "      <td>-3375.792969</td>\n",
              "    </tr>\n",
              "    <tr>\n",
              "      <th>2021-10-31</th>\n",
              "      <td>57344.743952</td>\n",
              "      <td>59024.878150</td>\n",
              "      <td>56183.983115</td>\n",
              "      <td>57911.970514</td>\n",
              "      <td>3.719606e+10</td>\n",
              "      <td>60621.488802</td>\n",
              "      <td>2709.518288</td>\n",
              "      <td>0.046787</td>\n",
              "      <td>1.108057</td>\n",
              "      <td>61318.957031</td>\n",
              "      <td>17528.0625</td>\n",
              "    </tr>\n",
              "    <tr>\n",
              "      <th>2021-11-30</th>\n",
              "      <td>60857.520312</td>\n",
              "      <td>62046.720703</td>\n",
              "      <td>59290.196615</td>\n",
              "      <td>60621.488802</td>\n",
              "      <td>3.510901e+10</td>\n",
              "      <td>49263.209173</td>\n",
              "      <td>-11358.279629</td>\n",
              "      <td>-0.187364</td>\n",
              "      <td>-0.238598</td>\n",
              "      <td>57005.425781</td>\n",
              "      <td>-4313.53125</td>\n",
              "    </tr>\n",
              "    <tr>\n",
              "      <th>2021-12-31</th>\n",
              "      <td>49670.411794</td>\n",
              "      <td>50722.471018</td>\n",
              "      <td>48108.254914</td>\n",
              "      <td>49263.209173</td>\n",
              "      <td>3.087249e+10</td>\n",
              "      <td>41114.422379</td>\n",
              "      <td>-8148.786794</td>\n",
              "      <td>-0.165413</td>\n",
              "      <td>-0.264861</td>\n",
              "      <td>46306.445312</td>\n",
              "      <td>-10698.980469</td>\n",
              "    </tr>\n",
              "    <tr>\n",
              "      <th>2022-01-31</th>\n",
              "      <td>41368.073463</td>\n",
              "      <td>42044.166331</td>\n",
              "      <td>40176.096396</td>\n",
              "      <td>41114.422379</td>\n",
              "      <td>2.980578e+10</td>\n",
              "      <td>40763.474051</td>\n",
              "      <td>-350.948328</td>\n",
              "      <td>-0.008536</td>\n",
              "      <td>-0.629743</td>\n",
              "      <td>38483.125000</td>\n",
              "      <td>-7823.320312</td>\n",
              "    </tr>\n",
              "    <tr>\n",
              "      <th>2022-02-28</th>\n",
              "      <td>40591.103934</td>\n",
              "      <td>41685.856864</td>\n",
              "      <td>39637.587472</td>\n",
              "      <td>40763.474051</td>\n",
              "      <td>2.397629e+10</td>\n",
              "      <td>41966.237525</td>\n",
              "      <td>1202.763474</td>\n",
              "      <td>0.029506</td>\n",
              "      <td>0.604312</td>\n",
              "      <td>43193.234375</td>\n",
              "      <td>4710.109375</td>\n",
              "    </tr>\n",
              "    <tr>\n",
              "      <th>2022-03-31</th>\n",
              "      <td>41889.148438</td>\n",
              "      <td>42770.031502</td>\n",
              "      <td>41120.731729</td>\n",
              "      <td>41966.237525</td>\n",
              "      <td>2.680464e+10</td>\n",
              "      <td>41435.319661</td>\n",
              "      <td>-530.917864</td>\n",
              "      <td>-0.012651</td>\n",
              "      <td>0.508889</td>\n",
              "      <td>45538.675781</td>\n",
              "      <td>2345.441406</td>\n",
              "    </tr>\n",
              "    <tr>\n",
              "      <th>2022-04-30</th>\n",
              "      <td>41694.653646</td>\n",
              "      <td>42328.085156</td>\n",
              "      <td>40805.150260</td>\n",
              "      <td>41435.319661</td>\n",
              "      <td>2.767053e+10</td>\n",
              "      <td>31706.105217</td>\n",
              "      <td>-9729.214445</td>\n",
              "      <td>-0.234805</td>\n",
              "      <td>-0.048584</td>\n",
              "      <td>37714.875000</td>\n",
              "      <td>-7823.800781</td>\n",
              "    </tr>\n",
              "    <tr>\n",
              "      <th>2022-05-31</th>\n",
              "      <td>31900.711127</td>\n",
              "      <td>32629.598349</td>\n",
              "      <td>30905.249244</td>\n",
              "      <td>31706.105217</td>\n",
              "      <td>3.566740e+10</td>\n",
              "      <td>24383.685482</td>\n",
              "      <td>-7322.419735</td>\n",
              "      <td>-0.230947</td>\n",
              "      <td>0.001727</td>\n",
              "      <td>31792.310547</td>\n",
              "      <td>-5922.564453</td>\n",
              "    </tr>\n",
              "    <tr>\n",
              "      <th>2022-06-30</th>\n",
              "      <td>24783.338477</td>\n",
              "      <td>25228.663672</td>\n",
              "      <td>23752.240495</td>\n",
              "      <td>24383.685482</td>\n",
              "      <td>3.079797e+10</td>\n",
              "      <td>21539.253843</td>\n",
              "      <td>-2844.431639</td>\n",
              "      <td>-0.116653</td>\n",
              "      <td>-0.552567</td>\n",
              "      <td>19784.726562</td>\n",
              "      <td>-12007.583984</td>\n",
              "    </tr>\n",
              "    <tr>\n",
              "      <th>2022-07-31</th>\n",
              "      <td>21424.733052</td>\n",
              "      <td>22012.192729</td>\n",
              "      <td>20958.936996</td>\n",
              "      <td>21539.253843</td>\n",
              "      <td>2.992201e+10</td>\n",
              "      <td>22366.266318</td>\n",
              "      <td>827.012475</td>\n",
              "      <td>0.038396</td>\n",
              "      <td>0.522681</td>\n",
              "      <td>23336.896484</td>\n",
              "      <td>3552.169922</td>\n",
              "    </tr>\n",
              "    <tr>\n",
              "      <th>2022-08-31</th>\n",
              "      <td>22471.866557</td>\n",
              "      <td>22870.607863</td>\n",
              "      <td>22075.572203</td>\n",
              "      <td>22366.266318</td>\n",
              "      <td>2.884492e+10</td>\n",
              "      <td>19936.281250</td>\n",
              "      <td>-2429.985068</td>\n",
              "      <td>-0.108645</td>\n",
              "      <td>0.411875</td>\n",
              "      <td>20049.763672</td>\n",
              "      <td>-3287.132812</td>\n",
              "    </tr>\n",
              "  </tbody>\n",
              "</table>\n",
              "</div>\n",
              "      <button class=\"colab-df-convert\" onclick=\"convertToInteractive('df-b4d373a4-def7-4b27-bd41-a4bfb5380e75')\"\n",
              "              title=\"Convert this dataframe to an interactive table.\"\n",
              "              style=\"display:none;\">\n",
              "        \n",
              "  <svg xmlns=\"http://www.w3.org/2000/svg\" height=\"24px\"viewBox=\"0 0 24 24\"\n",
              "       width=\"24px\">\n",
              "    <path d=\"M0 0h24v24H0V0z\" fill=\"none\"/>\n",
              "    <path d=\"M18.56 5.44l.94 2.06.94-2.06 2.06-.94-2.06-.94-.94-2.06-.94 2.06-2.06.94zm-11 1L8.5 8.5l.94-2.06 2.06-.94-2.06-.94L8.5 2.5l-.94 2.06-2.06.94zm10 10l.94 2.06.94-2.06 2.06-.94-2.06-.94-.94-2.06-.94 2.06-2.06.94z\"/><path d=\"M17.41 7.96l-1.37-1.37c-.4-.4-.92-.59-1.43-.59-.52 0-1.04.2-1.43.59L10.3 9.45l-7.72 7.72c-.78.78-.78 2.05 0 2.83L4 21.41c.39.39.9.59 1.41.59.51 0 1.02-.2 1.41-.59l7.78-7.78 2.81-2.81c.8-.78.8-2.07 0-2.86zM5.41 20L4 18.59l7.72-7.72 1.47 1.35L5.41 20z\"/>\n",
              "  </svg>\n",
              "      </button>\n",
              "      \n",
              "  <style>\n",
              "    .colab-df-container {\n",
              "      display:flex;\n",
              "      flex-wrap:wrap;\n",
              "      gap: 12px;\n",
              "    }\n",
              "\n",
              "    .colab-df-convert {\n",
              "      background-color: #E8F0FE;\n",
              "      border: none;\n",
              "      border-radius: 50%;\n",
              "      cursor: pointer;\n",
              "      display: none;\n",
              "      fill: #1967D2;\n",
              "      height: 32px;\n",
              "      padding: 0 0 0 0;\n",
              "      width: 32px;\n",
              "    }\n",
              "\n",
              "    .colab-df-convert:hover {\n",
              "      background-color: #E2EBFA;\n",
              "      box-shadow: 0px 1px 2px rgba(60, 64, 67, 0.3), 0px 1px 3px 1px rgba(60, 64, 67, 0.15);\n",
              "      fill: #174EA6;\n",
              "    }\n",
              "\n",
              "    [theme=dark] .colab-df-convert {\n",
              "      background-color: #3B4455;\n",
              "      fill: #D2E3FC;\n",
              "    }\n",
              "\n",
              "    [theme=dark] .colab-df-convert:hover {\n",
              "      background-color: #434B5C;\n",
              "      box-shadow: 0px 1px 3px 1px rgba(0, 0, 0, 0.15);\n",
              "      filter: drop-shadow(0px 1px 2px rgba(0, 0, 0, 0.3));\n",
              "      fill: #FFFFFF;\n",
              "    }\n",
              "  </style>\n",
              "\n",
              "      <script>\n",
              "        const buttonEl =\n",
              "          document.querySelector('#df-b4d373a4-def7-4b27-bd41-a4bfb5380e75 button.colab-df-convert');\n",
              "        buttonEl.style.display =\n",
              "          google.colab.kernel.accessAllowed ? 'block' : 'none';\n",
              "\n",
              "        async function convertToInteractive(key) {\n",
              "          const element = document.querySelector('#df-b4d373a4-def7-4b27-bd41-a4bfb5380e75');\n",
              "          const dataTable =\n",
              "            await google.colab.kernel.invokeFunction('convertToInteractive',\n",
              "                                                     [key], {});\n",
              "          if (!dataTable) return;\n",
              "\n",
              "          const docLinkHtml = 'Like what you see? Visit the ' +\n",
              "            '<a target=\"_blank\" href=https://colab.research.google.com/notebooks/data_table.ipynb>data table notebook</a>'\n",
              "            + ' to learn more about interactive tables.';\n",
              "          element.innerHTML = '';\n",
              "          dataTable['output_type'] = 'display_data';\n",
              "          await google.colab.output.renderOutput(dataTable, element);\n",
              "          const docLink = document.createElement('div');\n",
              "          docLink.innerHTML = docLinkHtml;\n",
              "          element.appendChild(docLink);\n",
              "        }\n",
              "      </script>\n",
              "    </div>\n",
              "  </div>\n",
              "  "
            ]
          },
          "metadata": {},
          "execution_count": 207
        }
      ]
    },
    {
      "cell_type": "markdown",
      "source": [
        "## Evaluate strategy"
      ],
      "metadata": {
        "id": "9D73DqOPxa8o"
      }
    },
    {
      "cell_type": "markdown",
      "source": [
        "### if Y_PRED > 0"
      ],
      "metadata": {
        "id": "NhoBZznixhZ7"
      }
    },
    {
      "cell_type": "code",
      "source": [
        "def calc_gain_loss(df, threshold, column, debug=False):\n",
        "  gain_loss = []\n",
        "  for index, row in df.iterrows():\n",
        "    if row[column] > threshold:\n",
        "      if debug:\n",
        "        print(f'{index}::{row[column]}')\n",
        "\n",
        "      # gain_loss.append(row['Close_shift'] - row['Close'])\n",
        "      gain_loss.append(row['gain_loss'])\n",
        "      \n",
        "  if debug:\n",
        "    display(gain_loss)\n",
        "    print(f'GAIN/LOSS: {sum(gain_loss)}')\n",
        "    \n",
        "  return sum(gain_loss)  "
      ],
      "metadata": {
        "id": "iBpfRpBoLOl0",
        "colab": {
          "base_uri": "https://localhost:8080/",
          "height": 17
        },
        "outputId": "16c35f56-802e-4010-98e5-b5a8426576ab"
      },
      "execution_count": 208,
      "outputs": [
        {
          "output_type": "display_data",
          "data": {
            "text/plain": [
              "<IPython.core.display.HTML object>"
            ],
            "text/html": [
              "\n",
              "            <script src=\"/static/components/requirejs/require.js\"></script>\n",
              "            <script>\n",
              "              requirejs.config({\n",
              "                paths: {\n",
              "                  base: '/static/base',\n",
              "                  plotly: 'https://cdn.plot.ly/plotly-latest.min.js?noext',\n",
              "                },\n",
              "              });\n",
              "            </script>\n",
              "            "
            ]
          },
          "metadata": {}
        },
        {
          "output_type": "display_data",
          "data": {
            "text/plain": [
              "<IPython.core.display.HTML object>"
            ],
            "text/html": [
              "\n",
              "            <script src=\"/static/components/requirejs/require.js\"></script>\n",
              "            <script>\n",
              "              requirejs.config({\n",
              "                paths: {\n",
              "                  base: '/static/base',\n",
              "                  plotly: 'https://cdn.plot.ly/plotly-latest.min.js?noext',\n",
              "                },\n",
              "              });\n",
              "            </script>\n",
              "            "
            ]
          },
          "metadata": {}
        },
        {
          "output_type": "display_data",
          "data": {
            "text/plain": [
              "<IPython.core.display.HTML object>"
            ],
            "text/html": [
              "\n",
              "            <script src=\"/static/components/requirejs/require.js\"></script>\n",
              "            <script>\n",
              "              requirejs.config({\n",
              "                paths: {\n",
              "                  base: '/static/base',\n",
              "                  plotly: 'https://cdn.plot.ly/plotly-latest.min.js?noext',\n",
              "                },\n",
              "              });\n",
              "            </script>\n",
              "            "
            ]
          },
          "metadata": {}
        }
      ]
    },
    {
      "cell_type": "code",
      "source": [
        "gain_loss = calc_gain_loss(predict_df, 0.0, 'Y_PRED')\n",
        "print(f'gain_loss: {gain_loss}')"
      ],
      "metadata": {
        "colab": {
          "base_uri": "https://localhost:8080/",
          "height": 35
        },
        "id": "68yqp5c7LZoT",
        "outputId": "b02e01dc-8d35-4148-f28c-bf5fd26492e3"
      },
      "execution_count": 209,
      "outputs": [
        {
          "output_type": "display_data",
          "data": {
            "text/plain": [
              "<IPython.core.display.HTML object>"
            ],
            "text/html": [
              "\n",
              "            <script src=\"/static/components/requirejs/require.js\"></script>\n",
              "            <script>\n",
              "              requirejs.config({\n",
              "                paths: {\n",
              "                  base: '/static/base',\n",
              "                  plotly: 'https://cdn.plot.ly/plotly-latest.min.js?noext',\n",
              "                },\n",
              "              });\n",
              "            </script>\n",
              "            "
            ]
          },
          "metadata": {}
        },
        {
          "output_type": "display_data",
          "data": {
            "text/plain": [
              "<IPython.core.display.HTML object>"
            ],
            "text/html": [
              "\n",
              "            <script src=\"/static/components/requirejs/require.js\"></script>\n",
              "            <script>\n",
              "              requirejs.config({\n",
              "                paths: {\n",
              "                  base: '/static/base',\n",
              "                  plotly: 'https://cdn.plot.ly/plotly-latest.min.js?noext',\n",
              "                },\n",
              "              });\n",
              "            </script>\n",
              "            "
            ]
          },
          "metadata": {}
        },
        {
          "output_type": "display_data",
          "data": {
            "text/plain": [
              "<IPython.core.display.HTML object>"
            ],
            "text/html": [
              "\n",
              "            <script src=\"/static/components/requirejs/require.js\"></script>\n",
              "            <script>\n",
              "              requirejs.config({\n",
              "                paths: {\n",
              "                  base: '/static/base',\n",
              "                  plotly: 'https://cdn.plot.ly/plotly-latest.min.js?noext',\n",
              "                },\n",
              "              });\n",
              "            </script>\n",
              "            "
            ]
          },
          "metadata": {}
        },
        {
          "output_type": "stream",
          "name": "stdout",
          "text": [
            "gain_loss: 75073.6396484375\n"
          ]
        }
      ]
    },
    {
      "cell_type": "markdown",
      "source": [
        "### if Y_PRED > .1\n"
      ],
      "metadata": {
        "id": "rEHbH7NKxk-0"
      }
    },
    {
      "cell_type": "code",
      "source": [
        "gain_loss = calc_gain_loss(predict_df, 0.1, 'Y_PRED')\n",
        "print(f'gain_loss: {gain_loss}')"
      ],
      "metadata": {
        "id": "9O2fdSBvxX1Z",
        "colab": {
          "base_uri": "https://localhost:8080/",
          "height": 35
        },
        "outputId": "a172cdb6-5f92-4cb2-b2d2-7d5019a7ea9a"
      },
      "execution_count": 210,
      "outputs": [
        {
          "output_type": "display_data",
          "data": {
            "text/plain": [
              "<IPython.core.display.HTML object>"
            ],
            "text/html": [
              "\n",
              "            <script src=\"/static/components/requirejs/require.js\"></script>\n",
              "            <script>\n",
              "              requirejs.config({\n",
              "                paths: {\n",
              "                  base: '/static/base',\n",
              "                  plotly: 'https://cdn.plot.ly/plotly-latest.min.js?noext',\n",
              "                },\n",
              "              });\n",
              "            </script>\n",
              "            "
            ]
          },
          "metadata": {}
        },
        {
          "output_type": "display_data",
          "data": {
            "text/plain": [
              "<IPython.core.display.HTML object>"
            ],
            "text/html": [
              "\n",
              "            <script src=\"/static/components/requirejs/require.js\"></script>\n",
              "            <script>\n",
              "              requirejs.config({\n",
              "                paths: {\n",
              "                  base: '/static/base',\n",
              "                  plotly: 'https://cdn.plot.ly/plotly-latest.min.js?noext',\n",
              "                },\n",
              "              });\n",
              "            </script>\n",
              "            "
            ]
          },
          "metadata": {}
        },
        {
          "output_type": "display_data",
          "data": {
            "text/plain": [
              "<IPython.core.display.HTML object>"
            ],
            "text/html": [
              "\n",
              "            <script src=\"/static/components/requirejs/require.js\"></script>\n",
              "            <script>\n",
              "              requirejs.config({\n",
              "                paths: {\n",
              "                  base: '/static/base',\n",
              "                  plotly: 'https://cdn.plot.ly/plotly-latest.min.js?noext',\n",
              "                },\n",
              "              });\n",
              "            </script>\n",
              "            "
            ]
          },
          "metadata": {}
        },
        {
          "output_type": "stream",
          "name": "stdout",
          "text": [
            "gain_loss: 80996.2041015625\n"
          ]
        }
      ]
    },
    {
      "cell_type": "markdown",
      "source": [
        "### if Y_PRED > .20"
      ],
      "metadata": {
        "id": "knVEZWxvxnLs"
      }
    },
    {
      "cell_type": "code",
      "source": [
        "gain_loss = calc_gain_loss(predict_df, 0.2, 'Y_PRED')\n",
        "print(f'gain_loss: {gain_loss}')"
      ],
      "metadata": {
        "id": "kocEXIj-xX62",
        "colab": {
          "base_uri": "https://localhost:8080/",
          "height": 35
        },
        "outputId": "e5b84507-76f0-442b-bf08-dc76d8b97cfe"
      },
      "execution_count": 211,
      "outputs": [
        {
          "output_type": "display_data",
          "data": {
            "text/plain": [
              "<IPython.core.display.HTML object>"
            ],
            "text/html": [
              "\n",
              "            <script src=\"/static/components/requirejs/require.js\"></script>\n",
              "            <script>\n",
              "              requirejs.config({\n",
              "                paths: {\n",
              "                  base: '/static/base',\n",
              "                  plotly: 'https://cdn.plot.ly/plotly-latest.min.js?noext',\n",
              "                },\n",
              "              });\n",
              "            </script>\n",
              "            "
            ]
          },
          "metadata": {}
        },
        {
          "output_type": "display_data",
          "data": {
            "text/plain": [
              "<IPython.core.display.HTML object>"
            ],
            "text/html": [
              "\n",
              "            <script src=\"/static/components/requirejs/require.js\"></script>\n",
              "            <script>\n",
              "              requirejs.config({\n",
              "                paths: {\n",
              "                  base: '/static/base',\n",
              "                  plotly: 'https://cdn.plot.ly/plotly-latest.min.js?noext',\n",
              "                },\n",
              "              });\n",
              "            </script>\n",
              "            "
            ]
          },
          "metadata": {}
        },
        {
          "output_type": "display_data",
          "data": {
            "text/plain": [
              "<IPython.core.display.HTML object>"
            ],
            "text/html": [
              "\n",
              "            <script src=\"/static/components/requirejs/require.js\"></script>\n",
              "            <script>\n",
              "              requirejs.config({\n",
              "                paths: {\n",
              "                  base: '/static/base',\n",
              "                  plotly: 'https://cdn.plot.ly/plotly-latest.min.js?noext',\n",
              "                },\n",
              "              });\n",
              "            </script>\n",
              "            "
            ]
          },
          "metadata": {}
        },
        {
          "output_type": "stream",
          "name": "stdout",
          "text": [
            "gain_loss: 80996.2041015625\n"
          ]
        }
      ]
    },
    {
      "cell_type": "code",
      "source": [
        "predict_df.shape"
      ],
      "metadata": {
        "id": "-Z8b3WgUxX9v",
        "colab": {
          "base_uri": "https://localhost:8080/",
          "height": 35
        },
        "outputId": "ff8ef27b-defe-411e-8864-346321e8543b"
      },
      "execution_count": 212,
      "outputs": [
        {
          "output_type": "display_data",
          "data": {
            "text/plain": [
              "<IPython.core.display.HTML object>"
            ],
            "text/html": [
              "\n",
              "            <script src=\"/static/components/requirejs/require.js\"></script>\n",
              "            <script>\n",
              "              requirejs.config({\n",
              "                paths: {\n",
              "                  base: '/static/base',\n",
              "                  plotly: 'https://cdn.plot.ly/plotly-latest.min.js?noext',\n",
              "                },\n",
              "              });\n",
              "            </script>\n",
              "            "
            ]
          },
          "metadata": {}
        },
        {
          "output_type": "display_data",
          "data": {
            "text/plain": [
              "<IPython.core.display.HTML object>"
            ],
            "text/html": [
              "\n",
              "            <script src=\"/static/components/requirejs/require.js\"></script>\n",
              "            <script>\n",
              "              requirejs.config({\n",
              "                paths: {\n",
              "                  base: '/static/base',\n",
              "                  plotly: 'https://cdn.plot.ly/plotly-latest.min.js?noext',\n",
              "                },\n",
              "              });\n",
              "            </script>\n",
              "            "
            ]
          },
          "metadata": {}
        },
        {
          "output_type": "display_data",
          "data": {
            "text/plain": [
              "<IPython.core.display.HTML object>"
            ],
            "text/html": [
              "\n",
              "            <script src=\"/static/components/requirejs/require.js\"></script>\n",
              "            <script>\n",
              "              requirejs.config({\n",
              "                paths: {\n",
              "                  base: '/static/base',\n",
              "                  plotly: 'https://cdn.plot.ly/plotly-latest.min.js?noext',\n",
              "                },\n",
              "              });\n",
              "            </script>\n",
              "            "
            ]
          },
          "metadata": {}
        },
        {
          "output_type": "execute_result",
          "data": {
            "text/plain": [
              "(23, 11)"
            ]
          },
          "metadata": {},
          "execution_count": 212
        }
      ]
    },
    {
      "cell_type": "code",
      "source": [
        "#find residuals and P values\n",
        "from statsmodels.api import OLS\n",
        "\n",
        "ols = OLS(y_train, X_train).fit()"
      ],
      "metadata": {
        "id": "TFkQEK0C5oNp",
        "colab": {
          "base_uri": "https://localhost:8080/",
          "height": 17
        },
        "outputId": "9d33d840-1e89-41ea-e878-725ca99e762d"
      },
      "execution_count": 213,
      "outputs": [
        {
          "output_type": "display_data",
          "data": {
            "text/plain": [
              "<IPython.core.display.HTML object>"
            ],
            "text/html": [
              "\n",
              "            <script src=\"/static/components/requirejs/require.js\"></script>\n",
              "            <script>\n",
              "              requirejs.config({\n",
              "                paths: {\n",
              "                  base: '/static/base',\n",
              "                  plotly: 'https://cdn.plot.ly/plotly-latest.min.js?noext',\n",
              "                },\n",
              "              });\n",
              "            </script>\n",
              "            "
            ]
          },
          "metadata": {}
        },
        {
          "output_type": "display_data",
          "data": {
            "text/plain": [
              "<IPython.core.display.HTML object>"
            ],
            "text/html": [
              "\n",
              "            <script src=\"/static/components/requirejs/require.js\"></script>\n",
              "            <script>\n",
              "              requirejs.config({\n",
              "                paths: {\n",
              "                  base: '/static/base',\n",
              "                  plotly: 'https://cdn.plot.ly/plotly-latest.min.js?noext',\n",
              "                },\n",
              "              });\n",
              "            </script>\n",
              "            "
            ]
          },
          "metadata": {}
        },
        {
          "output_type": "display_data",
          "data": {
            "text/plain": [
              "<IPython.core.display.HTML object>"
            ],
            "text/html": [
              "\n",
              "            <script src=\"/static/components/requirejs/require.js\"></script>\n",
              "            <script>\n",
              "              requirejs.config({\n",
              "                paths: {\n",
              "                  base: '/static/base',\n",
              "                  plotly: 'https://cdn.plot.ly/plotly-latest.min.js?noext',\n",
              "                },\n",
              "              });\n",
              "            </script>\n",
              "            "
            ]
          },
          "metadata": {}
        }
      ]
    },
    {
      "cell_type": "code",
      "source": [
        "ols.summary()"
      ],
      "metadata": {
        "colab": {
          "base_uri": "https://localhost:8080/",
          "height": 565
        },
        "id": "JUgz42yI5oQP",
        "outputId": "6f916669-4ecd-4200-800a-ae86d3b81ffe"
      },
      "execution_count": 214,
      "outputs": [
        {
          "output_type": "display_data",
          "data": {
            "text/plain": [
              "<IPython.core.display.HTML object>"
            ],
            "text/html": [
              "\n",
              "            <script src=\"/static/components/requirejs/require.js\"></script>\n",
              "            <script>\n",
              "              requirejs.config({\n",
              "                paths: {\n",
              "                  base: '/static/base',\n",
              "                  plotly: 'https://cdn.plot.ly/plotly-latest.min.js?noext',\n",
              "                },\n",
              "              });\n",
              "            </script>\n",
              "            "
            ]
          },
          "metadata": {}
        },
        {
          "output_type": "display_data",
          "data": {
            "text/plain": [
              "<IPython.core.display.HTML object>"
            ],
            "text/html": [
              "\n",
              "            <script src=\"/static/components/requirejs/require.js\"></script>\n",
              "            <script>\n",
              "              requirejs.config({\n",
              "                paths: {\n",
              "                  base: '/static/base',\n",
              "                  plotly: 'https://cdn.plot.ly/plotly-latest.min.js?noext',\n",
              "                },\n",
              "              });\n",
              "            </script>\n",
              "            "
            ]
          },
          "metadata": {}
        },
        {
          "output_type": "display_data",
          "data": {
            "text/plain": [
              "<IPython.core.display.HTML object>"
            ],
            "text/html": [
              "\n",
              "            <script src=\"/static/components/requirejs/require.js\"></script>\n",
              "            <script>\n",
              "              requirejs.config({\n",
              "                paths: {\n",
              "                  base: '/static/base',\n",
              "                  plotly: 'https://cdn.plot.ly/plotly-latest.min.js?noext',\n",
              "                },\n",
              "              });\n",
              "            </script>\n",
              "            "
            ]
          },
          "metadata": {}
        },
        {
          "output_type": "execute_result",
          "data": {
            "text/plain": [
              "<class 'statsmodels.iolib.summary.Summary'>\n",
              "\"\"\"\n",
              "                                         OLS Regression Results                                        \n",
              "=======================================================================================================\n",
              "Dep. Variable:     month_ave_close_shift_diff_percent   R-squared (uncentered):                   0.498\n",
              "Model:                                            OLS   Adj. R-squared (uncentered):              0.459\n",
              "Method:                                 Least Squares   F-statistic:                              12.87\n",
              "Date:                                Thu, 01 Sep 2022   Prob (F-statistic):                    1.05e-08\n",
              "Time:                                        07:17:20   Log-Likelihood:                        -0.62710\n",
              "No. Observations:                                  70   AIC:                                      11.25\n",
              "Df Residuals:                                      65   BIC:                                      22.50\n",
              "Df Model:                                           5                                                  \n",
              "Covariance Type:                            nonrobust                                                  \n",
              "====================================================================================\n",
              "                       coef    std err          t      P>|t|      [0.025      0.975]\n",
              "------------------------------------------------------------------------------------\n",
              "month_ave_open     -85.3666     18.876     -4.523      0.000    -123.064     -47.669\n",
              "month_ave_high      82.7441     27.196      3.043      0.003      28.431     137.058\n",
              "month_ave_low       62.0640     18.267      3.398      0.001      25.581      98.547\n",
              "month_ave_volume    -0.2290      0.174     -1.317      0.193      -0.577       0.118\n",
              "month_ave_close    -59.0953     31.294     -1.888      0.063    -121.594       3.403\n",
              "==============================================================================\n",
              "Omnibus:                        0.730   Durbin-Watson:                   0.574\n",
              "Prob(Omnibus):                  0.694   Jarque-Bera (JB):                0.807\n",
              "Skew:                          -0.108   Prob(JB):                        0.668\n",
              "Kurtosis:                       2.521   Cond. No.                     1.28e+03\n",
              "==============================================================================\n",
              "\n",
              "Notes:\n",
              "[1] R² is computed without centering (uncentered) since the model does not contain a constant.\n",
              "[2] Standard Errors assume that the covariance matrix of the errors is correctly specified.\n",
              "[3] The condition number is large, 1.28e+03. This might indicate that there are\n",
              "strong multicollinearity or other numerical problems.\n",
              "\"\"\""
            ],
            "text/html": [
              "<table class=\"simpletable\">\n",
              "<caption>OLS Regression Results</caption>\n",
              "<tr>\n",
              "  <th>Dep. Variable:</th>    <td>month_ave_close_shift_diff_percent</td> <th>  R-squared (uncentered):</th>      <td>   0.498</td>\n",
              "</tr>\n",
              "<tr>\n",
              "  <th>Model:</th>                            <td>OLS</td>                <th>  Adj. R-squared (uncentered):</th> <td>   0.459</td>\n",
              "</tr>\n",
              "<tr>\n",
              "  <th>Method:</th>                      <td>Least Squares</td>           <th>  F-statistic:       </th>          <td>   12.87</td>\n",
              "</tr>\n",
              "<tr>\n",
              "  <th>Date:</th>                      <td>Thu, 01 Sep 2022</td>          <th>  Prob (F-statistic):</th>          <td>1.05e-08</td>\n",
              "</tr>\n",
              "<tr>\n",
              "  <th>Time:</th>                          <td>07:17:20</td>              <th>  Log-Likelihood:    </th>          <td>-0.62710</td>\n",
              "</tr>\n",
              "<tr>\n",
              "  <th>No. Observations:</th>               <td>    70</td>               <th>  AIC:               </th>          <td>   11.25</td>\n",
              "</tr>\n",
              "<tr>\n",
              "  <th>Df Residuals:</th>                   <td>    65</td>               <th>  BIC:               </th>          <td>   22.50</td>\n",
              "</tr>\n",
              "<tr>\n",
              "  <th>Df Model:</th>                       <td>     5</td>               <th>                     </th>              <td> </td>   \n",
              "</tr>\n",
              "<tr>\n",
              "  <th>Covariance Type:</th>               <td>nonrobust</td>             <th>                     </th>              <td> </td>   \n",
              "</tr>\n",
              "</table>\n",
              "<table class=\"simpletable\">\n",
              "<tr>\n",
              "          <td></td>            <th>coef</th>     <th>std err</th>      <th>t</th>      <th>P>|t|</th>  <th>[0.025</th>    <th>0.975]</th>  \n",
              "</tr>\n",
              "<tr>\n",
              "  <th>month_ave_open</th>   <td>  -85.3666</td> <td>   18.876</td> <td>   -4.523</td> <td> 0.000</td> <td> -123.064</td> <td>  -47.669</td>\n",
              "</tr>\n",
              "<tr>\n",
              "  <th>month_ave_high</th>   <td>   82.7441</td> <td>   27.196</td> <td>    3.043</td> <td> 0.003</td> <td>   28.431</td> <td>  137.058</td>\n",
              "</tr>\n",
              "<tr>\n",
              "  <th>month_ave_low</th>    <td>   62.0640</td> <td>   18.267</td> <td>    3.398</td> <td> 0.001</td> <td>   25.581</td> <td>   98.547</td>\n",
              "</tr>\n",
              "<tr>\n",
              "  <th>month_ave_volume</th> <td>   -0.2290</td> <td>    0.174</td> <td>   -1.317</td> <td> 0.193</td> <td>   -0.577</td> <td>    0.118</td>\n",
              "</tr>\n",
              "<tr>\n",
              "  <th>month_ave_close</th>  <td>  -59.0953</td> <td>   31.294</td> <td>   -1.888</td> <td> 0.063</td> <td> -121.594</td> <td>    3.403</td>\n",
              "</tr>\n",
              "</table>\n",
              "<table class=\"simpletable\">\n",
              "<tr>\n",
              "  <th>Omnibus:</th>       <td> 0.730</td> <th>  Durbin-Watson:     </th> <td>   0.574</td>\n",
              "</tr>\n",
              "<tr>\n",
              "  <th>Prob(Omnibus):</th> <td> 0.694</td> <th>  Jarque-Bera (JB):  </th> <td>   0.807</td>\n",
              "</tr>\n",
              "<tr>\n",
              "  <th>Skew:</th>          <td>-0.108</td> <th>  Prob(JB):          </th> <td>   0.668</td>\n",
              "</tr>\n",
              "<tr>\n",
              "  <th>Kurtosis:</th>      <td> 2.521</td> <th>  Cond. No.          </th> <td>1.28e+03</td>\n",
              "</tr>\n",
              "</table><br/><br/>Notes:<br/>[1] R² is computed without centering (uncentered) since the model does not contain a constant.<br/>[2] Standard Errors assume that the covariance matrix of the errors is correctly specified.<br/>[3] The condition number is large, 1.28e+03. This might indicate that there are<br/>strong multicollinearity or other numerical problems."
            ]
          },
          "metadata": {},
          "execution_count": 214
        }
      ]
    },
    {
      "cell_type": "code",
      "source": [
        "predict_df['Y_PRED'].hist()\n",
        "predict_df['month_ave_close_shift_diff_percent'].hist()"
      ],
      "metadata": {
        "colab": {
          "base_uri": "https://localhost:8080/",
          "height": 283
        },
        "id": "I9vgfFVj5oSs",
        "outputId": "d71bb763-0bb3-4a14-9aba-5fb516a94019"
      },
      "execution_count": 215,
      "outputs": [
        {
          "output_type": "display_data",
          "data": {
            "text/plain": [
              "<IPython.core.display.HTML object>"
            ],
            "text/html": [
              "\n",
              "            <script src=\"/static/components/requirejs/require.js\"></script>\n",
              "            <script>\n",
              "              requirejs.config({\n",
              "                paths: {\n",
              "                  base: '/static/base',\n",
              "                  plotly: 'https://cdn.plot.ly/plotly-latest.min.js?noext',\n",
              "                },\n",
              "              });\n",
              "            </script>\n",
              "            "
            ]
          },
          "metadata": {}
        },
        {
          "output_type": "display_data",
          "data": {
            "text/plain": [
              "<IPython.core.display.HTML object>"
            ],
            "text/html": [
              "\n",
              "            <script src=\"/static/components/requirejs/require.js\"></script>\n",
              "            <script>\n",
              "              requirejs.config({\n",
              "                paths: {\n",
              "                  base: '/static/base',\n",
              "                  plotly: 'https://cdn.plot.ly/plotly-latest.min.js?noext',\n",
              "                },\n",
              "              });\n",
              "            </script>\n",
              "            "
            ]
          },
          "metadata": {}
        },
        {
          "output_type": "display_data",
          "data": {
            "text/plain": [
              "<IPython.core.display.HTML object>"
            ],
            "text/html": [
              "\n",
              "            <script src=\"/static/components/requirejs/require.js\"></script>\n",
              "            <script>\n",
              "              requirejs.config({\n",
              "                paths: {\n",
              "                  base: '/static/base',\n",
              "                  plotly: 'https://cdn.plot.ly/plotly-latest.min.js?noext',\n",
              "                },\n",
              "              });\n",
              "            </script>\n",
              "            "
            ]
          },
          "metadata": {}
        },
        {
          "output_type": "execute_result",
          "data": {
            "text/plain": [
              "<matplotlib.axes._subplots.AxesSubplot at 0x7f731274a050>"
            ]
          },
          "metadata": {},
          "execution_count": 215
        },
        {
          "output_type": "display_data",
          "data": {
            "text/plain": [
              "<Figure size 432x288 with 1 Axes>"
            ],
            "image/png": "[encoded data removed]"
          },
          "metadata": {
            "needs_background": "light"
          }
        }
      ]
    },
    {
      "cell_type": "code",
      "source": [
        "(predict_df['month_ave_close_shift_diff_percent']-predict_df['Y_PRED']).hist()"
      ],
      "metadata": {
        "colab": {
          "base_uri": "https://localhost:8080/",
          "height": 283
        },
        "id": "3OWYPtoX5oVW",
        "outputId": "2f4eb0fb-1133-4965-e7f2-84fc66d3b3dc"
      },
      "execution_count": 216,
      "outputs": [
        {
          "output_type": "display_data",
          "data": {
            "text/plain": [
              "<IPython.core.display.HTML object>"
            ],
            "text/html": [
              "\n",
              "            <script src=\"/static/components/requirejs/require.js\"></script>\n",
              "            <script>\n",
              "              requirejs.config({\n",
              "                paths: {\n",
              "                  base: '/static/base',\n",
              "                  plotly: 'https://cdn.plot.ly/plotly-latest.min.js?noext',\n",
              "                },\n",
              "              });\n",
              "            </script>\n",
              "            "
            ]
          },
          "metadata": {}
        },
        {
          "output_type": "display_data",
          "data": {
            "text/plain": [
              "<IPython.core.display.HTML object>"
            ],
            "text/html": [
              "\n",
              "            <script src=\"/static/components/requirejs/require.js\"></script>\n",
              "            <script>\n",
              "              requirejs.config({\n",
              "                paths: {\n",
              "                  base: '/static/base',\n",
              "                  plotly: 'https://cdn.plot.ly/plotly-latest.min.js?noext',\n",
              "                },\n",
              "              });\n",
              "            </script>\n",
              "            "
            ]
          },
          "metadata": {}
        },
        {
          "output_type": "display_data",
          "data": {
            "text/plain": [
              "<IPython.core.display.HTML object>"
            ],
            "text/html": [
              "\n",
              "            <script src=\"/static/components/requirejs/require.js\"></script>\n",
              "            <script>\n",
              "              requirejs.config({\n",
              "                paths: {\n",
              "                  base: '/static/base',\n",
              "                  plotly: 'https://cdn.plot.ly/plotly-latest.min.js?noext',\n",
              "                },\n",
              "              });\n",
              "            </script>\n",
              "            "
            ]
          },
          "metadata": {}
        },
        {
          "output_type": "execute_result",
          "data": {
            "text/plain": [
              "<matplotlib.axes._subplots.AxesSubplot at 0x7f7306e87610>"
            ]
          },
          "metadata": {},
          "execution_count": 216
        },
        {
          "output_type": "display_data",
          "data": {
            "text/plain": [
              "<Figure size 432x288 with 1 Axes>"
            ],
            "image/png": "[encoded data removed]"
          },
          "metadata": {
            "needs_background": "light"
          }
        }
      ]
    },
    {
      "cell_type": "code",
      "source": [
        "sm.qqplot(ols.resid, fit=True, line='45')\n",
        "plt.title('Residuals')\n",
        "plt.show()"
      ],
      "metadata": {
        "colab": {
          "base_uri": "https://localhost:8080/",
          "height": 295
        },
        "id": "v-Gl7L1Q5oXz",
        "outputId": "f5f3493b-c1df-45d4-ade0-3eaa450f09db"
      },
      "execution_count": 217,
      "outputs": [
        {
          "output_type": "display_data",
          "data": {
            "text/plain": [
              "<IPython.core.display.HTML object>"
            ],
            "text/html": [
              "\n",
              "            <script src=\"/static/components/requirejs/require.js\"></script>\n",
              "            <script>\n",
              "              requirejs.config({\n",
              "                paths: {\n",
              "                  base: '/static/base',\n",
              "                  plotly: 'https://cdn.plot.ly/plotly-latest.min.js?noext',\n",
              "                },\n",
              "              });\n",
              "            </script>\n",
              "            "
            ]
          },
          "metadata": {}
        },
        {
          "output_type": "display_data",
          "data": {
            "text/plain": [
              "<IPython.core.display.HTML object>"
            ],
            "text/html": [
              "\n",
              "            <script src=\"/static/components/requirejs/require.js\"></script>\n",
              "            <script>\n",
              "              requirejs.config({\n",
              "                paths: {\n",
              "                  base: '/static/base',\n",
              "                  plotly: 'https://cdn.plot.ly/plotly-latest.min.js?noext',\n",
              "                },\n",
              "              });\n",
              "            </script>\n",
              "            "
            ]
          },
          "metadata": {}
        },
        {
          "output_type": "display_data",
          "data": {
            "text/plain": [
              "<IPython.core.display.HTML object>"
            ],
            "text/html": [
              "\n",
              "            <script src=\"/static/components/requirejs/require.js\"></script>\n",
              "            <script>\n",
              "              requirejs.config({\n",
              "                paths: {\n",
              "                  base: '/static/base',\n",
              "                  plotly: 'https://cdn.plot.ly/plotly-latest.min.js?noext',\n",
              "                },\n",
              "              });\n",
              "            </script>\n",
              "            "
            ]
          },
          "metadata": {}
        },
        {
          "output_type": "display_data",
          "data": {
            "text/plain": [
              "<Figure size 432x288 with 1 Axes>"
            ],
            "image/png": "[encoded data removed]"
          },
          "metadata": {
            "needs_background": "light"
          }
        }
      ]
    },
    {
      "cell_type": "code",
      "source": [
        "sns.regplot(x=ols.fittedvalues, y=ols.resid)\n",
        "plt.xlabel('Fitted')\n",
        "plt.ylabel('Residuals')\n",
        "plt.title('Residuals vs. Fitted')\n",
        "plt.show()"
      ],
      "metadata": {
        "colab": {
          "base_uri": "https://localhost:8080/",
          "height": 295
        },
        "id": "T0J6Pe-A5oaQ",
        "outputId": "a67b9366-8d0e-4865-9dc7-83522be26f2f"
      },
      "execution_count": 218,
      "outputs": [
        {
          "output_type": "display_data",
          "data": {
            "text/plain": [
              "<IPython.core.display.HTML object>"
            ],
            "text/html": [
              "\n",
              "            <script src=\"/static/components/requirejs/require.js\"></script>\n",
              "            <script>\n",
              "              requirejs.config({\n",
              "                paths: {\n",
              "                  base: '/static/base',\n",
              "                  plotly: 'https://cdn.plot.ly/plotly-latest.min.js?noext',\n",
              "                },\n",
              "              });\n",
              "            </script>\n",
              "            "
            ]
          },
          "metadata": {}
        },
        {
          "output_type": "display_data",
          "data": {
            "text/plain": [
              "<IPython.core.display.HTML object>"
            ],
            "text/html": [
              "\n",
              "            <script src=\"/static/components/requirejs/require.js\"></script>\n",
              "            <script>\n",
              "              requirejs.config({\n",
              "                paths: {\n",
              "                  base: '/static/base',\n",
              "                  plotly: 'https://cdn.plot.ly/plotly-latest.min.js?noext',\n",
              "                },\n",
              "              });\n",
              "            </script>\n",
              "            "
            ]
          },
          "metadata": {}
        },
        {
          "output_type": "display_data",
          "data": {
            "text/plain": [
              "<IPython.core.display.HTML object>"
            ],
            "text/html": [
              "\n",
              "            <script src=\"/static/components/requirejs/require.js\"></script>\n",
              "            <script>\n",
              "              requirejs.config({\n",
              "                paths: {\n",
              "                  base: '/static/base',\n",
              "                  plotly: 'https://cdn.plot.ly/plotly-latest.min.js?noext',\n",
              "                },\n",
              "              });\n",
              "            </script>\n",
              "            "
            ]
          },
          "metadata": {}
        },
        {
          "output_type": "display_data",
          "data": {
            "text/plain": [
              "<Figure size 432x288 with 1 Axes>"
            ],
            "image/png": "[encoded data removed]"
          },
          "metadata": {
            "needs_background": "light"
          }
        }
      ]
    },
    {
      "cell_type": "markdown",
      "source": [
        "# Linear Regression (Sliding 'X' month window)\n"
      ],
      "metadata": {
        "id": "QHlsSrv6u-fW"
      }
    },
    {
      "cell_type": "code",
      "source": [
        "btc_month_mean.tail()"
      ],
      "metadata": {
        "colab": {
          "base_uri": "https://localhost:8080/",
          "height": 237
        },
        "id": "iC1SL_1WLD7L",
        "outputId": "cc6afb20-9014-40d4-8b93-8571646bb2cc"
      },
      "execution_count": 219,
      "outputs": [
        {
          "output_type": "display_data",
          "data": {
            "text/plain": [
              "<IPython.core.display.HTML object>"
            ],
            "text/html": [
              "\n",
              "            <script src=\"/static/components/requirejs/require.js\"></script>\n",
              "            <script>\n",
              "              requirejs.config({\n",
              "                paths: {\n",
              "                  base: '/static/base',\n",
              "                  plotly: 'https://cdn.plot.ly/plotly-latest.min.js?noext',\n",
              "                },\n",
              "              });\n",
              "            </script>\n",
              "            "
            ]
          },
          "metadata": {}
        },
        {
          "output_type": "display_data",
          "data": {
            "text/plain": [
              "<IPython.core.display.HTML object>"
            ],
            "text/html": [
              "\n",
              "            <script src=\"/static/components/requirejs/require.js\"></script>\n",
              "            <script>\n",
              "              requirejs.config({\n",
              "                paths: {\n",
              "                  base: '/static/base',\n",
              "                  plotly: 'https://cdn.plot.ly/plotly-latest.min.js?noext',\n",
              "                },\n",
              "              });\n",
              "            </script>\n",
              "            "
            ]
          },
          "metadata": {}
        },
        {
          "output_type": "display_data",
          "data": {
            "text/plain": [
              "<IPython.core.display.HTML object>"
            ],
            "text/html": [
              "\n",
              "            <script src=\"/static/components/requirejs/require.js\"></script>\n",
              "            <script>\n",
              "              requirejs.config({\n",
              "                paths: {\n",
              "                  base: '/static/base',\n",
              "                  plotly: 'https://cdn.plot.ly/plotly-latest.min.js?noext',\n",
              "                },\n",
              "              });\n",
              "            </script>\n",
              "            "
            ]
          },
          "metadata": {}
        },
        {
          "output_type": "execute_result",
          "data": {
            "text/plain": [
              "            month_ave_open  month_ave_high  month_ave_low  month_ave_close  \\\n",
              "Date                                                                         \n",
              "2022-04-30    41694.653646    42328.085156   40805.150260     41435.319661   \n",
              "2022-05-31    31900.711127    32629.598349   30905.249244     31706.105217   \n",
              "2022-06-30    24783.338477    25228.663672   23752.240495     24383.685482   \n",
              "2022-07-31    21424.733052    22012.192729   20958.936996     21539.253843   \n",
              "2022-08-31    22471.866557    22870.607863   22075.572203     22366.266318   \n",
              "\n",
              "            month_ave_volume  month_ave_close_shift  \\\n",
              "Date                                                  \n",
              "2022-04-30      2.767053e+10           31706.105217   \n",
              "2022-05-31      3.566740e+10           24383.685482   \n",
              "2022-06-30      3.079797e+10           21539.253843   \n",
              "2022-07-31      2.992201e+10           22366.266318   \n",
              "2022-08-31      2.884492e+10           19936.281250   \n",
              "\n",
              "            month_ave_close_shift_diff month_ave_close_shift_diff_percent  \n",
              "Date                                                                       \n",
              "2022-04-30                -9729.214445                          -0.234805  \n",
              "2022-05-31                -7322.419735                          -0.230947  \n",
              "2022-06-30                -2844.431639                          -0.116653  \n",
              "2022-07-31                  827.012475                           0.038396  \n",
              "2022-08-31                -2429.985068                          -0.108645  "
            ],
            "text/html": [
              "\n",
              "  <div id=\"df-7026ae3c-0312-4658-adc8-e8bb7438e61e\">\n",
              "    <div class=\"colab-df-container\">\n",
              "      <div>\n",
              "<style scoped>\n",
              "    .dataframe tbody tr th:only-of-type {\n",
              "        vertical-align: middle;\n",
              "    }\n",
              "\n",
              "    .dataframe tbody tr th {\n",
              "        vertical-align: top;\n",
              "    }\n",
              "\n",
              "    .dataframe thead th {\n",
              "        text-align: right;\n",
              "    }\n",
              "</style>\n",
              "<table border=\"1\" class=\"dataframe\">\n",
              "  <thead>\n",
              "    <tr style=\"text-align: right;\">\n",
              "      <th></th>\n",
              "      <th>month_ave_open</th>\n",
              "      <th>month_ave_high</th>\n",
              "      <th>month_ave_low</th>\n",
              "      <th>month_ave_close</th>\n",
              "      <th>month_ave_volume</th>\n",
              "      <th>month_ave_close_shift</th>\n",
              "      <th>month_ave_close_shift_diff</th>\n",
              "      <th>month_ave_close_shift_diff_percent</th>\n",
              "    </tr>\n",
              "    <tr>\n",
              "      <th>Date</th>\n",
              "      <th></th>\n",
              "      <th></th>\n",
              "      <th></th>\n",
              "      <th></th>\n",
              "      <th></th>\n",
              "      <th></th>\n",
              "      <th></th>\n",
              "      <th></th>\n",
              "    </tr>\n",
              "  </thead>\n",
              "  <tbody>\n",
              "    <tr>\n",
              "      <th>2022-04-30</th>\n",
              "      <td>41694.653646</td>\n",
              "      <td>42328.085156</td>\n",
              "      <td>40805.150260</td>\n",
              "      <td>41435.319661</td>\n",
              "      <td>2.767053e+10</td>\n",
              "      <td>31706.105217</td>\n",
              "      <td>-9729.214445</td>\n",
              "      <td>-0.234805</td>\n",
              "    </tr>\n",
              "    <tr>\n",
              "      <th>2022-05-31</th>\n",
              "      <td>31900.711127</td>\n",
              "      <td>32629.598349</td>\n",
              "      <td>30905.249244</td>\n",
              "      <td>31706.105217</td>\n",
              "      <td>3.566740e+10</td>\n",
              "      <td>24383.685482</td>\n",
              "      <td>-7322.419735</td>\n",
              "      <td>-0.230947</td>\n",
              "    </tr>\n",
              "    <tr>\n",
              "      <th>2022-06-30</th>\n",
              "      <td>24783.338477</td>\n",
              "      <td>25228.663672</td>\n",
              "      <td>23752.240495</td>\n",
              "      <td>24383.685482</td>\n",
              "      <td>3.079797e+10</td>\n",
              "      <td>21539.253843</td>\n",
              "      <td>-2844.431639</td>\n",
              "      <td>-0.116653</td>\n",
              "    </tr>\n",
              "    <tr>\n",
              "      <th>2022-07-31</th>\n",
              "      <td>21424.733052</td>\n",
              "      <td>22012.192729</td>\n",
              "      <td>20958.936996</td>\n",
              "      <td>21539.253843</td>\n",
              "      <td>2.992201e+10</td>\n",
              "      <td>22366.266318</td>\n",
              "      <td>827.012475</td>\n",
              "      <td>0.038396</td>\n",
              "    </tr>\n",
              "    <tr>\n",
              "      <th>2022-08-31</th>\n",
              "      <td>22471.866557</td>\n",
              "      <td>22870.607863</td>\n",
              "      <td>22075.572203</td>\n",
              "      <td>22366.266318</td>\n",
              "      <td>2.884492e+10</td>\n",
              "      <td>19936.281250</td>\n",
              "      <td>-2429.985068</td>\n",
              "      <td>-0.108645</td>\n",
              "    </tr>\n",
              "  </tbody>\n",
              "</table>\n",
              "</div>\n",
              "      <button class=\"colab-df-convert\" onclick=\"convertToInteractive('df-7026ae3c-0312-4658-adc8-e8bb7438e61e')\"\n",
              "              title=\"Convert this dataframe to an interactive table.\"\n",
              "              style=\"display:none;\">\n",
              "        \n",
              "  <svg xmlns=\"http://www.w3.org/2000/svg\" height=\"24px\"viewBox=\"0 0 24 24\"\n",
              "       width=\"24px\">\n",
              "    <path d=\"M0 0h24v24H0V0z\" fill=\"none\"/>\n",
              "    <path d=\"M18.56 5.44l.94 2.06.94-2.06 2.06-.94-2.06-.94-.94-2.06-.94 2.06-2.06.94zm-11 1L8.5 8.5l.94-2.06 2.06-.94-2.06-.94L8.5 2.5l-.94 2.06-2.06.94zm10 10l.94 2.06.94-2.06 2.06-.94-2.06-.94-.94-2.06-.94 2.06-2.06.94z\"/><path d=\"M17.41 7.96l-1.37-1.37c-.4-.4-.92-.59-1.43-.59-.52 0-1.04.2-1.43.59L10.3 9.45l-7.72 7.72c-.78.78-.78 2.05 0 2.83L4 21.41c.39.39.9.59 1.41.59.51 0 1.02-.2 1.41-.59l7.78-7.78 2.81-2.81c.8-.78.8-2.07 0-2.86zM5.41 20L4 18.59l7.72-7.72 1.47 1.35L5.41 20z\"/>\n",
              "  </svg>\n",
              "      </button>\n",
              "      \n",
              "  <style>\n",
              "    .colab-df-container {\n",
              "      display:flex;\n",
              "      flex-wrap:wrap;\n",
              "      gap: 12px;\n",
              "    }\n",
              "\n",
              "    .colab-df-convert {\n",
              "      background-color: #E8F0FE;\n",
              "      border: none;\n",
              "      border-radius: 50%;\n",
              "      cursor: pointer;\n",
              "      display: none;\n",
              "      fill: #1967D2;\n",
              "      height: 32px;\n",
              "      padding: 0 0 0 0;\n",
              "      width: 32px;\n",
              "    }\n",
              "\n",
              "    .colab-df-convert:hover {\n",
              "      background-color: #E2EBFA;\n",
              "      box-shadow: 0px 1px 2px rgba(60, 64, 67, 0.3), 0px 1px 3px 1px rgba(60, 64, 67, 0.15);\n",
              "      fill: #174EA6;\n",
              "    }\n",
              "\n",
              "    [theme=dark] .colab-df-convert {\n",
              "      background-color: #3B4455;\n",
              "      fill: #D2E3FC;\n",
              "    }\n",
              "\n",
              "    [theme=dark] .colab-df-convert:hover {\n",
              "      background-color: #434B5C;\n",
              "      box-shadow: 0px 1px 3px 1px rgba(0, 0, 0, 0.15);\n",
              "      filter: drop-shadow(0px 1px 2px rgba(0, 0, 0, 0.3));\n",
              "      fill: #FFFFFF;\n",
              "    }\n",
              "  </style>\n",
              "\n",
              "      <script>\n",
              "        const buttonEl =\n",
              "          document.querySelector('#df-7026ae3c-0312-4658-adc8-e8bb7438e61e button.colab-df-convert');\n",
              "        buttonEl.style.display =\n",
              "          google.colab.kernel.accessAllowed ? 'block' : 'none';\n",
              "\n",
              "        async function convertToInteractive(key) {\n",
              "          const element = document.querySelector('#df-7026ae3c-0312-4658-adc8-e8bb7438e61e');\n",
              "          const dataTable =\n",
              "            await google.colab.kernel.invokeFunction('convertToInteractive',\n",
              "                                                     [key], {});\n",
              "          if (!dataTable) return;\n",
              "\n",
              "          const docLinkHtml = 'Like what you see? Visit the ' +\n",
              "            '<a target=\"_blank\" href=https://colab.research.google.com/notebooks/data_table.ipynb>data table notebook</a>'\n",
              "            + ' to learn more about interactive tables.';\n",
              "          element.innerHTML = '';\n",
              "          dataTable['output_type'] = 'display_data';\n",
              "          await google.colab.output.renderOutput(dataTable, element);\n",
              "          const docLink = document.createElement('div');\n",
              "          docLink.innerHTML = docLinkHtml;\n",
              "          element.appendChild(docLink);\n",
              "        }\n",
              "      </script>\n",
              "    </div>\n",
              "  </div>\n",
              "  "
            ]
          },
          "metadata": {},
          "execution_count": 219
        }
      ]
    },
    {
      "cell_type": "code",
      "source": [
        "def calc_sliding_window(window_size, input_df, debug=False):\n",
        "  predict_df = pd.DataFrame(columns=['Y_PRED'])\n",
        "  # btc_month_mean.shape\n",
        "\n",
        "  for i in range(window_size, input_df.shape[0]+1):\n",
        "\n",
        "    window_data = input_df[i-window_size:i]\n",
        "    if debug:\n",
        "      print(f'{i-window_size}->{i}')\n",
        "      display(window_data)\n",
        "\n",
        "    X = window_data.copy()[['month_ave_open', 'month_ave_high', 'month_ave_low', 'month_ave_close', 'month_ave_volume']]\n",
        "\n",
        "    X_train = X[:X.shape[0]-1]\n",
        "    X_pred = X[X.shape[0]-1:]\n",
        "\n",
        "    y = window_data['month_ave_close_shift_diff_percent']\n",
        "    y_train = y[:X.shape[0]-1]\n",
        "\n",
        "    lr = LinearRegression()\n",
        "    lr.fit(X_train, y_train) \n",
        "    y_pred = lr.predict(X_pred)[0]\n",
        "\n",
        "    y_pred_df = pd.DataFrame(data=[y_pred], columns=['Y_PRED'], index=[X_pred.index[0]])\n",
        "    predict_df = pd.concat([predict_df, pd.DataFrame(y_pred_df)], ignore_index=False)\n",
        "\n",
        "  return predict_df"
      ],
      "metadata": {
        "colab": {
          "base_uri": "https://localhost:8080/",
          "height": 17
        },
        "id": "uBEj0Eio14ku",
        "outputId": "b969727d-6042-4d8f-cdbf-290f8a32bb6c"
      },
      "execution_count": 220,
      "outputs": [
        {
          "output_type": "display_data",
          "data": {
            "text/plain": [
              "<IPython.core.display.HTML object>"
            ],
            "text/html": [
              "\n",
              "            <script src=\"/static/components/requirejs/require.js\"></script>\n",
              "            <script>\n",
              "              requirejs.config({\n",
              "                paths: {\n",
              "                  base: '/static/base',\n",
              "                  plotly: 'https://cdn.plot.ly/plotly-latest.min.js?noext',\n",
              "                },\n",
              "              });\n",
              "            </script>\n",
              "            "
            ]
          },
          "metadata": {}
        },
        {
          "output_type": "display_data",
          "data": {
            "text/plain": [
              "<IPython.core.display.HTML object>"
            ],
            "text/html": [
              "\n",
              "            <script src=\"/static/components/requirejs/require.js\"></script>\n",
              "            <script>\n",
              "              requirejs.config({\n",
              "                paths: {\n",
              "                  base: '/static/base',\n",
              "                  plotly: 'https://cdn.plot.ly/plotly-latest.min.js?noext',\n",
              "                },\n",
              "              });\n",
              "            </script>\n",
              "            "
            ]
          },
          "metadata": {}
        },
        {
          "output_type": "display_data",
          "data": {
            "text/plain": [
              "<IPython.core.display.HTML object>"
            ],
            "text/html": [
              "\n",
              "            <script src=\"/static/components/requirejs/require.js\"></script>\n",
              "            <script>\n",
              "              requirejs.config({\n",
              "                paths: {\n",
              "                  base: '/static/base',\n",
              "                  plotly: 'https://cdn.plot.ly/plotly-latest.min.js?noext',\n",
              "                },\n",
              "              });\n",
              "            </script>\n",
              "            "
            ]
          },
          "metadata": {}
        }
      ]
    },
    {
      "cell_type": "code",
      "source": [
        "test_df = calc_sliding_window(48, btc_month_mean, False)\n",
        "test_df\n",
        "\n",
        "test_df = append_gain_loss(test_df)\n",
        "gain_loss = calc_gain_loss(test_df, 0, 'Y_PRED')\n",
        "print(f'gain_loss: {gain_loss}')"
      ],
      "metadata": {
        "colab": {
          "base_uri": "https://localhost:8080/",
          "height": 35
        },
        "id": "Nu8HFN5939ak",
        "outputId": "bb060f57-a12e-4cc7-b35b-54f91a986e1c"
      },
      "execution_count": 221,
      "outputs": [
        {
          "output_type": "display_data",
          "data": {
            "text/plain": [
              "<IPython.core.display.HTML object>"
            ],
            "text/html": [
              "\n",
              "            <script src=\"/static/components/requirejs/require.js\"></script>\n",
              "            <script>\n",
              "              requirejs.config({\n",
              "                paths: {\n",
              "                  base: '/static/base',\n",
              "                  plotly: 'https://cdn.plot.ly/plotly-latest.min.js?noext',\n",
              "                },\n",
              "              });\n",
              "            </script>\n",
              "            "
            ]
          },
          "metadata": {}
        },
        {
          "output_type": "display_data",
          "data": {
            "text/plain": [
              "<IPython.core.display.HTML object>"
            ],
            "text/html": [
              "\n",
              "            <script src=\"/static/components/requirejs/require.js\"></script>\n",
              "            <script>\n",
              "              requirejs.config({\n",
              "                paths: {\n",
              "                  base: '/static/base',\n",
              "                  plotly: 'https://cdn.plot.ly/plotly-latest.min.js?noext',\n",
              "                },\n",
              "              });\n",
              "            </script>\n",
              "            "
            ]
          },
          "metadata": {}
        },
        {
          "output_type": "display_data",
          "data": {
            "text/plain": [
              "<IPython.core.display.HTML object>"
            ],
            "text/html": [
              "\n",
              "            <script src=\"/static/components/requirejs/require.js\"></script>\n",
              "            <script>\n",
              "              requirejs.config({\n",
              "                paths: {\n",
              "                  base: '/static/base',\n",
              "                  plotly: 'https://cdn.plot.ly/plotly-latest.min.js?noext',\n",
              "                },\n",
              "              });\n",
              "            </script>\n",
              "            "
            ]
          },
          "metadata": {}
        },
        {
          "output_type": "stream",
          "name": "stdout",
          "text": [
            "gain_loss: 82763.087890625\n"
          ]
        }
      ]
    },
    {
      "cell_type": "code",
      "source": [
        "test_df = calc_sliding_window(48, btc_month_mean, False)\n",
        "test_df\n",
        "\n",
        "test_df = append_gain_loss(test_df)\n",
        "gain_loss = calc_gain_loss(test_df, 0.33, 'Y_PRED')\n",
        "print(f'gain_loss: {gain_loss}')"
      ],
      "metadata": {
        "colab": {
          "base_uri": "https://localhost:8080/",
          "height": 35
        },
        "id": "x2wt_sZs4Zes",
        "outputId": "7a8d4d26-6083-4806-9385-f00ef871fb66"
      },
      "execution_count": 222,
      "outputs": [
        {
          "output_type": "display_data",
          "data": {
            "text/plain": [
              "<IPython.core.display.HTML object>"
            ],
            "text/html": [
              "\n",
              "            <script src=\"/static/components/requirejs/require.js\"></script>\n",
              "            <script>\n",
              "              requirejs.config({\n",
              "                paths: {\n",
              "                  base: '/static/base',\n",
              "                  plotly: 'https://cdn.plot.ly/plotly-latest.min.js?noext',\n",
              "                },\n",
              "              });\n",
              "            </script>\n",
              "            "
            ]
          },
          "metadata": {}
        },
        {
          "output_type": "display_data",
          "data": {
            "text/plain": [
              "<IPython.core.display.HTML object>"
            ],
            "text/html": [
              "\n",
              "            <script src=\"/static/components/requirejs/require.js\"></script>\n",
              "            <script>\n",
              "              requirejs.config({\n",
              "                paths: {\n",
              "                  base: '/static/base',\n",
              "                  plotly: 'https://cdn.plot.ly/plotly-latest.min.js?noext',\n",
              "                },\n",
              "              });\n",
              "            </script>\n",
              "            "
            ]
          },
          "metadata": {}
        },
        {
          "output_type": "display_data",
          "data": {
            "text/plain": [
              "<IPython.core.display.HTML object>"
            ],
            "text/html": [
              "\n",
              "            <script src=\"/static/components/requirejs/require.js\"></script>\n",
              "            <script>\n",
              "              requirejs.config({\n",
              "                paths: {\n",
              "                  base: '/static/base',\n",
              "                  plotly: 'https://cdn.plot.ly/plotly-latest.min.js?noext',\n",
              "                },\n",
              "              });\n",
              "            </script>\n",
              "            "
            ]
          },
          "metadata": {}
        },
        {
          "output_type": "stream",
          "name": "stdout",
          "text": [
            "gain_loss: 44393.7861328125\n"
          ]
        }
      ]
    },
    {
      "cell_type": "code",
      "source": [
        "test_df = calc_sliding_window(48, btc_month_mean, False)\n",
        "test_df\n",
        "\n",
        "test_df = append_gain_loss(test_df)\n",
        "gain_loss = calc_gain_loss(test_df, 0.5, 'Y_PRED')\n",
        "print(f'gain_loss: {gain_loss}')"
      ],
      "metadata": {
        "colab": {
          "base_uri": "https://localhost:8080/",
          "height": 35
        },
        "id": "LXvaPLvE4ZZ-",
        "outputId": "e3871adc-5ec9-4794-8dbf-e1a01ca90c4e"
      },
      "execution_count": 223,
      "outputs": [
        {
          "output_type": "display_data",
          "data": {
            "text/plain": [
              "<IPython.core.display.HTML object>"
            ],
            "text/html": [
              "\n",
              "            <script src=\"/static/components/requirejs/require.js\"></script>\n",
              "            <script>\n",
              "              requirejs.config({\n",
              "                paths: {\n",
              "                  base: '/static/base',\n",
              "                  plotly: 'https://cdn.plot.ly/plotly-latest.min.js?noext',\n",
              "                },\n",
              "              });\n",
              "            </script>\n",
              "            "
            ]
          },
          "metadata": {}
        },
        {
          "output_type": "display_data",
          "data": {
            "text/plain": [
              "<IPython.core.display.HTML object>"
            ],
            "text/html": [
              "\n",
              "            <script src=\"/static/components/requirejs/require.js\"></script>\n",
              "            <script>\n",
              "              requirejs.config({\n",
              "                paths: {\n",
              "                  base: '/static/base',\n",
              "                  plotly: 'https://cdn.plot.ly/plotly-latest.min.js?noext',\n",
              "                },\n",
              "              });\n",
              "            </script>\n",
              "            "
            ]
          },
          "metadata": {}
        },
        {
          "output_type": "display_data",
          "data": {
            "text/plain": [
              "<IPython.core.display.HTML object>"
            ],
            "text/html": [
              "\n",
              "            <script src=\"/static/components/requirejs/require.js\"></script>\n",
              "            <script>\n",
              "              requirejs.config({\n",
              "                paths: {\n",
              "                  base: '/static/base',\n",
              "                  plotly: 'https://cdn.plot.ly/plotly-latest.min.js?noext',\n",
              "                },\n",
              "              });\n",
              "            </script>\n",
              "            "
            ]
          },
          "metadata": {}
        },
        {
          "output_type": "stream",
          "name": "stdout",
          "text": [
            "gain_loss: 29551.47265625\n"
          ]
        }
      ]
    },
    {
      "cell_type": "code",
      "source": [
        "# window_size = 24\n",
        "# predict_df = pd.DataFrame(columns=['Y_PRED'])\n",
        "# # btc_month_mean.shape\n",
        "\n",
        "# for i in range(window_size, btc_month_mean.shape[0]+1):\n",
        "#   print(f'{i-window_size}->{i}')\n",
        "\n",
        "#   window_data = btc_month_mean[i-window_size:i]\n",
        "#   display(window_data)\n",
        "\n",
        "#   X = window_data.copy()[['month_ave_open', 'month_ave_high', 'month_ave_low', 'month_ave_close', 'month_ave_volume']]\n",
        "\n",
        "#   X_train = X[:X.shape[0]-1]\n",
        "#   X_pred = X[X.shape[0]-1:]\n",
        "\n",
        "#   y = window_data['month_ave_close_shift_diff_percent']\n",
        "#   y_train = y[:X.shape[0]-1]\n",
        "\n",
        "#   lr = LinearRegression()\n",
        "#   lr.fit(X_train, y_train) \n",
        "#   y_pred = lr.predict(X_pred)[0]\n",
        "\n",
        "#   y_pred_df = pd.DataFrame(data=[y_pred], columns=['Y_PRED'], index=[X_pred.index[0]])\n",
        "#   predict_df = pd.concat([predict_df, pd.DataFrame(y_pred_df)], ignore_index=False)\n",
        "\n",
        "#   # break\n",
        "# predict_df.tail(20)\n",
        "\n",
        "predict_df = calc_sliding_window(24, btc_month_mean, False)\n",
        "predict_df\n"
      ],
      "metadata": {
        "colab": {
          "base_uri": "https://localhost:8080/",
          "height": 424
        },
        "id": "LojybeCku-GX",
        "outputId": "5ffb63cd-ac54-486d-e397-922e6539c96e"
      },
      "execution_count": 226,
      "outputs": [
        {
          "output_type": "display_data",
          "data": {
            "text/plain": [
              "<IPython.core.display.HTML object>"
            ],
            "text/html": [
              "\n",
              "            <script src=\"/static/components/requirejs/require.js\"></script>\n",
              "            <script>\n",
              "              requirejs.config({\n",
              "                paths: {\n",
              "                  base: '/static/base',\n",
              "                  plotly: 'https://cdn.plot.ly/plotly-latest.min.js?noext',\n",
              "                },\n",
              "              });\n",
              "            </script>\n",
              "            "
            ]
          },
          "metadata": {}
        },
        {
          "output_type": "display_data",
          "data": {
            "text/plain": [
              "<IPython.core.display.HTML object>"
            ],
            "text/html": [
              "\n",
              "            <script src=\"/static/components/requirejs/require.js\"></script>\n",
              "            <script>\n",
              "              requirejs.config({\n",
              "                paths: {\n",
              "                  base: '/static/base',\n",
              "                  plotly: 'https://cdn.plot.ly/plotly-latest.min.js?noext',\n",
              "                },\n",
              "              });\n",
              "            </script>\n",
              "            "
            ]
          },
          "metadata": {}
        },
        {
          "output_type": "display_data",
          "data": {
            "text/plain": [
              "<IPython.core.display.HTML object>"
            ],
            "text/html": [
              "\n",
              "            <script src=\"/static/components/requirejs/require.js\"></script>\n",
              "            <script>\n",
              "              requirejs.config({\n",
              "                paths: {\n",
              "                  base: '/static/base',\n",
              "                  plotly: 'https://cdn.plot.ly/plotly-latest.min.js?noext',\n",
              "                },\n",
              "              });\n",
              "            </script>\n",
              "            "
            ]
          },
          "metadata": {}
        },
        {
          "output_type": "execute_result",
          "data": {
            "text/plain": [
              "              Y_PRED\n",
              "2016-10-31  0.072304\n",
              "2016-11-30 -0.060967\n",
              "2016-12-31  0.204789\n",
              "2017-01-31 -0.306923\n",
              "2017-02-28  0.177075\n",
              "...              ...\n",
              "2022-04-30 -0.156535\n",
              "2022-05-31 -0.022516\n",
              "2022-06-30 -0.000664\n",
              "2022-07-31  0.162727\n",
              "2022-08-31  0.010264\n",
              "\n",
              "[71 rows x 1 columns]"
            ],
            "text/html": [
              "\n",
              "  <div id=\"df-d991dbde-a133-4ee7-848c-c3b439bde3fc\">\n",
              "    <div class=\"colab-df-container\">\n",
              "      <div>\n",
              "<style scoped>\n",
              "    .dataframe tbody tr th:only-of-type {\n",
              "        vertical-align: middle;\n",
              "    }\n",
              "\n",
              "    .dataframe tbody tr th {\n",
              "        vertical-align: top;\n",
              "    }\n",
              "\n",
              "    .dataframe thead th {\n",
              "        text-align: right;\n",
              "    }\n",
              "</style>\n",
              "<table border=\"1\" class=\"dataframe\">\n",
              "  <thead>\n",
              "    <tr style=\"text-align: right;\">\n",
              "      <th></th>\n",
              "      <th>Y_PRED</th>\n",
              "    </tr>\n",
              "  </thead>\n",
              "  <tbody>\n",
              "    <tr>\n",
              "      <th>2016-10-31</th>\n",
              "      <td>0.072304</td>\n",
              "    </tr>\n",
              "    <tr>\n",
              "      <th>2016-11-30</th>\n",
              "      <td>-0.060967</td>\n",
              "    </tr>\n",
              "    <tr>\n",
              "      <th>2016-12-31</th>\n",
              "      <td>0.204789</td>\n",
              "    </tr>\n",
              "    <tr>\n",
              "      <th>2017-01-31</th>\n",
              "      <td>-0.306923</td>\n",
              "    </tr>\n",
              "    <tr>\n",
              "      <th>2017-02-28</th>\n",
              "      <td>0.177075</td>\n",
              "    </tr>\n",
              "    <tr>\n",
              "      <th>...</th>\n",
              "      <td>...</td>\n",
              "    </tr>\n",
              "    <tr>\n",
              "      <th>2022-04-30</th>\n",
              "      <td>-0.156535</td>\n",
              "    </tr>\n",
              "    <tr>\n",
              "      <th>2022-05-31</th>\n",
              "      <td>-0.022516</td>\n",
              "    </tr>\n",
              "    <tr>\n",
              "      <th>2022-06-30</th>\n",
              "      <td>-0.000664</td>\n",
              "    </tr>\n",
              "    <tr>\n",
              "      <th>2022-07-31</th>\n",
              "      <td>0.162727</td>\n",
              "    </tr>\n",
              "    <tr>\n",
              "      <th>2022-08-31</th>\n",
              "      <td>0.010264</td>\n",
              "    </tr>\n",
              "  </tbody>\n",
              "</table>\n",
              "<p>71 rows × 1 columns</p>\n",
              "</div>\n",
              "      <button class=\"colab-df-convert\" onclick=\"convertToInteractive('df-d991dbde-a133-4ee7-848c-c3b439bde3fc')\"\n",
              "              title=\"Convert this dataframe to an interactive table.\"\n",
              "              style=\"display:none;\">\n",
              "        \n",
              "  <svg xmlns=\"http://www.w3.org/2000/svg\" height=\"24px\"viewBox=\"0 0 24 24\"\n",
              "       width=\"24px\">\n",
              "    <path d=\"M0 0h24v24H0V0z\" fill=\"none\"/>\n",
              "    <path d=\"M18.56 5.44l.94 2.06.94-2.06 2.06-.94-2.06-.94-.94-2.06-.94 2.06-2.06.94zm-11 1L8.5 8.5l.94-2.06 2.06-.94-2.06-.94L8.5 2.5l-.94 2.06-2.06.94zm10 10l.94 2.06.94-2.06 2.06-.94-2.06-.94-.94-2.06-.94 2.06-2.06.94z\"/><path d=\"M17.41 7.96l-1.37-1.37c-.4-.4-.92-.59-1.43-.59-.52 0-1.04.2-1.43.59L10.3 9.45l-7.72 7.72c-.78.78-.78 2.05 0 2.83L4 21.41c.39.39.9.59 1.41.59.51 0 1.02-.2 1.41-.59l7.78-7.78 2.81-2.81c.8-.78.8-2.07 0-2.86zM5.41 20L4 18.59l7.72-7.72 1.47 1.35L5.41 20z\"/>\n",
              "  </svg>\n",
              "      </button>\n",
              "      \n",
              "  <style>\n",
              "    .colab-df-container {\n",
              "      display:flex;\n",
              "      flex-wrap:wrap;\n",
              "      gap: 12px;\n",
              "    }\n",
              "\n",
              "    .colab-df-convert {\n",
              "      background-color: #E8F0FE;\n",
              "      border: none;\n",
              "      border-radius: 50%;\n",
              "      cursor: pointer;\n",
              "      display: none;\n",
              "      fill: #1967D2;\n",
              "      height: 32px;\n",
              "      padding: 0 0 0 0;\n",
              "      width: 32px;\n",
              "    }\n",
              "\n",
              "    .colab-df-convert:hover {\n",
              "      background-color: #E2EBFA;\n",
              "      box-shadow: 0px 1px 2px rgba(60, 64, 67, 0.3), 0px 1px 3px 1px rgba(60, 64, 67, 0.15);\n",
              "      fill: #174EA6;\n",
              "    }\n",
              "\n",
              "    [theme=dark] .colab-df-convert {\n",
              "      background-color: #3B4455;\n",
              "      fill: #D2E3FC;\n",
              "    }\n",
              "\n",
              "    [theme=dark] .colab-df-convert:hover {\n",
              "      background-color: #434B5C;\n",
              "      box-shadow: 0px 1px 3px 1px rgba(0, 0, 0, 0.15);\n",
              "      filter: drop-shadow(0px 1px 2px rgba(0, 0, 0, 0.3));\n",
              "      fill: #FFFFFF;\n",
              "    }\n",
              "  </style>\n",
              "\n",
              "      <script>\n",
              "        const buttonEl =\n",
              "          document.querySelector('#df-d991dbde-a133-4ee7-848c-c3b439bde3fc button.colab-df-convert');\n",
              "        buttonEl.style.display =\n",
              "          google.colab.kernel.accessAllowed ? 'block' : 'none';\n",
              "\n",
              "        async function convertToInteractive(key) {\n",
              "          const element = document.querySelector('#df-d991dbde-a133-4ee7-848c-c3b439bde3fc');\n",
              "          const dataTable =\n",
              "            await google.colab.kernel.invokeFunction('convertToInteractive',\n",
              "                                                     [key], {});\n",
              "          if (!dataTable) return;\n",
              "\n",
              "          const docLinkHtml = 'Like what you see? Visit the ' +\n",
              "            '<a target=\"_blank\" href=https://colab.research.google.com/notebooks/data_table.ipynb>data table notebook</a>'\n",
              "            + ' to learn more about interactive tables.';\n",
              "          element.innerHTML = '';\n",
              "          dataTable['output_type'] = 'display_data';\n",
              "          await google.colab.output.renderOutput(dataTable, element);\n",
              "          const docLink = document.createElement('div');\n",
              "          docLink.innerHTML = docLinkHtml;\n",
              "          element.appendChild(docLink);\n",
              "        }\n",
              "      </script>\n",
              "    </div>\n",
              "  </div>\n",
              "  "
            ]
          },
          "metadata": {},
          "execution_count": 226
        }
      ]
    },
    {
      "cell_type": "markdown",
      "source": [
        "### append_gain_loss(predict_df)"
      ],
      "metadata": {
        "id": "HhW9_bV3P8Gy"
      }
    },
    {
      "cell_type": "code",
      "source": [
        "predict_df = append_gain_loss(predict_df)"
      ],
      "metadata": {
        "id": "cTIpUvnIvdU0",
        "colab": {
          "base_uri": "https://localhost:8080/",
          "height": 17
        },
        "outputId": "c85f2b1e-8e60-43ef-c6ed-7b1a6137c942"
      },
      "execution_count": 229,
      "outputs": [
        {
          "output_type": "display_data",
          "data": {
            "text/plain": [
              "<IPython.core.display.HTML object>"
            ],
            "text/html": [
              "\n",
              "            <script src=\"/static/components/requirejs/require.js\"></script>\n",
              "            <script>\n",
              "              requirejs.config({\n",
              "                paths: {\n",
              "                  base: '/static/base',\n",
              "                  plotly: 'https://cdn.plot.ly/plotly-latest.min.js?noext',\n",
              "                },\n",
              "              });\n",
              "            </script>\n",
              "            "
            ]
          },
          "metadata": {}
        },
        {
          "output_type": "display_data",
          "data": {
            "text/plain": [
              "<IPython.core.display.HTML object>"
            ],
            "text/html": [
              "\n",
              "            <script src=\"/static/components/requirejs/require.js\"></script>\n",
              "            <script>\n",
              "              requirejs.config({\n",
              "                paths: {\n",
              "                  base: '/static/base',\n",
              "                  plotly: 'https://cdn.plot.ly/plotly-latest.min.js?noext',\n",
              "                },\n",
              "              });\n",
              "            </script>\n",
              "            "
            ]
          },
          "metadata": {}
        },
        {
          "output_type": "display_data",
          "data": {
            "text/plain": [
              "<IPython.core.display.HTML object>"
            ],
            "text/html": [
              "\n",
              "            <script src=\"/static/components/requirejs/require.js\"></script>\n",
              "            <script>\n",
              "              requirejs.config({\n",
              "                paths: {\n",
              "                  base: '/static/base',\n",
              "                  plotly: 'https://cdn.plot.ly/plotly-latest.min.js?noext',\n",
              "                },\n",
              "              });\n",
              "            </script>\n",
              "            "
            ]
          },
          "metadata": {}
        }
      ]
    },
    {
      "cell_type": "code",
      "source": [
        "gain_loss = calc_gain_loss(predict_df, 0, 'Y_PRED')\n",
        "print(f'gain_loss: {gain_loss}')"
      ],
      "metadata": {
        "id": "WIFX7cI8vdX6",
        "colab": {
          "base_uri": "https://localhost:8080/",
          "height": 35
        },
        "outputId": "d4f6ab2f-4c8f-4672-84a4-66260a47bb15"
      },
      "execution_count": 230,
      "outputs": [
        {
          "output_type": "display_data",
          "data": {
            "text/plain": [
              "<IPython.core.display.HTML object>"
            ],
            "text/html": [
              "\n",
              "            <script src=\"/static/components/requirejs/require.js\"></script>\n",
              "            <script>\n",
              "              requirejs.config({\n",
              "                paths: {\n",
              "                  base: '/static/base',\n",
              "                  plotly: 'https://cdn.plot.ly/plotly-latest.min.js?noext',\n",
              "                },\n",
              "              });\n",
              "            </script>\n",
              "            "
            ]
          },
          "metadata": {}
        },
        {
          "output_type": "display_data",
          "data": {
            "text/plain": [
              "<IPython.core.display.HTML object>"
            ],
            "text/html": [
              "\n",
              "            <script src=\"/static/components/requirejs/require.js\"></script>\n",
              "            <script>\n",
              "              requirejs.config({\n",
              "                paths: {\n",
              "                  base: '/static/base',\n",
              "                  plotly: 'https://cdn.plot.ly/plotly-latest.min.js?noext',\n",
              "                },\n",
              "              });\n",
              "            </script>\n",
              "            "
            ]
          },
          "metadata": {}
        },
        {
          "output_type": "display_data",
          "data": {
            "text/plain": [
              "<IPython.core.display.HTML object>"
            ],
            "text/html": [
              "\n",
              "            <script src=\"/static/components/requirejs/require.js\"></script>\n",
              "            <script>\n",
              "              requirejs.config({\n",
              "                paths: {\n",
              "                  base: '/static/base',\n",
              "                  plotly: 'https://cdn.plot.ly/plotly-latest.min.js?noext',\n",
              "                },\n",
              "              });\n",
              "            </script>\n",
              "            "
            ]
          },
          "metadata": {}
        },
        {
          "output_type": "stream",
          "name": "stdout",
          "text": [
            "gain_loss: 82890.32818603516\n"
          ]
        }
      ]
    },
    {
      "cell_type": "code",
      "source": [
        "gain_loss = calc_gain_loss(predict_df, 0.1, 'Y_PRED')\n",
        "print(f'gain_loss: {gain_loss}')"
      ],
      "metadata": {
        "id": "4roK8du4vdaS",
        "colab": {
          "base_uri": "https://localhost:8080/",
          "height": 35
        },
        "outputId": "e2259a87-7af2-4322-d08c-05ad23e4c4bc"
      },
      "execution_count": 231,
      "outputs": [
        {
          "output_type": "display_data",
          "data": {
            "text/plain": [
              "<IPython.core.display.HTML object>"
            ],
            "text/html": [
              "\n",
              "            <script src=\"/static/components/requirejs/require.js\"></script>\n",
              "            <script>\n",
              "              requirejs.config({\n",
              "                paths: {\n",
              "                  base: '/static/base',\n",
              "                  plotly: 'https://cdn.plot.ly/plotly-latest.min.js?noext',\n",
              "                },\n",
              "              });\n",
              "            </script>\n",
              "            "
            ]
          },
          "metadata": {}
        },
        {
          "output_type": "display_data",
          "data": {
            "text/plain": [
              "<IPython.core.display.HTML object>"
            ],
            "text/html": [
              "\n",
              "            <script src=\"/static/components/requirejs/require.js\"></script>\n",
              "            <script>\n",
              "              requirejs.config({\n",
              "                paths: {\n",
              "                  base: '/static/base',\n",
              "                  plotly: 'https://cdn.plot.ly/plotly-latest.min.js?noext',\n",
              "                },\n",
              "              });\n",
              "            </script>\n",
              "            "
            ]
          },
          "metadata": {}
        },
        {
          "output_type": "display_data",
          "data": {
            "text/plain": [
              "<IPython.core.display.HTML object>"
            ],
            "text/html": [
              "\n",
              "            <script src=\"/static/components/requirejs/require.js\"></script>\n",
              "            <script>\n",
              "              requirejs.config({\n",
              "                paths: {\n",
              "                  base: '/static/base',\n",
              "                  plotly: 'https://cdn.plot.ly/plotly-latest.min.js?noext',\n",
              "                },\n",
              "              });\n",
              "            </script>\n",
              "            "
            ]
          },
          "metadata": {}
        },
        {
          "output_type": "stream",
          "name": "stdout",
          "text": [
            "gain_loss: 70228.86529541016\n"
          ]
        }
      ]
    },
    {
      "cell_type": "code",
      "source": [
        "gain_loss = calc_gain_loss(predict_df, 0.2, 'Y_PRED')\n",
        "print(f'gain_loss: {gain_loss}')"
      ],
      "metadata": {
        "id": "c3bNmroDvdc2",
        "colab": {
          "base_uri": "https://localhost:8080/",
          "height": 35
        },
        "outputId": "25f3d9f5-f048-458a-f7fb-2d6c460ab3eb"
      },
      "execution_count": 232,
      "outputs": [
        {
          "output_type": "display_data",
          "data": {
            "text/plain": [
              "<IPython.core.display.HTML object>"
            ],
            "text/html": [
              "\n",
              "            <script src=\"/static/components/requirejs/require.js\"></script>\n",
              "            <script>\n",
              "              requirejs.config({\n",
              "                paths: {\n",
              "                  base: '/static/base',\n",
              "                  plotly: 'https://cdn.plot.ly/plotly-latest.min.js?noext',\n",
              "                },\n",
              "              });\n",
              "            </script>\n",
              "            "
            ]
          },
          "metadata": {}
        },
        {
          "output_type": "display_data",
          "data": {
            "text/plain": [
              "<IPython.core.display.HTML object>"
            ],
            "text/html": [
              "\n",
              "            <script src=\"/static/components/requirejs/require.js\"></script>\n",
              "            <script>\n",
              "              requirejs.config({\n",
              "                paths: {\n",
              "                  base: '/static/base',\n",
              "                  plotly: 'https://cdn.plot.ly/plotly-latest.min.js?noext',\n",
              "                },\n",
              "              });\n",
              "            </script>\n",
              "            "
            ]
          },
          "metadata": {}
        },
        {
          "output_type": "display_data",
          "data": {
            "text/plain": [
              "<IPython.core.display.HTML object>"
            ],
            "text/html": [
              "\n",
              "            <script src=\"/static/components/requirejs/require.js\"></script>\n",
              "            <script>\n",
              "              requirejs.config({\n",
              "                paths: {\n",
              "                  base: '/static/base',\n",
              "                  plotly: 'https://cdn.plot.ly/plotly-latest.min.js?noext',\n",
              "                },\n",
              "              });\n",
              "            </script>\n",
              "            "
            ]
          },
          "metadata": {}
        },
        {
          "output_type": "stream",
          "name": "stdout",
          "text": [
            "gain_loss: 63588.06494140625\n"
          ]
        }
      ]
    },
    {
      "cell_type": "markdown",
      "source": [
        "## Loop over window size and gain % options"
      ],
      "metadata": {
        "id": "BT9ikmJn6tsS"
      }
    },
    {
      "cell_type": "code",
      "source": [
        "window_sizes = [6, 12, 24, 36, 48, 60]\n",
        "gain_loss_percents = [0, .1, .2, .3]\n",
        "\n",
        "result_df = pd.DataFrame(columns=['window', 'percent', 'gain_loss'])\n",
        "\n",
        "for window_size in window_sizes:\n",
        "  for gain_loss_percent in gain_loss_percents:\n",
        "\n",
        "    test_df = calc_sliding_window(window_size, btc_month_mean, False)\n",
        "\n",
        "    test_df = append_gain_loss(test_df)\n",
        "    gain_loss = calc_gain_loss(test_df, gain_loss_percent, 'Y_PRED')\n",
        "\n",
        "    loop_df = pd.DataFrame(data=[[window_size, gain_loss_percent, gain_loss]], columns=['window', 'percent', 'gain_loss'])\n",
        "    result_df = pd.concat([result_df, loop_df], ignore_index=True)\n",
        "\n",
        "result_df"
      ],
      "metadata": {
        "id": "lXIcxRXGvdfu",
        "colab": {
          "base_uri": "https://localhost:8080/",
          "height": 802
        },
        "outputId": "f6651847-d805-42df-fb77-be40d4dfa375"
      },
      "execution_count": 252,
      "outputs": [
        {
          "output_type": "display_data",
          "data": {
            "text/plain": [
              "<IPython.core.display.HTML object>"
            ],
            "text/html": [
              "\n",
              "            <script src=\"/static/components/requirejs/require.js\"></script>\n",
              "            <script>\n",
              "              requirejs.config({\n",
              "                paths: {\n",
              "                  base: '/static/base',\n",
              "                  plotly: 'https://cdn.plot.ly/plotly-latest.min.js?noext',\n",
              "                },\n",
              "              });\n",
              "            </script>\n",
              "            "
            ]
          },
          "metadata": {}
        },
        {
          "output_type": "display_data",
          "data": {
            "text/plain": [
              "<IPython.core.display.HTML object>"
            ],
            "text/html": [
              "\n",
              "            <script src=\"/static/components/requirejs/require.js\"></script>\n",
              "            <script>\n",
              "              requirejs.config({\n",
              "                paths: {\n",
              "                  base: '/static/base',\n",
              "                  plotly: 'https://cdn.plot.ly/plotly-latest.min.js?noext',\n",
              "                },\n",
              "              });\n",
              "            </script>\n",
              "            "
            ]
          },
          "metadata": {}
        },
        {
          "output_type": "display_data",
          "data": {
            "text/plain": [
              "<IPython.core.display.HTML object>"
            ],
            "text/html": [
              "\n",
              "            <script src=\"/static/components/requirejs/require.js\"></script>\n",
              "            <script>\n",
              "              requirejs.config({\n",
              "                paths: {\n",
              "                  base: '/static/base',\n",
              "                  plotly: 'https://cdn.plot.ly/plotly-latest.min.js?noext',\n",
              "                },\n",
              "              });\n",
              "            </script>\n",
              "            "
            ]
          },
          "metadata": {}
        },
        {
          "output_type": "execute_result",
          "data": {
            "text/plain": [
              "   window percent     gain_loss\n",
              "0       6       0  43856.538895\n",
              "1       6     0.1  37943.330444\n",
              "2       6     0.2  38860.899139\n",
              "3       6     0.3  26351.897400\n",
              "4      12       0  76859.950104\n",
              "5      12     0.1  64792.655579\n",
              "6      12     0.2  53073.027527\n",
              "7      12     0.3  40559.405457\n",
              "8      24       0  82890.328186\n",
              "9      24     0.1  70228.865295\n",
              "10     24     0.2  63588.064941\n",
              "11     24     0.3  56091.486694\n",
              "12     36       0  84988.592285\n",
              "13     36     0.1  65136.947754\n",
              "14     36     0.2  56148.902832\n",
              "15     36     0.3  47178.436035\n",
              "16     48       0  82763.087891\n",
              "17     48     0.1  66735.426758\n",
              "18     48     0.2  53059.904297\n",
              "19     48     0.3  44393.786133\n",
              "20     60       0  87984.991211\n",
              "21     60     0.1  70376.742188\n",
              "22     60     0.2  52532.599609\n",
              "23     60     0.3  38927.357422"
            ],
            "text/html": [
              "\n",
              "  <div id=\"df-77fd5bb6-d5d1-4c0c-b3c5-df5f46a82e3e\">\n",
              "    <div class=\"colab-df-container\">\n",
              "      <div>\n",
              "<style scoped>\n",
              "    .dataframe tbody tr th:only-of-type {\n",
              "        vertical-align: middle;\n",
              "    }\n",
              "\n",
              "    .dataframe tbody tr th {\n",
              "        vertical-align: top;\n",
              "    }\n",
              "\n",
              "    .dataframe thead th {\n",
              "        text-align: right;\n",
              "    }\n",
              "</style>\n",
              "<table border=\"1\" class=\"dataframe\">\n",
              "  <thead>\n",
              "    <tr style=\"text-align: right;\">\n",
              "      <th></th>\n",
              "      <th>window</th>\n",
              "      <th>percent</th>\n",
              "      <th>gain_loss</th>\n",
              "    </tr>\n",
              "  </thead>\n",
              "  <tbody>\n",
              "    <tr>\n",
              "      <th>0</th>\n",
              "      <td>6</td>\n",
              "      <td>0</td>\n",
              "      <td>43856.538895</td>\n",
              "    </tr>\n",
              "    <tr>\n",
              "      <th>1</th>\n",
              "      <td>6</td>\n",
              "      <td>0.1</td>\n",
              "      <td>37943.330444</td>\n",
              "    </tr>\n",
              "    <tr>\n",
              "      <th>2</th>\n",
              "      <td>6</td>\n",
              "      <td>0.2</td>\n",
              "      <td>38860.899139</td>\n",
              "    </tr>\n",
              "    <tr>\n",
              "      <th>3</th>\n",
              "      <td>6</td>\n",
              "      <td>0.3</td>\n",
              "      <td>26351.897400</td>\n",
              "    </tr>\n",
              "    <tr>\n",
              "      <th>4</th>\n",
              "      <td>12</td>\n",
              "      <td>0</td>\n",
              "      <td>76859.950104</td>\n",
              "    </tr>\n",
              "    <tr>\n",
              "      <th>5</th>\n",
              "      <td>12</td>\n",
              "      <td>0.1</td>\n",
              "      <td>64792.655579</td>\n",
              "    </tr>\n",
              "    <tr>\n",
              "      <th>6</th>\n",
              "      <td>12</td>\n",
              "      <td>0.2</td>\n",
              "      <td>53073.027527</td>\n",
              "    </tr>\n",
              "    <tr>\n",
              "      <th>7</th>\n",
              "      <td>12</td>\n",
              "      <td>0.3</td>\n",
              "      <td>40559.405457</td>\n",
              "    </tr>\n",
              "    <tr>\n",
              "      <th>8</th>\n",
              "      <td>24</td>\n",
              "      <td>0</td>\n",
              "      <td>82890.328186</td>\n",
              "    </tr>\n",
              "    <tr>\n",
              "      <th>9</th>\n",
              "      <td>24</td>\n",
              "      <td>0.1</td>\n",
              "      <td>70228.865295</td>\n",
              "    </tr>\n",
              "    <tr>\n",
              "      <th>10</th>\n",
              "      <td>24</td>\n",
              "      <td>0.2</td>\n",
              "      <td>63588.064941</td>\n",
              "    </tr>\n",
              "    <tr>\n",
              "      <th>11</th>\n",
              "      <td>24</td>\n",
              "      <td>0.3</td>\n",
              "      <td>56091.486694</td>\n",
              "    </tr>\n",
              "    <tr>\n",
              "      <th>12</th>\n",
              "      <td>36</td>\n",
              "      <td>0</td>\n",
              "      <td>84988.592285</td>\n",
              "    </tr>\n",
              "    <tr>\n",
              "      <th>13</th>\n",
              "      <td>36</td>\n",
              "      <td>0.1</td>\n",
              "      <td>65136.947754</td>\n",
              "    </tr>\n",
              "    <tr>\n",
              "      <th>14</th>\n",
              "      <td>36</td>\n",
              "      <td>0.2</td>\n",
              "      <td>56148.902832</td>\n",
              "    </tr>\n",
              "    <tr>\n",
              "      <th>15</th>\n",
              "      <td>36</td>\n",
              "      <td>0.3</td>\n",
              "      <td>47178.436035</td>\n",
              "    </tr>\n",
              "    <tr>\n",
              "      <th>16</th>\n",
              "      <td>48</td>\n",
              "      <td>0</td>\n",
              "      <td>82763.087891</td>\n",
              "    </tr>\n",
              "    <tr>\n",
              "      <th>17</th>\n",
              "      <td>48</td>\n",
              "      <td>0.1</td>\n",
              "      <td>66735.426758</td>\n",
              "    </tr>\n",
              "    <tr>\n",
              "      <th>18</th>\n",
              "      <td>48</td>\n",
              "      <td>0.2</td>\n",
              "      <td>53059.904297</td>\n",
              "    </tr>\n",
              "    <tr>\n",
              "      <th>19</th>\n",
              "      <td>48</td>\n",
              "      <td>0.3</td>\n",
              "      <td>44393.786133</td>\n",
              "    </tr>\n",
              "    <tr>\n",
              "      <th>20</th>\n",
              "      <td>60</td>\n",
              "      <td>0</td>\n",
              "      <td>87984.991211</td>\n",
              "    </tr>\n",
              "    <tr>\n",
              "      <th>21</th>\n",
              "      <td>60</td>\n",
              "      <td>0.1</td>\n",
              "      <td>70376.742188</td>\n",
              "    </tr>\n",
              "    <tr>\n",
              "      <th>22</th>\n",
              "      <td>60</td>\n",
              "      <td>0.2</td>\n",
              "      <td>52532.599609</td>\n",
              "    </tr>\n",
              "    <tr>\n",
              "      <th>23</th>\n",
              "      <td>60</td>\n",
              "      <td>0.3</td>\n",
              "      <td>38927.357422</td>\n",
              "    </tr>\n",
              "  </tbody>\n",
              "</table>\n",
              "</div>\n",
              "      <button class=\"colab-df-convert\" onclick=\"convertToInteractive('df-77fd5bb6-d5d1-4c0c-b3c5-df5f46a82e3e')\"\n",
              "              title=\"Convert this dataframe to an interactive table.\"\n",
              "              style=\"display:none;\">\n",
              "        \n",
              "  <svg xmlns=\"http://www.w3.org/2000/svg\" height=\"24px\"viewBox=\"0 0 24 24\"\n",
              "       width=\"24px\">\n",
              "    <path d=\"M0 0h24v24H0V0z\" fill=\"none\"/>\n",
              "    <path d=\"M18.56 5.44l.94 2.06.94-2.06 2.06-.94-2.06-.94-.94-2.06-.94 2.06-2.06.94zm-11 1L8.5 8.5l.94-2.06 2.06-.94-2.06-.94L8.5 2.5l-.94 2.06-2.06.94zm10 10l.94 2.06.94-2.06 2.06-.94-2.06-.94-.94-2.06-.94 2.06-2.06.94z\"/><path d=\"M17.41 7.96l-1.37-1.37c-.4-.4-.92-.59-1.43-.59-.52 0-1.04.2-1.43.59L10.3 9.45l-7.72 7.72c-.78.78-.78 2.05 0 2.83L4 21.41c.39.39.9.59 1.41.59.51 0 1.02-.2 1.41-.59l7.78-7.78 2.81-2.81c.8-.78.8-2.07 0-2.86zM5.41 20L4 18.59l7.72-7.72 1.47 1.35L5.41 20z\"/>\n",
              "  </svg>\n",
              "      </button>\n",
              "      \n",
              "  <style>\n",
              "    .colab-df-container {\n",
              "      display:flex;\n",
              "      flex-wrap:wrap;\n",
              "      gap: 12px;\n",
              "    }\n",
              "\n",
              "    .colab-df-convert {\n",
              "      background-color: #E8F0FE;\n",
              "      border: none;\n",
              "      border-radius: 50%;\n",
              "      cursor: pointer;\n",
              "      display: none;\n",
              "      fill: #1967D2;\n",
              "      height: 32px;\n",
              "      padding: 0 0 0 0;\n",
              "      width: 32px;\n",
              "    }\n",
              "\n",
              "    .colab-df-convert:hover {\n",
              "      background-color: #E2EBFA;\n",
              "      box-shadow: 0px 1px 2px rgba(60, 64, 67, 0.3), 0px 1px 3px 1px rgba(60, 64, 67, 0.15);\n",
              "      fill: #174EA6;\n",
              "    }\n",
              "\n",
              "    [theme=dark] .colab-df-convert {\n",
              "      background-color: #3B4455;\n",
              "      fill: #D2E3FC;\n",
              "    }\n",
              "\n",
              "    [theme=dark] .colab-df-convert:hover {\n",
              "      background-color: #434B5C;\n",
              "      box-shadow: 0px 1px 3px 1px rgba(0, 0, 0, 0.15);\n",
              "      filter: drop-shadow(0px 1px 2px rgba(0, 0, 0, 0.3));\n",
              "      fill: #FFFFFF;\n",
              "    }\n",
              "  </style>\n",
              "\n",
              "      <script>\n",
              "        const buttonEl =\n",
              "          document.querySelector('#df-77fd5bb6-d5d1-4c0c-b3c5-df5f46a82e3e button.colab-df-convert');\n",
              "        buttonEl.style.display =\n",
              "          google.colab.kernel.accessAllowed ? 'block' : 'none';\n",
              "\n",
              "        async function convertToInteractive(key) {\n",
              "          const element = document.querySelector('#df-77fd5bb6-d5d1-4c0c-b3c5-df5f46a82e3e');\n",
              "          const dataTable =\n",
              "            await google.colab.kernel.invokeFunction('convertToInteractive',\n",
              "                                                     [key], {});\n",
              "          if (!dataTable) return;\n",
              "\n",
              "          const docLinkHtml = 'Like what you see? Visit the ' +\n",
              "            '<a target=\"_blank\" href=https://colab.research.google.com/notebooks/data_table.ipynb>data table notebook</a>'\n",
              "            + ' to learn more about interactive tables.';\n",
              "          element.innerHTML = '';\n",
              "          dataTable['output_type'] = 'display_data';\n",
              "          await google.colab.output.renderOutput(dataTable, element);\n",
              "          const docLink = document.createElement('div');\n",
              "          docLink.innerHTML = docLinkHtml;\n",
              "          element.appendChild(docLink);\n",
              "        }\n",
              "      </script>\n",
              "    </div>\n",
              "  </div>\n",
              "  "
            ]
          },
          "metadata": {},
          "execution_count": 252
        }
      ]
    },
    {
      "cell_type": "code",
      "source": [
        "result_df.sort_values('gain_loss', ascending=False)"
      ],
      "metadata": {
        "id": "S0mT4LwlvdiW",
        "colab": {
          "base_uri": "https://localhost:8080/",
          "height": 802
        },
        "outputId": "eff4d124-2b56-47a6-ad8e-c92285fd95cc"
      },
      "execution_count": 253,
      "outputs": [
        {
          "output_type": "display_data",
          "data": {
            "text/plain": [
              "<IPython.core.display.HTML object>"
            ],
            "text/html": [
              "\n",
              "            <script src=\"/static/components/requirejs/require.js\"></script>\n",
              "            <script>\n",
              "              requirejs.config({\n",
              "                paths: {\n",
              "                  base: '/static/base',\n",
              "                  plotly: 'https://cdn.plot.ly/plotly-latest.min.js?noext',\n",
              "                },\n",
              "              });\n",
              "            </script>\n",
              "            "
            ]
          },
          "metadata": {}
        },
        {
          "output_type": "display_data",
          "data": {
            "text/plain": [
              "<IPython.core.display.HTML object>"
            ],
            "text/html": [
              "\n",
              "            <script src=\"/static/components/requirejs/require.js\"></script>\n",
              "            <script>\n",
              "              requirejs.config({\n",
              "                paths: {\n",
              "                  base: '/static/base',\n",
              "                  plotly: 'https://cdn.plot.ly/plotly-latest.min.js?noext',\n",
              "                },\n",
              "              });\n",
              "            </script>\n",
              "            "
            ]
          },
          "metadata": {}
        },
        {
          "output_type": "display_data",
          "data": {
            "text/plain": [
              "<IPython.core.display.HTML object>"
            ],
            "text/html": [
              "\n",
              "            <script src=\"/static/components/requirejs/require.js\"></script>\n",
              "            <script>\n",
              "              requirejs.config({\n",
              "                paths: {\n",
              "                  base: '/static/base',\n",
              "                  plotly: 'https://cdn.plot.ly/plotly-latest.min.js?noext',\n",
              "                },\n",
              "              });\n",
              "            </script>\n",
              "            "
            ]
          },
          "metadata": {}
        },
        {
          "output_type": "execute_result",
          "data": {
            "text/plain": [
              "   window percent     gain_loss\n",
              "20     60       0  87984.991211\n",
              "12     36       0  84988.592285\n",
              "8      24       0  82890.328186\n",
              "16     48       0  82763.087891\n",
              "4      12       0  76859.950104\n",
              "21     60     0.1  70376.742188\n",
              "9      24     0.1  70228.865295\n",
              "17     48     0.1  66735.426758\n",
              "13     36     0.1  65136.947754\n",
              "5      12     0.1  64792.655579\n",
              "10     24     0.2  63588.064941\n",
              "14     36     0.2  56148.902832\n",
              "11     24     0.3  56091.486694\n",
              "6      12     0.2  53073.027527\n",
              "18     48     0.2  53059.904297\n",
              "22     60     0.2  52532.599609\n",
              "15     36     0.3  47178.436035\n",
              "19     48     0.3  44393.786133\n",
              "0       6       0  43856.538895\n",
              "7      12     0.3  40559.405457\n",
              "23     60     0.3  38927.357422\n",
              "2       6     0.2  38860.899139\n",
              "1       6     0.1  37943.330444\n",
              "3       6     0.3  26351.897400"
            ],
            "text/html": [
              "\n",
              "  <div id=\"df-de172097-fdf8-460a-9d6a-840130e32806\">\n",
              "    <div class=\"colab-df-container\">\n",
              "      <div>\n",
              "<style scoped>\n",
              "    .dataframe tbody tr th:only-of-type {\n",
              "        vertical-align: middle;\n",
              "    }\n",
              "\n",
              "    .dataframe tbody tr th {\n",
              "        vertical-align: top;\n",
              "    }\n",
              "\n",
              "    .dataframe thead th {\n",
              "        text-align: right;\n",
              "    }\n",
              "</style>\n",
              "<table border=\"1\" class=\"dataframe\">\n",
              "  <thead>\n",
              "    <tr style=\"text-align: right;\">\n",
              "      <th></th>\n",
              "      <th>window</th>\n",
              "      <th>percent</th>\n",
              "      <th>gain_loss</th>\n",
              "    </tr>\n",
              "  </thead>\n",
              "  <tbody>\n",
              "    <tr>\n",
              "      <th>20</th>\n",
              "      <td>60</td>\n",
              "      <td>0</td>\n",
              "      <td>87984.991211</td>\n",
              "    </tr>\n",
              "    <tr>\n",
              "      <th>12</th>\n",
              "      <td>36</td>\n",
              "      <td>0</td>\n",
              "      <td>84988.592285</td>\n",
              "    </tr>\n",
              "    <tr>\n",
              "      <th>8</th>\n",
              "      <td>24</td>\n",
              "      <td>0</td>\n",
              "      <td>82890.328186</td>\n",
              "    </tr>\n",
              "    <tr>\n",
              "      <th>16</th>\n",
              "      <td>48</td>\n",
              "      <td>0</td>\n",
              "      <td>82763.087891</td>\n",
              "    </tr>\n",
              "    <tr>\n",
              "      <th>4</th>\n",
              "      <td>12</td>\n",
              "      <td>0</td>\n",
              "      <td>76859.950104</td>\n",
              "    </tr>\n",
              "    <tr>\n",
              "      <th>21</th>\n",
              "      <td>60</td>\n",
              "      <td>0.1</td>\n",
              "      <td>70376.742188</td>\n",
              "    </tr>\n",
              "    <tr>\n",
              "      <th>9</th>\n",
              "      <td>24</td>\n",
              "      <td>0.1</td>\n",
              "      <td>70228.865295</td>\n",
              "    </tr>\n",
              "    <tr>\n",
              "      <th>17</th>\n",
              "      <td>48</td>\n",
              "      <td>0.1</td>\n",
              "      <td>66735.426758</td>\n",
              "    </tr>\n",
              "    <tr>\n",
              "      <th>13</th>\n",
              "      <td>36</td>\n",
              "      <td>0.1</td>\n",
              "      <td>65136.947754</td>\n",
              "    </tr>\n",
              "    <tr>\n",
              "      <th>5</th>\n",
              "      <td>12</td>\n",
              "      <td>0.1</td>\n",
              "      <td>64792.655579</td>\n",
              "    </tr>\n",
              "    <tr>\n",
              "      <th>10</th>\n",
              "      <td>24</td>\n",
              "      <td>0.2</td>\n",
              "      <td>63588.064941</td>\n",
              "    </tr>\n",
              "    <tr>\n",
              "      <th>14</th>\n",
              "      <td>36</td>\n",
              "      <td>0.2</td>\n",
              "      <td>56148.902832</td>\n",
              "    </tr>\n",
              "    <tr>\n",
              "      <th>11</th>\n",
              "      <td>24</td>\n",
              "      <td>0.3</td>\n",
              "      <td>56091.486694</td>\n",
              "    </tr>\n",
              "    <tr>\n",
              "      <th>6</th>\n",
              "      <td>12</td>\n",
              "      <td>0.2</td>\n",
              "      <td>53073.027527</td>\n",
              "    </tr>\n",
              "    <tr>\n",
              "      <th>18</th>\n",
              "      <td>48</td>\n",
              "      <td>0.2</td>\n",
              "      <td>53059.904297</td>\n",
              "    </tr>\n",
              "    <tr>\n",
              "      <th>22</th>\n",
              "      <td>60</td>\n",
              "      <td>0.2</td>\n",
              "      <td>52532.599609</td>\n",
              "    </tr>\n",
              "    <tr>\n",
              "      <th>15</th>\n",
              "      <td>36</td>\n",
              "      <td>0.3</td>\n",
              "      <td>47178.436035</td>\n",
              "    </tr>\n",
              "    <tr>\n",
              "      <th>19</th>\n",
              "      <td>48</td>\n",
              "      <td>0.3</td>\n",
              "      <td>44393.786133</td>\n",
              "    </tr>\n",
              "    <tr>\n",
              "      <th>0</th>\n",
              "      <td>6</td>\n",
              "      <td>0</td>\n",
              "      <td>43856.538895</td>\n",
              "    </tr>\n",
              "    <tr>\n",
              "      <th>7</th>\n",
              "      <td>12</td>\n",
              "      <td>0.3</td>\n",
              "      <td>40559.405457</td>\n",
              "    </tr>\n",
              "    <tr>\n",
              "      <th>23</th>\n",
              "      <td>60</td>\n",
              "      <td>0.3</td>\n",
              "      <td>38927.357422</td>\n",
              "    </tr>\n",
              "    <tr>\n",
              "      <th>2</th>\n",
              "      <td>6</td>\n",
              "      <td>0.2</td>\n",
              "      <td>38860.899139</td>\n",
              "    </tr>\n",
              "    <tr>\n",
              "      <th>1</th>\n",
              "      <td>6</td>\n",
              "      <td>0.1</td>\n",
              "      <td>37943.330444</td>\n",
              "    </tr>\n",
              "    <tr>\n",
              "      <th>3</th>\n",
              "      <td>6</td>\n",
              "      <td>0.3</td>\n",
              "      <td>26351.897400</td>\n",
              "    </tr>\n",
              "  </tbody>\n",
              "</table>\n",
              "</div>\n",
              "      <button class=\"colab-df-convert\" onclick=\"convertToInteractive('df-de172097-fdf8-460a-9d6a-840130e32806')\"\n",
              "              title=\"Convert this dataframe to an interactive table.\"\n",
              "              style=\"display:none;\">\n",
              "        \n",
              "  <svg xmlns=\"http://www.w3.org/2000/svg\" height=\"24px\"viewBox=\"0 0 24 24\"\n",
              "       width=\"24px\">\n",
              "    <path d=\"M0 0h24v24H0V0z\" fill=\"none\"/>\n",
              "    <path d=\"M18.56 5.44l.94 2.06.94-2.06 2.06-.94-2.06-.94-.94-2.06-.94 2.06-2.06.94zm-11 1L8.5 8.5l.94-2.06 2.06-.94-2.06-.94L8.5 2.5l-.94 2.06-2.06.94zm10 10l.94 2.06.94-2.06 2.06-.94-2.06-.94-.94-2.06-.94 2.06-2.06.94z\"/><path d=\"M17.41 7.96l-1.37-1.37c-.4-.4-.92-.59-1.43-.59-.52 0-1.04.2-1.43.59L10.3 9.45l-7.72 7.72c-.78.78-.78 2.05 0 2.83L4 21.41c.39.39.9.59 1.41.59.51 0 1.02-.2 1.41-.59l7.78-7.78 2.81-2.81c.8-.78.8-2.07 0-2.86zM5.41 20L4 18.59l7.72-7.72 1.47 1.35L5.41 20z\"/>\n",
              "  </svg>\n",
              "      </button>\n",
              "      \n",
              "  <style>\n",
              "    .colab-df-container {\n",
              "      display:flex;\n",
              "      flex-wrap:wrap;\n",
              "      gap: 12px;\n",
              "    }\n",
              "\n",
              "    .colab-df-convert {\n",
              "      background-color: #E8F0FE;\n",
              "      border: none;\n",
              "      border-radius: 50%;\n",
              "      cursor: pointer;\n",
              "      display: none;\n",
              "      fill: #1967D2;\n",
              "      height: 32px;\n",
              "      padding: 0 0 0 0;\n",
              "      width: 32px;\n",
              "    }\n",
              "\n",
              "    .colab-df-convert:hover {\n",
              "      background-color: #E2EBFA;\n",
              "      box-shadow: 0px 1px 2px rgba(60, 64, 67, 0.3), 0px 1px 3px 1px rgba(60, 64, 67, 0.15);\n",
              "      fill: #174EA6;\n",
              "    }\n",
              "\n",
              "    [theme=dark] .colab-df-convert {\n",
              "      background-color: #3B4455;\n",
              "      fill: #D2E3FC;\n",
              "    }\n",
              "\n",
              "    [theme=dark] .colab-df-convert:hover {\n",
              "      background-color: #434B5C;\n",
              "      box-shadow: 0px 1px 3px 1px rgba(0, 0, 0, 0.15);\n",
              "      filter: drop-shadow(0px 1px 2px rgba(0, 0, 0, 0.3));\n",
              "      fill: #FFFFFF;\n",
              "    }\n",
              "  </style>\n",
              "\n",
              "      <script>\n",
              "        const buttonEl =\n",
              "          document.querySelector('#df-de172097-fdf8-460a-9d6a-840130e32806 button.colab-df-convert');\n",
              "        buttonEl.style.display =\n",
              "          google.colab.kernel.accessAllowed ? 'block' : 'none';\n",
              "\n",
              "        async function convertToInteractive(key) {\n",
              "          const element = document.querySelector('#df-de172097-fdf8-460a-9d6a-840130e32806');\n",
              "          const dataTable =\n",
              "            await google.colab.kernel.invokeFunction('convertToInteractive',\n",
              "                                                     [key], {});\n",
              "          if (!dataTable) return;\n",
              "\n",
              "          const docLinkHtml = 'Like what you see? Visit the ' +\n",
              "            '<a target=\"_blank\" href=https://colab.research.google.com/notebooks/data_table.ipynb>data table notebook</a>'\n",
              "            + ' to learn more about interactive tables.';\n",
              "          element.innerHTML = '';\n",
              "          dataTable['output_type'] = 'display_data';\n",
              "          await google.colab.output.renderOutput(dataTable, element);\n",
              "          const docLink = document.createElement('div');\n",
              "          docLink.innerHTML = docLinkHtml;\n",
              "          element.appendChild(docLink);\n",
              "        }\n",
              "      </script>\n",
              "    </div>\n",
              "  </div>\n",
              "  "
            ]
          },
          "metadata": {},
          "execution_count": 253
        }
      ]
    },
    {
      "cell_type": "code",
      "source": [],
      "metadata": {
        "id": "F2f624q_vdlI"
      },
      "execution_count": null,
      "outputs": []
    },
    {
      "cell_type": "code",
      "source": [],
      "metadata": {
        "id": "NDhdEamVvdnZ"
      },
      "execution_count": null,
      "outputs": []
    },
    {
      "cell_type": "markdown",
      "source": [
        "# PyCaret"
      ],
      "metadata": {
        "id": "Mj5SsF3gSrQe"
      }
    },
    {
      "cell_type": "code",
      "source": [
        "from pycaret.utils import enable_colab\n",
        "enable_colab()"
      ],
      "metadata": {
        "id": "dKd4WwT05ohi"
      },
      "execution_count": null,
      "outputs": []
    },
    {
      "cell_type": "code",
      "source": [
        "# train_scaled.index = train.index\n",
        "# test_scaled.index = test.index\n",
        "train_scaled.columns"
      ],
      "metadata": {
        "id": "YVE7vuw6UORp"
      },
      "execution_count": null,
      "outputs": []
    },
    {
      "cell_type": "code",
      "source": [
        "# from pycaret.regression import *\n",
        "pycaret_exp = setup(data=train_scaled, target='month_ave_close_shift_diff_percent', session_id=123) "
      ],
      "metadata": {
        "id": "mZ-zAMvUdMsS"
      },
      "execution_count": null,
      "outputs": []
    },
    {
      "cell_type": "code",
      "source": [
        "best = compare_models()"
      ],
      "metadata": {
        "id": "zRVJz5TQdMuz"
      },
      "execution_count": null,
      "outputs": []
    },
    {
      "cell_type": "code",
      "source": [
        "models()"
      ],
      "metadata": {
        "id": "hIHcxg1ydMxM"
      },
      "execution_count": null,
      "outputs": []
    },
    {
      "cell_type": "markdown",
      "source": [
        "## Huber Model"
      ],
      "metadata": {
        "id": "7E20ucfgd9M8"
      }
    },
    {
      "cell_type": "code",
      "source": [
        "def evaluate_pycaret_model(model_string, show_plots=False):\n",
        "  model = create_model(model_string)\n",
        "  tuned_model = tune_model(model)\n",
        "  print(tuned_model)\n",
        "\n",
        "  if show_plots:\n",
        "    plot_model(tuned_model)\n",
        "    plot_model(tuned_model, plot = 'error')\n",
        "    plot_model(tuned_model, plot='feature')\n",
        "  \n",
        "  evaluate_model(tuned_model)\n",
        "  predict_model(tuned_model);\n",
        "  predictions = predict_model(tuned_model, data=test_scaled)\n",
        "\n",
        "  predictions = append_gain_loss(predictions)\n",
        "  \n",
        "  return predictions\n"
      ],
      "metadata": {
        "id": "3lpaZiiQnHms"
      },
      "execution_count": null,
      "outputs": []
    },
    {
      "cell_type": "code",
      "source": [
        "huber_model = create_model('huber')"
      ],
      "metadata": {
        "id": "6yGBMkVCdMzT"
      },
      "execution_count": null,
      "outputs": []
    },
    {
      "cell_type": "code",
      "source": [
        "tuned_huber_model = tune_model(huber_model)"
      ],
      "metadata": {
        "id": "efH6eE7xdM12"
      },
      "execution_count": null,
      "outputs": []
    },
    {
      "cell_type": "code",
      "source": [
        "print(tuned_huber_model)"
      ],
      "metadata": {
        "id": "s9qcZw-EdM27"
      },
      "execution_count": null,
      "outputs": []
    },
    {
      "cell_type": "code",
      "source": [
        "plot_model(tuned_huber_model)"
      ],
      "metadata": {
        "id": "mTc5w7Ca7vuR"
      },
      "execution_count": null,
      "outputs": []
    },
    {
      "cell_type": "code",
      "source": [
        "plot_model(tuned_huber_model, plot = 'error')"
      ],
      "metadata": {
        "id": "_SSp3sQZckn4"
      },
      "execution_count": null,
      "outputs": []
    },
    {
      "cell_type": "code",
      "source": [
        "plot_model(tuned_huber_model, plot='feature')"
      ],
      "metadata": {
        "id": "s1epRVJ-cqSk"
      },
      "execution_count": null,
      "outputs": []
    },
    {
      "cell_type": "code",
      "source": [
        "evaluate_model(tuned_huber_model)"
      ],
      "metadata": {
        "id": "E53l7U3DczKR"
      },
      "execution_count": null,
      "outputs": []
    },
    {
      "cell_type": "code",
      "source": [
        "predict_model(tuned_huber_model);"
      ],
      "metadata": {
        "id": "51YMza3sc6rm"
      },
      "execution_count": null,
      "outputs": []
    },
    {
      "cell_type": "code",
      "source": [
        "unseen_predictions = predict_model(tuned_huber_model, data=test_scaled)\n"
      ],
      "metadata": {
        "id": "4jWvY8u4dOAa"
      },
      "execution_count": null,
      "outputs": []
    },
    {
      "cell_type": "code",
      "source": [
        "unseen_predictions.head(20)"
      ],
      "metadata": {
        "id": "EzFfWhp2dTj1"
      },
      "execution_count": null,
      "outputs": []
    },
    {
      "cell_type": "code",
      "source": [
        "from pycaret.utils import check_metric\n",
        "check_metric(unseen_predictions.month_ave_close_shift_diff_percent, unseen_predictions.Label, 'R2')"
      ],
      "metadata": {
        "id": "oaD2mXkPdYK9"
      },
      "execution_count": null,
      "outputs": []
    },
    {
      "cell_type": "code",
      "source": [
        "# unseen_predictions = unseen_predictions.merge(month_close_df, how='left', left_index=True, right_index=True)\n",
        "unseen_predictions = append_gain_loss(unseen_predictions)\n",
        "calc_gain_loss(unseen_predictions, 0.0, 'Label')"
      ],
      "metadata": {
        "id": "vWl8UoUTgWfS"
      },
      "execution_count": null,
      "outputs": []
    },
    {
      "cell_type": "code",
      "source": [
        "calc_gain_loss(unseen_predictions, 0.1, 'Label')"
      ],
      "metadata": {
        "id": "V5TcLqS7knnM"
      },
      "execution_count": null,
      "outputs": []
    },
    {
      "cell_type": "code",
      "source": [
        "calc_gain_loss(unseen_predictions, 0.2, 'Label')"
      ],
      "metadata": {
        "id": "dc5wUxnJknT7"
      },
      "execution_count": null,
      "outputs": []
    },
    {
      "cell_type": "markdown",
      "source": [
        "## Random Forest"
      ],
      "metadata": {
        "id": "NuWfM_D5epBF"
      }
    },
    {
      "cell_type": "code",
      "source": [
        "rf_predictions = evaluate_pycaret_model('rf', True)"
      ],
      "metadata": {
        "id": "-tYPdVaBesWB"
      },
      "execution_count": null,
      "outputs": []
    },
    {
      "cell_type": "code",
      "source": [
        "rf_predictions"
      ],
      "metadata": {
        "id": "4OSlR8d0oEHA"
      },
      "execution_count": null,
      "outputs": []
    },
    {
      "cell_type": "code",
      "source": [],
      "metadata": {
        "id": "rndrXipWr3Xk"
      },
      "execution_count": null,
      "outputs": []
    }
  ]
}