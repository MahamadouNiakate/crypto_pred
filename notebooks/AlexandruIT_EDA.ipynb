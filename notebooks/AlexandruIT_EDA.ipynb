{
 "cells": [
  {
   "cell_type": "markdown",
   "id": "ceea2e43",
   "metadata": {},
   "source": [
    "## Fetching the data"
   ]
  },
  {
   "cell_type": "code",
   "execution_count": 1,
   "id": "94388496",
   "metadata": {
    "scrolled": true
   },
   "outputs": [
    {
     "name": "stdout",
     "output_type": "stream",
     "text": [
      "Requirement already satisfied: yfinance in /home/alexandru/.pyenv/versions/3.8.12/envs/crypto_pred/lib/python3.8/site-packages (0.1.74)\n",
      "Requirement already satisfied: numpy>=1.15 in /home/alexandru/.pyenv/versions/3.8.12/envs/crypto_pred/lib/python3.8/site-packages (from yfinance) (1.23.2)\n",
      "Requirement already satisfied: multitasking>=0.0.7 in /home/alexandru/.pyenv/versions/3.8.12/envs/crypto_pred/lib/python3.8/site-packages (from yfinance) (0.0.11)\n",
      "Requirement already satisfied: pandas>=0.24.0 in /home/alexandru/.pyenv/versions/3.8.12/envs/crypto_pred/lib/python3.8/site-packages (from yfinance) (1.4.3)\n",
      "Requirement already satisfied: requests>=2.26 in /home/alexandru/.pyenv/versions/3.8.12/envs/crypto_pred/lib/python3.8/site-packages (from yfinance) (2.28.1)\n",
      "Requirement already satisfied: lxml>=4.5.1 in /home/alexandru/.pyenv/versions/3.8.12/envs/crypto_pred/lib/python3.8/site-packages (from yfinance) (4.9.1)\n",
      "Requirement already satisfied: pytz>=2020.1 in /home/alexandru/.pyenv/versions/3.8.12/envs/crypto_pred/lib/python3.8/site-packages (from pandas>=0.24.0->yfinance) (2022.2.1)\n",
      "Requirement already satisfied: python-dateutil>=2.8.1 in /home/alexandru/.pyenv/versions/3.8.12/envs/crypto_pred/lib/python3.8/site-packages (from pandas>=0.24.0->yfinance) (2.8.2)\n",
      "Requirement already satisfied: certifi>=2017.4.17 in /home/alexandru/.pyenv/versions/3.8.12/envs/crypto_pred/lib/python3.8/site-packages (from requests>=2.26->yfinance) (2022.6.15)\n",
      "Requirement already satisfied: charset-normalizer<3,>=2 in /home/alexandru/.pyenv/versions/3.8.12/envs/crypto_pred/lib/python3.8/site-packages (from requests>=2.26->yfinance) (2.1.0)\n",
      "Requirement already satisfied: urllib3<1.27,>=1.21.1 in /home/alexandru/.pyenv/versions/3.8.12/envs/crypto_pred/lib/python3.8/site-packages (from requests>=2.26->yfinance) (1.26.11)\n",
      "Requirement already satisfied: idna<4,>=2.5 in /home/alexandru/.pyenv/versions/3.8.12/envs/crypto_pred/lib/python3.8/site-packages (from requests>=2.26->yfinance) (3.3)\n",
      "Requirement already satisfied: six>=1.5 in /home/alexandru/.pyenv/versions/3.8.12/envs/crypto_pred/lib/python3.8/site-packages (from python-dateutil>=2.8.1->pandas>=0.24.0->yfinance) (1.16.0)\n"
     ]
    }
   ],
   "source": [
    "!pip install yfinance\n",
    "#https://pypi.org/project/yfinance/"
   ]
  },
  {
   "cell_type": "code",
   "execution_count": 2,
   "id": "55007fa1",
   "metadata": {},
   "outputs": [],
   "source": [
    "import yfinance as yf\n",
    "import datetime as dt\n",
    "\n",
    "start = dt.datetime(2020,1,1)\n",
    "end = dt.datetime.now()\n",
    "btc = yf.Ticker('BTC-USD')"
   ]
  },
  {
   "cell_type": "code",
   "execution_count": 3,
   "id": "dc123d00",
   "metadata": {},
   "outputs": [],
   "source": [
    "btc_df = btc.history(period=\"max\")"
   ]
  },
  {
   "cell_type": "markdown",
   "id": "b600c713",
   "metadata": {},
   "source": [
    "## Preparing the data"
   ]
  },
  {
   "cell_type": "code",
   "execution_count": 4,
   "id": "9ee827f2",
   "metadata": {},
   "outputs": [],
   "source": [
    "y_pred_list =[]\n",
    "\n",
    "for i in range(0,len(btc_df['Close'])-2):\n",
    "    y_pred_list.append(btc_df['Close'][i+2]-((btc_df['Close'][i]+btc_df['Close'][i+1])/2))    \n",
    "\n",
    "y_pred = ['buy' if i>0  else \"don't buy\" for i in y_pred_list]    \n",
    "\n",
    "y_pred.insert(0,'NaN')\n",
    "y_pred.insert(1,'NaN')\n",
    "y_pred.insert(2,'NaN')\n",
    "y_pred = y_pred[:-1]\n",
    "\n",
    "btc_df['y_pred'] = y_pred"
   ]
  },
  {
   "cell_type": "code",
   "execution_count": 7,
   "id": "09d7cc81",
   "metadata": {},
   "outputs": [
    {
     "name": "stderr",
     "output_type": "stream",
     "text": [
      "/tmp/ipykernel_583/4002941489.py:11: SettingWithCopyWarning: \n",
      "A value is trying to be set on a copy of a slice from a DataFrame\n",
      "\n",
      "See the caveats in the documentation: https://pandas.pydata.org/pandas-docs/stable/user_guide/indexing.html#returning-a-view-versus-a-copy\n",
      "  btc_df['y_true'][1:3] = 'NaN'\n"
     ]
    }
   ],
   "source": [
    "y_true = []\n",
    "\n",
    "for i in range(len(btc_df['Close'])-1):\n",
    "    if btc_df['Close'][i+1] > btc_df['Close'][i]:\n",
    "        y_true.append('buy')\n",
    "    else:\n",
    "        y_true.append(\"don't buy\")\n",
    "        \n",
    "y_true.insert(0, 'NaN')\n",
    "btc_df['y_true'] = y_true\n",
    "btc_df['y_true'][0:3] = 'NaN'"
   ]
  },
  {
   "cell_type": "code",
   "execution_count": 8,
   "id": "d94c9564",
   "metadata": {
    "scrolled": false
   },
   "outputs": [
    {
     "data": {
      "text/html": [
       "<div>\n",
       "<style scoped>\n",
       "    .dataframe tbody tr th:only-of-type {\n",
       "        vertical-align: middle;\n",
       "    }\n",
       "\n",
       "    .dataframe tbody tr th {\n",
       "        vertical-align: top;\n",
       "    }\n",
       "\n",
       "    .dataframe thead th {\n",
       "        text-align: right;\n",
       "    }\n",
       "</style>\n",
       "<table border=\"1\" class=\"dataframe\">\n",
       "  <thead>\n",
       "    <tr style=\"text-align: right;\">\n",
       "      <th></th>\n",
       "      <th>Open</th>\n",
       "      <th>High</th>\n",
       "      <th>Low</th>\n",
       "      <th>Close</th>\n",
       "      <th>Volume</th>\n",
       "      <th>Dividends</th>\n",
       "      <th>Stock Splits</th>\n",
       "      <th>y_pred</th>\n",
       "      <th>y_true</th>\n",
       "    </tr>\n",
       "    <tr>\n",
       "      <th>Date</th>\n",
       "      <th></th>\n",
       "      <th></th>\n",
       "      <th></th>\n",
       "      <th></th>\n",
       "      <th></th>\n",
       "      <th></th>\n",
       "      <th></th>\n",
       "      <th></th>\n",
       "      <th></th>\n",
       "    </tr>\n",
       "  </thead>\n",
       "  <tbody>\n",
       "    <tr>\n",
       "      <th>2014-09-17</th>\n",
       "      <td>465.864014</td>\n",
       "      <td>468.174011</td>\n",
       "      <td>452.421997</td>\n",
       "      <td>457.334015</td>\n",
       "      <td>21056800</td>\n",
       "      <td>0</td>\n",
       "      <td>0</td>\n",
       "      <td>NaN</td>\n",
       "      <td>NaN</td>\n",
       "    </tr>\n",
       "    <tr>\n",
       "      <th>2014-09-18</th>\n",
       "      <td>456.859985</td>\n",
       "      <td>456.859985</td>\n",
       "      <td>413.104004</td>\n",
       "      <td>424.440002</td>\n",
       "      <td>34483200</td>\n",
       "      <td>0</td>\n",
       "      <td>0</td>\n",
       "      <td>NaN</td>\n",
       "      <td>NaN</td>\n",
       "    </tr>\n",
       "    <tr>\n",
       "      <th>2014-09-19</th>\n",
       "      <td>424.102997</td>\n",
       "      <td>427.834991</td>\n",
       "      <td>384.532013</td>\n",
       "      <td>394.795990</td>\n",
       "      <td>37919700</td>\n",
       "      <td>0</td>\n",
       "      <td>0</td>\n",
       "      <td>NaN</td>\n",
       "      <td>NaN</td>\n",
       "    </tr>\n",
       "    <tr>\n",
       "      <th>2014-09-20</th>\n",
       "      <td>394.673004</td>\n",
       "      <td>423.295990</td>\n",
       "      <td>389.882996</td>\n",
       "      <td>408.903992</td>\n",
       "      <td>36863600</td>\n",
       "      <td>0</td>\n",
       "      <td>0</td>\n",
       "      <td>don't buy</td>\n",
       "      <td>buy</td>\n",
       "    </tr>\n",
       "    <tr>\n",
       "      <th>2014-09-21</th>\n",
       "      <td>408.084991</td>\n",
       "      <td>412.425995</td>\n",
       "      <td>393.181000</td>\n",
       "      <td>398.821014</td>\n",
       "      <td>26580100</td>\n",
       "      <td>0</td>\n",
       "      <td>0</td>\n",
       "      <td>don't buy</td>\n",
       "      <td>don't buy</td>\n",
       "    </tr>\n",
       "    <tr>\n",
       "      <th>2014-09-22</th>\n",
       "      <td>399.100006</td>\n",
       "      <td>406.915985</td>\n",
       "      <td>397.130005</td>\n",
       "      <td>402.152008</td>\n",
       "      <td>24127600</td>\n",
       "      <td>0</td>\n",
       "      <td>0</td>\n",
       "      <td>don't buy</td>\n",
       "      <td>buy</td>\n",
       "    </tr>\n",
       "    <tr>\n",
       "      <th>2014-09-23</th>\n",
       "      <td>402.092010</td>\n",
       "      <td>441.557007</td>\n",
       "      <td>396.196991</td>\n",
       "      <td>435.790985</td>\n",
       "      <td>45099500</td>\n",
       "      <td>0</td>\n",
       "      <td>0</td>\n",
       "      <td>don't buy</td>\n",
       "      <td>buy</td>\n",
       "    </tr>\n",
       "    <tr>\n",
       "      <th>2014-09-24</th>\n",
       "      <td>435.751007</td>\n",
       "      <td>436.112000</td>\n",
       "      <td>421.131989</td>\n",
       "      <td>423.204987</td>\n",
       "      <td>30627700</td>\n",
       "      <td>0</td>\n",
       "      <td>0</td>\n",
       "      <td>buy</td>\n",
       "      <td>don't buy</td>\n",
       "    </tr>\n",
       "    <tr>\n",
       "      <th>2014-09-25</th>\n",
       "      <td>423.156006</td>\n",
       "      <td>423.519989</td>\n",
       "      <td>409.467987</td>\n",
       "      <td>411.574005</td>\n",
       "      <td>26814400</td>\n",
       "      <td>0</td>\n",
       "      <td>0</td>\n",
       "      <td>buy</td>\n",
       "      <td>don't buy</td>\n",
       "    </tr>\n",
       "    <tr>\n",
       "      <th>2014-09-26</th>\n",
       "      <td>411.428986</td>\n",
       "      <td>414.937988</td>\n",
       "      <td>400.009003</td>\n",
       "      <td>404.424988</td>\n",
       "      <td>21460800</td>\n",
       "      <td>0</td>\n",
       "      <td>0</td>\n",
       "      <td>don't buy</td>\n",
       "      <td>don't buy</td>\n",
       "    </tr>\n",
       "  </tbody>\n",
       "</table>\n",
       "</div>"
      ],
      "text/plain": [
       "                  Open        High         Low       Close    Volume  \\\n",
       "Date                                                                   \n",
       "2014-09-17  465.864014  468.174011  452.421997  457.334015  21056800   \n",
       "2014-09-18  456.859985  456.859985  413.104004  424.440002  34483200   \n",
       "2014-09-19  424.102997  427.834991  384.532013  394.795990  37919700   \n",
       "2014-09-20  394.673004  423.295990  389.882996  408.903992  36863600   \n",
       "2014-09-21  408.084991  412.425995  393.181000  398.821014  26580100   \n",
       "2014-09-22  399.100006  406.915985  397.130005  402.152008  24127600   \n",
       "2014-09-23  402.092010  441.557007  396.196991  435.790985  45099500   \n",
       "2014-09-24  435.751007  436.112000  421.131989  423.204987  30627700   \n",
       "2014-09-25  423.156006  423.519989  409.467987  411.574005  26814400   \n",
       "2014-09-26  411.428986  414.937988  400.009003  404.424988  21460800   \n",
       "\n",
       "            Dividends  Stock Splits     y_pred     y_true  \n",
       "Date                                                       \n",
       "2014-09-17          0             0        NaN        NaN  \n",
       "2014-09-18          0             0        NaN        NaN  \n",
       "2014-09-19          0             0        NaN        NaN  \n",
       "2014-09-20          0             0  don't buy        buy  \n",
       "2014-09-21          0             0  don't buy  don't buy  \n",
       "2014-09-22          0             0  don't buy        buy  \n",
       "2014-09-23          0             0  don't buy        buy  \n",
       "2014-09-24          0             0        buy  don't buy  \n",
       "2014-09-25          0             0        buy  don't buy  \n",
       "2014-09-26          0             0  don't buy  don't buy  "
      ]
     },
     "execution_count": 8,
     "metadata": {},
     "output_type": "execute_result"
    }
   ],
   "source": [
    "btc_df.head(10)"
   ]
  },
  {
   "cell_type": "markdown",
   "id": "874a4d47",
   "metadata": {},
   "source": [
    "## Metrics"
   ]
  },
  {
   "cell_type": "code",
   "execution_count": 13,
   "id": "7d9c5822",
   "metadata": {},
   "outputs": [
    {
     "name": "stdout",
     "output_type": "stream",
     "text": [
      "Recall: 0.48861\n"
     ]
    }
   ],
   "source": [
    "from sklearn.metrics import recall_score\n",
    "\n",
    "recall = recall_score(btc_df['y_pred'], btc_df['y_true'],average='micro')\n",
    "\n",
    "print(f'Recall: {round(recall,5)}')"
   ]
  },
  {
   "cell_type": "code",
   "execution_count": null,
   "id": "312fe06b",
   "metadata": {},
   "outputs": [],
   "source": []
  }
 ],
 "metadata": {
  "kernelspec": {
   "display_name": "Python 3 (ipykernel)",
   "language": "python",
   "name": "python3"
  },
  "language_info": {
   "codemirror_mode": {
    "name": "ipython",
    "version": 3
   },
   "file_extension": ".py",
   "mimetype": "text/x-python",
   "name": "python",
   "nbconvert_exporter": "python",
   "pygments_lexer": "ipython3",
   "version": "3.8.12"
  },
  "toc": {
   "base_numbering": 1,
   "nav_menu": {},
   "number_sections": true,
   "sideBar": true,
   "skip_h1_title": false,
   "title_cell": "Table of Contents",
   "title_sidebar": "Contents",
   "toc_cell": false,
   "toc_position": {},
   "toc_section_display": true,
   "toc_window_display": false
  }
 },
 "nbformat": 4,
 "nbformat_minor": 5
}
